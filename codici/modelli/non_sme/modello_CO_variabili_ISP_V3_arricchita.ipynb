{
 "cells": [
  {
   "cell_type": "code",
   "execution_count": 188,
   "id": "apart-paragraph",
   "metadata": {},
   "outputs": [],
   "source": [
    "library(xgboost)\n",
    "library(ggplot2)\n",
    "library(ROCR)\n",
    "library(SHAPforxgboost)\n",
    "require(Matrix)"
   ]
  },
  {
   "cell_type": "code",
   "execution_count": 189,
   "id": "marked-opening",
   "metadata": {},
   "outputs": [],
   "source": [
    "source('../../model_functions.R')\n",
    "\n",
    "library(tidyxl)\n",
    "\n",
    "\n",
    "\n",
    "path_data <- file.path('../../../data/')\n"
   ]
  },
  {
   "cell_type": "markdown",
   "id": "executive-wrestling",
   "metadata": {},
   "source": [
    "## MODELLO"
   ]
  },
  {
   "cell_type": "code",
   "execution_count": 190,
   "id": "offensive-clear",
   "metadata": {
    "scrolled": true
   },
   "outputs": [],
   "source": [
    "lista_master_names <- list.files(file.path(path_data,'RDS/master/non_sme/'))"
   ]
  },
  {
   "cell_type": "code",
   "execution_count": 191,
   "id": "abandoned-leone",
   "metadata": {},
   "outputs": [
    {
     "data": {
      "text/html": [
       "<style>\n",
       ".list-inline {list-style: none; margin:0; padding: 0}\n",
       ".list-inline>li {display: inline-block}\n",
       ".list-inline>li:not(:last-child)::after {content: \"\\00b7\"; padding: 0 .5ex}\n",
       "</style>\n",
       "<ol class=list-inline><li>'master_ateco.RDS'</li><li>'master_bil.RDS'</li><li>'master_bil_mf.RDS'</li><li>'master_clienti.RDS'</li><li>'master_cr.RDS'</li><li>'master_cra_andamentale.RDS'</li><li>'master_dsi.RDS'</li><li>'master_ews.RDS'</li><li>'master_fb.RDS'</li><li>'master_rating.RDS'</li><li>'master_tipo.RDS'</li><li>'master_xra.RDS'</li></ol>\n"
      ],
      "text/latex": [
       "\\begin{enumerate*}\n",
       "\\item 'master\\_ateco.RDS'\n",
       "\\item 'master\\_bil.RDS'\n",
       "\\item 'master\\_bil\\_mf.RDS'\n",
       "\\item 'master\\_clienti.RDS'\n",
       "\\item 'master\\_cr.RDS'\n",
       "\\item 'master\\_cra\\_andamentale.RDS'\n",
       "\\item 'master\\_dsi.RDS'\n",
       "\\item 'master\\_ews.RDS'\n",
       "\\item 'master\\_fb.RDS'\n",
       "\\item 'master\\_rating.RDS'\n",
       "\\item 'master\\_tipo.RDS'\n",
       "\\item 'master\\_xra.RDS'\n",
       "\\end{enumerate*}\n"
      ],
      "text/markdown": [
       "1. 'master_ateco.RDS'\n",
       "2. 'master_bil.RDS'\n",
       "3. 'master_bil_mf.RDS'\n",
       "4. 'master_clienti.RDS'\n",
       "5. 'master_cr.RDS'\n",
       "6. 'master_cra_andamentale.RDS'\n",
       "7. 'master_dsi.RDS'\n",
       "8. 'master_ews.RDS'\n",
       "9. 'master_fb.RDS'\n",
       "10. 'master_rating.RDS'\n",
       "11. 'master_tipo.RDS'\n",
       "12. 'master_xra.RDS'\n",
       "\n",
       "\n"
      ],
      "text/plain": [
       " [1] \"master_ateco.RDS\"           \"master_bil.RDS\"            \n",
       " [3] \"master_bil_mf.RDS\"          \"master_clienti.RDS\"        \n",
       " [5] \"master_cr.RDS\"              \"master_cra_andamentale.RDS\"\n",
       " [7] \"master_dsi.RDS\"             \"master_ews.RDS\"            \n",
       " [9] \"master_fb.RDS\"              \"master_rating.RDS\"         \n",
       "[11] \"master_tipo.RDS\"            \"master_xra.RDS\"            "
      ]
     },
     "metadata": {},
     "output_type": "display_data"
    }
   ],
   "source": [
    "lista_master_names\n"
   ]
  },
  {
   "cell_type": "code",
   "execution_count": 192,
   "id": "soviet-handy",
   "metadata": {},
   "outputs": [],
   "source": [
    "lista_master <- lapply(file.path(path_data,'RDS/master/non_sme/',lista_master_names), function(file){\n",
    "    dt <- readRDS(file)\n",
    "})\n",
    "names(lista_master) <- gsub(\".*_(.+).RDS.*\", \"\\\\1\",lista_master_names)"
   ]
  },
  {
   "cell_type": "code",
   "execution_count": 193,
   "id": "historical-chamber",
   "metadata": {},
   "outputs": [],
   "source": [
    "# colonne_master <- setDT(xlsx::read.xlsx2( \"../../config/colonne_master.xlsx\", sheetName = \"non_sme\"))\n",
    "\n",
    "# formats <- xlsx_formats( \"../../config/colonne_master.xlsx\" )\n",
    "# cells <- xlsx_cells(  \"../../config/colonne_master.xlsx\"  )\n",
    "\n",
    "# #what colors are used?\n",
    "# formats$local$fill$patternFill$fgColor$rgb\n",
    "\n",
    "# ## FF70AD47 verde\n",
    "# ## FFED7D31 arancione\n",
    "# ## FF5B9BD5 celeste\n",
    "# row_2keep <- cells[ cells$local_format_id %in%\n",
    "#          which( formats$local$fill$patternFill$fgColor$rgb == \"FF70AD47\"), \n",
    "#        \"row\" ]-1\n",
    "\n",
    "# row_2rm <- cells[ cells$local_format_id %in%\n",
    "#          which( formats$local$fill$patternFill$fgColor$rgb == \"FF5B9BD5\"), \n",
    "#        \"row\" ]-1\n",
    "\n",
    "# # cols_2keep <- unique(colonne_master[row_2keep,])#$sme\n",
    "# # cols_2keep\n",
    "\n",
    "# # cols_2rm <- unique(colonne_master[row_2rm,])#$sme\n",
    "# # cols_2rm"
   ]
  },
  {
   "cell_type": "code",
   "execution_count": 194,
   "id": "robust-explorer",
   "metadata": {},
   "outputs": [],
   "source": [
    "source('config/config_cols_modello_v3_arr.R')"
   ]
  },
  {
   "cell_type": "code",
   "execution_count": 195,
   "id": "tracked-permission",
   "metadata": {},
   "outputs": [],
   "source": [
    "master_modello <- Reduce(function(x,y) merge(x = x, y = y, by = c(\"NUM_PRATICA\",'PROGRESS_PRATICA')),lista_master)"
   ]
  },
  {
   "cell_type": "code",
   "execution_count": 196,
   "id": "persistent-quantity",
   "metadata": {},
   "outputs": [
    {
     "data": {
      "text/plain": [
       "\n",
       "      Corporate Large corporate   Sme Corporate \n",
       "           6765            3010           31229 "
      ]
     },
     "metadata": {},
     "output_type": "display_data"
    }
   ],
   "source": [
    "table(master_modello$macrosegmento_attuale_lc)"
   ]
  },
  {
   "cell_type": "code",
   "execution_count": 197,
   "id": "healthy-calendar",
   "metadata": {},
   "outputs": [
    {
     "data": {
      "text/plain": [
       "\n",
       "        00         01         02         03         04       <NA> \n",
       "0.56516437 0.13323090 0.05514096 0.01212077 0.04484928 0.18949371 "
      ]
     },
     "metadata": {},
     "output_type": "display_data"
    }
   ],
   "source": [
    "table(master_modello$CRA_ADJ,useNA = 'always')/nrow(master_modello)"
   ]
  },
  {
   "cell_type": "code",
   "execution_count": 198,
   "id": "naval-video",
   "metadata": {},
   "outputs": [],
   "source": [
    "# master_modello <- merge(master_modello,\n",
    "#                        dt_orig[,.(NUM_PRATICA,PROGRESS_PRATICA,DATA_DELIBERA_O_ANNULL_FIDO)],\n",
    "#                        by = c(\"NUM_PRATICA\",'PROGRESS_PRATICA'),\n",
    "#                        all.x = TRUE)\n",
    "\n",
    "# ### FILTRO SOLO SU PERIODI COPERTI DA EWS\n",
    "# master_modello <- master_modello[DATA_DELIBERA_O_ANNULL_FIDO >= as.Date(\"2018-01-01\"),]"
   ]
  },
  {
   "cell_type": "code",
   "execution_count": 199,
   "id": "primary-american",
   "metadata": {},
   "outputs": [
    {
     "data": {
      "text/html": [],
      "text/latex": [],
      "text/markdown": [],
      "text/plain": [
       "character(0)"
      ]
     },
     "metadata": {},
     "output_type": "display_data"
    }
   ],
   "source": [
    "cols_modello[grepl('model',cols_modello)]"
   ]
  },
  {
   "cell_type": "code",
   "execution_count": null,
   "id": "rural-motorcycle",
   "metadata": {},
   "outputs": [],
   "source": []
  },
  {
   "cell_type": "code",
   "execution_count": 200,
   "id": "developmental-eugene",
   "metadata": {},
   "outputs": [],
   "source": [
    "### FILL NA DI CR CON -1000 tanto i valori sono sempre positivi e gli infiniti CON UN numero alto \n",
    " \n",
    "\n",
    "cols_cr <- colnames(master_modello)[grepl(\"CR_\",colnames(master_modello))]\n",
    "master_modello[, (cols_cr) := lapply(.SD, function(x){x[is.infinite(x)] <- 9999999; x}), .SDcols = cols_cr]\n",
    "master_modello[, (cols_cr) := lapply(.SD, function(x){x[is.na(x)] <- -10000; x}), .SDcols = cols_cr]\n",
    "\n",
    "cols_XRA<- colnames(master_modello)[grepl(\"XRA_\",colnames(master_modello))]\n",
    "master_modello[, (cols_XRA) := lapply(.SD, function(x){x[is.na(x)] <- 0; x}), .SDcols = cols_XRA]\n",
    "\n",
    "cols_bil <- colnames(master_modello)[grepl(\"BIL_\",colnames(master_modello))]\n",
    "master_modello[, (cols_bil) := lapply(.SD, function(x){x[is.infinite(x) & x>0 ] <- 9999999; x}), .SDcols = cols_bil]\n",
    "master_modello[, (cols_bil) := lapply(.SD, function(x){x[is.infinite(x)] <- -9999999; x}), .SDcols = cols_bil]"
   ]
  },
  {
   "cell_type": "code",
   "execution_count": 201,
   "id": "copyrighted-gospel",
   "metadata": {},
   "outputs": [
    {
     "data": {
      "text/html": [
       "968"
      ],
      "text/latex": [
       "968"
      ],
      "text/markdown": [
       "968"
      ],
      "text/plain": [
       "[1] 968"
      ]
     },
     "metadata": {},
     "output_type": "display_data"
    },
    {
     "data": {
      "text/html": [
       "12"
      ],
      "text/latex": [
       "12"
      ],
      "text/markdown": [
       "12"
      ],
      "text/plain": [
       "[1] 12"
      ]
     },
     "metadata": {},
     "output_type": "display_data"
    }
   ],
   "source": [
    "master_modello_filt <- master_modello[is.na(DSI_protesti_certi) | (DSI_protesti_certi ==0) ,]\n",
    "master_modello_filt <- master_modello_filt[is.na(DSI_fallimenti_certi) | (DSI_fallimenti_certi ==0) ,]\n",
    "\n",
    "master_modello_filt <- master_modello_filt[is.na(DSI_flag_fallimenti_dubbi) | DSI_flag_fallimenti_dubbi ==FALSE,]\n",
    "\n",
    "master_modello_filt <- master_modello_filt[is.na(DSI_flag_pregiudizievoli_gravi) | DSI_flag_pregiudizievoli_gravi ==FALSE,]\n",
    "master_modello_filt <- master_modello_filt[is.na(DSI_procedure_imprese_collegate) | DSI_procedure_imprese_collegate =='  ',]\n",
    "\n",
    "master_modello_filt <- master_modello_filt[is.na(DSI_flag_procedure_concorsuali) | DSI_flag_procedure_concorsuali ==FALSE,]\n",
    "\n",
    "n1 <- nrow(master_modello) - nrow(master_modello_filt)\n",
    "n1\n",
    "\n",
    "master_modello_filt <- master_modello_filt[DSI_flag_presenza_sofferenze != \"ROSSO\",]\n",
    "n2 <- nrow(master_modello) - nrow(master_modello_filt) -n1\n",
    "n2\n",
    "\n",
    "master_modello_filt <- master_modello_filt[is.na(DSI_col_fido_con_causale_negativa) | DSI_col_fido_con_causale_negativa != \"ROSSO\",]\n",
    "\n",
    "master_modello_filt <- master_modello_filt[is.na(DSI_col_appl_con_causale_negativa) | DSI_col_appl_con_causale_negativa != \"ROSSO\",]\n",
    "\n",
    "n3 <- nrow(master_modello) - nrow(master_modello_filt) -n1 -n2\n",
    "\n",
    "master_modello_filt <- master_modello_filt[is.na(DSI_sab) | (DSI_sab %in% c('2','3','A','non censito')) ,]\n",
    "\n",
    "\n",
    "\n",
    "master_modello_filt <- master_modello_filt[is.na(DSI_col_presenza_pratica_pef) | DSI_col_presenza_pratica_pef != \"GIALLO\",]\n",
    "\n",
    "\n",
    "master_modello_filt <- master_modello_filt[is.na(DSI_parte_correlata) | (DSI_parte_correlata %in% c('missing','non censito')) ,]\n",
    "\n",
    "\n",
    "\n",
    "master_modello_filt <- master_modello_filt[is.na(FORB_PRESENZA) | FORB_PRESENZA == 0,]\n",
    "\n",
    "master_modello_filt <- master_modello_filt[is.na(AT_cod_sett) | AT_cod_sett !='MEDIA00',]\n",
    "\n",
    "master_modello_filt <- master_modello_filt[is.na(COD_TP_CLI),]\n",
    "\n",
    "master_modello_filt <- master_modello_filt[is.na(COD_CARTIPO),]\n",
    "\n",
    "master_modello_filt <- master_modello_filt[is.na(DSI_stato_societario) | DSI_stato_societario =='A  A  ATTIVA',]"
   ]
  },
  {
   "cell_type": "code",
   "execution_count": 202,
   "id": "consecutive-graphic",
   "metadata": {},
   "outputs": [
    {
     "data": {
      "text/html": [
       "2037"
      ],
      "text/latex": [
       "2037"
      ],
      "text/markdown": [
       "2037"
      ],
      "text/plain": [
       "[1] 2037"
      ]
     },
     "metadata": {},
     "output_type": "display_data"
    }
   ],
   "source": [
    "n3"
   ]
  },
  {
   "cell_type": "code",
   "execution_count": 203,
   "id": "treated-compact",
   "metadata": {},
   "outputs": [
    {
     "data": {
      "text/html": [
       "1845"
      ],
      "text/latex": [
       "1845"
      ],
      "text/markdown": [
       "1845"
      ],
      "text/plain": [
       "[1] 1845"
      ]
     },
     "metadata": {},
     "output_type": "display_data"
    }
   ],
   "source": [
    "nrow(master_modello) - nrow(master_modello_filt) -n1 -n2-n3"
   ]
  },
  {
   "cell_type": "code",
   "execution_count": 204,
   "id": "excited-friend",
   "metadata": {},
   "outputs": [
    {
     "data": {
      "text/html": [
       "0.118573797678275"
      ],
      "text/latex": [
       "0.118573797678275"
      ],
      "text/markdown": [
       "0.118573797678275"
      ],
      "text/plain": [
       "[1] 0.1185738"
      ]
     },
     "metadata": {},
     "output_type": "display_data"
    }
   ],
   "source": [
    "(nrow(master_modello) - nrow(master_modello_filt))/nrow(master_modello)"
   ]
  },
  {
   "cell_type": "code",
   "execution_count": 205,
   "id": "medical-thompson",
   "metadata": {},
   "outputs": [],
   "source": [
    "\n",
    "\n",
    "# master_modello_filt <- master_modello[is.na(DSI_sab) | (DSI_sab %in% c('2','3','A','non censito')) ,]\n",
    "\n",
    "# master_modello_filt <- master_modello_filt[is.na(DSI_col_presenza_pratica_pef) | DSI_col_presenza_pratica_pef != \"GIALLO\",]\n",
    "\n",
    "# master_modello_filt <- master_modello_filt[is.na(DSI_col_fido_con_causale_negativa) | DSI_col_fido_con_causale_negativa != \"ROSSO\",]\n",
    "\n",
    "# master_modello_filt <- master_modello_filt[is.na(DSI_col_appl_con_causale_negativa) | DSI_col_appl_con_causale_negativa != \"ROSSO\",]\n",
    "\n",
    "# master_modello_filt <- master_modello_filt[is.na(DSI_parte_correlata) | (DSI_parte_correlata %in% c('missing','non censito')) ,]\n",
    "\n",
    "# master_modello_filt <- master_modello_filt[DSI_flag_presenza_sofferenze != \"ROSSO\",]\n",
    "\n",
    "# master_modello_filt <- master_modello_filt[is.na(DSI_protesti_certi) | (DSI_protesti_certi ==0) ,]\n",
    "\n",
    "# master_modello_filt <- master_modello_filt[is.na(DSI_fallimenti_certi) | (DSI_fallimenti_certi ==0) ,]\n",
    "\n",
    "# master_modello_filt <- master_modello_filt[is.na(DSI_flag_fallimenti_dubbi) | DSI_flag_fallimenti_dubbi ==FALSE,]\n",
    "\n",
    "# master_modello_filt <- master_modello_filt[is.na(DSI_flag_pregiudizievoli_gravi) | DSI_flag_pregiudizievoli_gravi ==FALSE,]\n",
    "\n",
    "# master_modello_filt <- master_modello_filt[is.na(DSI_procedure_imprese_collegate) | DSI_procedure_imprese_collegate =='  ',]\n",
    "\n",
    "# master_modello_filt <- master_modello_filt[is.na(DSI_flag_procedure_concorsuali) | DSI_flag_procedure_concorsuali ==FALSE,]\n",
    "\n",
    "# master_modello_filt <- master_modello_filt[is.na(FORB_PRESENZA) | FORB_PRESENZA == 0,]\n",
    "\n",
    "# master_modello_filt <- master_modello_filt[is.na(AT_cod_sett) | AT_cod_sett !='MEDIA00',]\n",
    "\n",
    "# master_modello_filt <- master_modello_filt[is.na(COD_TP_CLI),]\n",
    "\n",
    "# master_modello_filt <- master_modello_filt[is.na(COD_CARTIPO),]\n",
    "\n",
    "# master_modello_filt <- master_modello_filt[is.na(DSI_stato_societario) | DSI_stato_societario =='A  A  ATTIVA',]"
   ]
  },
  {
   "cell_type": "code",
   "execution_count": 206,
   "id": "regional-benchmark",
   "metadata": {},
   "outputs": [
    {
     "data": {
      "text/plain": [
       "\n",
       "DEFAULT      OK \n",
       "    869   40135 "
      ]
     },
     "metadata": {},
     "output_type": "display_data"
    }
   ],
   "source": [
    "table(master_modello$target)"
   ]
  },
  {
   "cell_type": "code",
   "execution_count": 207,
   "id": "medieval-stockholm",
   "metadata": {},
   "outputs": [
    {
     "data": {
      "text/html": [
       "0.881426202321725"
      ],
      "text/latex": [
       "0.881426202321725"
      ],
      "text/markdown": [
       "0.881426202321725"
      ],
      "text/plain": [
       "[1] 0.8814262"
      ]
     },
     "metadata": {},
     "output_type": "display_data"
    }
   ],
   "source": [
    "nrow(master_modello_filt)/nrow(master_modello)"
   ]
  },
  {
   "cell_type": "code",
   "execution_count": 208,
   "id": "accepted-complexity",
   "metadata": {},
   "outputs": [
    {
     "data": {
      "text/html": [
       "<style>\n",
       ".list-inline {list-style: none; margin:0; padding: 0}\n",
       ".list-inline>li {display: inline-block}\n",
       ".list-inline>li:not(:last-child)::after {content: \"\\00b7\"; padding: 0 .5ex}\n",
       "</style>\n",
       "<ol class=list-inline><li>'XRA_media_sconfino_30gg'</li><li>'XRA_IMP_SCONFINO'</li><li>'XRA_IMP_UTIL_TOT'</li><li>'XRA_NUM_GG_SCONF'</li></ol>\n"
      ],
      "text/latex": [
       "\\begin{enumerate*}\n",
       "\\item 'XRA\\_media\\_sconfino\\_30gg'\n",
       "\\item 'XRA\\_IMP\\_SCONFINO'\n",
       "\\item 'XRA\\_IMP\\_UTIL\\_TOT'\n",
       "\\item 'XRA\\_NUM\\_GG\\_SCONF'\n",
       "\\end{enumerate*}\n"
      ],
      "text/markdown": [
       "1. 'XRA_media_sconfino_30gg'\n",
       "2. 'XRA_IMP_SCONFINO'\n",
       "3. 'XRA_IMP_UTIL_TOT'\n",
       "4. 'XRA_NUM_GG_SCONF'\n",
       "\n",
       "\n"
      ],
      "text/plain": [
       "[1] \"XRA_media_sconfino_30gg\" \"XRA_IMP_SCONFINO\"       \n",
       "[3] \"XRA_IMP_UTIL_TOT\"        \"XRA_NUM_GG_SCONF\"       "
      ]
     },
     "metadata": {},
     "output_type": "display_data"
    }
   ],
   "source": [
    "colnames(master_modello)[grepl(\"XRA\",colnames(master_modello))]"
   ]
  },
  {
   "cell_type": "code",
   "execution_count": 209,
   "id": "intense-issue",
   "metadata": {},
   "outputs": [],
   "source": [
    "master_modello_filt[,flag_exante := \"NO\"]\n",
    "master_modello <- merge(master_modello,\n",
    "                       master_modello_filt[,.(NUM_PRATICA,PROGRESS_PRATICA,flag_exante)],\n",
    "                       by = c('NUM_PRATICA','PROGRESS_PRATICA'))"
   ]
  },
  {
   "cell_type": "code",
   "execution_count": 210,
   "id": "viral-strap",
   "metadata": {},
   "outputs": [],
   "source": [
    "saveRDS(master_modello,'../../../data/RDS/master/master_nonsme_0606.RDS')"
   ]
  },
  {
   "cell_type": "code",
   "execution_count": 211,
   "id": "proof-natural",
   "metadata": {},
   "outputs": [
    {
     "data": {
      "text/plain": [
       "\n",
       "    missing non censito        <NA> \n",
       "      28527        7615           0 "
      ]
     },
     "metadata": {},
     "output_type": "display_data"
    },
    {
     "data": {
      "text/plain": [
       "\n",
       "DEFAULT      OK \n",
       "    689   35453 "
      ]
     },
     "metadata": {},
     "output_type": "display_data"
    }
   ],
   "source": [
    "master_modello_fill<- master_modello[ , lapply(.SD,function(x) ifelse((is.infinite(x)),NA,x))]\n",
    "\n",
    "master_modello_fill<- master_modello_fill[ , lapply(.SD,function(x) ifelse((is.na(x) & class(x) %in% c(\"factor\",\"character\")),'missing',x))]\n",
    " \n",
    "\n",
    "# master_modello_fill[is.na(XRA_media_sconfino_30gg),  XRA_media_sconfino_30gg:= 0 ] \n",
    "# master_modello_fill[is.na(XRA_IMP_SCONFINO),  XRA_IMP_SCONFINO := 0 ] \n",
    "# master_modello_fill[is.na(XRA_IMP_UTIL_TOT), XRA_IMP_UTIL_TOT := 0 ] \n",
    "# master_modello_fill[is.na(XRA_NUM_GG_SCONF), XRA_NUM_GG_SCONF := 0 ]\n",
    "                                                    \n",
    "master_modello_fill <- master_modello_fill[ , lapply(.SD,function(x) ifelse((is.na(x) & (class(x) %in% c(\"numeric\",\"integer\"))),mean(x,na.rm = TRUE) ,x))]             #mean(x,na.rm = TRUE)                                         \n",
    "\n",
    "table(master_modello_fill$DSI_parte_correlata,useNA = 'always')\n",
    "                                           \n",
    "master_modello_fill <- cbind.data.frame(lapply(master_modello_fill, function(x) {\n",
    "      if (all(unique(x) %in% c(0,1)))\n",
    "        as.factor(c(\"NO\", \"YES\")[x+1])\n",
    "      else if (all(is.character(x)))\n",
    "        as.factor(x)\n",
    "      else\n",
    "        x\n",
    "    }))\n",
    "    setDT(master_modello_fill)\n",
    "\n",
    "table(master_modello_fill$target)\n",
    "\n",
    "\n",
    "#master_modello<- master_modello[,which(unlist(lapply(master_modello, function(x)!all(is.na(x))))),with=FALSE]\n",
    "master_modello_fill<- master_modello_fill[,which(unlist(lapply(master_modello_fill, function(x)!all(is.na(x))))),with=FALSE]"
   ]
  },
  {
   "cell_type": "code",
   "execution_count": 212,
   "id": "organizational-camera",
   "metadata": {},
   "outputs": [
    {
     "data": {
      "text/plain": [
       "NULL"
      ]
     },
     "metadata": {},
     "output_type": "display_data"
    }
   ],
   "source": [
    "\n",
    "\n",
    "lista_vars_na <- unlist(lapply(colnames(master_modello_fill[,..cols_modello]), function(x){\n",
    "\n",
    "    perc <- 100*nrow(master_modello_fill[is.na(get(x)),..cols_modello])/nrow(master_modello_fill[,..cols_modello])\n",
    "    if(perc > 40){\n",
    "#         print(x)\n",
    "#         print(100*nrow(master_co[is.na(get(x)),])/nrow(master_co))\n",
    "        return(x)\n",
    "    }else\n",
    "        return(NULL)\n",
    "}))\n",
    "lista_vars_na"
   ]
  },
  {
   "cell_type": "code",
   "execution_count": 213,
   "id": "neither-neutral",
   "metadata": {},
   "outputs": [
    {
     "data": {
      "text/html": [
       "<style>\n",
       ".list-inline {list-style: none; margin:0; padding: 0}\n",
       ".list-inline>li {display: inline-block}\n",
       ".list-inline>li:not(:last-child)::after {content: \"\\00b7\"; padding: 0 .5ex}\n",
       "</style>\n",
       "<ol class=list-inline><li>'DSI_imp_richiesto_lim_autonomia'</li><li>'AT_cod_sett_cedente'</li><li>'EWS_pred'</li><li>'FORMA_GIURIDICA'</li></ol>\n"
      ],
      "text/latex": [
       "\\begin{enumerate*}\n",
       "\\item 'DSI\\_imp\\_richiesto\\_lim\\_autonomia'\n",
       "\\item 'AT\\_cod\\_sett\\_cedente'\n",
       "\\item 'EWS\\_pred'\n",
       "\\item 'FORMA\\_GIURIDICA'\n",
       "\\end{enumerate*}\n"
      ],
      "text/markdown": [
       "1. 'DSI_imp_richiesto_lim_autonomia'\n",
       "2. 'AT_cod_sett_cedente'\n",
       "3. 'EWS_pred'\n",
       "4. 'FORMA_GIURIDICA'\n",
       "\n",
       "\n"
      ],
      "text/plain": [
       "[1] \"DSI_imp_richiesto_lim_autonomia\" \"AT_cod_sett_cedente\"            \n",
       "[3] \"EWS_pred\"                        \"FORMA_GIURIDICA\"                "
      ]
     },
     "metadata": {},
     "output_type": "display_data"
    }
   ],
   "source": [
    "lista_vars_missing <- unlist(lapply(colnames(master_modello[,..cols_modello]), function(x){\n",
    "\n",
    "    perc <- 100*nrow(master_modello[is.na(get(x)),..cols_modello])/nrow(master_modello[,..cols_modello])\n",
    "    if(perc > 40){\n",
    "#         print(x)\n",
    "#         print(100*nrow(master_co[is.na(get(x)),])/nrow(master_co))\n",
    "        return(x)\n",
    "    }else\n",
    "        return(NULL)\n",
    "}))\n",
    "lista_vars_missing"
   ]
  },
  {
   "cell_type": "code",
   "execution_count": 214,
   "id": "turned-decrease",
   "metadata": {},
   "outputs": [
    {
     "data": {
      "text/html": [
       "<style>\n",
       ".list-inline {list-style: none; margin:0; padding: 0}\n",
       ".list-inline>li {display: inline-block}\n",
       ".list-inline>li:not(:last-child)::after {content: \"\\00b7\"; padding: 0 .5ex}\n",
       "</style>\n",
       "<ol class=list-inline><li>-77.5</li><li>9999999</li></ol>\n"
      ],
      "text/latex": [
       "\\begin{enumerate*}\n",
       "\\item -77.5\n",
       "\\item 9999999\n",
       "\\end{enumerate*}\n"
      ],
      "text/markdown": [
       "1. -77.5\n",
       "2. 9999999\n",
       "\n",
       "\n"
      ],
      "text/plain": [
       "[1]     -77.5 9999999.0"
      ]
     },
     "metadata": {},
     "output_type": "display_data"
    }
   ],
   "source": [
    "range(master_modello_fill$BIL_fatturato)"
   ]
  },
  {
   "cell_type": "code",
   "execution_count": 215,
   "id": "thorough-chuck",
   "metadata": {},
   "outputs": [
    {
     "name": "stdout",
     "output_type": "stream",
     "text": [
      "[1] 28913\n",
      "[1] 7229\n",
      "[1] 5\n"
     ]
    },
    {
     "name": "stderr",
     "output_type": "stream",
     "text": [
      "Using 'N' as value column. Use 'value.var' to override\n",
      "\n"
     ]
    }
   ],
   "source": [
    "source('../../model_functions.R')\n",
    "\n",
    "modello_nonsme <- compute_model(\n",
    "    master_modello_fill[flag_exante == 'NO',\n",
    "   # setdiff(colnames(master_modello_fill),c(lista_vars_na,cols_2rm,\"flag_exante\")),,with = FALSE\n",
    "                       ..cols_modello], seed = 1011,\n",
    "    suffix=\"nonsme_variabili_isp_V3_arricchito\",minbuck= 0.0006, \n",
    "  # cols_2rm = c(\"EWS_ASIS\",'CRA_ADJ'),\n",
    "    use_surr =  1,perc_split = 0.80,desc = 'nonsme')"
   ]
  },
  {
   "cell_type": "code",
   "execution_count": 216,
   "id": "terminal-ferry",
   "metadata": {},
   "outputs": [],
   "source": [
    "train <- master_modello_fill[flag_exante == 'NO',..cols_modello][modello_nonsme$rows]\n",
    "test <- master_modello_fill[flag_exante == 'NO',..cols_modello][-modello_nonsme$rows]\n",
    "\n",
    "write.csv(train, '../non_sme/output/dt_train_co.csv')\n",
    "write.csv(test, '../non_sme/output/dt_test_co.csv')"
   ]
  },
  {
   "cell_type": "code",
   "execution_count": 217,
   "id": "turned-outdoors",
   "metadata": {},
   "outputs": [],
   "source": [
    "feat_imp <- setDT(data.frame(imp = round(modello_nonsme$model$variable.importance,4)), keep.rownames = TRUE)\n",
    "colnames(feat_imp) <- c('nome_var','F_imp')\n",
    "\n",
    "tab_variabili <- data.table(nome_var = colnames(master_modello_fill), valorizzata = !(colnames(master_modello_fill)%in%lista_vars_na))\n",
    "tab_variabili <- merge(tab_variabili,\n",
    "                      feat_imp,\n",
    "                      by = 'nome_var',\n",
    "                      all.x = TRUE)"
   ]
  },
  {
   "cell_type": "code",
   "execution_count": 218,
   "id": "satellite-julian",
   "metadata": {
    "scrolled": true
   },
   "outputs": [],
   "source": [
    "tab_variabili <- tab_variabili[order(-F_imp)]\n",
    "tab_variabili[,ordine_albero := (1:nrow(tab_variabili))]"
   ]
  },
  {
   "cell_type": "code",
   "execution_count": 219,
   "id": "small-reduction",
   "metadata": {},
   "outputs": [],
   "source": [
    "require(ggplot2)"
   ]
  },
  {
   "cell_type": "code",
   "execution_count": 220,
   "id": "forty-google",
   "metadata": {
    "scrolled": true
   },
   "outputs": [
    {
     "data": {
      "text/html": [
       "<table class=\"dataframe\">\n",
       "<caption>A data.table: 120 × 4</caption>\n",
       "<thead>\n",
       "\t<tr><th scope=col>nome_var</th><th scope=col>valorizzata</th><th scope=col>F_imp</th><th scope=col>ordine_albero</th></tr>\n",
       "\t<tr><th scope=col>&lt;chr&gt;</th><th scope=col>&lt;lgl&gt;</th><th scope=col>&lt;dbl&gt;</th><th scope=col>&lt;int&gt;</th></tr>\n",
       "</thead>\n",
       "<tbody>\n",
       "\t<tr><td>AT_cod_sett                    </td><td>TRUE</td><td>59.6131</td><td> 1</td></tr>\n",
       "\t<tr><td>RAT_classe_rating_filt         </td><td>TRUE</td><td>41.8758</td><td> 2</td></tr>\n",
       "\t<tr><td>BIL_PFN_Ebitda                 </td><td>TRUE</td><td>39.6628</td><td> 3</td></tr>\n",
       "\t<tr><td>EWS_pred                       </td><td>TRUE</td><td>32.9854</td><td> 4</td></tr>\n",
       "\t<tr><td>CR_sconf_acc                   </td><td>TRUE</td><td>17.3126</td><td> 5</td></tr>\n",
       "\t<tr><td>CRA_andamento                  </td><td>TRUE</td><td>15.5021</td><td> 6</td></tr>\n",
       "\t<tr><td>CRA_ADJ                        </td><td>TRUE</td><td>15.2715</td><td> 7</td></tr>\n",
       "\t<tr><td>RAT_andamento                  </td><td>TRUE</td><td>14.0213</td><td> 8</td></tr>\n",
       "\t<tr><td>CR_uti_acc                     </td><td>TRUE</td><td>12.3931</td><td> 9</td></tr>\n",
       "\t<tr><td>AT_cod_sett_cedente            </td><td>TRUE</td><td> 5.5507</td><td>10</td></tr>\n",
       "\t<tr><td>AT_eta_soc                     </td><td>TRUE</td><td> 4.1940</td><td>11</td></tr>\n",
       "\t<tr><td>DSI_flag_scaduto_20_outstanding</td><td>TRUE</td><td> 1.3676</td><td>12</td></tr>\n",
       "\t<tr><td>DSI_flag_fidi_scaduti          </td><td>TRUE</td><td> 0.6310</td><td>13</td></tr>\n",
       "\t<tr><td>DSI_num_fidi_scaduti           </td><td>TRUE</td><td> 0.5048</td><td>14</td></tr>\n",
       "\t<tr><td>DSI_rapporti_in_osservazione   </td><td>TRUE</td><td> 0.5048</td><td>15</td></tr>\n",
       "\t<tr><td>DSI_imp_richiesto_lim_autonomia</td><td>TRUE</td><td> 0.4753</td><td>16</td></tr>\n",
       "\t<tr><td>macrosegmento_attuale_lc       </td><td>TRUE</td><td> 0.1843</td><td>17</td></tr>\n",
       "\t<tr><td>DSI_diff_appr_appl             </td><td>TRUE</td><td> 0.0285</td><td>18</td></tr>\n",
       "\t<tr><td>DSI_polizza_diretta_39_        </td><td>TRUE</td><td> 0.0090</td><td>19</td></tr>\n",
       "\t<tr><td>FORMA_GIURIDICA                </td><td>TRUE</td><td> 0.0040</td><td>20</td></tr>\n",
       "\t<tr><td>DSI_tipo_pratica               </td><td>TRUE</td><td> 0.0021</td><td>21</td></tr>\n",
       "\t<tr><td>AT_cod_microsett               </td><td>TRUE</td><td>     NA</td><td>22</td></tr>\n",
       "\t<tr><td>AT_cod_microsett_cedente       </td><td>TRUE</td><td>     NA</td><td>23</td></tr>\n",
       "\t<tr><td>AT_microsett_desc              </td><td>TRUE</td><td>     NA</td><td>24</td></tr>\n",
       "\t<tr><td>AT_microsett_desc_cedente      </td><td>TRUE</td><td>     NA</td><td>25</td></tr>\n",
       "\t<tr><td>AT_sett_desc                   </td><td>TRUE</td><td>     NA</td><td>26</td></tr>\n",
       "\t<tr><td>AT_sett_desc_cedente           </td><td>TRUE</td><td>     NA</td><td>27</td></tr>\n",
       "\t<tr><td>BIL_MFISC_delta_fatturato      </td><td>TRUE</td><td>     NA</td><td>28</td></tr>\n",
       "\t<tr><td>BIL_MFISC_delta_pat_netto      </td><td>TRUE</td><td>     NA</td><td>29</td></tr>\n",
       "\t<tr><td>BIL_MFISC_fatturato            </td><td>TRUE</td><td>     NA</td><td>30</td></tr>\n",
       "\t<tr><td>⋮</td><td>⋮</td><td>⋮</td><td>⋮</td></tr>\n",
       "\t<tr><td>DSI_presenza_fidi_ced          </td><td>TRUE</td><td>NA</td><td> 91</td></tr>\n",
       "\t<tr><td>DSI_procedure_imprese_collegate</td><td>TRUE</td><td>NA</td><td> 92</td></tr>\n",
       "\t<tr><td>DSI_protesti_certi             </td><td>TRUE</td><td>NA</td><td> 93</td></tr>\n",
       "\t<tr><td>DSI_rae_ceduto                 </td><td>TRUE</td><td>NA</td><td> 94</td></tr>\n",
       "\t<tr><td>DSI_sab                        </td><td>TRUE</td><td>NA</td><td> 95</td></tr>\n",
       "\t<tr><td>DSI_settore_cedente            </td><td>TRUE</td><td>NA</td><td> 96</td></tr>\n",
       "\t<tr><td>DSI_settore_ceduto             </td><td>TRUE</td><td>NA</td><td> 97</td></tr>\n",
       "\t<tr><td>DSI_stato_societario           </td><td>TRUE</td><td>NA</td><td> 98</td></tr>\n",
       "\t<tr><td>DSI_tipo_prodotto              </td><td>TRUE</td><td>NA</td><td> 99</td></tr>\n",
       "\t<tr><td>EWS_pred_afi                   </td><td>TRUE</td><td>NA</td><td>100</td></tr>\n",
       "\t<tr><td>EWS_pred_aris                  </td><td>TRUE</td><td>NA</td><td>101</td></tr>\n",
       "\t<tr><td>EWS_pred_bilancio              </td><td>TRUE</td><td>NA</td><td>102</td></tr>\n",
       "\t<tr><td>EWS_pred_cartacomm             </td><td>TRUE</td><td>NA</td><td>103</td></tr>\n",
       "\t<tr><td>EWS_pred_cashflow              </td><td>TRUE</td><td>NA</td><td>104</td></tr>\n",
       "\t<tr><td>EWS_pred_cr0                   </td><td>TRUE</td><td>NA</td><td>105</td></tr>\n",
       "\t<tr><td>EWS_pred_crsys                 </td><td>TRUE</td><td>NA</td><td>106</td></tr>\n",
       "\t<tr><td>EWS_pred_nopg                  </td><td>TRUE</td><td>NA</td><td>107</td></tr>\n",
       "\t<tr><td>EWS_pred_prea                  </td><td>TRUE</td><td>NA</td><td>108</td></tr>\n",
       "\t<tr><td>EWS_pred_regexp                </td><td>TRUE</td><td>NA</td><td>109</td></tr>\n",
       "\t<tr><td>EWS_pred_xra                   </td><td>TRUE</td><td>NA</td><td>110</td></tr>\n",
       "\t<tr><td>FORB_PRESENZA                  </td><td>TRUE</td><td>NA</td><td>111</td></tr>\n",
       "\t<tr><td>NUM_PRATICA                    </td><td>TRUE</td><td>NA</td><td>112</td></tr>\n",
       "\t<tr><td>PROGRESS_PRATICA               </td><td>TRUE</td><td>NA</td><td>113</td></tr>\n",
       "\t<tr><td>RAT_classe_rating              </td><td>TRUE</td><td>NA</td><td>114</td></tr>\n",
       "\t<tr><td>XRA_IMP_SCONFINO               </td><td>TRUE</td><td>NA</td><td>115</td></tr>\n",
       "\t<tr><td>XRA_IMP_UTIL_TOT               </td><td>TRUE</td><td>NA</td><td>116</td></tr>\n",
       "\t<tr><td>XRA_NUM_GG_SCONF               </td><td>TRUE</td><td>NA</td><td>117</td></tr>\n",
       "\t<tr><td>XRA_media_sconfino_30gg        </td><td>TRUE</td><td>NA</td><td>118</td></tr>\n",
       "\t<tr><td>flag_exante                    </td><td>TRUE</td><td>NA</td><td>119</td></tr>\n",
       "\t<tr><td>target                         </td><td>TRUE</td><td>NA</td><td>120</td></tr>\n",
       "</tbody>\n",
       "</table>\n"
      ],
      "text/latex": [
       "A data.table: 120 × 4\n",
       "\\begin{tabular}{llll}\n",
       " nome\\_var & valorizzata & F\\_imp & ordine\\_albero\\\\\n",
       " <chr> & <lgl> & <dbl> & <int>\\\\\n",
       "\\hline\n",
       "\t AT\\_cod\\_sett                     & TRUE & 59.6131 &  1\\\\\n",
       "\t RAT\\_classe\\_rating\\_filt          & TRUE & 41.8758 &  2\\\\\n",
       "\t BIL\\_PFN\\_Ebitda                  & TRUE & 39.6628 &  3\\\\\n",
       "\t EWS\\_pred                        & TRUE & 32.9854 &  4\\\\\n",
       "\t CR\\_sconf\\_acc                    & TRUE & 17.3126 &  5\\\\\n",
       "\t CRA\\_andamento                   & TRUE & 15.5021 &  6\\\\\n",
       "\t CRA\\_ADJ                         & TRUE & 15.2715 &  7\\\\\n",
       "\t RAT\\_andamento                   & TRUE & 14.0213 &  8\\\\\n",
       "\t CR\\_uti\\_acc                      & TRUE & 12.3931 &  9\\\\\n",
       "\t AT\\_cod\\_sett\\_cedente             & TRUE &  5.5507 & 10\\\\\n",
       "\t AT\\_eta\\_soc                      & TRUE &  4.1940 & 11\\\\\n",
       "\t DSI\\_flag\\_scaduto\\_20\\_outstanding & TRUE &  1.3676 & 12\\\\\n",
       "\t DSI\\_flag\\_fidi\\_scaduti           & TRUE &  0.6310 & 13\\\\\n",
       "\t DSI\\_num\\_fidi\\_scaduti            & TRUE &  0.5048 & 14\\\\\n",
       "\t DSI\\_rapporti\\_in\\_osservazione    & TRUE &  0.5048 & 15\\\\\n",
       "\t DSI\\_imp\\_richiesto\\_lim\\_autonomia & TRUE &  0.4753 & 16\\\\\n",
       "\t macrosegmento\\_attuale\\_lc        & TRUE &  0.1843 & 17\\\\\n",
       "\t DSI\\_diff\\_appr\\_appl              & TRUE &  0.0285 & 18\\\\\n",
       "\t DSI\\_polizza\\_diretta\\_39\\_         & TRUE &  0.0090 & 19\\\\\n",
       "\t FORMA\\_GIURIDICA                 & TRUE &  0.0040 & 20\\\\\n",
       "\t DSI\\_tipo\\_pratica                & TRUE &  0.0021 & 21\\\\\n",
       "\t AT\\_cod\\_microsett                & TRUE &      NA & 22\\\\\n",
       "\t AT\\_cod\\_microsett\\_cedente        & TRUE &      NA & 23\\\\\n",
       "\t AT\\_microsett\\_desc               & TRUE &      NA & 24\\\\\n",
       "\t AT\\_microsett\\_desc\\_cedente       & TRUE &      NA & 25\\\\\n",
       "\t AT\\_sett\\_desc                    & TRUE &      NA & 26\\\\\n",
       "\t AT\\_sett\\_desc\\_cedente            & TRUE &      NA & 27\\\\\n",
       "\t BIL\\_MFISC\\_delta\\_fatturato       & TRUE &      NA & 28\\\\\n",
       "\t BIL\\_MFISC\\_delta\\_pat\\_netto       & TRUE &      NA & 29\\\\\n",
       "\t BIL\\_MFISC\\_fatturato             & TRUE &      NA & 30\\\\\n",
       "\t ⋮ & ⋮ & ⋮ & ⋮\\\\\n",
       "\t DSI\\_presenza\\_fidi\\_ced           & TRUE & NA &  91\\\\\n",
       "\t DSI\\_procedure\\_imprese\\_collegate & TRUE & NA &  92\\\\\n",
       "\t DSI\\_protesti\\_certi              & TRUE & NA &  93\\\\\n",
       "\t DSI\\_rae\\_ceduto                  & TRUE & NA &  94\\\\\n",
       "\t DSI\\_sab                         & TRUE & NA &  95\\\\\n",
       "\t DSI\\_settore\\_cedente             & TRUE & NA &  96\\\\\n",
       "\t DSI\\_settore\\_ceduto              & TRUE & NA &  97\\\\\n",
       "\t DSI\\_stato\\_societario            & TRUE & NA &  98\\\\\n",
       "\t DSI\\_tipo\\_prodotto               & TRUE & NA &  99\\\\\n",
       "\t EWS\\_pred\\_afi                    & TRUE & NA & 100\\\\\n",
       "\t EWS\\_pred\\_aris                   & TRUE & NA & 101\\\\\n",
       "\t EWS\\_pred\\_bilancio               & TRUE & NA & 102\\\\\n",
       "\t EWS\\_pred\\_cartacomm              & TRUE & NA & 103\\\\\n",
       "\t EWS\\_pred\\_cashflow               & TRUE & NA & 104\\\\\n",
       "\t EWS\\_pred\\_cr0                    & TRUE & NA & 105\\\\\n",
       "\t EWS\\_pred\\_crsys                  & TRUE & NA & 106\\\\\n",
       "\t EWS\\_pred\\_nopg                   & TRUE & NA & 107\\\\\n",
       "\t EWS\\_pred\\_prea                   & TRUE & NA & 108\\\\\n",
       "\t EWS\\_pred\\_regexp                 & TRUE & NA & 109\\\\\n",
       "\t EWS\\_pred\\_xra                    & TRUE & NA & 110\\\\\n",
       "\t FORB\\_PRESENZA                   & TRUE & NA & 111\\\\\n",
       "\t NUM\\_PRATICA                     & TRUE & NA & 112\\\\\n",
       "\t PROGRESS\\_PRATICA                & TRUE & NA & 113\\\\\n",
       "\t RAT\\_classe\\_rating               & TRUE & NA & 114\\\\\n",
       "\t XRA\\_IMP\\_SCONFINO                & TRUE & NA & 115\\\\\n",
       "\t XRA\\_IMP\\_UTIL\\_TOT                & TRUE & NA & 116\\\\\n",
       "\t XRA\\_NUM\\_GG\\_SCONF                & TRUE & NA & 117\\\\\n",
       "\t XRA\\_media\\_sconfino\\_30gg         & TRUE & NA & 118\\\\\n",
       "\t flag\\_exante                     & TRUE & NA & 119\\\\\n",
       "\t target                          & TRUE & NA & 120\\\\\n",
       "\\end{tabular}\n"
      ],
      "text/markdown": [
       "\n",
       "A data.table: 120 × 4\n",
       "\n",
       "| nome_var &lt;chr&gt; | valorizzata &lt;lgl&gt; | F_imp &lt;dbl&gt; | ordine_albero &lt;int&gt; |\n",
       "|---|---|---|---|\n",
       "| AT_cod_sett                     | TRUE | 59.6131 |  1 |\n",
       "| RAT_classe_rating_filt          | TRUE | 41.8758 |  2 |\n",
       "| BIL_PFN_Ebitda                  | TRUE | 39.6628 |  3 |\n",
       "| EWS_pred                        | TRUE | 32.9854 |  4 |\n",
       "| CR_sconf_acc                    | TRUE | 17.3126 |  5 |\n",
       "| CRA_andamento                   | TRUE | 15.5021 |  6 |\n",
       "| CRA_ADJ                         | TRUE | 15.2715 |  7 |\n",
       "| RAT_andamento                   | TRUE | 14.0213 |  8 |\n",
       "| CR_uti_acc                      | TRUE | 12.3931 |  9 |\n",
       "| AT_cod_sett_cedente             | TRUE |  5.5507 | 10 |\n",
       "| AT_eta_soc                      | TRUE |  4.1940 | 11 |\n",
       "| DSI_flag_scaduto_20_outstanding | TRUE |  1.3676 | 12 |\n",
       "| DSI_flag_fidi_scaduti           | TRUE |  0.6310 | 13 |\n",
       "| DSI_num_fidi_scaduti            | TRUE |  0.5048 | 14 |\n",
       "| DSI_rapporti_in_osservazione    | TRUE |  0.5048 | 15 |\n",
       "| DSI_imp_richiesto_lim_autonomia | TRUE |  0.4753 | 16 |\n",
       "| macrosegmento_attuale_lc        | TRUE |  0.1843 | 17 |\n",
       "| DSI_diff_appr_appl              | TRUE |  0.0285 | 18 |\n",
       "| DSI_polizza_diretta_39_         | TRUE |  0.0090 | 19 |\n",
       "| FORMA_GIURIDICA                 | TRUE |  0.0040 | 20 |\n",
       "| DSI_tipo_pratica                | TRUE |  0.0021 | 21 |\n",
       "| AT_cod_microsett                | TRUE |      NA | 22 |\n",
       "| AT_cod_microsett_cedente        | TRUE |      NA | 23 |\n",
       "| AT_microsett_desc               | TRUE |      NA | 24 |\n",
       "| AT_microsett_desc_cedente       | TRUE |      NA | 25 |\n",
       "| AT_sett_desc                    | TRUE |      NA | 26 |\n",
       "| AT_sett_desc_cedente            | TRUE |      NA | 27 |\n",
       "| BIL_MFISC_delta_fatturato       | TRUE |      NA | 28 |\n",
       "| BIL_MFISC_delta_pat_netto       | TRUE |      NA | 29 |\n",
       "| BIL_MFISC_fatturato             | TRUE |      NA | 30 |\n",
       "| ⋮ | ⋮ | ⋮ | ⋮ |\n",
       "| DSI_presenza_fidi_ced           | TRUE | NA |  91 |\n",
       "| DSI_procedure_imprese_collegate | TRUE | NA |  92 |\n",
       "| DSI_protesti_certi              | TRUE | NA |  93 |\n",
       "| DSI_rae_ceduto                  | TRUE | NA |  94 |\n",
       "| DSI_sab                         | TRUE | NA |  95 |\n",
       "| DSI_settore_cedente             | TRUE | NA |  96 |\n",
       "| DSI_settore_ceduto              | TRUE | NA |  97 |\n",
       "| DSI_stato_societario            | TRUE | NA |  98 |\n",
       "| DSI_tipo_prodotto               | TRUE | NA |  99 |\n",
       "| EWS_pred_afi                    | TRUE | NA | 100 |\n",
       "| EWS_pred_aris                   | TRUE | NA | 101 |\n",
       "| EWS_pred_bilancio               | TRUE | NA | 102 |\n",
       "| EWS_pred_cartacomm              | TRUE | NA | 103 |\n",
       "| EWS_pred_cashflow               | TRUE | NA | 104 |\n",
       "| EWS_pred_cr0                    | TRUE | NA | 105 |\n",
       "| EWS_pred_crsys                  | TRUE | NA | 106 |\n",
       "| EWS_pred_nopg                   | TRUE | NA | 107 |\n",
       "| EWS_pred_prea                   | TRUE | NA | 108 |\n",
       "| EWS_pred_regexp                 | TRUE | NA | 109 |\n",
       "| EWS_pred_xra                    | TRUE | NA | 110 |\n",
       "| FORB_PRESENZA                   | TRUE | NA | 111 |\n",
       "| NUM_PRATICA                     | TRUE | NA | 112 |\n",
       "| PROGRESS_PRATICA                | TRUE | NA | 113 |\n",
       "| RAT_classe_rating               | TRUE | NA | 114 |\n",
       "| XRA_IMP_SCONFINO                | TRUE | NA | 115 |\n",
       "| XRA_IMP_UTIL_TOT                | TRUE | NA | 116 |\n",
       "| XRA_NUM_GG_SCONF                | TRUE | NA | 117 |\n",
       "| XRA_media_sconfino_30gg         | TRUE | NA | 118 |\n",
       "| flag_exante                     | TRUE | NA | 119 |\n",
       "| target                          | TRUE | NA | 120 |\n",
       "\n"
      ],
      "text/plain": [
       "    nome_var                        valorizzata F_imp   ordine_albero\n",
       "1   AT_cod_sett                     TRUE        59.6131  1           \n",
       "2   RAT_classe_rating_filt          TRUE        41.8758  2           \n",
       "3   BIL_PFN_Ebitda                  TRUE        39.6628  3           \n",
       "4   EWS_pred                        TRUE        32.9854  4           \n",
       "5   CR_sconf_acc                    TRUE        17.3126  5           \n",
       "6   CRA_andamento                   TRUE        15.5021  6           \n",
       "7   CRA_ADJ                         TRUE        15.2715  7           \n",
       "8   RAT_andamento                   TRUE        14.0213  8           \n",
       "9   CR_uti_acc                      TRUE        12.3931  9           \n",
       "10  AT_cod_sett_cedente             TRUE         5.5507 10           \n",
       "11  AT_eta_soc                      TRUE         4.1940 11           \n",
       "12  DSI_flag_scaduto_20_outstanding TRUE         1.3676 12           \n",
       "13  DSI_flag_fidi_scaduti           TRUE         0.6310 13           \n",
       "14  DSI_num_fidi_scaduti            TRUE         0.5048 14           \n",
       "15  DSI_rapporti_in_osservazione    TRUE         0.5048 15           \n",
       "16  DSI_imp_richiesto_lim_autonomia TRUE         0.4753 16           \n",
       "17  macrosegmento_attuale_lc        TRUE         0.1843 17           \n",
       "18  DSI_diff_appr_appl              TRUE         0.0285 18           \n",
       "19  DSI_polizza_diretta_39_         TRUE         0.0090 19           \n",
       "20  FORMA_GIURIDICA                 TRUE         0.0040 20           \n",
       "21  DSI_tipo_pratica                TRUE         0.0021 21           \n",
       "22  AT_cod_microsett                TRUE             NA 22           \n",
       "23  AT_cod_microsett_cedente        TRUE             NA 23           \n",
       "24  AT_microsett_desc               TRUE             NA 24           \n",
       "25  AT_microsett_desc_cedente       TRUE             NA 25           \n",
       "26  AT_sett_desc                    TRUE             NA 26           \n",
       "27  AT_sett_desc_cedente            TRUE             NA 27           \n",
       "28  BIL_MFISC_delta_fatturato       TRUE             NA 28           \n",
       "29  BIL_MFISC_delta_pat_netto       TRUE             NA 29           \n",
       "30  BIL_MFISC_fatturato             TRUE             NA 30           \n",
       "⋮   ⋮                               ⋮           ⋮       ⋮            \n",
       "91  DSI_presenza_fidi_ced           TRUE        NA       91          \n",
       "92  DSI_procedure_imprese_collegate TRUE        NA       92          \n",
       "93  DSI_protesti_certi              TRUE        NA       93          \n",
       "94  DSI_rae_ceduto                  TRUE        NA       94          \n",
       "95  DSI_sab                         TRUE        NA       95          \n",
       "96  DSI_settore_cedente             TRUE        NA       96          \n",
       "97  DSI_settore_ceduto              TRUE        NA       97          \n",
       "98  DSI_stato_societario            TRUE        NA       98          \n",
       "99  DSI_tipo_prodotto               TRUE        NA       99          \n",
       "100 EWS_pred_afi                    TRUE        NA      100          \n",
       "101 EWS_pred_aris                   TRUE        NA      101          \n",
       "102 EWS_pred_bilancio               TRUE        NA      102          \n",
       "103 EWS_pred_cartacomm              TRUE        NA      103          \n",
       "104 EWS_pred_cashflow               TRUE        NA      104          \n",
       "105 EWS_pred_cr0                    TRUE        NA      105          \n",
       "106 EWS_pred_crsys                  TRUE        NA      106          \n",
       "107 EWS_pred_nopg                   TRUE        NA      107          \n",
       "108 EWS_pred_prea                   TRUE        NA      108          \n",
       "109 EWS_pred_regexp                 TRUE        NA      109          \n",
       "110 EWS_pred_xra                    TRUE        NA      110          \n",
       "111 FORB_PRESENZA                   TRUE        NA      111          \n",
       "112 NUM_PRATICA                     TRUE        NA      112          \n",
       "113 PROGRESS_PRATICA                TRUE        NA      113          \n",
       "114 RAT_classe_rating               TRUE        NA      114          \n",
       "115 XRA_IMP_SCONFINO                TRUE        NA      115          \n",
       "116 XRA_IMP_UTIL_TOT                TRUE        NA      116          \n",
       "117 XRA_NUM_GG_SCONF                TRUE        NA      117          \n",
       "118 XRA_media_sconfino_30gg         TRUE        NA      118          \n",
       "119 flag_exante                     TRUE        NA      119          \n",
       "120 target                          TRUE        NA      120          "
      ]
     },
     "metadata": {},
     "output_type": "display_data"
    }
   ],
   "source": [
    "tab_variabili[order(-F_imp)]"
   ]
  },
  {
   "cell_type": "code",
   "execution_count": 221,
   "id": "compatible-trigger",
   "metadata": {},
   "outputs": [
    {
     "name": "stderr",
     "output_type": "stream",
     "text": [
      "Warning message:\n",
      "“`guides(<scale> = FALSE)` is deprecated. Please use `guides(<scale> = \"none\")` instead.”\n"
     ]
    }
   ],
   "source": [
    "p <- ggplot(tab_variabili[!is.na(F_imp),], aes(x=reorder(nome_var,F_imp), y=F_imp,fill=F_imp))+ \n",
    "        geom_bar(stat=\"identity\", position=\"dodge\")+ coord_flip()+\n",
    "        ylab(\"Variable Importance\")+\n",
    "        xlab(\"\")+\n",
    "        ggtitle(\"Information Value Summary\")+\n",
    "        guides(fill=F)+\n",
    "        scale_fill_gradient(low=\"cyan\", high=\"blue\")+\n",
    "        theme(axis.text=element_text(size=16))"
   ]
  },
  {
   "cell_type": "code",
   "execution_count": 222,
   "id": "appreciated-cleaner",
   "metadata": {},
   "outputs": [],
   "source": [
    "ggsave(\n",
    "    filename = paste0(\n",
    "        \"output/\",gsub(\"-\",\"\",Sys.Date()),\"/\",\n",
    "        gsub(\":\",\"\",substr(Sys.time(),12,20)),\"featImp_nonsme_var_ISP_arr.png\"\n",
    "    ), \n",
    "    width = 300, height = 450,\n",
    "    units = \"mm\",\n",
    "    dpi = 320,\n",
    "    p\n",
    ")"
   ]
  },
  {
   "cell_type": "code",
   "execution_count": 223,
   "id": "active-nudist",
   "metadata": {},
   "outputs": [],
   "source": [
    "model_frame <- as.data.table(modello_nonsme$model$frame)\n",
    "model_frame[,type := 'leaf']\n",
    "model_frame[var != '<leaf>',type := 'other']\n",
    "\n",
    "modello_nonsme$tree_table[,round_pred := round(as.numeric(pred_vpc),7) ]\n",
    "model_frame[,round_pred := round(yval2.V4,7) ]"
   ]
  },
  {
   "cell_type": "code",
   "execution_count": 224,
   "id": "tropical-regular",
   "metadata": {},
   "outputs": [],
   "source": [
    "dt_tree <-unique(merge(modello_nonsme$tree_table,\n",
    "                       model_frame[,c('var','type','round_pred')], \n",
    "                       by = 'round_pred',\n",
    "                       all.x = TRUE))"
   ]
  },
  {
   "cell_type": "code",
   "execution_count": 225,
   "id": "synthetic-click",
   "metadata": {},
   "outputs": [],
   "source": [
    "dt_tree[, lift := round(prob/(sum(DEFAULT)/sum(tot)),1)]\n",
    "dt_tree[, def_cumulato := cumsum(DEFAULT)]\n",
    "dt_tree[, tot_cumulato := cumsum(tot)]\n",
    "dt_tree[, td_cumulato := def_cumulato/tot_cumulato]\n",
    "write.xlsx(dt_tree[type == \"leaf\",.(pred_vpc,DEFAULT,tot,def_cumulato,tot_cumulato,td_cumulato)],\n",
    "           'table_foglie_V3_arr.xlsx',\n",
    "           row.names = FALSE)"
   ]
  },
  {
   "cell_type": "code",
   "execution_count": 226,
   "id": "palestinian-arbitration",
   "metadata": {},
   "outputs": [],
   "source": [
    "dt_sample_all <- merge(modello_nonsme$pred,dt_orig[,c('NUM_PRATICA',\"PROGRESS_PRATICA\",'ESITO_FINALE_VPC')],by.x = c('NUM_PRATICA',\"PROGRESS_PRATICA\"), by.y = c('NUM_PRATICA',\"PROGRESS_PRATICA\"),all.x = TRUE,\n",
    "                suffixes = c(\"\",\"_y\"))\n",
    "\n",
    "leaves_val <- unique(dt_tree[type != 'other', pred_vpc])\n",
    "other_val <- unique(dt_tree[type == 'other', pred_vpc])\n",
    "# leaves_val\n",
    "# other_val\n",
    "\n",
    "dt_sample <- dt_sample_all[pred_vpc %in% leaves_val,]"
   ]
  },
  {
   "cell_type": "code",
   "execution_count": 227,
   "id": "approximate-clearance",
   "metadata": {},
   "outputs": [
    {
     "data": {
      "text/html": [
       "<table class=\"dataframe\">\n",
       "<caption>A data.table: 3 × 6</caption>\n",
       "<thead>\n",
       "\t<tr><th scope=col>colore</th><th scope=col>DEFAULT</th><th scope=col>OK</th><th scope=col>old_tot</th><th scope=col>old_td</th><th scope=col>sample_perc</th></tr>\n",
       "\t<tr><th scope=col>&lt;chr&gt;</th><th scope=col>&lt;int&gt;</th><th scope=col>&lt;int&gt;</th><th scope=col>&lt;int&gt;</th><th scope=col>&lt;dbl&gt;</th><th scope=col>&lt;dbl&gt;</th></tr>\n",
       "</thead>\n",
       "<tbody>\n",
       "\t<tr><td>VERDE </td><td>52</td><td>3401</td><td>3453</td><td>1.506</td><td>47.766</td></tr>\n",
       "\t<tr><td>GIALLO</td><td>38</td><td>3048</td><td>3086</td><td>1.231</td><td>42.689</td></tr>\n",
       "\t<tr><td>ROSSO </td><td>26</td><td> 664</td><td> 690</td><td>3.768</td><td> 9.545</td></tr>\n",
       "</tbody>\n",
       "</table>\n"
      ],
      "text/latex": [
       "A data.table: 3 × 6\n",
       "\\begin{tabular}{llllll}\n",
       " colore & DEFAULT & OK & old\\_tot & old\\_td & sample\\_perc\\\\\n",
       " <chr> & <int> & <int> & <int> & <dbl> & <dbl>\\\\\n",
       "\\hline\n",
       "\t VERDE  & 52 & 3401 & 3453 & 1.506 & 47.766\\\\\n",
       "\t GIALLO & 38 & 3048 & 3086 & 1.231 & 42.689\\\\\n",
       "\t ROSSO  & 26 &  664 &  690 & 3.768 &  9.545\\\\\n",
       "\\end{tabular}\n"
      ],
      "text/markdown": [
       "\n",
       "A data.table: 3 × 6\n",
       "\n",
       "| colore &lt;chr&gt; | DEFAULT &lt;int&gt; | OK &lt;int&gt; | old_tot &lt;int&gt; | old_td &lt;dbl&gt; | sample_perc &lt;dbl&gt; |\n",
       "|---|---|---|---|---|---|\n",
       "| VERDE  | 52 | 3401 | 3453 | 1.506 | 47.766 |\n",
       "| GIALLO | 38 | 3048 | 3086 | 1.231 | 42.689 |\n",
       "| ROSSO  | 26 |  664 |  690 | 3.768 |  9.545 |\n",
       "\n"
      ],
      "text/plain": [
       "  colore DEFAULT OK   old_tot old_td sample_perc\n",
       "1 VERDE  52      3401 3453    1.506  47.766     \n",
       "2 GIALLO 38      3048 3086    1.231  42.689     \n",
       "3 ROSSO  26       664  690    3.768   9.545     "
      ]
     },
     "metadata": {},
     "output_type": "display_data"
    }
   ],
   "source": [
    "performance_oldvpc(dt_sample)"
   ]
  },
  {
   "cell_type": "code",
   "execution_count": 228,
   "id": "opponent-riverside",
   "metadata": {},
   "outputs": [
    {
     "data": {
      "text/html": [
       "<table class=\"dataframe\">\n",
       "<caption>A data.table: 29 × 12</caption>\n",
       "<thead>\n",
       "\t<tr><th scope=col>round_pred</th><th scope=col>pred_vpc</th><th scope=col>DEFAULT</th><th scope=col>OK</th><th scope=col>prob</th><th scope=col>tot</th><th scope=col>var</th><th scope=col>type</th><th scope=col>lift</th><th scope=col>def_cumulato</th><th scope=col>tot_cumulato</th><th scope=col>td_cumulato</th></tr>\n",
       "\t<tr><th scope=col>&lt;dbl&gt;</th><th scope=col>&lt;chr&gt;</th><th scope=col>&lt;int&gt;</th><th scope=col>&lt;int&gt;</th><th scope=col>&lt;dbl&gt;</th><th scope=col>&lt;int&gt;</th><th scope=col>&lt;chr&gt;</th><th scope=col>&lt;chr&gt;</th><th scope=col>&lt;dbl&gt;</th><th scope=col>&lt;int&gt;</th><th scope=col>&lt;int&gt;</th><th scope=col>&lt;dbl&gt;</th></tr>\n",
       "</thead>\n",
       "<tbody>\n",
       "\t<tr><td>0.0038049</td><td>0.00380491179522657</td><td>15</td><td>3527</td><td>0.004234896</td><td>3542</td><td>&lt;leaf&gt;</td><td>leaf</td><td> 0.3</td><td> 15</td><td>3542</td><td>0.004234896</td></tr>\n",
       "\t<tr><td>0.0053763</td><td>0.00537634408602151</td><td> 3</td><td><span style=white-space:pre-wrap>  39</span></td><td>0.071428571</td><td><span style=white-space:pre-wrap>  42</span></td><td>&lt;leaf&gt;</td><td>leaf</td><td> 4.5</td><td> 18</td><td>3584</td><td>0.005022321</td></tr>\n",
       "\t<tr><td>0.0067644</td><td>0.00676437429537768</td><td> 1</td><td> 214</td><td>0.004651163</td><td> 215</td><td>&lt;leaf&gt;</td><td>leaf</td><td> 0.3</td><td> 19</td><td>3799</td><td>0.005001316</td></tr>\n",
       "\t<tr><td>0.0073717</td><td>0.00737170399773178</td><td> 6</td><td> 921</td><td>0.006472492</td><td> 927</td><td>&lt;leaf&gt;</td><td>leaf</td><td> 0.4</td><td> 25</td><td>4726</td><td>0.005289886</td></tr>\n",
       "\t<tr><td>0.0139057</td><td>0.0139056831922612 </td><td>14</td><td> 839</td><td>0.016412661</td><td> 853</td><td>&lt;leaf&gt;</td><td>leaf</td><td> 1.0</td><td> 39</td><td>5579</td><td>0.006990500</td></tr>\n",
       "\t<tr><td>0.0180798</td><td>0.0180798004987531 </td><td> 9</td><td> 385</td><td>0.022842640</td><td> 394</td><td>&lt;leaf&gt;</td><td>leaf</td><td> 1.4</td><td> 48</td><td>5973</td><td>0.008036163</td></tr>\n",
       "\t<tr><td>0.0215827</td><td>0.0215827338129496 </td><td> 2</td><td> 105</td><td>0.018691589</td><td> 107</td><td>&lt;leaf&gt;</td><td>leaf</td><td> 1.2</td><td> 50</td><td>6080</td><td>0.008223684</td></tr>\n",
       "\t<tr><td>0.0256410</td><td>0.0256410256410256 </td><td> 0</td><td><span style=white-space:pre-wrap>   8</span></td><td>0.000000000</td><td><span style=white-space:pre-wrap>   8</span></td><td>&lt;leaf&gt;</td><td>leaf</td><td> 0.0</td><td> 50</td><td>6088</td><td>0.008212878</td></tr>\n",
       "\t<tr><td>0.0264151</td><td>0.0264150943396226 </td><td> 2</td><td><span style=white-space:pre-wrap>  69</span></td><td>0.028169014</td><td><span style=white-space:pre-wrap>  71</span></td><td>&lt;leaf&gt;</td><td>leaf</td><td> 1.8</td><td> 52</td><td>6159</td><td>0.008442929</td></tr>\n",
       "\t<tr><td>0.0373298</td><td>0.0373298199385156 </td><td>15</td><td> 540</td><td>0.027027027</td><td> 555</td><td>&lt;leaf&gt;</td><td>leaf</td><td> 1.7</td><td> 67</td><td>6714</td><td>0.009979148</td></tr>\n",
       "\t<tr><td>0.0441176</td><td>0.0441176470588235 </td><td> 1</td><td><span style=white-space:pre-wrap>  25</span></td><td>0.038461538</td><td><span style=white-space:pre-wrap>  26</span></td><td>&lt;leaf&gt;</td><td>leaf</td><td> 2.4</td><td> 68</td><td>6740</td><td>0.010089021</td></tr>\n",
       "\t<tr><td>0.0444444</td><td>0.0444444444444444 </td><td> 0</td><td><span style=white-space:pre-wrap>   6</span></td><td>0.000000000</td><td><span style=white-space:pre-wrap>   6</span></td><td>&lt;leaf&gt;</td><td>leaf</td><td> 0.0</td><td> 68</td><td>6746</td><td>0.010080047</td></tr>\n",
       "\t<tr><td>0.0752688</td><td>0.0752688172043011 </td><td> 1</td><td><span style=white-space:pre-wrap>  20</span></td><td>0.047619048</td><td><span style=white-space:pre-wrap>  21</span></td><td>&lt;leaf&gt;</td><td>leaf</td><td> 3.0</td><td> 69</td><td>6767</td><td>0.010196542</td></tr>\n",
       "\t<tr><td>0.0792507</td><td>0.0792507204610951 </td><td> 4</td><td> 181</td><td>0.021621622</td><td> 185</td><td>&lt;leaf&gt;</td><td>leaf</td><td> 1.3</td><td> 73</td><td>6952</td><td>0.010500575</td></tr>\n",
       "\t<tr><td>0.1119048</td><td><span style=white-space:pre-wrap>0.111904761904762  </span></td><td>12</td><td><span style=white-space:pre-wrap>  92</span></td><td>0.115384615</td><td> 104</td><td>&lt;leaf&gt;</td><td>leaf</td><td> 7.2</td><td> 85</td><td>7056</td><td>0.012046485</td></tr>\n",
       "\t<tr><td>0.1320755</td><td><span style=white-space:pre-wrap>0.132075471698113  </span></td><td> 0</td><td><span style=white-space:pre-wrap>  13</span></td><td>0.000000000</td><td><span style=white-space:pre-wrap>  13</span></td><td>&lt;leaf&gt;</td><td>leaf</td><td> 0.0</td><td> 85</td><td>7069</td><td>0.012024332</td></tr>\n",
       "\t<tr><td>0.1363636</td><td><span style=white-space:pre-wrap>0.136363636363636  </span></td><td> 2</td><td><span style=white-space:pre-wrap>  17</span></td><td>0.105263158</td><td><span style=white-space:pre-wrap>  19</span></td><td>&lt;leaf&gt;</td><td>leaf</td><td> 6.6</td><td> 87</td><td>7088</td><td>0.012274266</td></tr>\n",
       "\t<tr><td>0.1388889</td><td><span style=white-space:pre-wrap>0.138888888888889  </span></td><td> 1</td><td><span style=white-space:pre-wrap>   8</span></td><td>0.111111111</td><td><span style=white-space:pre-wrap>   9</span></td><td>&lt;leaf&gt;</td><td>leaf</td><td> 6.9</td><td> 88</td><td>7097</td><td>0.012399605</td></tr>\n",
       "\t<tr><td>0.1587302</td><td><span style=white-space:pre-wrap>0.158730158730159  </span></td><td> 3</td><td><span style=white-space:pre-wrap>  21</span></td><td>0.125000000</td><td><span style=white-space:pre-wrap>  24</span></td><td>&lt;leaf&gt;</td><td>leaf</td><td> 7.8</td><td> 91</td><td>7121</td><td>0.012779104</td></tr>\n",
       "\t<tr><td>0.1698113</td><td><span style=white-space:pre-wrap>0.169811320754717  </span></td><td> 1</td><td><span style=white-space:pre-wrap>   9</span></td><td>0.100000000</td><td><span style=white-space:pre-wrap>  10</span></td><td>&lt;leaf&gt;</td><td>leaf</td><td> 6.2</td><td> 92</td><td>7131</td><td>0.012901416</td></tr>\n",
       "\t<tr><td>0.2083333</td><td><span style=white-space:pre-wrap>0.208333333333333  </span></td><td> 8</td><td><span style=white-space:pre-wrap>  25</span></td><td>0.242424242</td><td><span style=white-space:pre-wrap>  33</span></td><td>&lt;leaf&gt;</td><td>leaf</td><td>15.1</td><td>100</td><td>7164</td><td>0.013958682</td></tr>\n",
       "\t<tr><td>0.2592593</td><td><span style=white-space:pre-wrap>0.259259259259259  </span></td><td> 0</td><td><span style=white-space:pre-wrap>   5</span></td><td>0.000000000</td><td><span style=white-space:pre-wrap>   5</span></td><td>&lt;leaf&gt;</td><td>leaf</td><td> 0.0</td><td>100</td><td>7169</td><td>0.013948947</td></tr>\n",
       "\t<tr><td>0.5217391</td><td><span style=white-space:pre-wrap>0.521739130434783  </span></td><td> 5</td><td><span style=white-space:pre-wrap>  11</span></td><td>0.312500000</td><td><span style=white-space:pre-wrap>  16</span></td><td>&lt;leaf&gt;</td><td>leaf</td><td>19.5</td><td>105</td><td>7185</td><td>0.014613779</td></tr>\n",
       "\t<tr><td>0.5294118</td><td><span style=white-space:pre-wrap>0.529411764705882  </span></td><td> 0</td><td><span style=white-space:pre-wrap>   4</span></td><td>0.000000000</td><td><span style=white-space:pre-wrap>   4</span></td><td>&lt;leaf&gt;</td><td>leaf</td><td> 0.0</td><td>105</td><td>7189</td><td>0.014605648</td></tr>\n",
       "\t<tr><td>0.5500000</td><td><span style=white-space:pre-wrap>0.55               </span></td><td> 0</td><td><span style=white-space:pre-wrap>   4</span></td><td>0.000000000</td><td><span style=white-space:pre-wrap>   4</span></td><td>&lt;leaf&gt;</td><td>leaf</td><td> 0.0</td><td>105</td><td>7193</td><td>0.014597525</td></tr>\n",
       "\t<tr><td>0.5714286</td><td><span style=white-space:pre-wrap>0.571428571428571  </span></td><td> 1</td><td><span style=white-space:pre-wrap>   7</span></td><td>0.125000000</td><td><span style=white-space:pre-wrap>   8</span></td><td>&lt;leaf&gt;</td><td>leaf</td><td> 7.8</td><td>106</td><td>7201</td><td>0.014720178</td></tr>\n",
       "\t<tr><td>0.5882353</td><td><span style=white-space:pre-wrap>0.588235294117647  </span></td><td> 1</td><td><span style=white-space:pre-wrap>   8</span></td><td>0.111111111</td><td><span style=white-space:pre-wrap>   9</span></td><td>&lt;leaf&gt;</td><td>leaf</td><td> 6.9</td><td>107</td><td>7210</td><td>0.014840499</td></tr>\n",
       "\t<tr><td>0.6250000</td><td><span style=white-space:pre-wrap>0.625              </span></td><td> 2</td><td><span style=white-space:pre-wrap>   3</span></td><td>0.400000000</td><td><span style=white-space:pre-wrap>   5</span></td><td>&lt;leaf&gt;</td><td>leaf</td><td>24.9</td><td>109</td><td>7215</td><td>0.015107415</td></tr>\n",
       "\t<tr><td>0.6666667</td><td><span style=white-space:pre-wrap>0.666666666666667  </span></td><td> 7</td><td><span style=white-space:pre-wrap>   7</span></td><td>0.500000000</td><td><span style=white-space:pre-wrap>  14</span></td><td>&lt;leaf&gt;</td><td>leaf</td><td>31.2</td><td>116</td><td>7229</td><td>0.016046479</td></tr>\n",
       "</tbody>\n",
       "</table>\n"
      ],
      "text/latex": [
       "A data.table: 29 × 12\n",
       "\\begin{tabular}{llllllllllll}\n",
       " round\\_pred & pred\\_vpc & DEFAULT & OK & prob & tot & var & type & lift & def\\_cumulato & tot\\_cumulato & td\\_cumulato\\\\\n",
       " <dbl> & <chr> & <int> & <int> & <dbl> & <int> & <chr> & <chr> & <dbl> & <int> & <int> & <dbl>\\\\\n",
       "\\hline\n",
       "\t 0.0038049 & 0.00380491179522657 & 15 & 3527 & 0.004234896 & 3542 & <leaf> & leaf &  0.3 &  15 & 3542 & 0.004234896\\\\\n",
       "\t 0.0053763 & 0.00537634408602151 &  3 &   39 & 0.071428571 &   42 & <leaf> & leaf &  4.5 &  18 & 3584 & 0.005022321\\\\\n",
       "\t 0.0067644 & 0.00676437429537768 &  1 &  214 & 0.004651163 &  215 & <leaf> & leaf &  0.3 &  19 & 3799 & 0.005001316\\\\\n",
       "\t 0.0073717 & 0.00737170399773178 &  6 &  921 & 0.006472492 &  927 & <leaf> & leaf &  0.4 &  25 & 4726 & 0.005289886\\\\\n",
       "\t 0.0139057 & 0.0139056831922612  & 14 &  839 & 0.016412661 &  853 & <leaf> & leaf &  1.0 &  39 & 5579 & 0.006990500\\\\\n",
       "\t 0.0180798 & 0.0180798004987531  &  9 &  385 & 0.022842640 &  394 & <leaf> & leaf &  1.4 &  48 & 5973 & 0.008036163\\\\\n",
       "\t 0.0215827 & 0.0215827338129496  &  2 &  105 & 0.018691589 &  107 & <leaf> & leaf &  1.2 &  50 & 6080 & 0.008223684\\\\\n",
       "\t 0.0256410 & 0.0256410256410256  &  0 &    8 & 0.000000000 &    8 & <leaf> & leaf &  0.0 &  50 & 6088 & 0.008212878\\\\\n",
       "\t 0.0264151 & 0.0264150943396226  &  2 &   69 & 0.028169014 &   71 & <leaf> & leaf &  1.8 &  52 & 6159 & 0.008442929\\\\\n",
       "\t 0.0373298 & 0.0373298199385156  & 15 &  540 & 0.027027027 &  555 & <leaf> & leaf &  1.7 &  67 & 6714 & 0.009979148\\\\\n",
       "\t 0.0441176 & 0.0441176470588235  &  1 &   25 & 0.038461538 &   26 & <leaf> & leaf &  2.4 &  68 & 6740 & 0.010089021\\\\\n",
       "\t 0.0444444 & 0.0444444444444444  &  0 &    6 & 0.000000000 &    6 & <leaf> & leaf &  0.0 &  68 & 6746 & 0.010080047\\\\\n",
       "\t 0.0752688 & 0.0752688172043011  &  1 &   20 & 0.047619048 &   21 & <leaf> & leaf &  3.0 &  69 & 6767 & 0.010196542\\\\\n",
       "\t 0.0792507 & 0.0792507204610951  &  4 &  181 & 0.021621622 &  185 & <leaf> & leaf &  1.3 &  73 & 6952 & 0.010500575\\\\\n",
       "\t 0.1119048 & 0.111904761904762   & 12 &   92 & 0.115384615 &  104 & <leaf> & leaf &  7.2 &  85 & 7056 & 0.012046485\\\\\n",
       "\t 0.1320755 & 0.132075471698113   &  0 &   13 & 0.000000000 &   13 & <leaf> & leaf &  0.0 &  85 & 7069 & 0.012024332\\\\\n",
       "\t 0.1363636 & 0.136363636363636   &  2 &   17 & 0.105263158 &   19 & <leaf> & leaf &  6.6 &  87 & 7088 & 0.012274266\\\\\n",
       "\t 0.1388889 & 0.138888888888889   &  1 &    8 & 0.111111111 &    9 & <leaf> & leaf &  6.9 &  88 & 7097 & 0.012399605\\\\\n",
       "\t 0.1587302 & 0.158730158730159   &  3 &   21 & 0.125000000 &   24 & <leaf> & leaf &  7.8 &  91 & 7121 & 0.012779104\\\\\n",
       "\t 0.1698113 & 0.169811320754717   &  1 &    9 & 0.100000000 &   10 & <leaf> & leaf &  6.2 &  92 & 7131 & 0.012901416\\\\\n",
       "\t 0.2083333 & 0.208333333333333   &  8 &   25 & 0.242424242 &   33 & <leaf> & leaf & 15.1 & 100 & 7164 & 0.013958682\\\\\n",
       "\t 0.2592593 & 0.259259259259259   &  0 &    5 & 0.000000000 &    5 & <leaf> & leaf &  0.0 & 100 & 7169 & 0.013948947\\\\\n",
       "\t 0.5217391 & 0.521739130434783   &  5 &   11 & 0.312500000 &   16 & <leaf> & leaf & 19.5 & 105 & 7185 & 0.014613779\\\\\n",
       "\t 0.5294118 & 0.529411764705882   &  0 &    4 & 0.000000000 &    4 & <leaf> & leaf &  0.0 & 105 & 7189 & 0.014605648\\\\\n",
       "\t 0.5500000 & 0.55                &  0 &    4 & 0.000000000 &    4 & <leaf> & leaf &  0.0 & 105 & 7193 & 0.014597525\\\\\n",
       "\t 0.5714286 & 0.571428571428571   &  1 &    7 & 0.125000000 &    8 & <leaf> & leaf &  7.8 & 106 & 7201 & 0.014720178\\\\\n",
       "\t 0.5882353 & 0.588235294117647   &  1 &    8 & 0.111111111 &    9 & <leaf> & leaf &  6.9 & 107 & 7210 & 0.014840499\\\\\n",
       "\t 0.6250000 & 0.625               &  2 &    3 & 0.400000000 &    5 & <leaf> & leaf & 24.9 & 109 & 7215 & 0.015107415\\\\\n",
       "\t 0.6666667 & 0.666666666666667   &  7 &    7 & 0.500000000 &   14 & <leaf> & leaf & 31.2 & 116 & 7229 & 0.016046479\\\\\n",
       "\\end{tabular}\n"
      ],
      "text/markdown": [
       "\n",
       "A data.table: 29 × 12\n",
       "\n",
       "| round_pred &lt;dbl&gt; | pred_vpc &lt;chr&gt; | DEFAULT &lt;int&gt; | OK &lt;int&gt; | prob &lt;dbl&gt; | tot &lt;int&gt; | var &lt;chr&gt; | type &lt;chr&gt; | lift &lt;dbl&gt; | def_cumulato &lt;int&gt; | tot_cumulato &lt;int&gt; | td_cumulato &lt;dbl&gt; |\n",
       "|---|---|---|---|---|---|---|---|---|---|---|---|\n",
       "| 0.0038049 | 0.00380491179522657 | 15 | 3527 | 0.004234896 | 3542 | &lt;leaf&gt; | leaf |  0.3 |  15 | 3542 | 0.004234896 |\n",
       "| 0.0053763 | 0.00537634408602151 |  3 |   39 | 0.071428571 |   42 | &lt;leaf&gt; | leaf |  4.5 |  18 | 3584 | 0.005022321 |\n",
       "| 0.0067644 | 0.00676437429537768 |  1 |  214 | 0.004651163 |  215 | &lt;leaf&gt; | leaf |  0.3 |  19 | 3799 | 0.005001316 |\n",
       "| 0.0073717 | 0.00737170399773178 |  6 |  921 | 0.006472492 |  927 | &lt;leaf&gt; | leaf |  0.4 |  25 | 4726 | 0.005289886 |\n",
       "| 0.0139057 | 0.0139056831922612  | 14 |  839 | 0.016412661 |  853 | &lt;leaf&gt; | leaf |  1.0 |  39 | 5579 | 0.006990500 |\n",
       "| 0.0180798 | 0.0180798004987531  |  9 |  385 | 0.022842640 |  394 | &lt;leaf&gt; | leaf |  1.4 |  48 | 5973 | 0.008036163 |\n",
       "| 0.0215827 | 0.0215827338129496  |  2 |  105 | 0.018691589 |  107 | &lt;leaf&gt; | leaf |  1.2 |  50 | 6080 | 0.008223684 |\n",
       "| 0.0256410 | 0.0256410256410256  |  0 |    8 | 0.000000000 |    8 | &lt;leaf&gt; | leaf |  0.0 |  50 | 6088 | 0.008212878 |\n",
       "| 0.0264151 | 0.0264150943396226  |  2 |   69 | 0.028169014 |   71 | &lt;leaf&gt; | leaf |  1.8 |  52 | 6159 | 0.008442929 |\n",
       "| 0.0373298 | 0.0373298199385156  | 15 |  540 | 0.027027027 |  555 | &lt;leaf&gt; | leaf |  1.7 |  67 | 6714 | 0.009979148 |\n",
       "| 0.0441176 | 0.0441176470588235  |  1 |   25 | 0.038461538 |   26 | &lt;leaf&gt; | leaf |  2.4 |  68 | 6740 | 0.010089021 |\n",
       "| 0.0444444 | 0.0444444444444444  |  0 |    6 | 0.000000000 |    6 | &lt;leaf&gt; | leaf |  0.0 |  68 | 6746 | 0.010080047 |\n",
       "| 0.0752688 | 0.0752688172043011  |  1 |   20 | 0.047619048 |   21 | &lt;leaf&gt; | leaf |  3.0 |  69 | 6767 | 0.010196542 |\n",
       "| 0.0792507 | 0.0792507204610951  |  4 |  181 | 0.021621622 |  185 | &lt;leaf&gt; | leaf |  1.3 |  73 | 6952 | 0.010500575 |\n",
       "| 0.1119048 | 0.111904761904762   | 12 |   92 | 0.115384615 |  104 | &lt;leaf&gt; | leaf |  7.2 |  85 | 7056 | 0.012046485 |\n",
       "| 0.1320755 | 0.132075471698113   |  0 |   13 | 0.000000000 |   13 | &lt;leaf&gt; | leaf |  0.0 |  85 | 7069 | 0.012024332 |\n",
       "| 0.1363636 | 0.136363636363636   |  2 |   17 | 0.105263158 |   19 | &lt;leaf&gt; | leaf |  6.6 |  87 | 7088 | 0.012274266 |\n",
       "| 0.1388889 | 0.138888888888889   |  1 |    8 | 0.111111111 |    9 | &lt;leaf&gt; | leaf |  6.9 |  88 | 7097 | 0.012399605 |\n",
       "| 0.1587302 | 0.158730158730159   |  3 |   21 | 0.125000000 |   24 | &lt;leaf&gt; | leaf |  7.8 |  91 | 7121 | 0.012779104 |\n",
       "| 0.1698113 | 0.169811320754717   |  1 |    9 | 0.100000000 |   10 | &lt;leaf&gt; | leaf |  6.2 |  92 | 7131 | 0.012901416 |\n",
       "| 0.2083333 | 0.208333333333333   |  8 |   25 | 0.242424242 |   33 | &lt;leaf&gt; | leaf | 15.1 | 100 | 7164 | 0.013958682 |\n",
       "| 0.2592593 | 0.259259259259259   |  0 |    5 | 0.000000000 |    5 | &lt;leaf&gt; | leaf |  0.0 | 100 | 7169 | 0.013948947 |\n",
       "| 0.5217391 | 0.521739130434783   |  5 |   11 | 0.312500000 |   16 | &lt;leaf&gt; | leaf | 19.5 | 105 | 7185 | 0.014613779 |\n",
       "| 0.5294118 | 0.529411764705882   |  0 |    4 | 0.000000000 |    4 | &lt;leaf&gt; | leaf |  0.0 | 105 | 7189 | 0.014605648 |\n",
       "| 0.5500000 | 0.55                |  0 |    4 | 0.000000000 |    4 | &lt;leaf&gt; | leaf |  0.0 | 105 | 7193 | 0.014597525 |\n",
       "| 0.5714286 | 0.571428571428571   |  1 |    7 | 0.125000000 |    8 | &lt;leaf&gt; | leaf |  7.8 | 106 | 7201 | 0.014720178 |\n",
       "| 0.5882353 | 0.588235294117647   |  1 |    8 | 0.111111111 |    9 | &lt;leaf&gt; | leaf |  6.9 | 107 | 7210 | 0.014840499 |\n",
       "| 0.6250000 | 0.625               |  2 |    3 | 0.400000000 |    5 | &lt;leaf&gt; | leaf | 24.9 | 109 | 7215 | 0.015107415 |\n",
       "| 0.6666667 | 0.666666666666667   |  7 |    7 | 0.500000000 |   14 | &lt;leaf&gt; | leaf | 31.2 | 116 | 7229 | 0.016046479 |\n",
       "\n"
      ],
      "text/plain": [
       "   round_pred pred_vpc            DEFAULT OK   prob        tot  var    type\n",
       "1  0.0038049  0.00380491179522657 15      3527 0.004234896 3542 <leaf> leaf\n",
       "2  0.0053763  0.00537634408602151  3        39 0.071428571   42 <leaf> leaf\n",
       "3  0.0067644  0.00676437429537768  1       214 0.004651163  215 <leaf> leaf\n",
       "4  0.0073717  0.00737170399773178  6       921 0.006472492  927 <leaf> leaf\n",
       "5  0.0139057  0.0139056831922612  14       839 0.016412661  853 <leaf> leaf\n",
       "6  0.0180798  0.0180798004987531   9       385 0.022842640  394 <leaf> leaf\n",
       "7  0.0215827  0.0215827338129496   2       105 0.018691589  107 <leaf> leaf\n",
       "8  0.0256410  0.0256410256410256   0         8 0.000000000    8 <leaf> leaf\n",
       "9  0.0264151  0.0264150943396226   2        69 0.028169014   71 <leaf> leaf\n",
       "10 0.0373298  0.0373298199385156  15       540 0.027027027  555 <leaf> leaf\n",
       "11 0.0441176  0.0441176470588235   1        25 0.038461538   26 <leaf> leaf\n",
       "12 0.0444444  0.0444444444444444   0         6 0.000000000    6 <leaf> leaf\n",
       "13 0.0752688  0.0752688172043011   1        20 0.047619048   21 <leaf> leaf\n",
       "14 0.0792507  0.0792507204610951   4       181 0.021621622  185 <leaf> leaf\n",
       "15 0.1119048  0.111904761904762   12        92 0.115384615  104 <leaf> leaf\n",
       "16 0.1320755  0.132075471698113    0        13 0.000000000   13 <leaf> leaf\n",
       "17 0.1363636  0.136363636363636    2        17 0.105263158   19 <leaf> leaf\n",
       "18 0.1388889  0.138888888888889    1         8 0.111111111    9 <leaf> leaf\n",
       "19 0.1587302  0.158730158730159    3        21 0.125000000   24 <leaf> leaf\n",
       "20 0.1698113  0.169811320754717    1         9 0.100000000   10 <leaf> leaf\n",
       "21 0.2083333  0.208333333333333    8        25 0.242424242   33 <leaf> leaf\n",
       "22 0.2592593  0.259259259259259    0         5 0.000000000    5 <leaf> leaf\n",
       "23 0.5217391  0.521739130434783    5        11 0.312500000   16 <leaf> leaf\n",
       "24 0.5294118  0.529411764705882    0         4 0.000000000    4 <leaf> leaf\n",
       "25 0.5500000  0.55                 0         4 0.000000000    4 <leaf> leaf\n",
       "26 0.5714286  0.571428571428571    1         7 0.125000000    8 <leaf> leaf\n",
       "27 0.5882353  0.588235294117647    1         8 0.111111111    9 <leaf> leaf\n",
       "28 0.6250000  0.625                2         3 0.400000000    5 <leaf> leaf\n",
       "29 0.6666667  0.666666666666667    7         7 0.500000000   14 <leaf> leaf\n",
       "   lift def_cumulato tot_cumulato td_cumulato\n",
       "1   0.3  15          3542         0.004234896\n",
       "2   4.5  18          3584         0.005022321\n",
       "3   0.3  19          3799         0.005001316\n",
       "4   0.4  25          4726         0.005289886\n",
       "5   1.0  39          5579         0.006990500\n",
       "6   1.4  48          5973         0.008036163\n",
       "7   1.2  50          6080         0.008223684\n",
       "8   0.0  50          6088         0.008212878\n",
       "9   1.8  52          6159         0.008442929\n",
       "10  1.7  67          6714         0.009979148\n",
       "11  2.4  68          6740         0.010089021\n",
       "12  0.0  68          6746         0.010080047\n",
       "13  3.0  69          6767         0.010196542\n",
       "14  1.3  73          6952         0.010500575\n",
       "15  7.2  85          7056         0.012046485\n",
       "16  0.0  85          7069         0.012024332\n",
       "17  6.6  87          7088         0.012274266\n",
       "18  6.9  88          7097         0.012399605\n",
       "19  7.8  91          7121         0.012779104\n",
       "20  6.2  92          7131         0.012901416\n",
       "21 15.1 100          7164         0.013958682\n",
       "22  0.0 100          7169         0.013948947\n",
       "23 19.5 105          7185         0.014613779\n",
       "24  0.0 105          7189         0.014605648\n",
       "25  0.0 105          7193         0.014597525\n",
       "26  7.8 106          7201         0.014720178\n",
       "27  6.9 107          7210         0.014840499\n",
       "28 24.9 109          7215         0.015107415\n",
       "29 31.2 116          7229         0.016046479"
      ]
     },
     "metadata": {},
     "output_type": "display_data"
    }
   ],
   "source": [
    "dt_tree[type != 'other',]"
   ]
  },
  {
   "cell_type": "code",
   "execution_count": 229,
   "id": "interpreted-connectivity",
   "metadata": {},
   "outputs": [],
   "source": [
    "soglia_vg <- 0.02\n",
    "soglia_gr <- 0.05"
   ]
  },
  {
   "cell_type": "code",
   "execution_count": 230,
   "id": "basic-profit",
   "metadata": {},
   "outputs": [
    {
     "name": "stdout",
     "output_type": "stream",
     "text": [
      "                               soglia DEFAULT   OK  tot  perc sample_perc\n",
      "1:                   pred_vpc <= 0.02      48 5925 5973 0.804      82.626\n",
      "2: pred_vpc <= 0.05 & pred_vpc > 0.02      20  753  773 2.587      10.693\n",
      "3:                    pred_vpc > 0.05      48  435  483 9.938       6.681\n",
      "   colore\n",
      "1:  VERDE\n",
      "2: GIALLO\n",
      "3:  ROSSO\n"
     ]
    },
    {
     "data": {
      "text/html": [
       "<table class=\"dataframe\">\n",
       "<caption>A data.table: 3 × 12</caption>\n",
       "<thead>\n",
       "\t<tr><th scope=col>colore</th><th scope=col>soglia</th><th scope=col>DEFAULT.x</th><th scope=col>OK.x</th><th scope=col>tot</th><th scope=col>perc</th><th scope=col>sample_perc.x</th><th scope=col>DEFAULT.y</th><th scope=col>OK.y</th><th scope=col>old_tot</th><th scope=col>old_td</th><th scope=col>sample_perc.y</th></tr>\n",
       "\t<tr><th scope=col>&lt;chr&gt;</th><th scope=col>&lt;chr&gt;</th><th scope=col>&lt;int&gt;</th><th scope=col>&lt;int&gt;</th><th scope=col>&lt;int&gt;</th><th scope=col>&lt;dbl&gt;</th><th scope=col>&lt;dbl&gt;</th><th scope=col>&lt;int&gt;</th><th scope=col>&lt;int&gt;</th><th scope=col>&lt;int&gt;</th><th scope=col>&lt;dbl&gt;</th><th scope=col>&lt;dbl&gt;</th></tr>\n",
       "</thead>\n",
       "<tbody>\n",
       "\t<tr><td>GIALLO</td><td>pred_vpc &lt;= 0.05 &amp; pred_vpc &gt; 0.02</td><td>20</td><td> 753</td><td> 773</td><td>2.587</td><td>10.693</td><td>38</td><td>3048</td><td>3086</td><td>1.231</td><td>42.689</td></tr>\n",
       "\t<tr><td>ROSSO </td><td><span style=white-space:pre-wrap>pred_vpc &gt; 0.05                   </span></td><td>48</td><td> 435</td><td> 483</td><td>9.938</td><td> 6.681</td><td>26</td><td> 664</td><td> 690</td><td>3.768</td><td> 9.545</td></tr>\n",
       "\t<tr><td>VERDE </td><td><span style=white-space:pre-wrap>pred_vpc &lt;= 0.02                  </span></td><td>48</td><td>5925</td><td>5973</td><td>0.804</td><td>82.626</td><td>52</td><td>3401</td><td>3453</td><td>1.506</td><td>47.766</td></tr>\n",
       "</tbody>\n",
       "</table>\n"
      ],
      "text/latex": [
       "A data.table: 3 × 12\n",
       "\\begin{tabular}{llllllllllll}\n",
       " colore & soglia & DEFAULT.x & OK.x & tot & perc & sample\\_perc.x & DEFAULT.y & OK.y & old\\_tot & old\\_td & sample\\_perc.y\\\\\n",
       " <chr> & <chr> & <int> & <int> & <int> & <dbl> & <dbl> & <int> & <int> & <int> & <dbl> & <dbl>\\\\\n",
       "\\hline\n",
       "\t GIALLO & pred\\_vpc <= 0.05 \\& pred\\_vpc > 0.02 & 20 &  753 &  773 & 2.587 & 10.693 & 38 & 3048 & 3086 & 1.231 & 42.689\\\\\n",
       "\t ROSSO  & pred\\_vpc > 0.05                    & 48 &  435 &  483 & 9.938 &  6.681 & 26 &  664 &  690 & 3.768 &  9.545\\\\\n",
       "\t VERDE  & pred\\_vpc <= 0.02                   & 48 & 5925 & 5973 & 0.804 & 82.626 & 52 & 3401 & 3453 & 1.506 & 47.766\\\\\n",
       "\\end{tabular}\n"
      ],
      "text/markdown": [
       "\n",
       "A data.table: 3 × 12\n",
       "\n",
       "| colore &lt;chr&gt; | soglia &lt;chr&gt; | DEFAULT.x &lt;int&gt; | OK.x &lt;int&gt; | tot &lt;int&gt; | perc &lt;dbl&gt; | sample_perc.x &lt;dbl&gt; | DEFAULT.y &lt;int&gt; | OK.y &lt;int&gt; | old_tot &lt;int&gt; | old_td &lt;dbl&gt; | sample_perc.y &lt;dbl&gt; |\n",
       "|---|---|---|---|---|---|---|---|---|---|---|---|\n",
       "| GIALLO | pred_vpc &lt;= 0.05 &amp; pred_vpc &gt; 0.02 | 20 |  753 |  773 | 2.587 | 10.693 | 38 | 3048 | 3086 | 1.231 | 42.689 |\n",
       "| ROSSO  | pred_vpc &gt; 0.05                    | 48 |  435 |  483 | 9.938 |  6.681 | 26 |  664 |  690 | 3.768 |  9.545 |\n",
       "| VERDE  | pred_vpc &lt;= 0.02                   | 48 | 5925 | 5973 | 0.804 | 82.626 | 52 | 3401 | 3453 | 1.506 | 47.766 |\n",
       "\n"
      ],
      "text/plain": [
       "  colore soglia                             DEFAULT.x OK.x tot  perc \n",
       "1 GIALLO pred_vpc <= 0.05 & pred_vpc > 0.02 20         753  773 2.587\n",
       "2 ROSSO  pred_vpc > 0.05                    48         435  483 9.938\n",
       "3 VERDE  pred_vpc <= 0.02                   48        5925 5973 0.804\n",
       "  sample_perc.x DEFAULT.y OK.y old_tot old_td sample_perc.y\n",
       "1 10.693        38        3048 3086    1.231  42.689       \n",
       "2  6.681        26         664  690    3.768   9.545       \n",
       "3 82.626        52        3401 3453    1.506  47.766       "
      ]
     },
     "metadata": {},
     "output_type": "display_data"
    }
   ],
   "source": [
    "merge(table_soglie(dt_tree[type != 'other',],soglie = c(soglia_vg,soglia_gr)),\n",
    "      performance_oldvpc(dt_sample),\n",
    "      by = 'colore')\n",
    "      "
   ]
  },
  {
   "cell_type": "code",
   "execution_count": 231,
   "id": "direct-interaction",
   "metadata": {},
   "outputs": [
    {
     "data": {
      "text/html": [
       "2151"
      ],
      "text/latex": [
       "2151"
      ],
      "text/markdown": [
       "2151"
      ],
      "text/plain": [
       "[1] 2151"
      ]
     },
     "metadata": {},
     "output_type": "display_data"
    }
   ],
   "source": [
    "dt_sample_limsoc <- merge(dt_sample,\n",
    "                         dt_orig[,.(NUM_PRATICA, PROGRESS_PRATICA,`Colore - LIMITI SOCIETARI`)],\n",
    "                         by =c('NUM_PRATICA', 'PROGRESS_PRATICA'),\n",
    "                         all.x = TRUE)\n",
    "\n",
    "sum(table(dt_sample_limsoc[pred_vpc <= 0.02 & `Colore - LIMITI SOCIETARI` == \"GIALLO\" , ]$pred_vpc, useNA = 'always'))"
   ]
  },
  {
   "cell_type": "code",
   "execution_count": 232,
   "id": "curious-sudan",
   "metadata": {},
   "outputs": [
    {
     "data": {
      "text/plain": [
       "\n",
       "0.00380491179522657 0.00537634408602151 0.00676437429537768 0.00737170399773178 \n",
       "               1477                   8                  69                 328 \n",
       " 0.0139056831922612  0.0180798004987531  0.0215827338129496  0.0256410256410256 \n",
       "                201                  68                  46                   3 \n",
       " 0.0264150943396226  0.0373298199385156  0.0441176470588235  0.0444444444444444 \n",
       "                 23                 164                   7                   4 \n",
       " 0.0752688172043011  0.0792507204610951                <NA> \n",
       "                  5                  46                   0 "
      ]
     },
     "metadata": {},
     "output_type": "display_data"
    }
   ],
   "source": [
    "#dt_sample\n",
    "\n",
    "dt_sample_limsoc <- merge(dt_sample,\n",
    "                         dt_orig[,.(NUM_PRATICA, PROGRESS_PRATICA,`Colore - LIMITI SOCIETARI`)],\n",
    "                         by =c('NUM_PRATICA', 'PROGRESS_PRATICA'),\n",
    "                         all.x = TRUE)\n",
    "\n",
    "table(dt_sample_limsoc[pred_vpc <= 0.1 & `Colore - LIMITI SOCIETARI` == \"GIALLO\" , ]$pred_vpc, useNA = 'always')"
   ]
  },
  {
   "cell_type": "markdown",
   "id": "ceramic-tsunami",
   "metadata": {},
   "source": [
    "## performance"
   ]
  },
  {
   "cell_type": "code",
   "execution_count": 233,
   "id": "golden-leonard",
   "metadata": {},
   "outputs": [],
   "source": [
    "model_frame <- as.data.table(modello_nonsme$model$frame)\n",
    "model_frame[,type := 'leaf']\n",
    "model_frame[var != '<leaf>',type := 'other']\n",
    "\n",
    "dt_pred_tree <- merge(modello_nonsme$pred,unique(model_frame[type =='leaf',.(yval2.V4,type)]),by.x ='pred_vpc', by.y = 'yval2.V4', all.x = TRUE )\n"
   ]
  },
  {
   "cell_type": "code",
   "execution_count": 234,
   "id": "killing-sense",
   "metadata": {},
   "outputs": [
    {
     "data": {
      "text/html": [
       "7229"
      ],
      "text/latex": [
       "7229"
      ],
      "text/markdown": [
       "7229"
      ],
      "text/plain": [
       "[1] 7229"
      ]
     },
     "metadata": {},
     "output_type": "display_data"
    }
   ],
   "source": [
    "sum(modello_nonsme$tree_table$tot)"
   ]
  },
  {
   "cell_type": "code",
   "execution_count": 235,
   "id": "frozen-equivalent",
   "metadata": {},
   "outputs": [
    {
     "name": "stdout",
     "output_type": "stream",
     "text": [
      "[1] 0.7900511\n"
     ]
    },
    {
     "data": {
      "image/png": "[encoded data removed]",
      "text/plain": [
       "plot without title"
      ]
     },
     "metadata": {
      "image/png": {
       "height": 420,
       "width": 480
      }
     },
     "output_type": "display_data"
    }
   ],
   "source": [
    "\n",
    "\n",
    "pred_test <- prediction(predict(modello_nonsme$model, dt_pred_tree, type=\"prob\")[, 2], dt_pred_tree$target)\n",
    "\n",
    "auc_ROCR <- performance(pred_test, measure = \"auc\")\n",
    "print(auc_ROCR@y.values[[1]])\n",
    "\n",
    "# plot(performance(pred_test, measure = \"tpr\", x.measure = \"fpr\"),)\n",
    "# abline(0, 1, lty = 2)\n",
    "#png('plot_nonsme.jpg')\n",
    "plot(x = performance(pred_test, measure = \"tpr\", x.measure = \"fpr\")@x.values[[1]],y = performance(pred_test, measure = \"tpr\", x.measure = \"fpr\")@y.values[[1]],type=\"p\", pch = 16,col = 'forestgreen',ylab = 'True positive rate',xlab = 'False positive rate')\n",
    "abline(0,1, lty = 2)\n",
    "#dev.off()"
   ]
  },
  {
   "cell_type": "code",
   "execution_count": 281,
   "id": "variable-substance",
   "metadata": {},
   "outputs": [
    {
     "data": {
      "image/png": "[encoded data removed]",
      "text/plain": [
       "plot without title"
      ]
     },
     "metadata": {
      "image/png": {
       "height": 420,
       "width": 480
      }
     },
     "output_type": "display_data"
    }
   ],
   "source": [
    "require(pracma)\n",
    "\n",
    "rocvalues<-function(predictions, results, type=c(\"roc\",\"gain\")) {\n",
    "\ttype<-match.arg(type)\n",
    "\tindici<-order(predictions,decreasing=TRUE)\n",
    "\tvec<-results[indici]\n",
    "\ty<-cumsum(vec)/sum(results) #cumulative positive rate\n",
    "\tif (type==\"gain\") x<-seq_along(results)/length(results) else x<-cumsum(!vec)/sum(!vec) #percentage of sample\n",
    "\tritorno<-list(x=x,y=y)\n",
    "\tattr(ritorno,\"AUC\")<-trapz(x,y)\n",
    "\tritorno\n",
    "}\n",
    "\n",
    "test <- dt_sample\n",
    "test[,target2:=ifelse(target==\"DEFAULT\",1,0)]\n",
    "roc <-rocvalues(test$pred_vpc, test$target2,type = 'roc')\n",
    "\n",
    "\n",
    "rocDT<-data.table(x=roc$x, y=roc$y)\n",
    "plot(roc$x, roc$y, cex=.1, col='white',pch=15, xlab = 'FPR', ylab = 'TPR')\n",
    "\n",
    "fit4 <- lm(y~poly(x,4,raw=TRUE), data=rocDT)\n",
    "fit5 <- lm(y~poly(x,5,raw=TRUE), data=rocDT)\n",
    "fit6 <- lm(y~poly(x,6,raw=TRUE), data=rocDT)\n",
    "\n",
    "\n",
    "x_axis <- seq_along(test$target2)/length(test$target2)\n",
    "#lines(x_axis, predict(fit4, data.frame(x=x_axis)), col='green', lwd=2)\n",
    "lines(x_axis, predict(fit5, data.frame(x=x_axis)), col='forestgreen', lwd=2)\n",
    "#lines(x_axis, predict(fit6, data.frame(x=x_axis)), col='blue', lwd=2)\n",
    "abline(0,1, lty = 2)\n",
    "\n"
   ]
  },
  {
   "cell_type": "markdown",
   "id": "elect-explorer",
   "metadata": {},
   "source": [
    "### TEST OVERFITTING"
   ]
  },
  {
   "cell_type": "code",
   "execution_count": 236,
   "id": "amber-navigation",
   "metadata": {},
   "outputs": [
    {
     "data": {
      "text/html": [
       "28913"
      ],
      "text/latex": [
       "28913"
      ],
      "text/markdown": [
       "28913"
      ],
      "text/plain": [
       "[1] 28913"
      ]
     },
     "metadata": {},
     "output_type": "display_data"
    }
   ],
   "source": [
    "length(modello_nonsme$rows)"
   ]
  },
  {
   "cell_type": "code",
   "execution_count": null,
   "id": "surgical-strap",
   "metadata": {},
   "outputs": [],
   "source": []
  },
  {
   "cell_type": "code",
   "execution_count": 237,
   "id": "located-binary",
   "metadata": {},
   "outputs": [
    {
     "name": "stdout",
     "output_type": "stream",
     "text": [
      "[1] 0.8466418\n"
     ]
    },
    {
     "data": {
      "image/png": "[encoded data removed]",
      "text/plain": [
       "plot without title"
      ]
     },
     "metadata": {
      "image/png": {
       "height": 420,
       "width": 480
      }
     },
     "output_type": "display_data"
    }
   ],
   "source": [
    "train <-  master_modello_fill[flag_exante == 'NO',..cols_modello][modello_nonsme$rows,]\n",
    "\n",
    "pred_test <- prediction(predict(modello_nonsme$model, train, type=\"prob\")[, 2], train$target)\n",
    "\n",
    "auc_ROCR <- performance(pred_test, measure = \"auc\")\n",
    "print(auc_ROCR@y.values[[1]])\n",
    "\n",
    "# plot(performance(pred_test, measure = \"tpr\", x.measure = \"fpr\"),)\n",
    "# abline(0, 1, lty = 2)\n",
    "#png('plot_nonsme.jpg')\n",
    "plot(x = performance(pred_test, measure = \"tpr\", x.measure = \"fpr\")@x.values[[1]],y = performance(pred_test, measure = \"tpr\", x.measure = \"fpr\")@y.values[[1]],type=\"b\", pch = 16,col = 'forestgreen',ylab = 'True positive rate',xlab = 'False positive rate')\n",
    "abline(0,1, lty = 2)\n",
    "#dev.off()"
   ]
  },
  {
   "cell_type": "code",
   "execution_count": null,
   "id": "promotional-stylus",
   "metadata": {},
   "outputs": [],
   "source": []
  },
  {
   "cell_type": "code",
   "execution_count": null,
   "id": "interracial-referral",
   "metadata": {},
   "outputs": [],
   "source": []
  },
  {
   "cell_type": "markdown",
   "id": "increasing-robinson",
   "metadata": {},
   "source": [
    "## PERFORMANCE E LIMITI SOCIETARI"
   ]
  },
  {
   "cell_type": "code",
   "execution_count": 238,
   "id": "decent-context",
   "metadata": {},
   "outputs": [
    {
     "name": "stdout",
     "output_type": "stream",
     "text": [
      "                               soglia DEFAULT   OK  tot  perc sample_perc\n",
      "1:                   pred_vpc <= 0.02      48 5925 5973 0.804      82.626\n",
      "2: pred_vpc <= 0.05 & pred_vpc > 0.02      20  753  773 2.587      10.693\n",
      "3:                    pred_vpc > 0.05      48  435  483 9.938       6.681\n",
      "   colore\n",
      "1:  VERDE\n",
      "2: GIALLO\n",
      "3:  ROSSO\n"
     ]
    },
    {
     "data": {
      "text/html": [
       "<table class=\"dataframe\">\n",
       "<caption>A data.table: 3 × 6</caption>\n",
       "<thead>\n",
       "\t<tr><th scope=col>colore</th><th scope=col>old_default</th><th scope=col>old_ok</th><th scope=col>old_tot</th><th scope=col>old_td</th><th scope=col>sample_perc</th></tr>\n",
       "\t<tr><th scope=col>&lt;chr&gt;</th><th scope=col>&lt;int&gt;</th><th scope=col>&lt;int&gt;</th><th scope=col>&lt;int&gt;</th><th scope=col>&lt;dbl&gt;</th><th scope=col>&lt;dbl&gt;</th></tr>\n",
       "</thead>\n",
       "<tbody>\n",
       "\t<tr><td>VERDE </td><td>52</td><td>3401</td><td>3453</td><td>1.506</td><td>47.766</td></tr>\n",
       "\t<tr><td>GIALLO</td><td>38</td><td>3048</td><td>3086</td><td>1.231</td><td>42.689</td></tr>\n",
       "\t<tr><td>ROSSO </td><td>26</td><td> 664</td><td> 690</td><td>3.768</td><td> 9.545</td></tr>\n",
       "</tbody>\n",
       "</table>\n"
      ],
      "text/latex": [
       "A data.table: 3 × 6\n",
       "\\begin{tabular}{llllll}\n",
       " colore & old\\_default & old\\_ok & old\\_tot & old\\_td & sample\\_perc\\\\\n",
       " <chr> & <int> & <int> & <int> & <dbl> & <dbl>\\\\\n",
       "\\hline\n",
       "\t VERDE  & 52 & 3401 & 3453 & 1.506 & 47.766\\\\\n",
       "\t GIALLO & 38 & 3048 & 3086 & 1.231 & 42.689\\\\\n",
       "\t ROSSO  & 26 &  664 &  690 & 3.768 &  9.545\\\\\n",
       "\\end{tabular}\n"
      ],
      "text/markdown": [
       "\n",
       "A data.table: 3 × 6\n",
       "\n",
       "| colore &lt;chr&gt; | old_default &lt;int&gt; | old_ok &lt;int&gt; | old_tot &lt;int&gt; | old_td &lt;dbl&gt; | sample_perc &lt;dbl&gt; |\n",
       "|---|---|---|---|---|---|\n",
       "| VERDE  | 52 | 3401 | 3453 | 1.506 | 47.766 |\n",
       "| GIALLO | 38 | 3048 | 3086 | 1.231 | 42.689 |\n",
       "| ROSSO  | 26 |  664 |  690 | 3.768 |  9.545 |\n",
       "\n"
      ],
      "text/plain": [
       "  colore old_default old_ok old_tot old_td sample_perc\n",
       "1 VERDE  52          3401   3453    1.506  47.766     \n",
       "2 GIALLO 38          3048   3086    1.231  42.689     \n",
       "3 ROSSO  26           664    690    3.768   9.545     "
      ]
     },
     "metadata": {},
     "output_type": "display_data"
    },
    {
     "data": {
      "text/html": [
       "5973"
      ],
      "text/latex": [
       "5973"
      ],
      "text/markdown": [
       "5973"
      ],
      "text/plain": [
       "[1] 5973"
      ]
     },
     "metadata": {},
     "output_type": "display_data"
    },
    {
     "data": {
      "text/html": [
       "<table class=\"dataframe\">\n",
       "<caption>A data.table: 3 × 12</caption>\n",
       "<thead>\n",
       "\t<tr><th scope=col>colore</th><th scope=col>soglia</th><th scope=col>new_default</th><th scope=col>new_ok</th><th scope=col>new_tot</th><th scope=col>new_perc</th><th scope=col>sample_perc.x</th><th scope=col>old_default</th><th scope=col>old_ok</th><th scope=col>old_tot</th><th scope=col>old_td</th><th scope=col>sample_perc.y</th></tr>\n",
       "\t<tr><th scope=col>&lt;chr&gt;</th><th scope=col>&lt;chr&gt;</th><th scope=col>&lt;int&gt;</th><th scope=col>&lt;int&gt;</th><th scope=col>&lt;int&gt;</th><th scope=col>&lt;dbl&gt;</th><th scope=col>&lt;dbl&gt;</th><th scope=col>&lt;int&gt;</th><th scope=col>&lt;int&gt;</th><th scope=col>&lt;int&gt;</th><th scope=col>&lt;dbl&gt;</th><th scope=col>&lt;dbl&gt;</th></tr>\n",
       "</thead>\n",
       "<tbody>\n",
       "\t<tr><td>GIALLO</td><td>pred_vpc &lt;= 0.05 &amp; pred_vpc &gt; 0.02</td><td>20</td><td> 753</td><td> 773</td><td>2.587</td><td>10.693</td><td>38</td><td>3048</td><td>3086</td><td>1.231</td><td>42.689</td></tr>\n",
       "\t<tr><td>ROSSO </td><td><span style=white-space:pre-wrap>pred_vpc &gt; 0.05                   </span></td><td>48</td><td> 435</td><td> 483</td><td>9.938</td><td> 6.681</td><td>26</td><td> 664</td><td> 690</td><td>3.768</td><td> 9.545</td></tr>\n",
       "\t<tr><td>VERDE </td><td><span style=white-space:pre-wrap>pred_vpc &lt;= 0.02                  </span></td><td>48</td><td>5925</td><td>5973</td><td>0.804</td><td>82.626</td><td>52</td><td>3401</td><td>3453</td><td>1.506</td><td>47.766</td></tr>\n",
       "</tbody>\n",
       "</table>\n"
      ],
      "text/latex": [
       "A data.table: 3 × 12\n",
       "\\begin{tabular}{llllllllllll}\n",
       " colore & soglia & new\\_default & new\\_ok & new\\_tot & new\\_perc & sample\\_perc.x & old\\_default & old\\_ok & old\\_tot & old\\_td & sample\\_perc.y\\\\\n",
       " <chr> & <chr> & <int> & <int> & <int> & <dbl> & <dbl> & <int> & <int> & <int> & <dbl> & <dbl>\\\\\n",
       "\\hline\n",
       "\t GIALLO & pred\\_vpc <= 0.05 \\& pred\\_vpc > 0.02 & 20 &  753 &  773 & 2.587 & 10.693 & 38 & 3048 & 3086 & 1.231 & 42.689\\\\\n",
       "\t ROSSO  & pred\\_vpc > 0.05                    & 48 &  435 &  483 & 9.938 &  6.681 & 26 &  664 &  690 & 3.768 &  9.545\\\\\n",
       "\t VERDE  & pred\\_vpc <= 0.02                   & 48 & 5925 & 5973 & 0.804 & 82.626 & 52 & 3401 & 3453 & 1.506 & 47.766\\\\\n",
       "\\end{tabular}\n"
      ],
      "text/markdown": [
       "\n",
       "A data.table: 3 × 12\n",
       "\n",
       "| colore &lt;chr&gt; | soglia &lt;chr&gt; | new_default &lt;int&gt; | new_ok &lt;int&gt; | new_tot &lt;int&gt; | new_perc &lt;dbl&gt; | sample_perc.x &lt;dbl&gt; | old_default &lt;int&gt; | old_ok &lt;int&gt; | old_tot &lt;int&gt; | old_td &lt;dbl&gt; | sample_perc.y &lt;dbl&gt; |\n",
       "|---|---|---|---|---|---|---|---|---|---|---|---|\n",
       "| GIALLO | pred_vpc &lt;= 0.05 &amp; pred_vpc &gt; 0.02 | 20 |  753 |  773 | 2.587 | 10.693 | 38 | 3048 | 3086 | 1.231 | 42.689 |\n",
       "| ROSSO  | pred_vpc &gt; 0.05                    | 48 |  435 |  483 | 9.938 |  6.681 | 26 |  664 |  690 | 3.768 |  9.545 |\n",
       "| VERDE  | pred_vpc &lt;= 0.02                   | 48 | 5925 | 5973 | 0.804 | 82.626 | 52 | 3401 | 3453 | 1.506 | 47.766 |\n",
       "\n"
      ],
      "text/plain": [
       "  colore soglia                             new_default new_ok new_tot new_perc\n",
       "1 GIALLO pred_vpc <= 0.05 & pred_vpc > 0.02 20           753    773    2.587   \n",
       "2 ROSSO  pred_vpc > 0.05                    48           435    483    9.938   \n",
       "3 VERDE  pred_vpc <= 0.02                   48          5925   5973    0.804   \n",
       "  sample_perc.x old_default old_ok old_tot old_td sample_perc.y\n",
       "1 10.693        38          3048   3086    1.231  42.689       \n",
       "2  6.681        26           664    690    3.768   9.545       \n",
       "3 82.626        52          3401   3453    1.506  47.766       "
      ]
     },
     "metadata": {},
     "output_type": "display_data"
    },
    {
     "data": {
      "text/html": [
       "<table class=\"dataframe\">\n",
       "<caption>A data.table: 3 × 13</caption>\n",
       "<thead>\n",
       "\t<tr><th scope=col>colore</th><th scope=col>soglia</th><th scope=col>new_default</th><th scope=col>new_ok</th><th scope=col>new_tot</th><th scope=col>new_perc</th><th scope=col>sample_perc.x</th><th scope=col>old_default</th><th scope=col>old_ok</th><th scope=col>old_tot</th><th scope=col>old_td</th><th scope=col>sample_perc.y</th><th scope=col>old_perc</th></tr>\n",
       "\t<tr><th scope=col>&lt;chr&gt;</th><th scope=col>&lt;chr&gt;</th><th scope=col>&lt;int&gt;</th><th scope=col>&lt;int&gt;</th><th scope=col>&lt;int&gt;</th><th scope=col>&lt;dbl&gt;</th><th scope=col>&lt;dbl&gt;</th><th scope=col>&lt;int&gt;</th><th scope=col>&lt;int&gt;</th><th scope=col>&lt;int&gt;</th><th scope=col>&lt;dbl&gt;</th><th scope=col>&lt;dbl&gt;</th><th scope=col>&lt;dbl&gt;</th></tr>\n",
       "</thead>\n",
       "<tbody>\n",
       "\t<tr><td>GIALLO</td><td>pred_vpc &lt;= 0.05 &amp; pred_vpc &gt; 0.02</td><td>27</td><td>2689</td><td>2716</td><td>0.99</td><td>10.693</td><td>22</td><td>2407</td><td>2429</td><td>1.231</td><td>42.689</td><td>0.91</td></tr>\n",
       "\t<tr><td>ROSSO </td><td><span style=white-space:pre-wrap>pred_vpc &gt; 0.05                   </span></td><td>61</td><td> 798</td><td> 859</td><td>7.10</td><td> 6.681</td><td>26</td><td> 664</td><td> 690</td><td>3.768</td><td> 9.545</td><td>3.77</td></tr>\n",
       "\t<tr><td>VERDE </td><td><span style=white-space:pre-wrap>pred_vpc &lt;= 0.02                  </span></td><td>28</td><td>3626</td><td>3654</td><td>0.77</td><td>82.626</td><td>52</td><td>3401</td><td>3453</td><td>1.506</td><td>47.766</td><td>1.51</td></tr>\n",
       "</tbody>\n",
       "</table>\n"
      ],
      "text/latex": [
       "A data.table: 3 × 13\n",
       "\\begin{tabular}{lllllllllllll}\n",
       " colore & soglia & new\\_default & new\\_ok & new\\_tot & new\\_perc & sample\\_perc.x & old\\_default & old\\_ok & old\\_tot & old\\_td & sample\\_perc.y & old\\_perc\\\\\n",
       " <chr> & <chr> & <int> & <int> & <int> & <dbl> & <dbl> & <int> & <int> & <int> & <dbl> & <dbl> & <dbl>\\\\\n",
       "\\hline\n",
       "\t GIALLO & pred\\_vpc <= 0.05 \\& pred\\_vpc > 0.02 & 27 & 2689 & 2716 & 0.99 & 10.693 & 22 & 2407 & 2429 & 1.231 & 42.689 & 0.91\\\\\n",
       "\t ROSSO  & pred\\_vpc > 0.05                    & 61 &  798 &  859 & 7.10 &  6.681 & 26 &  664 &  690 & 3.768 &  9.545 & 3.77\\\\\n",
       "\t VERDE  & pred\\_vpc <= 0.02                   & 28 & 3626 & 3654 & 0.77 & 82.626 & 52 & 3401 & 3453 & 1.506 & 47.766 & 1.51\\\\\n",
       "\\end{tabular}\n"
      ],
      "text/markdown": [
       "\n",
       "A data.table: 3 × 13\n",
       "\n",
       "| colore &lt;chr&gt; | soglia &lt;chr&gt; | new_default &lt;int&gt; | new_ok &lt;int&gt; | new_tot &lt;int&gt; | new_perc &lt;dbl&gt; | sample_perc.x &lt;dbl&gt; | old_default &lt;int&gt; | old_ok &lt;int&gt; | old_tot &lt;int&gt; | old_td &lt;dbl&gt; | sample_perc.y &lt;dbl&gt; | old_perc &lt;dbl&gt; |\n",
       "|---|---|---|---|---|---|---|---|---|---|---|---|---|\n",
       "| GIALLO | pred_vpc &lt;= 0.05 &amp; pred_vpc &gt; 0.02 | 27 | 2689 | 2716 | 0.99 | 10.693 | 22 | 2407 | 2429 | 1.231 | 42.689 | 0.91 |\n",
       "| ROSSO  | pred_vpc &gt; 0.05                    | 61 |  798 |  859 | 7.10 |  6.681 | 26 |  664 |  690 | 3.768 |  9.545 | 3.77 |\n",
       "| VERDE  | pred_vpc &lt;= 0.02                   | 28 | 3626 | 3654 | 0.77 | 82.626 | 52 | 3401 | 3453 | 1.506 | 47.766 | 1.51 |\n",
       "\n"
      ],
      "text/plain": [
       "  colore soglia                             new_default new_ok new_tot new_perc\n",
       "1 GIALLO pred_vpc <= 0.05 & pred_vpc > 0.02 27          2689   2716    0.99    \n",
       "2 ROSSO  pred_vpc > 0.05                    61           798    859    7.10    \n",
       "3 VERDE  pred_vpc <= 0.02                   28          3626   3654    0.77    \n",
       "  sample_perc.x old_default old_ok old_tot old_td sample_perc.y old_perc\n",
       "1 10.693        22          2407   2429    1.231  42.689        0.91    \n",
       "2  6.681        26           664    690    3.768   9.545        3.77    \n",
       "3 82.626        52          3401   3453    1.506  47.766        1.51    "
      ]
     },
     "metadata": {},
     "output_type": "display_data"
    },
    {
     "data": {
      "text/html": [
       "<table class=\"dataframe\">\n",
       "<caption>A data.table: 3 × 13</caption>\n",
       "<thead>\n",
       "\t<tr><th scope=col>colore</th><th scope=col>soglia</th><th scope=col>new_default</th><th scope=col>new_ok</th><th scope=col>new_tot</th><th scope=col>new_perc</th><th scope=col>sample_perc.x</th><th scope=col>old_default</th><th scope=col>old_ok</th><th scope=col>old_tot</th><th scope=col>old_td</th><th scope=col>sample_perc.y</th><th scope=col>old_perc</th></tr>\n",
       "\t<tr><th scope=col>&lt;chr&gt;</th><th scope=col>&lt;chr&gt;</th><th scope=col>&lt;int&gt;</th><th scope=col>&lt;int&gt;</th><th scope=col>&lt;int&gt;</th><th scope=col>&lt;dbl&gt;</th><th scope=col>&lt;dbl&gt;</th><th scope=col>&lt;int&gt;</th><th scope=col>&lt;int&gt;</th><th scope=col>&lt;int&gt;</th><th scope=col>&lt;dbl&gt;</th><th scope=col>&lt;dbl&gt;</th><th scope=col>&lt;dbl&gt;</th></tr>\n",
       "</thead>\n",
       "<tbody>\n",
       "\t<tr><td>GIALLO</td><td>pred_vpc &lt;= 0.05 &amp; pred_vpc &gt; 0.02</td><td>20</td><td>1941</td><td>1961</td><td>1.02</td><td>10.693</td><td>27</td><td>2639</td><td>2666</td><td>1.231</td><td>42.689</td><td>1.01</td></tr>\n",
       "\t<tr><td>ROSSO </td><td><span style=white-space:pre-wrap>pred_vpc &gt; 0.05                   </span></td><td>67</td><td> 899</td><td> 966</td><td>6.94</td><td> 6.681</td><td>22</td><td> 646</td><td> 668</td><td>3.768</td><td> 9.545</td><td>3.29</td></tr>\n",
       "\t<tr><td>VERDE </td><td><span style=white-space:pre-wrap>pred_vpc &lt;= 0.02                  </span></td><td>29</td><td>4273</td><td>4302</td><td>0.67</td><td>82.626</td><td>51</td><td>3187</td><td>3238</td><td>1.506</td><td>47.766</td><td>1.58</td></tr>\n",
       "</tbody>\n",
       "</table>\n"
      ],
      "text/latex": [
       "A data.table: 3 × 13\n",
       "\\begin{tabular}{lllllllllllll}\n",
       " colore & soglia & new\\_default & new\\_ok & new\\_tot & new\\_perc & sample\\_perc.x & old\\_default & old\\_ok & old\\_tot & old\\_td & sample\\_perc.y & old\\_perc\\\\\n",
       " <chr> & <chr> & <int> & <int> & <int> & <dbl> & <dbl> & <int> & <int> & <int> & <dbl> & <dbl> & <dbl>\\\\\n",
       "\\hline\n",
       "\t GIALLO & pred\\_vpc <= 0.05 \\& pred\\_vpc > 0.02 & 20 & 1941 & 1961 & 1.02 & 10.693 & 27 & 2639 & 2666 & 1.231 & 42.689 & 1.01\\\\\n",
       "\t ROSSO  & pred\\_vpc > 0.05                    & 67 &  899 &  966 & 6.94 &  6.681 & 22 &  646 &  668 & 3.768 &  9.545 & 3.29\\\\\n",
       "\t VERDE  & pred\\_vpc <= 0.02                   & 29 & 4273 & 4302 & 0.67 & 82.626 & 51 & 3187 & 3238 & 1.506 & 47.766 & 1.58\\\\\n",
       "\\end{tabular}\n"
      ],
      "text/markdown": [
       "\n",
       "A data.table: 3 × 13\n",
       "\n",
       "| colore &lt;chr&gt; | soglia &lt;chr&gt; | new_default &lt;int&gt; | new_ok &lt;int&gt; | new_tot &lt;int&gt; | new_perc &lt;dbl&gt; | sample_perc.x &lt;dbl&gt; | old_default &lt;int&gt; | old_ok &lt;int&gt; | old_tot &lt;int&gt; | old_td &lt;dbl&gt; | sample_perc.y &lt;dbl&gt; | old_perc &lt;dbl&gt; |\n",
       "|---|---|---|---|---|---|---|---|---|---|---|---|---|\n",
       "| GIALLO | pred_vpc &lt;= 0.05 &amp; pred_vpc &gt; 0.02 | 20 | 1941 | 1961 | 1.02 | 10.693 | 27 | 2639 | 2666 | 1.231 | 42.689 | 1.01 |\n",
       "| ROSSO  | pred_vpc &gt; 0.05                    | 67 |  899 |  966 | 6.94 |  6.681 | 22 |  646 |  668 | 3.768 |  9.545 | 3.29 |\n",
       "| VERDE  | pred_vpc &lt;= 0.02                   | 29 | 4273 | 4302 | 0.67 | 82.626 | 51 | 3187 | 3238 | 1.506 | 47.766 | 1.58 |\n",
       "\n"
      ],
      "text/plain": [
       "  colore soglia                             new_default new_ok new_tot new_perc\n",
       "1 GIALLO pred_vpc <= 0.05 & pred_vpc > 0.02 20          1941   1961    1.02    \n",
       "2 ROSSO  pred_vpc > 0.05                    67           899    966    6.94    \n",
       "3 VERDE  pred_vpc <= 0.02                   29          4273   4302    0.67    \n",
       "  sample_perc.x old_default old_ok old_tot old_td sample_perc.y old_perc\n",
       "1 10.693        27          2639   2666    1.231  42.689        1.01    \n",
       "2  6.681        22           646    668    3.768   9.545        3.29    \n",
       "3 82.626        51          3187   3238    1.506  47.766        1.58    "
      ]
     },
     "metadata": {},
     "output_type": "display_data"
    }
   ],
   "source": [
    "dt_sample_small <- merge(dt_sample[,.(ESITO_FINALE_VPC,pred_vpc,target,NUM_PRATICA, PROGRESS_PRATICA)],\n",
    "                         master_modello[,.(NUM_PRATICA,PROGRESS_PRATICA,DSI_importo_fido_richiesto, DSI_sab,RAT_classe_rating_filt)],\n",
    "                         by = c('NUM_PRATICA','PROGRESS_PRATICA'),\n",
    "                         all.x = TRUE)\n",
    "\n",
    "dt_sample_small[, col_new_vpc := \"giallo\"]\n",
    "dt_sample_small[pred_vpc <= soglia_vg, col_new_vpc := \"verde\"]\n",
    "dt_sample_small[pred_vpc > soglia_gr, col_new_vpc := \"rosso\"]\n",
    "\n",
    "tab_perf <- table_soglie(dt_tree[type != 'other',],soglie = c(soglia_vg,soglia_gr))\n",
    "setnames(tab_perf, c('DEFAULT',\"OK\",\"tot\",\"perc\"),paste0(\"new_\", c('default',\"ok\",\"tot\",\"perc\"))) \n",
    "\n",
    "old_perf <-  performance_oldvpc(dt_sample)\n",
    "setnames(old_perf, c('DEFAULT',\"OK\"),paste0(\"old_\", c('default',\"ok\"))) \n",
    "old_perf\n",
    "\n",
    "nrow(dt_sample_small[col_new_vpc == 'verde',])\n",
    "\n",
    "perf_raw <- merge(tab_perf,\n",
    "      old_perf,\n",
    "      by = 'colore')\n",
    "perf_raw\n",
    "\n",
    "dt_sample_limsoc <- merge(dt_sample_small,\n",
    "                         dt_orig[,.(NUM_PRATICA, PROGRESS_PRATICA,LIMITE_MAX,`Esito - LIMITI SOCIETARI`,`Colore - LIMITI SOCIETARI`, `Esito_final_giallo e Monocontrollo_giallo`)],\n",
    "                         by =c('NUM_PRATICA', 'PROGRESS_PRATICA'),\n",
    "                         all.x = TRUE)\n",
    "\n",
    "### NUOVI LIMITI SOCIETARI\n",
    "\n",
    "dt_sample_limsoc[,new_limiti := LIMITE_MAX]\n",
    "dt_sample_limsoc[grepl(\"I\",RAT_classe_rating_filt),new_limiti := 500000]\n",
    "\n",
    "dt_sample_limsoc[DSI_importo_fido_richiesto >new_limiti ,new_col_limiti := \"GIALLO\"]\n",
    "dt_sample_limsoc[DSI_importo_fido_richiesto <= new_limiti ,new_col_limiti := \"VERDE\"]\n",
    "dt_sample_limsoc[LIMITE_MAX == 0 ,new_col_limiti := \"ROSSO\"]\n",
    "dt_sample_limsoc[DSI_importo_fido_richiesto == 0 ,new_col_limiti := \"VERDE\"]\n",
    "dt_sample_limsoc[grepl(\"R\",RAT_classe_rating_filt) & RAT_classe_rating_filt!= 'UR',new_col_limiti := \"ROSSO\"]\n",
    "\n",
    "\n",
    "perf_ls <- copy(perf_raw)\n",
    "\n",
    "perf_ls[colore == \"GIALLO\", \n",
    "        old_default := old_default - (nrow(dt_sample_limsoc[grepl('LIMITI',`Esito_final_giallo e Monocontrollo_giallo`) & target == \"DEFAULT\",]))]\n",
    "\n",
    "perf_ls[colore == \"GIALLO\", old_ok := old_ok - (nrow(dt_sample_limsoc[grepl('LIMITI',`Esito_final_giallo e Monocontrollo_giallo`) & target == \"OK\",]))]\n",
    "\n",
    "perf_ls[,old_tot := old_default+old_ok]\n",
    "\n",
    "perf_ls[,old_perc := round(100*old_default/old_tot,2)]\n",
    "\n",
    "new_g_da_v_ok <- nrow(dt_sample_limsoc[col_new_vpc == 'verde' &`Colore - LIMITI SOCIETARI` == \"GIALLO\" & target == \"OK\",])\n",
    "\n",
    "new_g_da_v_default<- nrow(dt_sample_limsoc[col_new_vpc == 'verde' &`Colore - LIMITI SOCIETARI` == \"GIALLO\" & target == \"DEFAULT\",])\n",
    "\n",
    "new_r_da_v_ok<- nrow(dt_sample_limsoc[col_new_vpc == 'verde' &`Colore - LIMITI SOCIETARI` == \"ROSSO\" & target == \"OK\",])\n",
    "\n",
    "new_r_da_v_default<- nrow(dt_sample_limsoc[col_new_vpc == 'verde' &`Colore - LIMITI SOCIETARI` == \"ROSSO\" & target == \"DEFAULT\",])\n",
    "\n",
    "new_r_da_g_ok<- nrow(dt_sample_limsoc[col_new_vpc == 'giallo' &`Colore - LIMITI SOCIETARI` == \"ROSSO\" & target == \"OK\",])\n",
    "\n",
    "new_r_da_g_default<- nrow(dt_sample_limsoc[col_new_vpc == 'giallo' &`Colore - LIMITI SOCIETARI` == \"ROSSO\" & target == \"DEFAULT\",])\n",
    "\n",
    "perf_ls[colore == \"GIALLO\", new_default := new_default -new_r_da_g_default + new_g_da_v_default]\n",
    "perf_ls[colore == \"GIALLO\", new_ok := new_ok - new_r_da_g_ok + new_g_da_v_ok]\n",
    "\n",
    "perf_ls[colore == \"VERDE\", new_default := new_default - new_r_da_v_default - new_g_da_v_default]\n",
    "perf_ls[colore == \"VERDE\", new_ok := new_ok  - new_r_da_v_ok - new_g_da_v_ok ]\n",
    "\n",
    "perf_ls[colore == \"ROSSO\", new_default := new_default  + new_r_da_g_default + new_r_da_v_default]\n",
    "perf_ls[colore == \"ROSSO\", new_ok := new_ok + new_r_da_g_ok + new_r_da_v_ok ]\n",
    "\n",
    "perf_ls[,new_tot := new_default+new_ok]\n",
    "perf_ls[,new_perc := round(100*new_default/new_tot,2)]\n",
    "\n",
    "perf_ls\n",
    "\n",
    "perf_new_ls <- copy(perf_raw)\n",
    "\n",
    "perf_new_ls[colore == \"GIALLO\", \n",
    "        old_default := old_default - (nrow(dt_sample_limsoc[grepl('LIMITI',`Esito_final_giallo e Monocontrollo_giallo`) & target == \"DEFAULT\" & new_col_limiti == \"GIALLO\",]))]\n",
    "\n",
    "perf_new_ls[colore == \"GIALLO\", old_ok := old_ok - (nrow(dt_sample_limsoc[grepl('LIMITI',`Esito_final_giallo e Monocontrollo_giallo`) & new_col_limiti == \"GIALLO\" & target == \"OK\",]))]\n",
    "\n",
    "\n",
    "perf_new_ls[colore == \"VERDE\", \n",
    "        old_default := old_default - (nrow(dt_sample_limsoc[grepl('LIMITI',`Esito_final_giallo e Monocontrollo_giallo`) & target == \"DEFAULT\" & new_col_limiti == \"VERDE\",]))]\n",
    "\n",
    "perf_new_ls[colore == \"VERDE\", old_ok := old_ok - (nrow(dt_sample_limsoc[grepl('LIMITI',`Esito_final_giallo e Monocontrollo_giallo`) & new_col_limiti == \"VERDE\" & target == \"OK\",]))]\n",
    "\n",
    "\n",
    "perf_new_ls[colore == \"ROSSO\", \n",
    "        old_default := old_default - (nrow(dt_sample_limsoc[grepl('LIMITI',`Esito_final_giallo e Monocontrollo_giallo`) & target == \"DEFAULT\" & new_col_limiti == \"ROSSO\",]))]\n",
    "\n",
    "perf_new_ls[colore == \"ROSSO\", old_ok := old_ok - (nrow(dt_sample_limsoc[grepl('LIMITI',`Esito_final_giallo e Monocontrollo_giallo`) & new_col_limiti == \"ROSSO\" & target == \"OK\",]))]\n",
    "\n",
    "\n",
    "\n",
    "perf_new_ls[,old_tot := old_default+old_ok]\n",
    "\n",
    "perf_new_ls[,old_perc := round(100*old_default/old_tot,2)]\n",
    "\n",
    "new_g_da_v_ok <- nrow(dt_sample_limsoc[col_new_vpc == 'verde' & new_col_limiti == \"GIALLO\" & target == \"OK\",])\n",
    "\n",
    "new_g_da_v_default<- nrow(dt_sample_limsoc[col_new_vpc == 'verde' & new_col_limiti == \"GIALLO\" & target == \"DEFAULT\",])\n",
    "\n",
    "new_r_da_v_ok<- nrow(dt_sample_limsoc[col_new_vpc == 'verde' & new_col_limiti == \"ROSSO\" & target == \"OK\",])\n",
    "\n",
    "new_r_da_v_default<- nrow(dt_sample_limsoc[col_new_vpc == 'verde' & new_col_limiti == \"ROSSO\" & target == \"DEFAULT\",])\n",
    "\n",
    "new_r_da_g_ok<- nrow(dt_sample_limsoc[col_new_vpc == 'giallo' & new_col_limiti == \"ROSSO\" & target == \"OK\",])\n",
    "\n",
    "new_r_da_g_default<- nrow(dt_sample_limsoc[col_new_vpc == 'giallo' & new_col_limiti == \"ROSSO\" & target == \"DEFAULT\",])\n",
    "\n",
    "perf_new_ls[colore == \"GIALLO\", new_default := new_default -new_r_da_g_default + new_g_da_v_default]\n",
    "perf_new_ls[colore == \"GIALLO\", new_ok := new_ok - new_r_da_g_ok + new_g_da_v_ok]\n",
    "\n",
    "perf_new_ls[colore == \"VERDE\", new_default := new_default - new_r_da_v_default - new_g_da_v_default]\n",
    "perf_new_ls[colore == \"VERDE\", new_ok := new_ok  - new_r_da_v_ok - new_g_da_v_ok ]\n",
    "\n",
    "perf_new_ls[colore == \"ROSSO\", new_default := new_default  + new_r_da_g_default + new_r_da_v_default]\n",
    "perf_new_ls[colore == \"ROSSO\", new_ok := new_ok + new_r_da_g_ok + new_r_da_v_ok ]\n",
    "\n",
    "perf_new_ls[,new_tot := new_default+new_ok]\n",
    "perf_new_ls[,new_perc := round(100*new_default/new_tot,2)]\n",
    "\n",
    "perf_new_ls"
   ]
  },
  {
   "cell_type": "code",
   "execution_count": 239,
   "id": "fourth-layout",
   "metadata": {},
   "outputs": [
    {
     "data": {
      "text/html": [
       "<style>\n",
       ".list-inline {list-style: none; margin:0; padding: 0}\n",
       ".list-inline>li {display: inline-block}\n",
       ".list-inline>li:not(:last-child)::after {content: \"\\00b7\"; padding: 0 .5ex}\n",
       "</style>\n",
       "<ol class=list-inline><li>'NUM_PRATICA'</li><li>'PROGRESS_PRATICA'</li><li>'ESITO_FINALE_VPC'</li><li>'pred_vpc'</li><li>'target'</li><li>'DSI_importo_fido_richiesto'</li><li>'DSI_sab'</li><li>'RAT_classe_rating_filt'</li><li>'col_new_vpc'</li><li>'LIMITE_MAX'</li><li>'Esito - LIMITI SOCIETARI'</li><li>'Colore - LIMITI SOCIETARI'</li><li>'Esito_final_giallo e Monocontrollo_giallo'</li><li>'new_limiti'</li><li>'new_col_limiti'</li></ol>\n"
      ],
      "text/latex": [
       "\\begin{enumerate*}\n",
       "\\item 'NUM\\_PRATICA'\n",
       "\\item 'PROGRESS\\_PRATICA'\n",
       "\\item 'ESITO\\_FINALE\\_VPC'\n",
       "\\item 'pred\\_vpc'\n",
       "\\item 'target'\n",
       "\\item 'DSI\\_importo\\_fido\\_richiesto'\n",
       "\\item 'DSI\\_sab'\n",
       "\\item 'RAT\\_classe\\_rating\\_filt'\n",
       "\\item 'col\\_new\\_vpc'\n",
       "\\item 'LIMITE\\_MAX'\n",
       "\\item 'Esito - LIMITI SOCIETARI'\n",
       "\\item 'Colore - LIMITI SOCIETARI'\n",
       "\\item 'Esito\\_final\\_giallo e Monocontrollo\\_giallo'\n",
       "\\item 'new\\_limiti'\n",
       "\\item 'new\\_col\\_limiti'\n",
       "\\end{enumerate*}\n"
      ],
      "text/markdown": [
       "1. 'NUM_PRATICA'\n",
       "2. 'PROGRESS_PRATICA'\n",
       "3. 'ESITO_FINALE_VPC'\n",
       "4. 'pred_vpc'\n",
       "5. 'target'\n",
       "6. 'DSI_importo_fido_richiesto'\n",
       "7. 'DSI_sab'\n",
       "8. 'RAT_classe_rating_filt'\n",
       "9. 'col_new_vpc'\n",
       "10. 'LIMITE_MAX'\n",
       "11. 'Esito - LIMITI SOCIETARI'\n",
       "12. 'Colore - LIMITI SOCIETARI'\n",
       "13. 'Esito_final_giallo e Monocontrollo_giallo'\n",
       "14. 'new_limiti'\n",
       "15. 'new_col_limiti'\n",
       "\n",
       "\n"
      ],
      "text/plain": [
       " [1] \"NUM_PRATICA\"                              \n",
       " [2] \"PROGRESS_PRATICA\"                         \n",
       " [3] \"ESITO_FINALE_VPC\"                         \n",
       " [4] \"pred_vpc\"                                 \n",
       " [5] \"target\"                                   \n",
       " [6] \"DSI_importo_fido_richiesto\"               \n",
       " [7] \"DSI_sab\"                                  \n",
       " [8] \"RAT_classe_rating_filt\"                   \n",
       " [9] \"col_new_vpc\"                              \n",
       "[10] \"LIMITE_MAX\"                               \n",
       "[11] \"Esito - LIMITI SOCIETARI\"                 \n",
       "[12] \"Colore - LIMITI SOCIETARI\"                \n",
       "[13] \"Esito_final_giallo e Monocontrollo_giallo\"\n",
       "[14] \"new_limiti\"                               \n",
       "[15] \"new_col_limiti\"                           "
      ]
     },
     "metadata": {},
     "output_type": "display_data"
    }
   ],
   "source": [
    "colnames(dt_sample_limsoc)"
   ]
  },
  {
   "cell_type": "code",
   "execution_count": 240,
   "id": "engaged-detective",
   "metadata": {},
   "outputs": [
    {
     "data": {
      "text/html": [
       "<style>\n",
       ".list-inline {list-style: none; margin:0; padding: 0}\n",
       ".list-inline>li {display: inline-block}\n",
       ".list-inline>li:not(:last-child)::after {content: \"\\00b7\"; padding: 0 .5ex}\n",
       "</style>\n",
       "<ol class=list-inline><li>'NUM_PRATICA'</li><li>'PROGRESS_PRATICA'</li><li>'ESITO_FINALE_VPC'</li><li>'pred_vpc'</li><li>'target'</li><li>'DSI_importo_fido_richiesto'</li><li>'DSI_sab'</li><li>'RAT_classe_rating_filt'</li><li>'col_new_vpc'</li><li>'LIMITE_MAX'</li><li>'Esito - LIMITI SOCIETARI'</li><li>'Colore - LIMITI SOCIETARI'</li><li>'Esito_final_giallo e Monocontrollo_giallo'</li><li>'new_limiti'</li><li>'new_col_limiti'</li><li>'col_senzalimiti'</li><li>'colore_senza_limsoc'</li></ol>\n"
      ],
      "text/latex": [
       "\\begin{enumerate*}\n",
       "\\item 'NUM\\_PRATICA'\n",
       "\\item 'PROGRESS\\_PRATICA'\n",
       "\\item 'ESITO\\_FINALE\\_VPC'\n",
       "\\item 'pred\\_vpc'\n",
       "\\item 'target'\n",
       "\\item 'DSI\\_importo\\_fido\\_richiesto'\n",
       "\\item 'DSI\\_sab'\n",
       "\\item 'RAT\\_classe\\_rating\\_filt'\n",
       "\\item 'col\\_new\\_vpc'\n",
       "\\item 'LIMITE\\_MAX'\n",
       "\\item 'Esito - LIMITI SOCIETARI'\n",
       "\\item 'Colore - LIMITI SOCIETARI'\n",
       "\\item 'Esito\\_final\\_giallo e Monocontrollo\\_giallo'\n",
       "\\item 'new\\_limiti'\n",
       "\\item 'new\\_col\\_limiti'\n",
       "\\item 'col\\_senzalimiti'\n",
       "\\item 'colore\\_senza\\_limsoc'\n",
       "\\end{enumerate*}\n"
      ],
      "text/markdown": [
       "1. 'NUM_PRATICA'\n",
       "2. 'PROGRESS_PRATICA'\n",
       "3. 'ESITO_FINALE_VPC'\n",
       "4. 'pred_vpc'\n",
       "5. 'target'\n",
       "6. 'DSI_importo_fido_richiesto'\n",
       "7. 'DSI_sab'\n",
       "8. 'RAT_classe_rating_filt'\n",
       "9. 'col_new_vpc'\n",
       "10. 'LIMITE_MAX'\n",
       "11. 'Esito - LIMITI SOCIETARI'\n",
       "12. 'Colore - LIMITI SOCIETARI'\n",
       "13. 'Esito_final_giallo e Monocontrollo_giallo'\n",
       "14. 'new_limiti'\n",
       "15. 'new_col_limiti'\n",
       "16. 'col_senzalimiti'\n",
       "17. 'colore_senza_limsoc'\n",
       "\n",
       "\n"
      ],
      "text/plain": [
       " [1] \"NUM_PRATICA\"                              \n",
       " [2] \"PROGRESS_PRATICA\"                         \n",
       " [3] \"ESITO_FINALE_VPC\"                         \n",
       " [4] \"pred_vpc\"                                 \n",
       " [5] \"target\"                                   \n",
       " [6] \"DSI_importo_fido_richiesto\"               \n",
       " [7] \"DSI_sab\"                                  \n",
       " [8] \"RAT_classe_rating_filt\"                   \n",
       " [9] \"col_new_vpc\"                              \n",
       "[10] \"LIMITE_MAX\"                               \n",
       "[11] \"Esito - LIMITI SOCIETARI\"                 \n",
       "[12] \"Colore - LIMITI SOCIETARI\"                \n",
       "[13] \"Esito_final_giallo e Monocontrollo_giallo\"\n",
       "[14] \"new_limiti\"                               \n",
       "[15] \"new_col_limiti\"                           \n",
       "[16] \"col_senzalimiti\"                          \n",
       "[17] \"colore_senza_limsoc\"                      "
      ]
     },
     "metadata": {},
     "output_type": "display_data"
    }
   ],
   "source": [
    "cols_color <- c(colnames(dt_orig)[grepl(\"Colore -\",colnames(dt_orig)) & !grepl('LIMITI SOCIETARI',colnames(dt_orig))])\n",
    "#cols_color\n",
    "\n",
    "dt_color <- dt_orig[,c(\"NUM_PRATICA\",\"PROGRESS_PRATICA\",\"ESITO_FINALE_VPC\",cols_color), with = FALSE]\n",
    "\n",
    "dt_color[, (cols_color) := lapply(dt_color[,cols_color, with = FALSE], function(col){\n",
    "        as.numeric(factor(col, levels = c('NERO','GRIGIO','VERDE','GIALLO','ROSSO')))\n",
    "})]\n",
    "\n",
    "dt_color[, col_senzalimiti := do.call(pmax, c(.SD, list(na.rm = TRUE))), .SDcols=cols_color]\n",
    "\n",
    "dt_sample_limsoc <- merge(dt_sample_limsoc,\n",
    "                         dt_color[, c(\"NUM_PRATICA\",\"PROGRESS_PRATICA\",'col_senzalimiti')],\n",
    "                         by = c(\"NUM_PRATICA\",\"PROGRESS_PRATICA\"),\n",
    "                         all.x = TRUE)\n",
    "\n",
    "dt_sample_limsoc[col_senzalimiti ==3, colore_senza_limsoc := \"VERDE\"]\n",
    "dt_sample_limsoc[col_senzalimiti ==4, colore_senza_limsoc := \"GIALLO\"]\n",
    "dt_sample_limsoc[col_senzalimiti ==5, colore_senza_limsoc := \"ROSSO\"]\n",
    "\n",
    "colnames(dt_sample_limsoc)\n",
    "\n",
    "dt_test_lim_soc <- dt_sample_limsoc[,.(NUM_PRATICA,PROGRESS_PRATICA,ESITO_FINALE_VPC,pred_vpc,target,`Colore - LIMITI SOCIETARI`,new_col_limiti,colore_senza_limsoc)]"
   ]
  },
  {
   "cell_type": "code",
   "execution_count": 241,
   "id": "dried-analyst",
   "metadata": {},
   "outputs": [
    {
     "data": {
      "text/plain": [
       "\n",
       "GIALLO  ROSSO  VERDE \n",
       "  3086    690   3453 "
      ]
     },
     "metadata": {},
     "output_type": "display_data"
    },
    {
     "data": {
      "text/plain": [
       "\n",
       "GIALLO  ROSSO  VERDE \n",
       "  2470    527   4228 "
      ]
     },
     "metadata": {},
     "output_type": "display_data"
    }
   ],
   "source": [
    "#dt_sample_limsoc[ESITO_FINALE_VPC == \"VERDE\" & colore_senza_limsoc ==\"GIALLO\",]\n",
    "table(dt_sample_limsoc$ESITO_FINALE_VPC)\n",
    "table(dt_sample_limsoc$colore_senza_limsoc)"
   ]
  },
  {
   "cell_type": "code",
   "execution_count": null,
   "id": "intermediate-madison",
   "metadata": {},
   "outputs": [],
   "source": []
  },
  {
   "cell_type": "code",
   "execution_count": null,
   "id": "younger-resolution",
   "metadata": {},
   "outputs": [],
   "source": []
  },
  {
   "cell_type": "code",
   "execution_count": 242,
   "id": "abstract-airline",
   "metadata": {},
   "outputs": [],
   "source": [
    "write.csv(dt_test_lim_soc,'dt_test_lim_soc_co.csv',row.names = FALSE)"
   ]
  },
  {
   "cell_type": "code",
   "execution_count": 243,
   "id": "chinese-glucose",
   "metadata": {},
   "outputs": [
    {
     "data": {
      "text/html": [
       "<style>\n",
       ".list-inline {list-style: none; margin:0; padding: 0}\n",
       ".list-inline>li {display: inline-block}\n",
       ".list-inline>li:not(:last-child)::after {content: \"\\00b7\"; padding: 0 .5ex}\n",
       "</style>\n",
       "<ol class=list-inline><li>'NUM_PRATICA'</li><li>'PROGRESS_PRATICA'</li><li>'STATO_PRATICA'</li><li>'CHIAVE_DB'</li><li>'ABI'</li><li>'ABI_PEF5'</li><li>'FILIALE_PEF5'</li><li>'ANNO_PEF5'</li><li>'PROGRESSIVO_PEF5'</li><li>'TIPO_PRATICA'</li><li>'PROVENIENZA_PRATICA'</li><li>'DESCRIZIONE_PROVENIENZA'</li><li>'DATA_DELIBERA_O_ANNULL_FIDO'</li><li>'ANNOMESE_DELIBERA_O_ANNULL_FIDO'</li><li>'CONDICE_CONSOCIATA'</li><li>'USER_ISTRUTTORIA'</li><li>'DATA_ISTRUTTORIA'</li><li>'USER_DELIBERA'</li><li>'SNDG_CEDUTO_old'</li><li>'CODICE_FISCALE_CEDUTO'</li><li>'NDG_CEDUTO'</li><li>'ANDI_NDG_SUPER'</li><li>'FILIALE_FACTORING_CEDUTO'</li><li>'SETTORE_CEDUTO'</li><li>'NDG_CEDENTE'</li><li>'DIVISIONE_CEDUTO'</li><li>'TIPO APPLICAZIONE'</li><li>'IMPORTO RICHIESTO APPLICAZIONE'</li><li>'DIVISA RICHIESTA APPLICAZIONE'</li><li>'TIPO OPERAZIONE RICHIESTA APPLIC'</li><li>'IMPORTO CONCESSO APPLICAZIONE'</li><li>'DIVISA CONCESSA APPLICAZIONE'</li><li>'TIPO OPERAZIONE CONCESSA APPLICA'</li><li>'FT FACTORING'</li><li>'TIPOLOGIA FT FACTORING (CONTINUA'</li><li>'INDICATORE SE FIDO CAPOFILA O PR'</li><li>'QUOTA PROSOLUTO - IMPORTO'</li><li>'QUOTA PROSOLUTO - FT GF'</li><li>'QUOTA PROSOLUTO - FT PCR'</li><li>'QUOTA PROSOLVENDO - IMPORTO'</li><li>'QUOTA PROSOLVENDO - FT GF'</li><li>'QUOTA PROSOLVENDO - FT PCR'</li><li>'TIPO OPERAZIONE FIDO'</li><li>'IMPORTO FIDO'</li><li>'DIVISA FIDO'</li><li>'SNDG_CEDENTE'</li><li>'CODICE_FISCALE_CEDENTE'</li><li>'ID_CEDENTE'</li><li>'STATO_CEDENTE'</li><li>'CEDENTE_SI/NO'</li><li>'DEBITORE_SI/NO'</li><li>'DESCR_STATO_CEDENTE'</li><li>'FILIALE_CEDENTE'</li><li>'SETTORE_CEDENTE'</li><li>'DESCRIZIONE_SETTORE'</li><li>'PRESENZA_POLIZZA_SI_NO'</li><li>'ESITO_FINALE_VPC'</li><li>'Colore - EXPORT FACILE- FISCALE'</li><li>'Colore - CEDENTE REVOCATO'</li><li>'Colore - CEDENTE TRAVEL'</li><li>'Colore - SOGGETTO ESTERO'</li><li>'Colore - CODICE FISCALE/P. IVA N'</li><li>'Colore - CODICE FISCALE GIA\\' PRE'</li><li>'Colore - CODICE FISCALE GIA_0001'</li><li>'Colore - P.IVA GIA\\' PRESENTE NEL'</li><li>'Colore - CODICE CLIENTE GIA\\' PRE'</li><li>'Colore - CODICE CLIENTE GIA_0001'</li><li>'Colore - CODICE FISCALE FORMALME'</li><li>'Colore - PRESENZA SOGGETTO IN PI'</li><li>'Colore - TIPO OPERAZIONE RIDUZIO'</li><li>'Colore - IMPORTO RICHIESTO &lt;= AD'</li><li>'Colore - IMPORTO RICHIESTO A ZER'</li><li>'Colore - SOGGETTO EEPP'</li><li>'Colore - ABI/CAB/CONTO OBBLIGATO'</li><li>'Colore - EXPORT FACILE-SIA CEDEN'</li><li>'Colore - SOGGETTO CON FORMA GIUR'</li><li>'Colore - FORMA GIURIDICA SENZA C'</li><li>'Colore - CONFIRMING - CHAMPION D'</li><li>'Colore - CONFIRMING - CODICE FIS'</li><li>'Colore - CONFIRMING - CODIC_0001'</li><li>'Colore - CONFIRMING - P.IVA GIA\\''</li><li>'Colore - CONFIRMING - CODICE FOR'</li><li>'Colore - STATO SAB'</li><li>'Colore - RATING SCADUTO'</li><li>'Colore - PARTE CORRELATA'</li><li>'Colore - PRESENZA DI FIDI CEDENT'</li><li>'Colore - SOGGETTO CEDENTE'</li><li>'Colore - RAPPORTI IN OSSERVAZION'</li><li>'Colore - INCONGRUENZA TRA LOCALI'</li><li>'Colore - PRESENZA GARANZIA OPERA'</li><li>'Colore - PRESENZA PRATICA IN PEF'</li><li>'Colore - NDG SETTORIALE MANCANTE'</li><li>'Colore - FIDO CON CAUSALE NEGATI'</li><li>'Colore - APPROVATO'</li><li>'Colore - FIDO SCADUTO'</li><li>'Colore - AUTONOMIA FIDO'</li><li>'Colore - LIMITI SOCIETARI'</li><li>'Colore - LIMITI SOCIETARI - AS I'</li><li>'Colore - FIDO RIDOTTO'</li><li>'Colore - AUTORIZZAZIONE NO CONTR'</li><li>'Colore - APPLICAZIONE CON CAUSAL'</li><li>'Colore - APPLICAZIONI CON CAUSAL'</li><li>'Colore - SCADUTO &gt; 20%OUTSTANDIN'</li><li>'Colore - CR: PRESENZA SOFFERENZE'</li><li>'Colore - CR: UTILIZZATO &gt; ACCORD'</li><li>'Colore - CR: PRESENZA SCONFINAME'</li><li>'Colore - BILANCI :PATRIMONIO NET'</li><li>'Colore - BILANCI :DEBITI BANCARI'</li><li>'Colore - BILANCI :PASSIVO CORREN'</li><li>'Colore - STATO SOCIETARIO'</li><li>'Colore - DATA COSTITUZIONE'</li><li>'Colore - NUMERO INTERROGAZIONI'</li><li>'Colore - PROTESTI CERTI'</li><li>'Colore - PROTESTI DUBBI'</li><li>'Colore - FALLIMENTI CERTI'</li><li>'Colore - FALLIMENTI DUBBI'</li><li>'Colore - PREGIUDIZIEVOLI GRAVI'</li><li>'Colore - PROCEDURE CONCORSUALI'</li><li>'Colore - IMPRESE COLLEGATE: PROC'</li><li>'Colore - ATECO BKIT OBBLIGATORIO'</li><li>'Colore - CODICE CLIENTE GIA_0002'</li><li>'Colore - CEDENTE APPARTIENE A GR'</li><li>'Colore - TIMEOUT SCADUTO1'</li><li>'Colore - NESSUNA POSIZIONE INCRO'</li><li>'Colore - INSERIMENTO NON CONSENT'</li><li>'Colore - TIMEOUT SCADUTO2'</li><li>'Colore - TIMEOUT SCADUTO3'</li><li>'Colore - ERRORE GENERICO, RISOTT'</li><li>'Esito - EXPORT FACILE- FISCALE C'</li><li>'Esito - CEDENTE REVOCATO'</li><li>'Esito - CEDENTE TRAVEL'</li><li>'Esito - SOGGETTO ESTERO'</li><li>'Esito - CODICE FISCALE/P. IVA NO'</li><li>'Esito - CODICE FISCALE GIA\\' PRES'</li><li>'Esito - CODICE FISCALE GIA\\'_0001'</li><li>'Esito - P.IVA GIA\\' PRESENTE NELL'</li><li>'Esito - CODICE CLIENTE GIA\\' PRES'</li><li>'Esito - CODICE CLIENTE GIA\\'_0001'</li><li>'Esito - CODICE FISCALE FORMALMEN'</li><li>'Esito - PRESENZA SOGGETTO IN PIU'</li><li>'Esito - TIPO OPERAZIONE RIDUZION'</li><li>'Esito - IMPORTO RICHIESTO &lt;= AD'</li><li>'Esito - IMPORTO RICHIESTO A ZERO'</li><li>'Esito - SOGGETTO EEPP'</li><li>'Esito - ABI/CAB/CONTO OBBLIGATOR'</li><li>'Esito - EXPORT FACILE-SIA CEDENT'</li><li>'Esito - SOGGETTO CON FORMA GIURI'</li><li>'Esito - FORMA GIURIDICA SENZA CC'</li><li>'Esito - CONFIRMING - CHAMPION DE'</li><li>'Esito - CONFIRMING - CODICE FISC'</li><li>'Esito - CONFIRMING - CODICE_0001'</li><li>'Esito - CONFIRMING - P.IVA GIA\\''</li><li>'Esito - CONFIRMING - CODICE FORN'</li><li>'Esito - STATO SAB'</li><li>'Esito - RATING SCADUTO'</li><li>'Esito - PARTE CORRELATA'</li><li>'Esito - PRESENZA DI FIDI CEDENTE'</li><li>'Esito - SOGGETTO CEDENTE'</li><li>'Esito - RAPPORTI IN OSSERVAZIONE'</li><li>'Esito - INCONGRUENZA TRA LOCALIT'</li><li>'Esito - PRESENZA GARANZIA OPERAN'</li><li>'Esito - PRESENZA PRATICA IN PEF5'</li><li>'Esito - NDG SETTORIALE MANCANTE'</li><li>'Esito - FIDO CON CAUSALE NEGATIV'</li><li>'Esito - APPROVATO'</li><li>'Esito - FIDO SCADUTO'</li><li>'Esito - AUTONOMIA FIDO'</li><li>'Esito - LIMITI SOCIETARI'</li><li>'Esito - LIMITI SOCIETARI - AS IS'</li><li>'Esito - FIDO RIDOTTO'</li><li>'Esito - AUTORIZZAZIONE NO CONTRO'</li><li>'Esito - APPLICAZIONE CON CAUSALE'</li><li>'Esito - APPLICAZIONI CON CAUSALE'</li><li>'Esito - SCADUTO &gt; 20%OUTSTANDING'</li><li>'Esito - CR: PRESENZA SOFFERENZE'</li><li>'Esito - CR: UTILIZZATO &gt; ACCORDA'</li><li>'Esito - CR: PRESENZA SCONFINAMEN'</li><li>'Esito - BILANCI :PATRIMONIO NETT'</li><li>'Esito - BILANCI :DEBITI BANCARI'</li><li>'Esito - BILANCI :PASSIVO CORRENT'</li><li>'Esito - STATO SOCIETARIO'</li><li>'Esito - DATA COSTITUZIONE'</li><li>'Esito - NUMERO INTERROGAZIONI'</li><li>'Esito - PROTESTI CERTI'</li><li>'Esito - PROTESTI DUBBI'</li><li>'Esito - FALLIMENTI CERTI'</li><li>'Esito - FALLIMENTI DUBBI'</li><li>'Esito - PREGIUDIZIEVOLI GRAVI'</li><li>'Esito - PROCEDURE CONCORSUALI'</li><li>'Esito - IMPRESE COLLEGATE: PROCE'</li><li>'Esito - ATECO BKIT OBBLIGATORIO'</li><li>'Esito - CODICE CLIENTE GIA\\'_0002'</li><li>'Esito - CEDENTE APPARTIENE A GRU'</li><li>'Esito - TIMEOUT SCADUTO1'</li><li>'Esito - NESSUNA POSIZIONE INCROC'</li><li>'Esito - INSERIMENTO NON CONSENTI'</li><li>'Esito - TIMEOUT SCADUTO2'</li><li>'Esito - TIMEOUT SCADUTO3'</li><li>'Esito - ERRORE GENERICO, RISOTTO'</li><li>'Input - EXPORT FACILE- FISCALE C'</li><li>⋯</li><li>'Input - AUTONOMIA FIDO'</li><li>'Input - LIMITI SOCIETARI'</li><li>'Input - LIMITI SOCIETARI - AS IS'</li><li>'Input - FIDO RIDOTTO'</li><li>'Input - AUTORIZZAZIONE NO CONTRO'</li><li>'Input - APPLICAZIONE CON CAUSALE'</li><li>'Input - APPLICAZIONI CON CAUSALE'</li><li>'Input - SCADUTO &gt; 20%OUTSTANDING'</li><li>'Input - CR: PRESENZA SOFFERENZE'</li><li>'Input - CR: UTILIZZATO &gt; ACCORDA'</li><li>'Input - CR: PRESENZA SCONFINAMEN'</li><li>'Input - BILANCI :PATRIMONIO NETT'</li><li>'Input - BILANCI :DEBITI BANCARI'</li><li>'Input - BILANCI :PASSIVO CORRENT'</li><li>'Input - STATO SOCIETARIO'</li><li>'Input - DATA COSTITUZIONE'</li><li>'Input - NUMERO INTERROGAZIONI'</li><li>'Input - PROTESTI CERTI'</li><li>'Input - PROTESTI DUBBI'</li><li>'Input - FALLIMENTI CERTI'</li><li>'Input - FALLIMENTI DUBBI'</li><li>'Input - PREGIUDIZIEVOLI GRAVI'</li><li>'Input - PROCEDURE CONCORSUALI'</li><li>'Input - IMPRESE COLLEGATE: PROCE'</li><li>'Input - ATECO BKIT OBBLIGATORIO'</li><li>'Input - CODICE CLIENTE GIA\\'_0002'</li><li>'Input - CEDENTE APPARTIENE A GRU'</li><li>'Input - TIMEOUT SCADUTO1'</li><li>'Input - NESSUNA POSIZIONE INCROC'</li><li>'Input - INSERIMENTO NON CONSENTI'</li><li>'Input - TIMEOUT SCADUTO2'</li><li>'Input - TIMEOUT SCADUTO3'</li><li>'Input - ERRORE GENERICO, RISOTTO'</li><li>'TIPO_PRODOTTO'</li><li>'IMPORTO_RICHIESTO'</li><li>'Right_NUM_PRATICA'</li><li>'Right_PROGRESS_PRATICA'</li><li>'Right_STATO_PRATICA'</li><li>'RAE_CEDUTO'</li><li>'RAE_DESCR_CEDUTO'</li><li>'SAE_CEDUTO'</li><li>'SAE_DESCR_CEDUTO'</li><li>'RAE_CEDENTE'</li><li>'RAE_DESCR_CEDENTE'</li><li>'SAE_CEDENTE'</li><li>'SAE_DESCR_CEDENTE'</li><li>'NUMERO_TOT_FIDI'</li><li>'COUNT_FIDI_IN_CONFERMA'</li><li>'SUM_IMPORT_FIDI_CONCESSIONE'</li><li>'SUM_IMPORT_FIDI_AUMENTO'</li><li>'DATA_RICHIESTA_FIDO'</li><li>'ISR_DATA'</li><li>'ISR_CODICE'</li><li>'ISR_DESCRIZIONE'</li><li>'DATA_PERFEZ_CONTRATTO'</li><li>'IMPORTO_ORIGINALE'</li><li>'SEMAFORO_PRIMO_LIVELLO'</li><li>'POLIZZA_DIRETTA_(39)'</li><li>'POLIZZA_INDIRETTA_(41)'</li><li>'PREFISSO_MOD_RATING_CEDUTO'</li><li>'MODELLO_RATING_CEDUTO'</li><li>'RATING_CEDUTO'</li><li>'CIB_BDT_CEDENTE'</li><li>'PREFISSO_MOD_RATING_CEDENTE'</li><li>'MODELLO_RATING_CEDENTE'</li><li>'RATING_CEDENTE'</li><li>'SAG_CEDUTO'</li><li>'SAG_CEDENTE'</li><li>'FLAG_UBI_FACTOR'</li><li>'TIPOLOGIA FT FACTORING (CONTINU2'</li><li>'QUOTA_PROSOLUTO_ORIGINARIA'</li><li>'QUOTA_PROSOLVENDO_ORIGINARIA'</li><li>'IMPORTO_ORIGINARIO'</li><li>'IMPORT_ORIGIN_APPL_PROSOLUTO'</li><li>'IMPORT_ORIGIN_APPL_PROSOLVENDO'</li><li>'Pratica_testo'</li><li>'Flag_Monofido'</li><li>'Presenza_fido_580_590'</li><li>'Presenza_fido_580_590_C'</li><li>'Congruenza_Prodotto_Fido'</li><li>'Flag_Applicazione_Univoca'</li><li>'Flag_Finale'</li><li>'ISTRUTTORE'</li><li>'DELIBERANTE'</li><li>'Sndg_ceduto_new'</li><li>'Flag_Ditta_Individuale'</li><li>'SNDG_CEDUTO'</li><li>'Tipo_Valutazione_del_ceduto'</li><li>'Flag_Valutazione_VPC_sul_ceduto'</li><li>'Flag_presenza_Sndg_Ceduto'</li><li>'Presenza_Rating'</li><li>'Rating_Inizio_Periodo'</li><li>'Periodo_Osservazione_in_corso'</li><li>'Rating_periodo_adj'</li><li>'Rating_Fine_periodo_adj'</li><li>'DAT_ATTR_RAT_Per_Compreso'</li><li>'DAT_ATTR_RAT_T0'</li><li>'DAT_ATTR_RAT_Per_finale'</li><li>'Data_Attr_rat_fine_per_0101160'</li><li>'Data_Attr_rat_fin_per_31122999'</li><li>'Prima_Data_Attr_Primula_Per_ante'</li><li>'Media_rating_Per_Ante'</li><li>'Prima_Data_Attrib_Prim_Per_Post'</li><li>'Rating_Medio_Post_Stipula'</li><li>'COD_SEGM_Per_compreso'</li><li>'COD_SEGM_T0'</li><li>'COD_MOD_BWS_Per_compreso'</li><li>'COD_MOD_BWS_T0'</li><li>'COD_CLASSE_CRA_Per_compreso'</li><li>'COD_CLASSE_CRA_T0'</li><li>'COD_COLORE_CLASSE_Per_compreso'</li><li>'COD_COLORE_CLASSE_T0'</li><li>'Rating_Attuale'</li><li>'COD_PROV_Attuale'</li><li>'Importo_Fido_adj'</li><li>'Numerofidi_pratica'</li><li>'Delta_fido_selezionato'</li><li>'Deltafido580590_inv_Prod'</li><li>'Deltafido_Capofila_non_580590'</li><li>'Delta_Applicazione'</li><li>'Data_Stile_numerico'</li><li>'Anno_Delibera'</li><li>'Mese_Delibera'</li><li>'Tipo Operazione Fido Aggregato'</li><li>'Tipo Operaz Concessa Appl Aggreg'</li><li>'Rating_Iniz_periodo_Ricondotto'</li><li>'MEAN_of_Rating_periodo_adj'</li><li>'Rating_Fine_periodo_Ricondotto'</li><li>'MacroSegmentoT0'</li><li>'MacroSegmento_Per_Compreso'</li><li>'MacroSegmento_Attuale'</li><li>'Rating_Attuale_Ricondotto'</li><li>'COD_MOD_BWS_Attuale'</li><li>'Prima_Data_Attrib_Primula'</li><li>'Primo_segmento_primula'</li><li>'Primo_Modello_Primula'</li><li>'Primo_rating_Primula'</li><li>'MonoPratica_o_Monocolore'</li><li>'Accordato_Medio_Pro_soluto'</li><li>'Utilizzato_Medio_Pro_soluto'</li><li>'Accordato_Medio_Prosolvendo'</li><li>'Utilizzato_Medio_Prosolvendo'</li><li>'Accordato_Medio_Altri_crediti'</li><li>'Acc_Operativo_Medio_Altri_Credit'</li><li>'Utilizzato_Medio_Altri_crediti'</li><li>'Saldo_creditori_Medio_Altri_Cred'</li><li>'Accordato_Medio_Altro_Fac'</li><li>'Acc_Oper_Medio_Altro_Fact'</li><li>'Utilizzato_Medio_Altro_Fac'</li><li>'Saldicredit_Medio_Altro_Fac'</li><li>'RAGIO_SOCIALE_CEDUTO'</li><li>'RAGIO_SOCIALE_CEDENTE'</li><li>'ID_CEDENTE...34'</li><li>'Conteggio_giallo_esito_finale_giallo'</li><li>'Conteggio_rosso'</li><li>'APPOGGIO - Esito_final_giallo e Monocontrollo_giallo'</li><li>'APPOGGIO - Esito_final_rosso e Monocontrollo_rosso'</li><li>'Esito_final_giallo e Monocontrollo_giallo'</li><li>'Esito_final_rosso e Monocontrollo_rosso'</li><li>'Flag_utilizzato=0'</li><li>'Perimetro analisi descrittive'</li><li>'Perimetro_finale_analisi TD'</li><li>'Perimetro_no_default_T0'</li><li>'Perimetro_si_default_Tfinal'</li><li>'Cluster_operazione_concessa_applica'</li><li>'RATING_APPOGGIO'</li><li>'RATING_APPOGGIO2'</li><li>'RATING'</li><li>'SAG_APPOGGIO'</li><li>'SAG_APPOGGIO2'</li><li>'SAG'</li><li>'ID_CEDENTE_APPOGGIO'</li><li>'ID_CEDENTE...228'</li><li>'CHIAVE_LIMITI_SOC'</li><li>'LIMITE_MAX'</li><li>'Cluster_finale_operazione_concessa_applica'</li><li>'SOGG_ESTERO_RISK'</li><li>'MacroSegmento_Attuale LC'</li><li>'Flag_Univocita_Cont_Giallo'</li><li>'Cluster_numerosità_contr_gialli'</li><li>'Cluster_numerosità_contr_rossi'</li><li>'Flag_UNIVOCO/COMPRESENZA_GIALLI'</li><li>'Flag_IMP_FIDO_ORIG_&lt;LIMITE'</li><li>'RICHIESTO_VS_LIMITE_V2'</li><li>'PERIMETRO_STANDARD'</li><li>'SCARTO_VS_LIMITE'</li><li>'CLUSTER_SCARTO'</li><li>'IMPORTO ORIGI+APPL CONCESSA'</li><li>'CLUSTER_RATING_FASCIA'</li><li>'M3-M4'</li><li>'M1-M2'</li><li>'I5-I6'</li><li>'I4'</li><li>'I3'</li><li>'I1-I2'</li><li>'NUOVI_VERDI'</li><li>'NUOVO_ESITO_FINALE'</li><li>'NUOVI_VERDI_SENZA_SOGLIA'</li><li>'NUOVO_ESITO_SENZA SOGLIA'</li><li>'target'</li></ol>\n"
      ],
      "text/latex": [
       "\\begin{enumerate*}\n",
       "\\item 'NUM\\_PRATICA'\n",
       "\\item 'PROGRESS\\_PRATICA'\n",
       "\\item 'STATO\\_PRATICA'\n",
       "\\item 'CHIAVE\\_DB'\n",
       "\\item 'ABI'\n",
       "\\item 'ABI\\_PEF5'\n",
       "\\item 'FILIALE\\_PEF5'\n",
       "\\item 'ANNO\\_PEF5'\n",
       "\\item 'PROGRESSIVO\\_PEF5'\n",
       "\\item 'TIPO\\_PRATICA'\n",
       "\\item 'PROVENIENZA\\_PRATICA'\n",
       "\\item 'DESCRIZIONE\\_PROVENIENZA'\n",
       "\\item 'DATA\\_DELIBERA\\_O\\_ANNULL\\_FIDO'\n",
       "\\item 'ANNOMESE\\_DELIBERA\\_O\\_ANNULL\\_FIDO'\n",
       "\\item 'CONDICE\\_CONSOCIATA'\n",
       "\\item 'USER\\_ISTRUTTORIA'\n",
       "\\item 'DATA\\_ISTRUTTORIA'\n",
       "\\item 'USER\\_DELIBERA'\n",
       "\\item 'SNDG\\_CEDUTO\\_old'\n",
       "\\item 'CODICE\\_FISCALE\\_CEDUTO'\n",
       "\\item 'NDG\\_CEDUTO'\n",
       "\\item 'ANDI\\_NDG\\_SUPER'\n",
       "\\item 'FILIALE\\_FACTORING\\_CEDUTO'\n",
       "\\item 'SETTORE\\_CEDUTO'\n",
       "\\item 'NDG\\_CEDENTE'\n",
       "\\item 'DIVISIONE\\_CEDUTO'\n",
       "\\item 'TIPO APPLICAZIONE'\n",
       "\\item 'IMPORTO RICHIESTO APPLICAZIONE'\n",
       "\\item 'DIVISA RICHIESTA APPLICAZIONE'\n",
       "\\item 'TIPO OPERAZIONE RICHIESTA APPLIC'\n",
       "\\item 'IMPORTO CONCESSO APPLICAZIONE'\n",
       "\\item 'DIVISA CONCESSA APPLICAZIONE'\n",
       "\\item 'TIPO OPERAZIONE CONCESSA APPLICA'\n",
       "\\item 'FT FACTORING'\n",
       "\\item 'TIPOLOGIA FT FACTORING (CONTINUA'\n",
       "\\item 'INDICATORE SE FIDO CAPOFILA O PR'\n",
       "\\item 'QUOTA PROSOLUTO - IMPORTO'\n",
       "\\item 'QUOTA PROSOLUTO - FT GF'\n",
       "\\item 'QUOTA PROSOLUTO - FT PCR'\n",
       "\\item 'QUOTA PROSOLVENDO - IMPORTO'\n",
       "\\item 'QUOTA PROSOLVENDO - FT GF'\n",
       "\\item 'QUOTA PROSOLVENDO - FT PCR'\n",
       "\\item 'TIPO OPERAZIONE FIDO'\n",
       "\\item 'IMPORTO FIDO'\n",
       "\\item 'DIVISA FIDO'\n",
       "\\item 'SNDG\\_CEDENTE'\n",
       "\\item 'CODICE\\_FISCALE\\_CEDENTE'\n",
       "\\item 'ID\\_CEDENTE'\n",
       "\\item 'STATO\\_CEDENTE'\n",
       "\\item 'CEDENTE\\_SI/NO'\n",
       "\\item 'DEBITORE\\_SI/NO'\n",
       "\\item 'DESCR\\_STATO\\_CEDENTE'\n",
       "\\item 'FILIALE\\_CEDENTE'\n",
       "\\item 'SETTORE\\_CEDENTE'\n",
       "\\item 'DESCRIZIONE\\_SETTORE'\n",
       "\\item 'PRESENZA\\_POLIZZA\\_SI\\_NO'\n",
       "\\item 'ESITO\\_FINALE\\_VPC'\n",
       "\\item 'Colore - EXPORT FACILE- FISCALE'\n",
       "\\item 'Colore - CEDENTE REVOCATO'\n",
       "\\item 'Colore - CEDENTE TRAVEL'\n",
       "\\item 'Colore - SOGGETTO ESTERO'\n",
       "\\item 'Colore - CODICE FISCALE/P. IVA N'\n",
       "\\item 'Colore - CODICE FISCALE GIA\\textbackslash{}' PRE'\n",
       "\\item 'Colore - CODICE FISCALE GIA\\_0001'\n",
       "\\item 'Colore - P.IVA GIA\\textbackslash{}' PRESENTE NEL'\n",
       "\\item 'Colore - CODICE CLIENTE GIA\\textbackslash{}' PRE'\n",
       "\\item 'Colore - CODICE CLIENTE GIA\\_0001'\n",
       "\\item 'Colore - CODICE FISCALE FORMALME'\n",
       "\\item 'Colore - PRESENZA SOGGETTO IN PI'\n",
       "\\item 'Colore - TIPO OPERAZIONE RIDUZIO'\n",
       "\\item 'Colore - IMPORTO RICHIESTO <= AD'\n",
       "\\item 'Colore - IMPORTO RICHIESTO A ZER'\n",
       "\\item 'Colore - SOGGETTO EEPP'\n",
       "\\item 'Colore - ABI/CAB/CONTO OBBLIGATO'\n",
       "\\item 'Colore - EXPORT FACILE-SIA CEDEN'\n",
       "\\item 'Colore - SOGGETTO CON FORMA GIUR'\n",
       "\\item 'Colore - FORMA GIURIDICA SENZA C'\n",
       "\\item 'Colore - CONFIRMING - CHAMPION D'\n",
       "\\item 'Colore - CONFIRMING - CODICE FIS'\n",
       "\\item 'Colore - CONFIRMING - CODIC\\_0001'\n",
       "\\item 'Colore - CONFIRMING - P.IVA GIA\\textbackslash{}''\n",
       "\\item 'Colore - CONFIRMING - CODICE FOR'\n",
       "\\item 'Colore - STATO SAB'\n",
       "\\item 'Colore - RATING SCADUTO'\n",
       "\\item 'Colore - PARTE CORRELATA'\n",
       "\\item 'Colore - PRESENZA DI FIDI CEDENT'\n",
       "\\item 'Colore - SOGGETTO CEDENTE'\n",
       "\\item 'Colore - RAPPORTI IN OSSERVAZION'\n",
       "\\item 'Colore - INCONGRUENZA TRA LOCALI'\n",
       "\\item 'Colore - PRESENZA GARANZIA OPERA'\n",
       "\\item 'Colore - PRESENZA PRATICA IN PEF'\n",
       "\\item 'Colore - NDG SETTORIALE MANCANTE'\n",
       "\\item 'Colore - FIDO CON CAUSALE NEGATI'\n",
       "\\item 'Colore - APPROVATO'\n",
       "\\item 'Colore - FIDO SCADUTO'\n",
       "\\item 'Colore - AUTONOMIA FIDO'\n",
       "\\item 'Colore - LIMITI SOCIETARI'\n",
       "\\item 'Colore - LIMITI SOCIETARI - AS I'\n",
       "\\item 'Colore - FIDO RIDOTTO'\n",
       "\\item 'Colore - AUTORIZZAZIONE NO CONTR'\n",
       "\\item 'Colore - APPLICAZIONE CON CAUSAL'\n",
       "\\item 'Colore - APPLICAZIONI CON CAUSAL'\n",
       "\\item 'Colore - SCADUTO > 20\\%OUTSTANDIN'\n",
       "\\item 'Colore - CR: PRESENZA SOFFERENZE'\n",
       "\\item 'Colore - CR: UTILIZZATO > ACCORD'\n",
       "\\item 'Colore - CR: PRESENZA SCONFINAME'\n",
       "\\item 'Colore - BILANCI :PATRIMONIO NET'\n",
       "\\item 'Colore - BILANCI :DEBITI BANCARI'\n",
       "\\item 'Colore - BILANCI :PASSIVO CORREN'\n",
       "\\item 'Colore - STATO SOCIETARIO'\n",
       "\\item 'Colore - DATA COSTITUZIONE'\n",
       "\\item 'Colore - NUMERO INTERROGAZIONI'\n",
       "\\item 'Colore - PROTESTI CERTI'\n",
       "\\item 'Colore - PROTESTI DUBBI'\n",
       "\\item 'Colore - FALLIMENTI CERTI'\n",
       "\\item 'Colore - FALLIMENTI DUBBI'\n",
       "\\item 'Colore - PREGIUDIZIEVOLI GRAVI'\n",
       "\\item 'Colore - PROCEDURE CONCORSUALI'\n",
       "\\item 'Colore - IMPRESE COLLEGATE: PROC'\n",
       "\\item 'Colore - ATECO BKIT OBBLIGATORIO'\n",
       "\\item 'Colore - CODICE CLIENTE GIA\\_0002'\n",
       "\\item 'Colore - CEDENTE APPARTIENE A GR'\n",
       "\\item 'Colore - TIMEOUT SCADUTO1'\n",
       "\\item 'Colore - NESSUNA POSIZIONE INCRO'\n",
       "\\item 'Colore - INSERIMENTO NON CONSENT'\n",
       "\\item 'Colore - TIMEOUT SCADUTO2'\n",
       "\\item 'Colore - TIMEOUT SCADUTO3'\n",
       "\\item 'Colore - ERRORE GENERICO, RISOTT'\n",
       "\\item 'Esito - EXPORT FACILE- FISCALE C'\n",
       "\\item 'Esito - CEDENTE REVOCATO'\n",
       "\\item 'Esito - CEDENTE TRAVEL'\n",
       "\\item 'Esito - SOGGETTO ESTERO'\n",
       "\\item 'Esito - CODICE FISCALE/P. IVA NO'\n",
       "\\item 'Esito - CODICE FISCALE GIA\\textbackslash{}' PRES'\n",
       "\\item 'Esito - CODICE FISCALE GIA\\textbackslash{}'\\_0001'\n",
       "\\item 'Esito - P.IVA GIA\\textbackslash{}' PRESENTE NELL'\n",
       "\\item 'Esito - CODICE CLIENTE GIA\\textbackslash{}' PRES'\n",
       "\\item 'Esito - CODICE CLIENTE GIA\\textbackslash{}'\\_0001'\n",
       "\\item 'Esito - CODICE FISCALE FORMALMEN'\n",
       "\\item 'Esito - PRESENZA SOGGETTO IN PIU'\n",
       "\\item 'Esito - TIPO OPERAZIONE RIDUZION'\n",
       "\\item 'Esito - IMPORTO RICHIESTO <= AD'\n",
       "\\item 'Esito - IMPORTO RICHIESTO A ZERO'\n",
       "\\item 'Esito - SOGGETTO EEPP'\n",
       "\\item 'Esito - ABI/CAB/CONTO OBBLIGATOR'\n",
       "\\item 'Esito - EXPORT FACILE-SIA CEDENT'\n",
       "\\item 'Esito - SOGGETTO CON FORMA GIURI'\n",
       "\\item 'Esito - FORMA GIURIDICA SENZA CC'\n",
       "\\item 'Esito - CONFIRMING - CHAMPION DE'\n",
       "\\item 'Esito - CONFIRMING - CODICE FISC'\n",
       "\\item 'Esito - CONFIRMING - CODICE\\_0001'\n",
       "\\item 'Esito - CONFIRMING - P.IVA GIA\\textbackslash{}''\n",
       "\\item 'Esito - CONFIRMING - CODICE FORN'\n",
       "\\item 'Esito - STATO SAB'\n",
       "\\item 'Esito - RATING SCADUTO'\n",
       "\\item 'Esito - PARTE CORRELATA'\n",
       "\\item 'Esito - PRESENZA DI FIDI CEDENTE'\n",
       "\\item 'Esito - SOGGETTO CEDENTE'\n",
       "\\item 'Esito - RAPPORTI IN OSSERVAZIONE'\n",
       "\\item 'Esito - INCONGRUENZA TRA LOCALIT'\n",
       "\\item 'Esito - PRESENZA GARANZIA OPERAN'\n",
       "\\item 'Esito - PRESENZA PRATICA IN PEF5'\n",
       "\\item 'Esito - NDG SETTORIALE MANCANTE'\n",
       "\\item 'Esito - FIDO CON CAUSALE NEGATIV'\n",
       "\\item 'Esito - APPROVATO'\n",
       "\\item 'Esito - FIDO SCADUTO'\n",
       "\\item 'Esito - AUTONOMIA FIDO'\n",
       "\\item 'Esito - LIMITI SOCIETARI'\n",
       "\\item 'Esito - LIMITI SOCIETARI - AS IS'\n",
       "\\item 'Esito - FIDO RIDOTTO'\n",
       "\\item 'Esito - AUTORIZZAZIONE NO CONTRO'\n",
       "\\item 'Esito - APPLICAZIONE CON CAUSALE'\n",
       "\\item 'Esito - APPLICAZIONI CON CAUSALE'\n",
       "\\item 'Esito - SCADUTO > 20\\%OUTSTANDING'\n",
       "\\item 'Esito - CR: PRESENZA SOFFERENZE'\n",
       "\\item 'Esito - CR: UTILIZZATO > ACCORDA'\n",
       "\\item 'Esito - CR: PRESENZA SCONFINAMEN'\n",
       "\\item 'Esito - BILANCI :PATRIMONIO NETT'\n",
       "\\item 'Esito - BILANCI :DEBITI BANCARI'\n",
       "\\item 'Esito - BILANCI :PASSIVO CORRENT'\n",
       "\\item 'Esito - STATO SOCIETARIO'\n",
       "\\item 'Esito - DATA COSTITUZIONE'\n",
       "\\item 'Esito - NUMERO INTERROGAZIONI'\n",
       "\\item 'Esito - PROTESTI CERTI'\n",
       "\\item 'Esito - PROTESTI DUBBI'\n",
       "\\item 'Esito - FALLIMENTI CERTI'\n",
       "\\item 'Esito - FALLIMENTI DUBBI'\n",
       "\\item 'Esito - PREGIUDIZIEVOLI GRAVI'\n",
       "\\item 'Esito - PROCEDURE CONCORSUALI'\n",
       "\\item 'Esito - IMPRESE COLLEGATE: PROCE'\n",
       "\\item 'Esito - ATECO BKIT OBBLIGATORIO'\n",
       "\\item 'Esito - CODICE CLIENTE GIA\\textbackslash{}'\\_0002'\n",
       "\\item 'Esito - CEDENTE APPARTIENE A GRU'\n",
       "\\item 'Esito - TIMEOUT SCADUTO1'\n",
       "\\item 'Esito - NESSUNA POSIZIONE INCROC'\n",
       "\\item 'Esito - INSERIMENTO NON CONSENTI'\n",
       "\\item 'Esito - TIMEOUT SCADUTO2'\n",
       "\\item 'Esito - TIMEOUT SCADUTO3'\n",
       "\\item 'Esito - ERRORE GENERICO, RISOTTO'\n",
       "\\item 'Input - EXPORT FACILE- FISCALE C'\n",
       "\\item ⋯\n",
       "\\item 'Input - AUTONOMIA FIDO'\n",
       "\\item 'Input - LIMITI SOCIETARI'\n",
       "\\item 'Input - LIMITI SOCIETARI - AS IS'\n",
       "\\item 'Input - FIDO RIDOTTO'\n",
       "\\item 'Input - AUTORIZZAZIONE NO CONTRO'\n",
       "\\item 'Input - APPLICAZIONE CON CAUSALE'\n",
       "\\item 'Input - APPLICAZIONI CON CAUSALE'\n",
       "\\item 'Input - SCADUTO > 20\\%OUTSTANDING'\n",
       "\\item 'Input - CR: PRESENZA SOFFERENZE'\n",
       "\\item 'Input - CR: UTILIZZATO > ACCORDA'\n",
       "\\item 'Input - CR: PRESENZA SCONFINAMEN'\n",
       "\\item 'Input - BILANCI :PATRIMONIO NETT'\n",
       "\\item 'Input - BILANCI :DEBITI BANCARI'\n",
       "\\item 'Input - BILANCI :PASSIVO CORRENT'\n",
       "\\item 'Input - STATO SOCIETARIO'\n",
       "\\item 'Input - DATA COSTITUZIONE'\n",
       "\\item 'Input - NUMERO INTERROGAZIONI'\n",
       "\\item 'Input - PROTESTI CERTI'\n",
       "\\item 'Input - PROTESTI DUBBI'\n",
       "\\item 'Input - FALLIMENTI CERTI'\n",
       "\\item 'Input - FALLIMENTI DUBBI'\n",
       "\\item 'Input - PREGIUDIZIEVOLI GRAVI'\n",
       "\\item 'Input - PROCEDURE CONCORSUALI'\n",
       "\\item 'Input - IMPRESE COLLEGATE: PROCE'\n",
       "\\item 'Input - ATECO BKIT OBBLIGATORIO'\n",
       "\\item 'Input - CODICE CLIENTE GIA\\textbackslash{}'\\_0002'\n",
       "\\item 'Input - CEDENTE APPARTIENE A GRU'\n",
       "\\item 'Input - TIMEOUT SCADUTO1'\n",
       "\\item 'Input - NESSUNA POSIZIONE INCROC'\n",
       "\\item 'Input - INSERIMENTO NON CONSENTI'\n",
       "\\item 'Input - TIMEOUT SCADUTO2'\n",
       "\\item 'Input - TIMEOUT SCADUTO3'\n",
       "\\item 'Input - ERRORE GENERICO, RISOTTO'\n",
       "\\item 'TIPO\\_PRODOTTO'\n",
       "\\item 'IMPORTO\\_RICHIESTO'\n",
       "\\item 'Right\\_NUM\\_PRATICA'\n",
       "\\item 'Right\\_PROGRESS\\_PRATICA'\n",
       "\\item 'Right\\_STATO\\_PRATICA'\n",
       "\\item 'RAE\\_CEDUTO'\n",
       "\\item 'RAE\\_DESCR\\_CEDUTO'\n",
       "\\item 'SAE\\_CEDUTO'\n",
       "\\item 'SAE\\_DESCR\\_CEDUTO'\n",
       "\\item 'RAE\\_CEDENTE'\n",
       "\\item 'RAE\\_DESCR\\_CEDENTE'\n",
       "\\item 'SAE\\_CEDENTE'\n",
       "\\item 'SAE\\_DESCR\\_CEDENTE'\n",
       "\\item 'NUMERO\\_TOT\\_FIDI'\n",
       "\\item 'COUNT\\_FIDI\\_IN\\_CONFERMA'\n",
       "\\item 'SUM\\_IMPORT\\_FIDI\\_CONCESSIONE'\n",
       "\\item 'SUM\\_IMPORT\\_FIDI\\_AUMENTO'\n",
       "\\item 'DATA\\_RICHIESTA\\_FIDO'\n",
       "\\item 'ISR\\_DATA'\n",
       "\\item 'ISR\\_CODICE'\n",
       "\\item 'ISR\\_DESCRIZIONE'\n",
       "\\item 'DATA\\_PERFEZ\\_CONTRATTO'\n",
       "\\item 'IMPORTO\\_ORIGINALE'\n",
       "\\item 'SEMAFORO\\_PRIMO\\_LIVELLO'\n",
       "\\item 'POLIZZA\\_DIRETTA\\_(39)'\n",
       "\\item 'POLIZZA\\_INDIRETTA\\_(41)'\n",
       "\\item 'PREFISSO\\_MOD\\_RATING\\_CEDUTO'\n",
       "\\item 'MODELLO\\_RATING\\_CEDUTO'\n",
       "\\item 'RATING\\_CEDUTO'\n",
       "\\item 'CIB\\_BDT\\_CEDENTE'\n",
       "\\item 'PREFISSO\\_MOD\\_RATING\\_CEDENTE'\n",
       "\\item 'MODELLO\\_RATING\\_CEDENTE'\n",
       "\\item 'RATING\\_CEDENTE'\n",
       "\\item 'SAG\\_CEDUTO'\n",
       "\\item 'SAG\\_CEDENTE'\n",
       "\\item 'FLAG\\_UBI\\_FACTOR'\n",
       "\\item 'TIPOLOGIA FT FACTORING (CONTINU2'\n",
       "\\item 'QUOTA\\_PROSOLUTO\\_ORIGINARIA'\n",
       "\\item 'QUOTA\\_PROSOLVENDO\\_ORIGINARIA'\n",
       "\\item 'IMPORTO\\_ORIGINARIO'\n",
       "\\item 'IMPORT\\_ORIGIN\\_APPL\\_PROSOLUTO'\n",
       "\\item 'IMPORT\\_ORIGIN\\_APPL\\_PROSOLVENDO'\n",
       "\\item 'Pratica\\_testo'\n",
       "\\item 'Flag\\_Monofido'\n",
       "\\item 'Presenza\\_fido\\_580\\_590'\n",
       "\\item 'Presenza\\_fido\\_580\\_590\\_C'\n",
       "\\item 'Congruenza\\_Prodotto\\_Fido'\n",
       "\\item 'Flag\\_Applicazione\\_Univoca'\n",
       "\\item 'Flag\\_Finale'\n",
       "\\item 'ISTRUTTORE'\n",
       "\\item 'DELIBERANTE'\n",
       "\\item 'Sndg\\_ceduto\\_new'\n",
       "\\item 'Flag\\_Ditta\\_Individuale'\n",
       "\\item 'SNDG\\_CEDUTO'\n",
       "\\item 'Tipo\\_Valutazione\\_del\\_ceduto'\n",
       "\\item 'Flag\\_Valutazione\\_VPC\\_sul\\_ceduto'\n",
       "\\item 'Flag\\_presenza\\_Sndg\\_Ceduto'\n",
       "\\item 'Presenza\\_Rating'\n",
       "\\item 'Rating\\_Inizio\\_Periodo'\n",
       "\\item 'Periodo\\_Osservazione\\_in\\_corso'\n",
       "\\item 'Rating\\_periodo\\_adj'\n",
       "\\item 'Rating\\_Fine\\_periodo\\_adj'\n",
       "\\item 'DAT\\_ATTR\\_RAT\\_Per\\_Compreso'\n",
       "\\item 'DAT\\_ATTR\\_RAT\\_T0'\n",
       "\\item 'DAT\\_ATTR\\_RAT\\_Per\\_finale'\n",
       "\\item 'Data\\_Attr\\_rat\\_fine\\_per\\_0101160'\n",
       "\\item 'Data\\_Attr\\_rat\\_fin\\_per\\_31122999'\n",
       "\\item 'Prima\\_Data\\_Attr\\_Primula\\_Per\\_ante'\n",
       "\\item 'Media\\_rating\\_Per\\_Ante'\n",
       "\\item 'Prima\\_Data\\_Attrib\\_Prim\\_Per\\_Post'\n",
       "\\item 'Rating\\_Medio\\_Post\\_Stipula'\n",
       "\\item 'COD\\_SEGM\\_Per\\_compreso'\n",
       "\\item 'COD\\_SEGM\\_T0'\n",
       "\\item 'COD\\_MOD\\_BWS\\_Per\\_compreso'\n",
       "\\item 'COD\\_MOD\\_BWS\\_T0'\n",
       "\\item 'COD\\_CLASSE\\_CRA\\_Per\\_compreso'\n",
       "\\item 'COD\\_CLASSE\\_CRA\\_T0'\n",
       "\\item 'COD\\_COLORE\\_CLASSE\\_Per\\_compreso'\n",
       "\\item 'COD\\_COLORE\\_CLASSE\\_T0'\n",
       "\\item 'Rating\\_Attuale'\n",
       "\\item 'COD\\_PROV\\_Attuale'\n",
       "\\item 'Importo\\_Fido\\_adj'\n",
       "\\item 'Numerofidi\\_pratica'\n",
       "\\item 'Delta\\_fido\\_selezionato'\n",
       "\\item 'Deltafido580590\\_inv\\_Prod'\n",
       "\\item 'Deltafido\\_Capofila\\_non\\_580590'\n",
       "\\item 'Delta\\_Applicazione'\n",
       "\\item 'Data\\_Stile\\_numerico'\n",
       "\\item 'Anno\\_Delibera'\n",
       "\\item 'Mese\\_Delibera'\n",
       "\\item 'Tipo Operazione Fido Aggregato'\n",
       "\\item 'Tipo Operaz Concessa Appl Aggreg'\n",
       "\\item 'Rating\\_Iniz\\_periodo\\_Ricondotto'\n",
       "\\item 'MEAN\\_of\\_Rating\\_periodo\\_adj'\n",
       "\\item 'Rating\\_Fine\\_periodo\\_Ricondotto'\n",
       "\\item 'MacroSegmentoT0'\n",
       "\\item 'MacroSegmento\\_Per\\_Compreso'\n",
       "\\item 'MacroSegmento\\_Attuale'\n",
       "\\item 'Rating\\_Attuale\\_Ricondotto'\n",
       "\\item 'COD\\_MOD\\_BWS\\_Attuale'\n",
       "\\item 'Prima\\_Data\\_Attrib\\_Primula'\n",
       "\\item 'Primo\\_segmento\\_primula'\n",
       "\\item 'Primo\\_Modello\\_Primula'\n",
       "\\item 'Primo\\_rating\\_Primula'\n",
       "\\item 'MonoPratica\\_o\\_Monocolore'\n",
       "\\item 'Accordato\\_Medio\\_Pro\\_soluto'\n",
       "\\item 'Utilizzato\\_Medio\\_Pro\\_soluto'\n",
       "\\item 'Accordato\\_Medio\\_Prosolvendo'\n",
       "\\item 'Utilizzato\\_Medio\\_Prosolvendo'\n",
       "\\item 'Accordato\\_Medio\\_Altri\\_crediti'\n",
       "\\item 'Acc\\_Operativo\\_Medio\\_Altri\\_Credit'\n",
       "\\item 'Utilizzato\\_Medio\\_Altri\\_crediti'\n",
       "\\item 'Saldo\\_creditori\\_Medio\\_Altri\\_Cred'\n",
       "\\item 'Accordato\\_Medio\\_Altro\\_Fac'\n",
       "\\item 'Acc\\_Oper\\_Medio\\_Altro\\_Fact'\n",
       "\\item 'Utilizzato\\_Medio\\_Altro\\_Fac'\n",
       "\\item 'Saldicredit\\_Medio\\_Altro\\_Fac'\n",
       "\\item 'RAGIO\\_SOCIALE\\_CEDUTO'\n",
       "\\item 'RAGIO\\_SOCIALE\\_CEDENTE'\n",
       "\\item 'ID\\_CEDENTE...34'\n",
       "\\item 'Conteggio\\_giallo\\_esito\\_finale\\_giallo'\n",
       "\\item 'Conteggio\\_rosso'\n",
       "\\item 'APPOGGIO - Esito\\_final\\_giallo e Monocontrollo\\_giallo'\n",
       "\\item 'APPOGGIO - Esito\\_final\\_rosso e Monocontrollo\\_rosso'\n",
       "\\item 'Esito\\_final\\_giallo e Monocontrollo\\_giallo'\n",
       "\\item 'Esito\\_final\\_rosso e Monocontrollo\\_rosso'\n",
       "\\item 'Flag\\_utilizzato=0'\n",
       "\\item 'Perimetro analisi descrittive'\n",
       "\\item 'Perimetro\\_finale\\_analisi TD'\n",
       "\\item 'Perimetro\\_no\\_default\\_T0'\n",
       "\\item 'Perimetro\\_si\\_default\\_Tfinal'\n",
       "\\item 'Cluster\\_operazione\\_concessa\\_applica'\n",
       "\\item 'RATING\\_APPOGGIO'\n",
       "\\item 'RATING\\_APPOGGIO2'\n",
       "\\item 'RATING'\n",
       "\\item 'SAG\\_APPOGGIO'\n",
       "\\item 'SAG\\_APPOGGIO2'\n",
       "\\item 'SAG'\n",
       "\\item 'ID\\_CEDENTE\\_APPOGGIO'\n",
       "\\item 'ID\\_CEDENTE...228'\n",
       "\\item 'CHIAVE\\_LIMITI\\_SOC'\n",
       "\\item 'LIMITE\\_MAX'\n",
       "\\item 'Cluster\\_finale\\_operazione\\_concessa\\_applica'\n",
       "\\item 'SOGG\\_ESTERO\\_RISK'\n",
       "\\item 'MacroSegmento\\_Attuale LC'\n",
       "\\item 'Flag\\_Univocita\\_Cont\\_Giallo'\n",
       "\\item 'Cluster\\_numerosità\\_contr\\_gialli'\n",
       "\\item 'Cluster\\_numerosità\\_contr\\_rossi'\n",
       "\\item 'Flag\\_UNIVOCO/COMPRESENZA\\_GIALLI'\n",
       "\\item 'Flag\\_IMP\\_FIDO\\_ORIG\\_<LIMITE'\n",
       "\\item 'RICHIESTO\\_VS\\_LIMITE\\_V2'\n",
       "\\item 'PERIMETRO\\_STANDARD'\n",
       "\\item 'SCARTO\\_VS\\_LIMITE'\n",
       "\\item 'CLUSTER\\_SCARTO'\n",
       "\\item 'IMPORTO ORIGI+APPL CONCESSA'\n",
       "\\item 'CLUSTER\\_RATING\\_FASCIA'\n",
       "\\item 'M3-M4'\n",
       "\\item 'M1-M2'\n",
       "\\item 'I5-I6'\n",
       "\\item 'I4'\n",
       "\\item 'I3'\n",
       "\\item 'I1-I2'\n",
       "\\item 'NUOVI\\_VERDI'\n",
       "\\item 'NUOVO\\_ESITO\\_FINALE'\n",
       "\\item 'NUOVI\\_VERDI\\_SENZA\\_SOGLIA'\n",
       "\\item 'NUOVO\\_ESITO\\_SENZA SOGLIA'\n",
       "\\item 'target'\n",
       "\\end{enumerate*}\n"
      ],
      "text/markdown": [
       "1. 'NUM_PRATICA'\n",
       "2. 'PROGRESS_PRATICA'\n",
       "3. 'STATO_PRATICA'\n",
       "4. 'CHIAVE_DB'\n",
       "5. 'ABI'\n",
       "6. 'ABI_PEF5'\n",
       "7. 'FILIALE_PEF5'\n",
       "8. 'ANNO_PEF5'\n",
       "9. 'PROGRESSIVO_PEF5'\n",
       "10. 'TIPO_PRATICA'\n",
       "11. 'PROVENIENZA_PRATICA'\n",
       "12. 'DESCRIZIONE_PROVENIENZA'\n",
       "13. 'DATA_DELIBERA_O_ANNULL_FIDO'\n",
       "14. 'ANNOMESE_DELIBERA_O_ANNULL_FIDO'\n",
       "15. 'CONDICE_CONSOCIATA'\n",
       "16. 'USER_ISTRUTTORIA'\n",
       "17. 'DATA_ISTRUTTORIA'\n",
       "18. 'USER_DELIBERA'\n",
       "19. 'SNDG_CEDUTO_old'\n",
       "20. 'CODICE_FISCALE_CEDUTO'\n",
       "21. 'NDG_CEDUTO'\n",
       "22. 'ANDI_NDG_SUPER'\n",
       "23. 'FILIALE_FACTORING_CEDUTO'\n",
       "24. 'SETTORE_CEDUTO'\n",
       "25. 'NDG_CEDENTE'\n",
       "26. 'DIVISIONE_CEDUTO'\n",
       "27. 'TIPO APPLICAZIONE'\n",
       "28. 'IMPORTO RICHIESTO APPLICAZIONE'\n",
       "29. 'DIVISA RICHIESTA APPLICAZIONE'\n",
       "30. 'TIPO OPERAZIONE RICHIESTA APPLIC'\n",
       "31. 'IMPORTO CONCESSO APPLICAZIONE'\n",
       "32. 'DIVISA CONCESSA APPLICAZIONE'\n",
       "33. 'TIPO OPERAZIONE CONCESSA APPLICA'\n",
       "34. 'FT FACTORING'\n",
       "35. 'TIPOLOGIA FT FACTORING (CONTINUA'\n",
       "36. 'INDICATORE SE FIDO CAPOFILA O PR'\n",
       "37. 'QUOTA PROSOLUTO - IMPORTO'\n",
       "38. 'QUOTA PROSOLUTO - FT GF'\n",
       "39. 'QUOTA PROSOLUTO - FT PCR'\n",
       "40. 'QUOTA PROSOLVENDO - IMPORTO'\n",
       "41. 'QUOTA PROSOLVENDO - FT GF'\n",
       "42. 'QUOTA PROSOLVENDO - FT PCR'\n",
       "43. 'TIPO OPERAZIONE FIDO'\n",
       "44. 'IMPORTO FIDO'\n",
       "45. 'DIVISA FIDO'\n",
       "46. 'SNDG_CEDENTE'\n",
       "47. 'CODICE_FISCALE_CEDENTE'\n",
       "48. 'ID_CEDENTE'\n",
       "49. 'STATO_CEDENTE'\n",
       "50. 'CEDENTE_SI/NO'\n",
       "51. 'DEBITORE_SI/NO'\n",
       "52. 'DESCR_STATO_CEDENTE'\n",
       "53. 'FILIALE_CEDENTE'\n",
       "54. 'SETTORE_CEDENTE'\n",
       "55. 'DESCRIZIONE_SETTORE'\n",
       "56. 'PRESENZA_POLIZZA_SI_NO'\n",
       "57. 'ESITO_FINALE_VPC'\n",
       "58. 'Colore - EXPORT FACILE- FISCALE'\n",
       "59. 'Colore - CEDENTE REVOCATO'\n",
       "60. 'Colore - CEDENTE TRAVEL'\n",
       "61. 'Colore - SOGGETTO ESTERO'\n",
       "62. 'Colore - CODICE FISCALE/P. IVA N'\n",
       "63. 'Colore - CODICE FISCALE GIA\\' PRE'\n",
       "64. 'Colore - CODICE FISCALE GIA_0001'\n",
       "65. 'Colore - P.IVA GIA\\' PRESENTE NEL'\n",
       "66. 'Colore - CODICE CLIENTE GIA\\' PRE'\n",
       "67. 'Colore - CODICE CLIENTE GIA_0001'\n",
       "68. 'Colore - CODICE FISCALE FORMALME'\n",
       "69. 'Colore - PRESENZA SOGGETTO IN PI'\n",
       "70. 'Colore - TIPO OPERAZIONE RIDUZIO'\n",
       "71. 'Colore - IMPORTO RICHIESTO &lt;= AD'\n",
       "72. 'Colore - IMPORTO RICHIESTO A ZER'\n",
       "73. 'Colore - SOGGETTO EEPP'\n",
       "74. 'Colore - ABI/CAB/CONTO OBBLIGATO'\n",
       "75. 'Colore - EXPORT FACILE-SIA CEDEN'\n",
       "76. 'Colore - SOGGETTO CON FORMA GIUR'\n",
       "77. 'Colore - FORMA GIURIDICA SENZA C'\n",
       "78. 'Colore - CONFIRMING - CHAMPION D'\n",
       "79. 'Colore - CONFIRMING - CODICE FIS'\n",
       "80. 'Colore - CONFIRMING - CODIC_0001'\n",
       "81. 'Colore - CONFIRMING - P.IVA GIA\\''\n",
       "82. 'Colore - CONFIRMING - CODICE FOR'\n",
       "83. 'Colore - STATO SAB'\n",
       "84. 'Colore - RATING SCADUTO'\n",
       "85. 'Colore - PARTE CORRELATA'\n",
       "86. 'Colore - PRESENZA DI FIDI CEDENT'\n",
       "87. 'Colore - SOGGETTO CEDENTE'\n",
       "88. 'Colore - RAPPORTI IN OSSERVAZION'\n",
       "89. 'Colore - INCONGRUENZA TRA LOCALI'\n",
       "90. 'Colore - PRESENZA GARANZIA OPERA'\n",
       "91. 'Colore - PRESENZA PRATICA IN PEF'\n",
       "92. 'Colore - NDG SETTORIALE MANCANTE'\n",
       "93. 'Colore - FIDO CON CAUSALE NEGATI'\n",
       "94. 'Colore - APPROVATO'\n",
       "95. 'Colore - FIDO SCADUTO'\n",
       "96. 'Colore - AUTONOMIA FIDO'\n",
       "97. 'Colore - LIMITI SOCIETARI'\n",
       "98. 'Colore - LIMITI SOCIETARI - AS I'\n",
       "99. 'Colore - FIDO RIDOTTO'\n",
       "100. 'Colore - AUTORIZZAZIONE NO CONTR'\n",
       "101. 'Colore - APPLICAZIONE CON CAUSAL'\n",
       "102. 'Colore - APPLICAZIONI CON CAUSAL'\n",
       "103. 'Colore - SCADUTO &gt; 20%OUTSTANDIN'\n",
       "104. 'Colore - CR: PRESENZA SOFFERENZE'\n",
       "105. 'Colore - CR: UTILIZZATO &gt; ACCORD'\n",
       "106. 'Colore - CR: PRESENZA SCONFINAME'\n",
       "107. 'Colore - BILANCI :PATRIMONIO NET'\n",
       "108. 'Colore - BILANCI :DEBITI BANCARI'\n",
       "109. 'Colore - BILANCI :PASSIVO CORREN'\n",
       "110. 'Colore - STATO SOCIETARIO'\n",
       "111. 'Colore - DATA COSTITUZIONE'\n",
       "112. 'Colore - NUMERO INTERROGAZIONI'\n",
       "113. 'Colore - PROTESTI CERTI'\n",
       "114. 'Colore - PROTESTI DUBBI'\n",
       "115. 'Colore - FALLIMENTI CERTI'\n",
       "116. 'Colore - FALLIMENTI DUBBI'\n",
       "117. 'Colore - PREGIUDIZIEVOLI GRAVI'\n",
       "118. 'Colore - PROCEDURE CONCORSUALI'\n",
       "119. 'Colore - IMPRESE COLLEGATE: PROC'\n",
       "120. 'Colore - ATECO BKIT OBBLIGATORIO'\n",
       "121. 'Colore - CODICE CLIENTE GIA_0002'\n",
       "122. 'Colore - CEDENTE APPARTIENE A GR'\n",
       "123. 'Colore - TIMEOUT SCADUTO1'\n",
       "124. 'Colore - NESSUNA POSIZIONE INCRO'\n",
       "125. 'Colore - INSERIMENTO NON CONSENT'\n",
       "126. 'Colore - TIMEOUT SCADUTO2'\n",
       "127. 'Colore - TIMEOUT SCADUTO3'\n",
       "128. 'Colore - ERRORE GENERICO, RISOTT'\n",
       "129. 'Esito - EXPORT FACILE- FISCALE C'\n",
       "130. 'Esito - CEDENTE REVOCATO'\n",
       "131. 'Esito - CEDENTE TRAVEL'\n",
       "132. 'Esito - SOGGETTO ESTERO'\n",
       "133. 'Esito - CODICE FISCALE/P. IVA NO'\n",
       "134. 'Esito - CODICE FISCALE GIA\\' PRES'\n",
       "135. 'Esito - CODICE FISCALE GIA\\'_0001'\n",
       "136. 'Esito - P.IVA GIA\\' PRESENTE NELL'\n",
       "137. 'Esito - CODICE CLIENTE GIA\\' PRES'\n",
       "138. 'Esito - CODICE CLIENTE GIA\\'_0001'\n",
       "139. 'Esito - CODICE FISCALE FORMALMEN'\n",
       "140. 'Esito - PRESENZA SOGGETTO IN PIU'\n",
       "141. 'Esito - TIPO OPERAZIONE RIDUZION'\n",
       "142. 'Esito - IMPORTO RICHIESTO &lt;= AD'\n",
       "143. 'Esito - IMPORTO RICHIESTO A ZERO'\n",
       "144. 'Esito - SOGGETTO EEPP'\n",
       "145. 'Esito - ABI/CAB/CONTO OBBLIGATOR'\n",
       "146. 'Esito - EXPORT FACILE-SIA CEDENT'\n",
       "147. 'Esito - SOGGETTO CON FORMA GIURI'\n",
       "148. 'Esito - FORMA GIURIDICA SENZA CC'\n",
       "149. 'Esito - CONFIRMING - CHAMPION DE'\n",
       "150. 'Esito - CONFIRMING - CODICE FISC'\n",
       "151. 'Esito - CONFIRMING - CODICE_0001'\n",
       "152. 'Esito - CONFIRMING - P.IVA GIA\\''\n",
       "153. 'Esito - CONFIRMING - CODICE FORN'\n",
       "154. 'Esito - STATO SAB'\n",
       "155. 'Esito - RATING SCADUTO'\n",
       "156. 'Esito - PARTE CORRELATA'\n",
       "157. 'Esito - PRESENZA DI FIDI CEDENTE'\n",
       "158. 'Esito - SOGGETTO CEDENTE'\n",
       "159. 'Esito - RAPPORTI IN OSSERVAZIONE'\n",
       "160. 'Esito - INCONGRUENZA TRA LOCALIT'\n",
       "161. 'Esito - PRESENZA GARANZIA OPERAN'\n",
       "162. 'Esito - PRESENZA PRATICA IN PEF5'\n",
       "163. 'Esito - NDG SETTORIALE MANCANTE'\n",
       "164. 'Esito - FIDO CON CAUSALE NEGATIV'\n",
       "165. 'Esito - APPROVATO'\n",
       "166. 'Esito - FIDO SCADUTO'\n",
       "167. 'Esito - AUTONOMIA FIDO'\n",
       "168. 'Esito - LIMITI SOCIETARI'\n",
       "169. 'Esito - LIMITI SOCIETARI - AS IS'\n",
       "170. 'Esito - FIDO RIDOTTO'\n",
       "171. 'Esito - AUTORIZZAZIONE NO CONTRO'\n",
       "172. 'Esito - APPLICAZIONE CON CAUSALE'\n",
       "173. 'Esito - APPLICAZIONI CON CAUSALE'\n",
       "174. 'Esito - SCADUTO &gt; 20%OUTSTANDING'\n",
       "175. 'Esito - CR: PRESENZA SOFFERENZE'\n",
       "176. 'Esito - CR: UTILIZZATO &gt; ACCORDA'\n",
       "177. 'Esito - CR: PRESENZA SCONFINAMEN'\n",
       "178. 'Esito - BILANCI :PATRIMONIO NETT'\n",
       "179. 'Esito - BILANCI :DEBITI BANCARI'\n",
       "180. 'Esito - BILANCI :PASSIVO CORRENT'\n",
       "181. 'Esito - STATO SOCIETARIO'\n",
       "182. 'Esito - DATA COSTITUZIONE'\n",
       "183. 'Esito - NUMERO INTERROGAZIONI'\n",
       "184. 'Esito - PROTESTI CERTI'\n",
       "185. 'Esito - PROTESTI DUBBI'\n",
       "186. 'Esito - FALLIMENTI CERTI'\n",
       "187. 'Esito - FALLIMENTI DUBBI'\n",
       "188. 'Esito - PREGIUDIZIEVOLI GRAVI'\n",
       "189. 'Esito - PROCEDURE CONCORSUALI'\n",
       "190. 'Esito - IMPRESE COLLEGATE: PROCE'\n",
       "191. 'Esito - ATECO BKIT OBBLIGATORIO'\n",
       "192. 'Esito - CODICE CLIENTE GIA\\'_0002'\n",
       "193. 'Esito - CEDENTE APPARTIENE A GRU'\n",
       "194. 'Esito - TIMEOUT SCADUTO1'\n",
       "195. 'Esito - NESSUNA POSIZIONE INCROC'\n",
       "196. 'Esito - INSERIMENTO NON CONSENTI'\n",
       "197. 'Esito - TIMEOUT SCADUTO2'\n",
       "198. 'Esito - TIMEOUT SCADUTO3'\n",
       "199. 'Esito - ERRORE GENERICO, RISOTTO'\n",
       "200. 'Input - EXPORT FACILE- FISCALE C'\n",
       "201. ⋯\n",
       "202. 'Input - AUTONOMIA FIDO'\n",
       "203. 'Input - LIMITI SOCIETARI'\n",
       "204. 'Input - LIMITI SOCIETARI - AS IS'\n",
       "205. 'Input - FIDO RIDOTTO'\n",
       "206. 'Input - AUTORIZZAZIONE NO CONTRO'\n",
       "207. 'Input - APPLICAZIONE CON CAUSALE'\n",
       "208. 'Input - APPLICAZIONI CON CAUSALE'\n",
       "209. 'Input - SCADUTO &gt; 20%OUTSTANDING'\n",
       "210. 'Input - CR: PRESENZA SOFFERENZE'\n",
       "211. 'Input - CR: UTILIZZATO &gt; ACCORDA'\n",
       "212. 'Input - CR: PRESENZA SCONFINAMEN'\n",
       "213. 'Input - BILANCI :PATRIMONIO NETT'\n",
       "214. 'Input - BILANCI :DEBITI BANCARI'\n",
       "215. 'Input - BILANCI :PASSIVO CORRENT'\n",
       "216. 'Input - STATO SOCIETARIO'\n",
       "217. 'Input - DATA COSTITUZIONE'\n",
       "218. 'Input - NUMERO INTERROGAZIONI'\n",
       "219. 'Input - PROTESTI CERTI'\n",
       "220. 'Input - PROTESTI DUBBI'\n",
       "221. 'Input - FALLIMENTI CERTI'\n",
       "222. 'Input - FALLIMENTI DUBBI'\n",
       "223. 'Input - PREGIUDIZIEVOLI GRAVI'\n",
       "224. 'Input - PROCEDURE CONCORSUALI'\n",
       "225. 'Input - IMPRESE COLLEGATE: PROCE'\n",
       "226. 'Input - ATECO BKIT OBBLIGATORIO'\n",
       "227. 'Input - CODICE CLIENTE GIA\\'_0002'\n",
       "228. 'Input - CEDENTE APPARTIENE A GRU'\n",
       "229. 'Input - TIMEOUT SCADUTO1'\n",
       "230. 'Input - NESSUNA POSIZIONE INCROC'\n",
       "231. 'Input - INSERIMENTO NON CONSENTI'\n",
       "232. 'Input - TIMEOUT SCADUTO2'\n",
       "233. 'Input - TIMEOUT SCADUTO3'\n",
       "234. 'Input - ERRORE GENERICO, RISOTTO'\n",
       "235. 'TIPO_PRODOTTO'\n",
       "236. 'IMPORTO_RICHIESTO'\n",
       "237. 'Right_NUM_PRATICA'\n",
       "238. 'Right_PROGRESS_PRATICA'\n",
       "239. 'Right_STATO_PRATICA'\n",
       "240. 'RAE_CEDUTO'\n",
       "241. 'RAE_DESCR_CEDUTO'\n",
       "242. 'SAE_CEDUTO'\n",
       "243. 'SAE_DESCR_CEDUTO'\n",
       "244. 'RAE_CEDENTE'\n",
       "245. 'RAE_DESCR_CEDENTE'\n",
       "246. 'SAE_CEDENTE'\n",
       "247. 'SAE_DESCR_CEDENTE'\n",
       "248. 'NUMERO_TOT_FIDI'\n",
       "249. 'COUNT_FIDI_IN_CONFERMA'\n",
       "250. 'SUM_IMPORT_FIDI_CONCESSIONE'\n",
       "251. 'SUM_IMPORT_FIDI_AUMENTO'\n",
       "252. 'DATA_RICHIESTA_FIDO'\n",
       "253. 'ISR_DATA'\n",
       "254. 'ISR_CODICE'\n",
       "255. 'ISR_DESCRIZIONE'\n",
       "256. 'DATA_PERFEZ_CONTRATTO'\n",
       "257. 'IMPORTO_ORIGINALE'\n",
       "258. 'SEMAFORO_PRIMO_LIVELLO'\n",
       "259. 'POLIZZA_DIRETTA_(39)'\n",
       "260. 'POLIZZA_INDIRETTA_(41)'\n",
       "261. 'PREFISSO_MOD_RATING_CEDUTO'\n",
       "262. 'MODELLO_RATING_CEDUTO'\n",
       "263. 'RATING_CEDUTO'\n",
       "264. 'CIB_BDT_CEDENTE'\n",
       "265. 'PREFISSO_MOD_RATING_CEDENTE'\n",
       "266. 'MODELLO_RATING_CEDENTE'\n",
       "267. 'RATING_CEDENTE'\n",
       "268. 'SAG_CEDUTO'\n",
       "269. 'SAG_CEDENTE'\n",
       "270. 'FLAG_UBI_FACTOR'\n",
       "271. 'TIPOLOGIA FT FACTORING (CONTINU2'\n",
       "272. 'QUOTA_PROSOLUTO_ORIGINARIA'\n",
       "273. 'QUOTA_PROSOLVENDO_ORIGINARIA'\n",
       "274. 'IMPORTO_ORIGINARIO'\n",
       "275. 'IMPORT_ORIGIN_APPL_PROSOLUTO'\n",
       "276. 'IMPORT_ORIGIN_APPL_PROSOLVENDO'\n",
       "277. 'Pratica_testo'\n",
       "278. 'Flag_Monofido'\n",
       "279. 'Presenza_fido_580_590'\n",
       "280. 'Presenza_fido_580_590_C'\n",
       "281. 'Congruenza_Prodotto_Fido'\n",
       "282. 'Flag_Applicazione_Univoca'\n",
       "283. 'Flag_Finale'\n",
       "284. 'ISTRUTTORE'\n",
       "285. 'DELIBERANTE'\n",
       "286. 'Sndg_ceduto_new'\n",
       "287. 'Flag_Ditta_Individuale'\n",
       "288. 'SNDG_CEDUTO'\n",
       "289. 'Tipo_Valutazione_del_ceduto'\n",
       "290. 'Flag_Valutazione_VPC_sul_ceduto'\n",
       "291. 'Flag_presenza_Sndg_Ceduto'\n",
       "292. 'Presenza_Rating'\n",
       "293. 'Rating_Inizio_Periodo'\n",
       "294. 'Periodo_Osservazione_in_corso'\n",
       "295. 'Rating_periodo_adj'\n",
       "296. 'Rating_Fine_periodo_adj'\n",
       "297. 'DAT_ATTR_RAT_Per_Compreso'\n",
       "298. 'DAT_ATTR_RAT_T0'\n",
       "299. 'DAT_ATTR_RAT_Per_finale'\n",
       "300. 'Data_Attr_rat_fine_per_0101160'\n",
       "301. 'Data_Attr_rat_fin_per_31122999'\n",
       "302. 'Prima_Data_Attr_Primula_Per_ante'\n",
       "303. 'Media_rating_Per_Ante'\n",
       "304. 'Prima_Data_Attrib_Prim_Per_Post'\n",
       "305. 'Rating_Medio_Post_Stipula'\n",
       "306. 'COD_SEGM_Per_compreso'\n",
       "307. 'COD_SEGM_T0'\n",
       "308. 'COD_MOD_BWS_Per_compreso'\n",
       "309. 'COD_MOD_BWS_T0'\n",
       "310. 'COD_CLASSE_CRA_Per_compreso'\n",
       "311. 'COD_CLASSE_CRA_T0'\n",
       "312. 'COD_COLORE_CLASSE_Per_compreso'\n",
       "313. 'COD_COLORE_CLASSE_T0'\n",
       "314. 'Rating_Attuale'\n",
       "315. 'COD_PROV_Attuale'\n",
       "316. 'Importo_Fido_adj'\n",
       "317. 'Numerofidi_pratica'\n",
       "318. 'Delta_fido_selezionato'\n",
       "319. 'Deltafido580590_inv_Prod'\n",
       "320. 'Deltafido_Capofila_non_580590'\n",
       "321. 'Delta_Applicazione'\n",
       "322. 'Data_Stile_numerico'\n",
       "323. 'Anno_Delibera'\n",
       "324. 'Mese_Delibera'\n",
       "325. 'Tipo Operazione Fido Aggregato'\n",
       "326. 'Tipo Operaz Concessa Appl Aggreg'\n",
       "327. 'Rating_Iniz_periodo_Ricondotto'\n",
       "328. 'MEAN_of_Rating_periodo_adj'\n",
       "329. 'Rating_Fine_periodo_Ricondotto'\n",
       "330. 'MacroSegmentoT0'\n",
       "331. 'MacroSegmento_Per_Compreso'\n",
       "332. 'MacroSegmento_Attuale'\n",
       "333. 'Rating_Attuale_Ricondotto'\n",
       "334. 'COD_MOD_BWS_Attuale'\n",
       "335. 'Prima_Data_Attrib_Primula'\n",
       "336. 'Primo_segmento_primula'\n",
       "337. 'Primo_Modello_Primula'\n",
       "338. 'Primo_rating_Primula'\n",
       "339. 'MonoPratica_o_Monocolore'\n",
       "340. 'Accordato_Medio_Pro_soluto'\n",
       "341. 'Utilizzato_Medio_Pro_soluto'\n",
       "342. 'Accordato_Medio_Prosolvendo'\n",
       "343. 'Utilizzato_Medio_Prosolvendo'\n",
       "344. 'Accordato_Medio_Altri_crediti'\n",
       "345. 'Acc_Operativo_Medio_Altri_Credit'\n",
       "346. 'Utilizzato_Medio_Altri_crediti'\n",
       "347. 'Saldo_creditori_Medio_Altri_Cred'\n",
       "348. 'Accordato_Medio_Altro_Fac'\n",
       "349. 'Acc_Oper_Medio_Altro_Fact'\n",
       "350. 'Utilizzato_Medio_Altro_Fac'\n",
       "351. 'Saldicredit_Medio_Altro_Fac'\n",
       "352. 'RAGIO_SOCIALE_CEDUTO'\n",
       "353. 'RAGIO_SOCIALE_CEDENTE'\n",
       "354. 'ID_CEDENTE...34'\n",
       "355. 'Conteggio_giallo_esito_finale_giallo'\n",
       "356. 'Conteggio_rosso'\n",
       "357. 'APPOGGIO - Esito_final_giallo e Monocontrollo_giallo'\n",
       "358. 'APPOGGIO - Esito_final_rosso e Monocontrollo_rosso'\n",
       "359. 'Esito_final_giallo e Monocontrollo_giallo'\n",
       "360. 'Esito_final_rosso e Monocontrollo_rosso'\n",
       "361. 'Flag_utilizzato=0'\n",
       "362. 'Perimetro analisi descrittive'\n",
       "363. 'Perimetro_finale_analisi TD'\n",
       "364. 'Perimetro_no_default_T0'\n",
       "365. 'Perimetro_si_default_Tfinal'\n",
       "366. 'Cluster_operazione_concessa_applica'\n",
       "367. 'RATING_APPOGGIO'\n",
       "368. 'RATING_APPOGGIO2'\n",
       "369. 'RATING'\n",
       "370. 'SAG_APPOGGIO'\n",
       "371. 'SAG_APPOGGIO2'\n",
       "372. 'SAG'\n",
       "373. 'ID_CEDENTE_APPOGGIO'\n",
       "374. 'ID_CEDENTE...228'\n",
       "375. 'CHIAVE_LIMITI_SOC'\n",
       "376. 'LIMITE_MAX'\n",
       "377. 'Cluster_finale_operazione_concessa_applica'\n",
       "378. 'SOGG_ESTERO_RISK'\n",
       "379. 'MacroSegmento_Attuale LC'\n",
       "380. 'Flag_Univocita_Cont_Giallo'\n",
       "381. 'Cluster_numerosità_contr_gialli'\n",
       "382. 'Cluster_numerosità_contr_rossi'\n",
       "383. 'Flag_UNIVOCO/COMPRESENZA_GIALLI'\n",
       "384. 'Flag_IMP_FIDO_ORIG_&lt;LIMITE'\n",
       "385. 'RICHIESTO_VS_LIMITE_V2'\n",
       "386. 'PERIMETRO_STANDARD'\n",
       "387. 'SCARTO_VS_LIMITE'\n",
       "388. 'CLUSTER_SCARTO'\n",
       "389. 'IMPORTO ORIGI+APPL CONCESSA'\n",
       "390. 'CLUSTER_RATING_FASCIA'\n",
       "391. 'M3-M4'\n",
       "392. 'M1-M2'\n",
       "393. 'I5-I6'\n",
       "394. 'I4'\n",
       "395. 'I3'\n",
       "396. 'I1-I2'\n",
       "397. 'NUOVI_VERDI'\n",
       "398. 'NUOVO_ESITO_FINALE'\n",
       "399. 'NUOVI_VERDI_SENZA_SOGLIA'\n",
       "400. 'NUOVO_ESITO_SENZA SOGLIA'\n",
       "401. 'target'\n",
       "\n",
       "\n"
      ],
      "text/plain": [
       "  [1] \"NUM_PRATICA\"                                         \n",
       "  [2] \"PROGRESS_PRATICA\"                                    \n",
       "  [3] \"STATO_PRATICA\"                                       \n",
       "  [4] \"CHIAVE_DB\"                                           \n",
       "  [5] \"ABI\"                                                 \n",
       "  [6] \"ABI_PEF5\"                                            \n",
       "  [7] \"FILIALE_PEF5\"                                        \n",
       "  [8] \"ANNO_PEF5\"                                           \n",
       "  [9] \"PROGRESSIVO_PEF5\"                                    \n",
       " [10] \"TIPO_PRATICA\"                                        \n",
       " [11] \"PROVENIENZA_PRATICA\"                                 \n",
       " [12] \"DESCRIZIONE_PROVENIENZA\"                             \n",
       " [13] \"DATA_DELIBERA_O_ANNULL_FIDO\"                         \n",
       " [14] \"ANNOMESE_DELIBERA_O_ANNULL_FIDO\"                     \n",
       " [15] \"CONDICE_CONSOCIATA\"                                  \n",
       " [16] \"USER_ISTRUTTORIA\"                                    \n",
       " [17] \"DATA_ISTRUTTORIA\"                                    \n",
       " [18] \"USER_DELIBERA\"                                       \n",
       " [19] \"SNDG_CEDUTO_old\"                                     \n",
       " [20] \"CODICE_FISCALE_CEDUTO\"                               \n",
       " [21] \"NDG_CEDUTO\"                                          \n",
       " [22] \"ANDI_NDG_SUPER\"                                      \n",
       " [23] \"FILIALE_FACTORING_CEDUTO\"                            \n",
       " [24] \"SETTORE_CEDUTO\"                                      \n",
       " [25] \"NDG_CEDENTE\"                                         \n",
       " [26] \"DIVISIONE_CEDUTO\"                                    \n",
       " [27] \"TIPO APPLICAZIONE\"                                   \n",
       " [28] \"IMPORTO RICHIESTO APPLICAZIONE\"                      \n",
       " [29] \"DIVISA RICHIESTA APPLICAZIONE\"                       \n",
       " [30] \"TIPO OPERAZIONE RICHIESTA APPLIC\"                    \n",
       " [31] \"IMPORTO CONCESSO APPLICAZIONE\"                       \n",
       " [32] \"DIVISA CONCESSA APPLICAZIONE\"                        \n",
       " [33] \"TIPO OPERAZIONE CONCESSA APPLICA\"                    \n",
       " [34] \"FT FACTORING\"                                        \n",
       " [35] \"TIPOLOGIA FT FACTORING (CONTINUA\"                    \n",
       " [36] \"INDICATORE SE FIDO CAPOFILA O PR\"                    \n",
       " [37] \"QUOTA PROSOLUTO - IMPORTO\"                           \n",
       " [38] \"QUOTA PROSOLUTO - FT GF\"                             \n",
       " [39] \"QUOTA PROSOLUTO - FT PCR\"                            \n",
       " [40] \"QUOTA PROSOLVENDO - IMPORTO\"                         \n",
       " [41] \"QUOTA PROSOLVENDO - FT GF\"                           \n",
       " [42] \"QUOTA PROSOLVENDO - FT PCR\"                          \n",
       " [43] \"TIPO OPERAZIONE FIDO\"                                \n",
       " [44] \"IMPORTO FIDO\"                                        \n",
       " [45] \"DIVISA FIDO\"                                         \n",
       " [46] \"SNDG_CEDENTE\"                                        \n",
       " [47] \"CODICE_FISCALE_CEDENTE\"                              \n",
       " [48] \"ID_CEDENTE\"                                          \n",
       " [49] \"STATO_CEDENTE\"                                       \n",
       " [50] \"CEDENTE_SI/NO\"                                       \n",
       " [51] \"DEBITORE_SI/NO\"                                      \n",
       " [52] \"DESCR_STATO_CEDENTE\"                                 \n",
       " [53] \"FILIALE_CEDENTE\"                                     \n",
       " [54] \"SETTORE_CEDENTE\"                                     \n",
       " [55] \"DESCRIZIONE_SETTORE\"                                 \n",
       " [56] \"PRESENZA_POLIZZA_SI_NO\"                              \n",
       " [57] \"ESITO_FINALE_VPC\"                                    \n",
       " [58] \"Colore - EXPORT FACILE- FISCALE\"                     \n",
       " [59] \"Colore - CEDENTE REVOCATO\"                           \n",
       " [60] \"Colore - CEDENTE TRAVEL\"                             \n",
       " [61] \"Colore - SOGGETTO ESTERO\"                            \n",
       " [62] \"Colore - CODICE FISCALE/P. IVA N\"                    \n",
       " [63] \"Colore - CODICE FISCALE GIA' PRE\"                    \n",
       " [64] \"Colore - CODICE FISCALE GIA_0001\"                    \n",
       " [65] \"Colore - P.IVA GIA' PRESENTE NEL\"                    \n",
       " [66] \"Colore - CODICE CLIENTE GIA' PRE\"                    \n",
       " [67] \"Colore - CODICE CLIENTE GIA_0001\"                    \n",
       " [68] \"Colore - CODICE FISCALE FORMALME\"                    \n",
       " [69] \"Colore - PRESENZA SOGGETTO IN PI\"                    \n",
       " [70] \"Colore - TIPO OPERAZIONE RIDUZIO\"                    \n",
       " [71] \"Colore - IMPORTO RICHIESTO <= AD\"                    \n",
       " [72] \"Colore - IMPORTO RICHIESTO A ZER\"                    \n",
       " [73] \"Colore - SOGGETTO EEPP\"                              \n",
       " [74] \"Colore - ABI/CAB/CONTO OBBLIGATO\"                    \n",
       " [75] \"Colore - EXPORT FACILE-SIA CEDEN\"                    \n",
       " [76] \"Colore - SOGGETTO CON FORMA GIUR\"                    \n",
       " [77] \"Colore - FORMA GIURIDICA SENZA C\"                    \n",
       " [78] \"Colore - CONFIRMING - CHAMPION D\"                    \n",
       " [79] \"Colore - CONFIRMING - CODICE FIS\"                    \n",
       " [80] \"Colore - CONFIRMING - CODIC_0001\"                    \n",
       " [81] \"Colore - CONFIRMING - P.IVA GIA'\"                    \n",
       " [82] \"Colore - CONFIRMING - CODICE FOR\"                    \n",
       " [83] \"Colore - STATO SAB\"                                  \n",
       " [84] \"Colore - RATING SCADUTO\"                             \n",
       " [85] \"Colore - PARTE CORRELATA\"                            \n",
       " [86] \"Colore - PRESENZA DI FIDI CEDENT\"                    \n",
       " [87] \"Colore - SOGGETTO CEDENTE\"                           \n",
       " [88] \"Colore - RAPPORTI IN OSSERVAZION\"                    \n",
       " [89] \"Colore - INCONGRUENZA TRA LOCALI\"                    \n",
       " [90] \"Colore - PRESENZA GARANZIA OPERA\"                    \n",
       " [91] \"Colore - PRESENZA PRATICA IN PEF\"                    \n",
       " [92] \"Colore - NDG SETTORIALE MANCANTE\"                    \n",
       " [93] \"Colore - FIDO CON CAUSALE NEGATI\"                    \n",
       " [94] \"Colore - APPROVATO\"                                  \n",
       " [95] \"Colore - FIDO SCADUTO\"                               \n",
       " [96] \"Colore - AUTONOMIA FIDO\"                             \n",
       " [97] \"Colore - LIMITI SOCIETARI\"                           \n",
       " [98] \"Colore - LIMITI SOCIETARI - AS I\"                    \n",
       " [99] \"Colore - FIDO RIDOTTO\"                               \n",
       "[100] \"Colore - AUTORIZZAZIONE NO CONTR\"                    \n",
       "[101] \"Colore - APPLICAZIONE CON CAUSAL\"                    \n",
       "[102] \"Colore - APPLICAZIONI CON CAUSAL\"                    \n",
       "[103] \"Colore - SCADUTO > 20%OUTSTANDIN\"                    \n",
       "[104] \"Colore - CR: PRESENZA SOFFERENZE\"                    \n",
       "[105] \"Colore - CR: UTILIZZATO > ACCORD\"                    \n",
       "[106] \"Colore - CR: PRESENZA SCONFINAME\"                    \n",
       "[107] \"Colore - BILANCI :PATRIMONIO NET\"                    \n",
       "[108] \"Colore - BILANCI :DEBITI BANCARI\"                    \n",
       "[109] \"Colore - BILANCI :PASSIVO CORREN\"                    \n",
       "[110] \"Colore - STATO SOCIETARIO\"                           \n",
       "[111] \"Colore - DATA COSTITUZIONE\"                          \n",
       "[112] \"Colore - NUMERO INTERROGAZIONI\"                      \n",
       "[113] \"Colore - PROTESTI CERTI\"                             \n",
       "[114] \"Colore - PROTESTI DUBBI\"                             \n",
       "[115] \"Colore - FALLIMENTI CERTI\"                           \n",
       "[116] \"Colore - FALLIMENTI DUBBI\"                           \n",
       "[117] \"Colore - PREGIUDIZIEVOLI GRAVI\"                      \n",
       "[118] \"Colore - PROCEDURE CONCORSUALI\"                      \n",
       "[119] \"Colore - IMPRESE COLLEGATE: PROC\"                    \n",
       "[120] \"Colore - ATECO BKIT OBBLIGATORIO\"                    \n",
       "[121] \"Colore - CODICE CLIENTE GIA_0002\"                    \n",
       "[122] \"Colore - CEDENTE APPARTIENE A GR\"                    \n",
       "[123] \"Colore - TIMEOUT SCADUTO1\"                           \n",
       "[124] \"Colore - NESSUNA POSIZIONE INCRO\"                    \n",
       "[125] \"Colore - INSERIMENTO NON CONSENT\"                    \n",
       "[126] \"Colore - TIMEOUT SCADUTO2\"                           \n",
       "[127] \"Colore - TIMEOUT SCADUTO3\"                           \n",
       "[128] \"Colore - ERRORE GENERICO, RISOTT\"                    \n",
       "[129] \"Esito - EXPORT FACILE- FISCALE C\"                    \n",
       "[130] \"Esito - CEDENTE REVOCATO\"                            \n",
       "[131] \"Esito - CEDENTE TRAVEL\"                              \n",
       "[132] \"Esito - SOGGETTO ESTERO\"                             \n",
       "[133] \"Esito - CODICE FISCALE/P. IVA NO\"                    \n",
       "[134] \"Esito - CODICE FISCALE GIA' PRES\"                    \n",
       "[135] \"Esito - CODICE FISCALE GIA'_0001\"                    \n",
       "[136] \"Esito - P.IVA GIA' PRESENTE NELL\"                    \n",
       "[137] \"Esito - CODICE CLIENTE GIA' PRES\"                    \n",
       "[138] \"Esito - CODICE CLIENTE GIA'_0001\"                    \n",
       "[139] \"Esito - CODICE FISCALE FORMALMEN\"                    \n",
       "[140] \"Esito - PRESENZA SOGGETTO IN PIU\"                    \n",
       "[141] \"Esito - TIPO OPERAZIONE RIDUZION\"                    \n",
       "[142] \"Esito - IMPORTO RICHIESTO <= AD\"                     \n",
       "[143] \"Esito - IMPORTO RICHIESTO A ZERO\"                    \n",
       "[144] \"Esito - SOGGETTO EEPP\"                               \n",
       "[145] \"Esito - ABI/CAB/CONTO OBBLIGATOR\"                    \n",
       "[146] \"Esito - EXPORT FACILE-SIA CEDENT\"                    \n",
       "[147] \"Esito - SOGGETTO CON FORMA GIURI\"                    \n",
       "[148] \"Esito - FORMA GIURIDICA SENZA CC\"                    \n",
       "[149] \"Esito - CONFIRMING - CHAMPION DE\"                    \n",
       "[150] \"Esito - CONFIRMING - CODICE FISC\"                    \n",
       "[151] \"Esito - CONFIRMING - CODICE_0001\"                    \n",
       "[152] \"Esito - CONFIRMING - P.IVA GIA'\"                     \n",
       "[153] \"Esito - CONFIRMING - CODICE FORN\"                    \n",
       "[154] \"Esito - STATO SAB\"                                   \n",
       "[155] \"Esito - RATING SCADUTO\"                              \n",
       "[156] \"Esito - PARTE CORRELATA\"                             \n",
       "[157] \"Esito - PRESENZA DI FIDI CEDENTE\"                    \n",
       "[158] \"Esito - SOGGETTO CEDENTE\"                            \n",
       "[159] \"Esito - RAPPORTI IN OSSERVAZIONE\"                    \n",
       "[160] \"Esito - INCONGRUENZA TRA LOCALIT\"                    \n",
       "[161] \"Esito - PRESENZA GARANZIA OPERAN\"                    \n",
       "[162] \"Esito - PRESENZA PRATICA IN PEF5\"                    \n",
       "[163] \"Esito - NDG SETTORIALE MANCANTE\"                     \n",
       "[164] \"Esito - FIDO CON CAUSALE NEGATIV\"                    \n",
       "[165] \"Esito - APPROVATO\"                                   \n",
       "[166] \"Esito - FIDO SCADUTO\"                                \n",
       "[167] \"Esito - AUTONOMIA FIDO\"                              \n",
       "[168] \"Esito - LIMITI SOCIETARI\"                            \n",
       "[169] \"Esito - LIMITI SOCIETARI - AS IS\"                    \n",
       "[170] \"Esito - FIDO RIDOTTO\"                                \n",
       "[171] \"Esito - AUTORIZZAZIONE NO CONTRO\"                    \n",
       "[172] \"Esito - APPLICAZIONE CON CAUSALE\"                    \n",
       "[173] \"Esito - APPLICAZIONI CON CAUSALE\"                    \n",
       "[174] \"Esito - SCADUTO > 20%OUTSTANDING\"                    \n",
       "[175] \"Esito - CR: PRESENZA SOFFERENZE\"                     \n",
       "[176] \"Esito - CR: UTILIZZATO > ACCORDA\"                    \n",
       "[177] \"Esito - CR: PRESENZA SCONFINAMEN\"                    \n",
       "[178] \"Esito - BILANCI :PATRIMONIO NETT\"                    \n",
       "[179] \"Esito - BILANCI :DEBITI BANCARI\"                     \n",
       "[180] \"Esito - BILANCI :PASSIVO CORRENT\"                    \n",
       "[181] \"Esito - STATO SOCIETARIO\"                            \n",
       "[182] \"Esito - DATA COSTITUZIONE\"                           \n",
       "[183] \"Esito - NUMERO INTERROGAZIONI\"                       \n",
       "[184] \"Esito - PROTESTI CERTI\"                              \n",
       "[185] \"Esito - PROTESTI DUBBI\"                              \n",
       "[186] \"Esito - FALLIMENTI CERTI\"                            \n",
       "[187] \"Esito - FALLIMENTI DUBBI\"                            \n",
       "[188] \"Esito - PREGIUDIZIEVOLI GRAVI\"                       \n",
       "[189] \"Esito - PROCEDURE CONCORSUALI\"                       \n",
       "[190] \"Esito - IMPRESE COLLEGATE: PROCE\"                    \n",
       "[191] \"Esito - ATECO BKIT OBBLIGATORIO\"                     \n",
       "[192] \"Esito - CODICE CLIENTE GIA'_0002\"                    \n",
       "[193] \"Esito - CEDENTE APPARTIENE A GRU\"                    \n",
       "[194] \"Esito - TIMEOUT SCADUTO1\"                            \n",
       "[195] \"Esito - NESSUNA POSIZIONE INCROC\"                    \n",
       "[196] \"Esito - INSERIMENTO NON CONSENTI\"                    \n",
       "[197] \"Esito - TIMEOUT SCADUTO2\"                            \n",
       "[198] \"Esito - TIMEOUT SCADUTO3\"                            \n",
       "[199] \"Esito - ERRORE GENERICO, RISOTTO\"                    \n",
       "[200] \"Input - EXPORT FACILE- FISCALE C\"                    \n",
       "[201] \"Input - CEDENTE REVOCATO\"                            \n",
       "[202] \"Input - CEDENTE TRAVEL\"                              \n",
       "[203] \"Input - SOGGETTO ESTERO\"                             \n",
       "[204] \"Input - CODICE FISCALE/P. IVA NO\"                    \n",
       "[205] \"Input - CODICE FISCALE GIA' PRES\"                    \n",
       "[206] \"Input - CODICE FISCALE GIA'_0001\"                    \n",
       "[207] \"Input - P.IVA GIA' PRESENTE NELL\"                    \n",
       "[208] \"Input - CODICE CLIENTE GIA' PRES\"                    \n",
       "[209] \"Input - CODICE CLIENTE GIA'_0001\"                    \n",
       "[210] \"Input - CODICE FISCALE FORMALMEN\"                    \n",
       "[211] \"Input - PRESENZA SOGGETTO IN PIU\"                    \n",
       "[212] \"Input - TIPO OPERAZIONE RIDUZION\"                    \n",
       "[213] \"Input - IMPORTO RICHIESTO <= AD\"                     \n",
       "[214] \"Input - IMPORTO RICHIESTO A ZERO\"                    \n",
       "[215] \"Input - SOGGETTO EEPP\"                               \n",
       "[216] \"Input - ABI/CAB/CONTO OBBLIGATOR\"                    \n",
       "[217] \"Input - EXPORT FACILE-SIA CEDENT\"                    \n",
       "[218] \"Input - SOGGETTO CON FORMA GIURI\"                    \n",
       "[219] \"Input - FORMA GIURIDICA SENZA CC\"                    \n",
       "[220] \"Input - CONFIRMING - CHAMPION DE\"                    \n",
       "[221] \"Input - CONFIRMING - CODICE FISC\"                    \n",
       "[222] \"Input - CONFIRMING - CODICE_0001\"                    \n",
       "[223] \"Input - CONFIRMING - P.IVA GIA'\"                     \n",
       "[224] \"Input - CONFIRMING - CODICE FORN\"                    \n",
       "[225] \"Input - STATO SAB\"                                   \n",
       "[226] \"Input - RATING SCADUTO\"                              \n",
       "[227] \"Input - PARTE CORRELATA\"                             \n",
       "[228] \"Input - PRESENZA DI FIDI CEDENTE\"                    \n",
       "[229] \"Input - SOGGETTO CEDENTE\"                            \n",
       "[230] \"Input - RAPPORTI IN OSSERVAZIONE\"                    \n",
       "[231] \"Input - INCONGRUENZA TRA LOCALIT\"                    \n",
       "[232] \"Input - PRESENZA GARANZIA OPERAN\"                    \n",
       "[233] \"Input - PRESENZA PRATICA IN PEF5\"                    \n",
       "[234] \"Input - NDG SETTORIALE MANCANTE\"                     \n",
       "[235] \"Input - FIDO CON CAUSALE NEGATIV\"                    \n",
       "[236] \"Input - APPROVATO\"                                   \n",
       "[237] \"Input - FIDO SCADUTO\"                                \n",
       "[238] \"Input - AUTONOMIA FIDO\"                              \n",
       "[239] \"Input - LIMITI SOCIETARI\"                            \n",
       "[240] \"Input - LIMITI SOCIETARI - AS IS\"                    \n",
       "[241] \"Input - FIDO RIDOTTO\"                                \n",
       "[242] \"Input - AUTORIZZAZIONE NO CONTRO\"                    \n",
       "[243] \"Input - APPLICAZIONE CON CAUSALE\"                    \n",
       "[244] \"Input - APPLICAZIONI CON CAUSALE\"                    \n",
       "[245] \"Input - SCADUTO > 20%OUTSTANDING\"                    \n",
       "[246] \"Input - CR: PRESENZA SOFFERENZE\"                     \n",
       "[247] \"Input - CR: UTILIZZATO > ACCORDA\"                    \n",
       "[248] \"Input - CR: PRESENZA SCONFINAMEN\"                    \n",
       "[249] \"Input - BILANCI :PATRIMONIO NETT\"                    \n",
       "[250] \"Input - BILANCI :DEBITI BANCARI\"                     \n",
       "[251] \"Input - BILANCI :PASSIVO CORRENT\"                    \n",
       "[252] \"Input - STATO SOCIETARIO\"                            \n",
       "[253] \"Input - DATA COSTITUZIONE\"                           \n",
       "[254] \"Input - NUMERO INTERROGAZIONI\"                       \n",
       "[255] \"Input - PROTESTI CERTI\"                              \n",
       "[256] \"Input - PROTESTI DUBBI\"                              \n",
       "[257] \"Input - FALLIMENTI CERTI\"                            \n",
       "[258] \"Input - FALLIMENTI DUBBI\"                            \n",
       "[259] \"Input - PREGIUDIZIEVOLI GRAVI\"                       \n",
       "[260] \"Input - PROCEDURE CONCORSUALI\"                       \n",
       "[261] \"Input - IMPRESE COLLEGATE: PROCE\"                    \n",
       "[262] \"Input - ATECO BKIT OBBLIGATORIO\"                     \n",
       "[263] \"Input - CODICE CLIENTE GIA'_0002\"                    \n",
       "[264] \"Input - CEDENTE APPARTIENE A GRU\"                    \n",
       "[265] \"Input - TIMEOUT SCADUTO1\"                            \n",
       "[266] \"Input - NESSUNA POSIZIONE INCROC\"                    \n",
       "[267] \"Input - INSERIMENTO NON CONSENTI\"                    \n",
       "[268] \"Input - TIMEOUT SCADUTO2\"                            \n",
       "[269] \"Input - TIMEOUT SCADUTO3\"                            \n",
       "[270] \"Input - ERRORE GENERICO, RISOTTO\"                    \n",
       "[271] \"TIPO_PRODOTTO\"                                       \n",
       "[272] \"IMPORTO_RICHIESTO\"                                   \n",
       "[273] \"Right_NUM_PRATICA\"                                   \n",
       "[274] \"Right_PROGRESS_PRATICA\"                              \n",
       "[275] \"Right_STATO_PRATICA\"                                 \n",
       "[276] \"RAE_CEDUTO\"                                          \n",
       "[277] \"RAE_DESCR_CEDUTO\"                                    \n",
       "[278] \"SAE_CEDUTO\"                                          \n",
       "[279] \"SAE_DESCR_CEDUTO\"                                    \n",
       "[280] \"RAE_CEDENTE\"                                         \n",
       "[281] \"RAE_DESCR_CEDENTE\"                                   \n",
       "[282] \"SAE_CEDENTE\"                                         \n",
       "[283] \"SAE_DESCR_CEDENTE\"                                   \n",
       "[284] \"NUMERO_TOT_FIDI\"                                     \n",
       "[285] \"COUNT_FIDI_IN_CONFERMA\"                              \n",
       "[286] \"SUM_IMPORT_FIDI_CONCESSIONE\"                         \n",
       "[287] \"SUM_IMPORT_FIDI_AUMENTO\"                             \n",
       "[288] \"DATA_RICHIESTA_FIDO\"                                 \n",
       "[289] \"ISR_DATA\"                                            \n",
       "[290] \"ISR_CODICE\"                                          \n",
       "[291] \"ISR_DESCRIZIONE\"                                     \n",
       "[292] \"DATA_PERFEZ_CONTRATTO\"                               \n",
       "[293] \"IMPORTO_ORIGINALE\"                                   \n",
       "[294] \"SEMAFORO_PRIMO_LIVELLO\"                              \n",
       "[295] \"POLIZZA_DIRETTA_(39)\"                                \n",
       "[296] \"POLIZZA_INDIRETTA_(41)\"                              \n",
       "[297] \"PREFISSO_MOD_RATING_CEDUTO\"                          \n",
       "[298] \"MODELLO_RATING_CEDUTO\"                               \n",
       "[299] \"RATING_CEDUTO\"                                       \n",
       "[300] \"CIB_BDT_CEDENTE\"                                     \n",
       "[301] \"PREFISSO_MOD_RATING_CEDENTE\"                         \n",
       "[302] \"MODELLO_RATING_CEDENTE\"                              \n",
       "[303] \"RATING_CEDENTE\"                                      \n",
       "[304] \"SAG_CEDUTO\"                                          \n",
       "[305] \"SAG_CEDENTE\"                                         \n",
       "[306] \"FLAG_UBI_FACTOR\"                                     \n",
       "[307] \"TIPOLOGIA FT FACTORING (CONTINU2\"                    \n",
       "[308] \"QUOTA_PROSOLUTO_ORIGINARIA\"                          \n",
       "[309] \"QUOTA_PROSOLVENDO_ORIGINARIA\"                        \n",
       "[310] \"IMPORTO_ORIGINARIO\"                                  \n",
       "[311] \"IMPORT_ORIGIN_APPL_PROSOLUTO\"                        \n",
       "[312] \"IMPORT_ORIGIN_APPL_PROSOLVENDO\"                      \n",
       "[313] \"Pratica_testo\"                                       \n",
       "[314] \"Flag_Monofido\"                                       \n",
       "[315] \"Presenza_fido_580_590\"                               \n",
       "[316] \"Presenza_fido_580_590_C\"                             \n",
       "[317] \"Congruenza_Prodotto_Fido\"                            \n",
       "[318] \"Flag_Applicazione_Univoca\"                           \n",
       "[319] \"Flag_Finale\"                                         \n",
       "[320] \"ISTRUTTORE\"                                          \n",
       "[321] \"DELIBERANTE\"                                         \n",
       "[322] \"Sndg_ceduto_new\"                                     \n",
       "[323] \"Flag_Ditta_Individuale\"                              \n",
       "[324] \"SNDG_CEDUTO\"                                         \n",
       "[325] \"Tipo_Valutazione_del_ceduto\"                         \n",
       "[326] \"Flag_Valutazione_VPC_sul_ceduto\"                     \n",
       "[327] \"Flag_presenza_Sndg_Ceduto\"                           \n",
       "[328] \"Presenza_Rating\"                                     \n",
       "[329] \"Rating_Inizio_Periodo\"                               \n",
       "[330] \"Periodo_Osservazione_in_corso\"                       \n",
       "[331] \"Rating_periodo_adj\"                                  \n",
       "[332] \"Rating_Fine_periodo_adj\"                             \n",
       "[333] \"DAT_ATTR_RAT_Per_Compreso\"                           \n",
       "[334] \"DAT_ATTR_RAT_T0\"                                     \n",
       "[335] \"DAT_ATTR_RAT_Per_finale\"                             \n",
       "[336] \"Data_Attr_rat_fine_per_0101160\"                      \n",
       "[337] \"Data_Attr_rat_fin_per_31122999\"                      \n",
       "[338] \"Prima_Data_Attr_Primula_Per_ante\"                    \n",
       "[339] \"Media_rating_Per_Ante\"                               \n",
       "[340] \"Prima_Data_Attrib_Prim_Per_Post\"                     \n",
       "[341] \"Rating_Medio_Post_Stipula\"                           \n",
       "[342] \"COD_SEGM_Per_compreso\"                               \n",
       "[343] \"COD_SEGM_T0\"                                         \n",
       "[344] \"COD_MOD_BWS_Per_compreso\"                            \n",
       "[345] \"COD_MOD_BWS_T0\"                                      \n",
       "[346] \"COD_CLASSE_CRA_Per_compreso\"                         \n",
       "[347] \"COD_CLASSE_CRA_T0\"                                   \n",
       "[348] \"COD_COLORE_CLASSE_Per_compreso\"                      \n",
       "[349] \"COD_COLORE_CLASSE_T0\"                                \n",
       "[350] \"Rating_Attuale\"                                      \n",
       "[351] \"COD_PROV_Attuale\"                                    \n",
       "[352] \"Importo_Fido_adj\"                                    \n",
       "[353] \"Numerofidi_pratica\"                                  \n",
       "[354] \"Delta_fido_selezionato\"                              \n",
       "[355] \"Deltafido580590_inv_Prod\"                            \n",
       "[356] \"Deltafido_Capofila_non_580590\"                       \n",
       "[357] \"Delta_Applicazione\"                                  \n",
       "[358] \"Data_Stile_numerico\"                                 \n",
       "[359] \"Anno_Delibera\"                                       \n",
       "[360] \"Mese_Delibera\"                                       \n",
       "[361] \"Tipo Operazione Fido Aggregato\"                      \n",
       "[362] \"Tipo Operaz Concessa Appl Aggreg\"                    \n",
       "[363] \"Rating_Iniz_periodo_Ricondotto\"                      \n",
       "[364] \"MEAN_of_Rating_periodo_adj\"                          \n",
       "[365] \"Rating_Fine_periodo_Ricondotto\"                      \n",
       "[366] \"MacroSegmentoT0\"                                     \n",
       "[367] \"MacroSegmento_Per_Compreso\"                          \n",
       "[368] \"MacroSegmento_Attuale\"                               \n",
       "[369] \"Rating_Attuale_Ricondotto\"                           \n",
       "[370] \"COD_MOD_BWS_Attuale\"                                 \n",
       "[371] \"Prima_Data_Attrib_Primula\"                           \n",
       "[372] \"Primo_segmento_primula\"                              \n",
       "[373] \"Primo_Modello_Primula\"                               \n",
       "[374] \"Primo_rating_Primula\"                                \n",
       "[375] \"MonoPratica_o_Monocolore\"                            \n",
       "[376] \"Accordato_Medio_Pro_soluto\"                          \n",
       "[377] \"Utilizzato_Medio_Pro_soluto\"                         \n",
       "[378] \"Accordato_Medio_Prosolvendo\"                         \n",
       "[379] \"Utilizzato_Medio_Prosolvendo\"                        \n",
       "[380] \"Accordato_Medio_Altri_crediti\"                       \n",
       "[381] \"Acc_Operativo_Medio_Altri_Credit\"                    \n",
       "[382] \"Utilizzato_Medio_Altri_crediti\"                      \n",
       "[383] \"Saldo_creditori_Medio_Altri_Cred\"                    \n",
       "[384] \"Accordato_Medio_Altro_Fac\"                           \n",
       "[385] \"Acc_Oper_Medio_Altro_Fact\"                           \n",
       "[386] \"Utilizzato_Medio_Altro_Fac\"                          \n",
       "[387] \"Saldicredit_Medio_Altro_Fac\"                         \n",
       "[388] \"RAGIO_SOCIALE_CEDUTO\"                                \n",
       "[389] \"RAGIO_SOCIALE_CEDENTE\"                               \n",
       "[390] \"ID_CEDENTE...34\"                                     \n",
       "[391] \"Conteggio_giallo_esito_finale_giallo\"                \n",
       "[392] \"Conteggio_rosso\"                                     \n",
       "[393] \"APPOGGIO - Esito_final_giallo e Monocontrollo_giallo\"\n",
       "[394] \"APPOGGIO - Esito_final_rosso e Monocontrollo_rosso\"  \n",
       "[395] \"Esito_final_giallo e Monocontrollo_giallo\"           \n",
       "[396] \"Esito_final_rosso e Monocontrollo_rosso\"             \n",
       "[397] \"Flag_utilizzato=0\"                                   \n",
       "[398] \"Perimetro analisi descrittive\"                       \n",
       "[399] \"Perimetro_finale_analisi TD\"                         \n",
       "[400] \"Perimetro_no_default_T0\"                             \n",
       "[401] \"Perimetro_si_default_Tfinal\"                         \n",
       "[402] \"Cluster_operazione_concessa_applica\"                 \n",
       "[403] \"RATING_APPOGGIO\"                                     \n",
       "[404] \"RATING_APPOGGIO2\"                                    \n",
       "[405] \"RATING\"                                              \n",
       "[406] \"SAG_APPOGGIO\"                                        \n",
       "[407] \"SAG_APPOGGIO2\"                                       \n",
       "[408] \"SAG\"                                                 \n",
       "[409] \"ID_CEDENTE_APPOGGIO\"                                 \n",
       "[410] \"ID_CEDENTE...228\"                                    \n",
       "[411] \"CHIAVE_LIMITI_SOC\"                                   \n",
       "[412] \"LIMITE_MAX\"                                          \n",
       "[413] \"Cluster_finale_operazione_concessa_applica\"          \n",
       "[414] \"SOGG_ESTERO_RISK\"                                    \n",
       "[415] \"MacroSegmento_Attuale LC\"                            \n",
       "[416] \"Flag_Univocita_Cont_Giallo\"                          \n",
       "[417] \"Cluster_numerosità_contr_gialli\"                     \n",
       "[418] \"Cluster_numerosità_contr_rossi\"                      \n",
       "[419] \"Flag_UNIVOCO/COMPRESENZA_GIALLI\"                     \n",
       "[420] \"Flag_IMP_FIDO_ORIG_<LIMITE\"                          \n",
       "[421] \"RICHIESTO_VS_LIMITE_V2\"                              \n",
       "[422] \"PERIMETRO_STANDARD\"                                  \n",
       "[423] \"SCARTO_VS_LIMITE\"                                    \n",
       "[424] \"CLUSTER_SCARTO\"                                      \n",
       "[425] \"IMPORTO ORIGI+APPL CONCESSA\"                         \n",
       "[426] \"CLUSTER_RATING_FASCIA\"                               \n",
       "[427] \"M3-M4\"                                               \n",
       "[428] \"M1-M2\"                                               \n",
       "[429] \"I5-I6\"                                               \n",
       "[430] \"I4\"                                                  \n",
       "[431] \"I3\"                                                  \n",
       "[432] \"I1-I2\"                                               \n",
       "[433] \"NUOVI_VERDI\"                                         \n",
       "[434] \"NUOVO_ESITO_FINALE\"                                  \n",
       "[435] \"NUOVI_VERDI_SENZA_SOGLIA\"                            \n",
       "[436] \"NUOVO_ESITO_SENZA SOGLIA\"                            \n",
       "[437] \"target\"                                              "
      ]
     },
     "metadata": {},
     "output_type": "display_data"
    }
   ],
   "source": [
    "colnames(dt_orig)"
   ]
  },
  {
   "cell_type": "code",
   "execution_count": null,
   "id": "appreciated-bones",
   "metadata": {},
   "outputs": [],
   "source": []
  },
  {
   "cell_type": "markdown",
   "id": "ranking-genesis",
   "metadata": {},
   "source": [
    "## PERFORMANCE SLIDE "
   ]
  },
  {
   "cell_type": "code",
   "execution_count": 350,
   "id": "alleged-surge",
   "metadata": {},
   "outputs": [
    {
     "name": "stdout",
     "output_type": "stream",
     "text": [
      "tot default 116\n",
      "tot ok 7113\n",
      "tot  7229\n",
      "td  1.6"
     ]
    },
    {
     "data": {
      "text/html": [
       "<table class=\"dataframe\">\n",
       "<caption>A data.table: 29 × 14</caption>\n",
       "<thead>\n",
       "\t<tr><th scope=col>pred_vpc</th><th scope=col>DEFAULT</th><th scope=col>OK</th><th scope=col>tot</th><th scope=col>tot_verdi</th><th scope=col>lift_verde</th><th scope=col>td_foglia</th><th scope=col>def_cum</th><th scope=col>ok_cum</th><th scope=col>tot_cum</th><th scope=col>recall</th><th scope=col>precision</th><th scope=col>accuracy</th><th scope=col>lift</th></tr>\n",
       "\t<tr><th scope=col>&lt;dbl&gt;</th><th scope=col>&lt;int&gt;</th><th scope=col>&lt;int&gt;</th><th scope=col>&lt;int&gt;</th><th scope=col>&lt;dbl&gt;</th><th scope=col>&lt;dbl&gt;</th><th scope=col>&lt;dbl&gt;</th><th scope=col>&lt;int&gt;</th><th scope=col>&lt;int&gt;</th><th scope=col>&lt;int&gt;</th><th scope=col>&lt;dbl&gt;</th><th scope=col>&lt;dbl&gt;</th><th scope=col>&lt;dbl&gt;</th><th scope=col>&lt;dbl&gt;</th></tr>\n",
       "</thead>\n",
       "<tbody>\n",
       "\t<tr><td>0.666666667</td><td> 7</td><td>   7</td><td>  14</td><td>100.00</td><td>1.00</td><td>50.00</td><td>  7</td><td>   7</td><td>  14</td><td> 0.00</td><td>50.00</td><td>98.40</td><td>31.16</td></tr>\n",
       "\t<tr><td>0.625000000</td><td> 2</td><td>   3</td><td>   5</td><td> 99.81</td><td>0.94</td><td>40.00</td><td>  9</td><td>  10</td><td>  19</td><td> 6.03</td><td>47.37</td><td>98.38</td><td>29.52</td></tr>\n",
       "\t<tr><td>0.588235294</td><td> 1</td><td>   8</td><td>   9</td><td> 99.74</td><td>0.92</td><td>11.11</td><td> 10</td><td>  18</td><td>  28</td><td> 7.76</td><td>35.71</td><td>98.28</td><td>22.26</td></tr>\n",
       "\t<tr><td>0.571428571</td><td> 1</td><td>   7</td><td>   8</td><td> 99.61</td><td>0.92</td><td>12.50</td><td> 11</td><td>  25</td><td>  36</td><td> 8.62</td><td>30.56</td><td>98.20</td><td>19.04</td></tr>\n",
       "\t<tr><td>0.550000000</td><td> 0</td><td>   4</td><td>   4</td><td> 99.50</td><td>0.91</td><td> 0.00</td><td> 11</td><td>  29</td><td>  40</td><td> 9.48</td><td>27.50</td><td>98.15</td><td>17.14</td></tr>\n",
       "\t<tr><td>0.529411765</td><td> 0</td><td>   4</td><td>   4</td><td> 99.45</td><td>0.91</td><td> 0.00</td><td> 11</td><td>  33</td><td>  44</td><td> 9.48</td><td>25.00</td><td>98.09</td><td>15.58</td></tr>\n",
       "\t<tr><td>0.521739130</td><td> 5</td><td>  11</td><td>  16</td><td> 99.39</td><td>0.91</td><td>31.25</td><td> 16</td><td>  44</td><td>  60</td><td> 9.48</td><td>26.67</td><td>98.01</td><td>16.62</td></tr>\n",
       "\t<tr><td>0.259259259</td><td> 0</td><td>   5</td><td>   5</td><td> 99.17</td><td>0.87</td><td> 0.00</td><td> 16</td><td>  49</td><td>  65</td><td>13.79</td><td>24.62</td><td>97.94</td><td>15.34</td></tr>\n",
       "\t<tr><td>0.208333333</td><td> 8</td><td>  25</td><td>  33</td><td> 99.10</td><td>0.87</td><td>24.24</td><td> 24</td><td>  74</td><td>  98</td><td>13.79</td><td>24.49</td><td>97.70</td><td>15.26</td></tr>\n",
       "\t<tr><td>0.169811321</td><td> 1</td><td>   9</td><td>  10</td><td> 98.64</td><td>0.80</td><td>10.00</td><td> 25</td><td>  83</td><td> 108</td><td>20.69</td><td>23.15</td><td>97.59</td><td>14.43</td></tr>\n",
       "\t<tr><td>0.158730159</td><td> 3</td><td>  21</td><td>  24</td><td> 98.51</td><td>0.80</td><td>12.50</td><td> 28</td><td> 104</td><td> 132</td><td>21.55</td><td>21.21</td><td>97.34</td><td>13.22</td></tr>\n",
       "\t<tr><td>0.138888889</td><td> 1</td><td>   8</td><td>   9</td><td> 98.17</td><td>0.77</td><td>11.11</td><td> 29</td><td> 112</td><td> 141</td><td>24.14</td><td>20.57</td><td>97.25</td><td>12.82</td></tr>\n",
       "\t<tr><td>0.136363636</td><td> 2</td><td>  17</td><td>  19</td><td> 98.05</td><td>0.76</td><td>10.53</td><td> 31</td><td> 129</td><td> 160</td><td>25.00</td><td>19.38</td><td>97.04</td><td>12.07</td></tr>\n",
       "\t<tr><td>0.132075472</td><td> 0</td><td>  13</td><td>  13</td><td> 97.79</td><td>0.75</td><td> 0.00</td><td> 31</td><td> 142</td><td> 173</td><td>26.72</td><td>17.92</td><td>96.86</td><td>11.17</td></tr>\n",
       "\t<tr><td>0.111904762</td><td>12</td><td>  92</td><td> 104</td><td> 97.61</td><td>0.75</td><td>11.54</td><td> 43</td><td> 234</td><td> 277</td><td>26.72</td><td>15.52</td><td>95.75</td><td> 9.67</td></tr>\n",
       "\t<tr><td>0.079250720</td><td> 4</td><td> 181</td><td> 185</td><td> 96.17</td><td>0.65</td><td> 2.16</td><td> 47</td><td> 415</td><td> 462</td><td>37.07</td><td>10.17</td><td>93.30</td><td> 6.34</td></tr>\n",
       "\t<tr><td>0.075268817</td><td> 1</td><td>  20</td><td>  21</td><td> 93.61</td><td>0.64</td><td> 4.76</td><td> 48</td><td> 435</td><td> 483</td><td>40.52</td><td> 9.94</td><td>93.04</td><td> 6.19</td></tr>\n",
       "\t<tr><td>0.044444444</td><td> 0</td><td>   6</td><td>   6</td><td> 93.32</td><td>0.63</td><td> 0.00</td><td> 48</td><td> 441</td><td> 489</td><td>41.38</td><td> 9.82</td><td>92.96</td><td> 6.12</td></tr>\n",
       "\t<tr><td>0.044117647</td><td> 1</td><td>  25</td><td>  26</td><td> 93.24</td><td>0.63</td><td> 3.85</td><td> 49</td><td> 466</td><td> 515</td><td>41.38</td><td> 9.51</td><td>92.63</td><td> 5.93</td></tr>\n",
       "\t<tr><td>0.037329820</td><td>15</td><td> 540</td><td> 555</td><td> 92.88</td><td>0.62</td><td> 2.70</td><td> 64</td><td>1006</td><td>1070</td><td>42.24</td><td> 5.98</td><td>85.36</td><td> 3.73</td></tr>\n",
       "\t<tr><td>0.026415094</td><td> 2</td><td>  69</td><td>  71</td><td> 85.20</td><td>0.53</td><td> 2.82</td><td> 66</td><td>1075</td><td>1141</td><td>55.17</td><td> 5.78</td><td>84.44</td><td> 3.60</td></tr>\n",
       "\t<tr><td>0.025641026</td><td> 0</td><td>   8</td><td>   8</td><td> 84.22</td><td>0.51</td><td> 0.00</td><td> 66</td><td>1083</td><td>1149</td><td>56.90</td><td> 5.74</td><td>84.33</td><td> 3.58</td></tr>\n",
       "\t<tr><td>0.021582734</td><td> 2</td><td> 105</td><td> 107</td><td> 84.11</td><td>0.51</td><td> 1.87</td><td> 68</td><td>1188</td><td>1256</td><td>56.90</td><td> 5.41</td><td>82.90</td><td> 3.37</td></tr>\n",
       "\t<tr><td>0.018079800</td><td> 9</td><td> 385</td><td> 394</td><td> 82.63</td><td>0.50</td><td> 2.28</td><td> 77</td><td>1573</td><td>1650</td><td>58.62</td><td> 4.67</td><td>77.70</td><td> 2.91</td></tr>\n",
       "\t<tr><td>0.013905683</td><td>14</td><td> 839</td><td> 853</td><td> 77.18</td><td>0.44</td><td> 1.64</td><td> 91</td><td>2412</td><td>2503</td><td>66.38</td><td> 3.64</td><td>66.29</td><td> 2.27</td></tr>\n",
       "\t<tr><td>0.007371704</td><td> 6</td><td> 921</td><td> 927</td><td> 65.38</td><td>0.33</td><td> 0.65</td><td> 97</td><td>3333</td><td>3430</td><td>78.45</td><td> 2.83</td><td>53.63</td><td> 1.76</td></tr>\n",
       "\t<tr><td>0.006764374</td><td> 1</td><td> 214</td><td> 215</td><td> 52.55</td><td>0.31</td><td> 0.47</td><td> 98</td><td>3547</td><td>3645</td><td>83.62</td><td> 2.69</td><td>50.68</td><td> 1.68</td></tr>\n",
       "\t<tr><td>0.005376344</td><td> 3</td><td>  39</td><td>  42</td><td> 49.58</td><td>0.31</td><td> 7.14</td><td>101</td><td>3586</td><td>3687</td><td>84.48</td><td> 2.74</td><td>50.19</td><td> 1.71</td></tr>\n",
       "\t<tr><td>0.003804912</td><td>15</td><td>3527</td><td>3542</td><td> 49.00</td><td>0.26</td><td> 0.42</td><td>116</td><td>7113</td><td>7229</td><td>87.07</td><td> 1.60</td><td> 1.60</td><td> 1.00</td></tr>\n",
       "</tbody>\n",
       "</table>\n"
      ],
      "text/latex": [
       "A data.table: 29 × 14\n",
       "\\begin{tabular}{llllllllllllll}\n",
       " pred\\_vpc & DEFAULT & OK & tot & tot\\_verdi & lift\\_verde & td\\_foglia & def\\_cum & ok\\_cum & tot\\_cum & recall & precision & accuracy & lift\\\\\n",
       " <dbl> & <int> & <int> & <int> & <dbl> & <dbl> & <dbl> & <int> & <int> & <int> & <dbl> & <dbl> & <dbl> & <dbl>\\\\\n",
       "\\hline\n",
       "\t 0.666666667 &  7 &    7 &   14 & 100.00 & 1.00 & 50.00 &   7 &    7 &   14 &  0.00 & 50.00 & 98.40 & 31.16\\\\\n",
       "\t 0.625000000 &  2 &    3 &    5 &  99.81 & 0.94 & 40.00 &   9 &   10 &   19 &  6.03 & 47.37 & 98.38 & 29.52\\\\\n",
       "\t 0.588235294 &  1 &    8 &    9 &  99.74 & 0.92 & 11.11 &  10 &   18 &   28 &  7.76 & 35.71 & 98.28 & 22.26\\\\\n",
       "\t 0.571428571 &  1 &    7 &    8 &  99.61 & 0.92 & 12.50 &  11 &   25 &   36 &  8.62 & 30.56 & 98.20 & 19.04\\\\\n",
       "\t 0.550000000 &  0 &    4 &    4 &  99.50 & 0.91 &  0.00 &  11 &   29 &   40 &  9.48 & 27.50 & 98.15 & 17.14\\\\\n",
       "\t 0.529411765 &  0 &    4 &    4 &  99.45 & 0.91 &  0.00 &  11 &   33 &   44 &  9.48 & 25.00 & 98.09 & 15.58\\\\\n",
       "\t 0.521739130 &  5 &   11 &   16 &  99.39 & 0.91 & 31.25 &  16 &   44 &   60 &  9.48 & 26.67 & 98.01 & 16.62\\\\\n",
       "\t 0.259259259 &  0 &    5 &    5 &  99.17 & 0.87 &  0.00 &  16 &   49 &   65 & 13.79 & 24.62 & 97.94 & 15.34\\\\\n",
       "\t 0.208333333 &  8 &   25 &   33 &  99.10 & 0.87 & 24.24 &  24 &   74 &   98 & 13.79 & 24.49 & 97.70 & 15.26\\\\\n",
       "\t 0.169811321 &  1 &    9 &   10 &  98.64 & 0.80 & 10.00 &  25 &   83 &  108 & 20.69 & 23.15 & 97.59 & 14.43\\\\\n",
       "\t 0.158730159 &  3 &   21 &   24 &  98.51 & 0.80 & 12.50 &  28 &  104 &  132 & 21.55 & 21.21 & 97.34 & 13.22\\\\\n",
       "\t 0.138888889 &  1 &    8 &    9 &  98.17 & 0.77 & 11.11 &  29 &  112 &  141 & 24.14 & 20.57 & 97.25 & 12.82\\\\\n",
       "\t 0.136363636 &  2 &   17 &   19 &  98.05 & 0.76 & 10.53 &  31 &  129 &  160 & 25.00 & 19.38 & 97.04 & 12.07\\\\\n",
       "\t 0.132075472 &  0 &   13 &   13 &  97.79 & 0.75 &  0.00 &  31 &  142 &  173 & 26.72 & 17.92 & 96.86 & 11.17\\\\\n",
       "\t 0.111904762 & 12 &   92 &  104 &  97.61 & 0.75 & 11.54 &  43 &  234 &  277 & 26.72 & 15.52 & 95.75 &  9.67\\\\\n",
       "\t 0.079250720 &  4 &  181 &  185 &  96.17 & 0.65 &  2.16 &  47 &  415 &  462 & 37.07 & 10.17 & 93.30 &  6.34\\\\\n",
       "\t 0.075268817 &  1 &   20 &   21 &  93.61 & 0.64 &  4.76 &  48 &  435 &  483 & 40.52 &  9.94 & 93.04 &  6.19\\\\\n",
       "\t 0.044444444 &  0 &    6 &    6 &  93.32 & 0.63 &  0.00 &  48 &  441 &  489 & 41.38 &  9.82 & 92.96 &  6.12\\\\\n",
       "\t 0.044117647 &  1 &   25 &   26 &  93.24 & 0.63 &  3.85 &  49 &  466 &  515 & 41.38 &  9.51 & 92.63 &  5.93\\\\\n",
       "\t 0.037329820 & 15 &  540 &  555 &  92.88 & 0.62 &  2.70 &  64 & 1006 & 1070 & 42.24 &  5.98 & 85.36 &  3.73\\\\\n",
       "\t 0.026415094 &  2 &   69 &   71 &  85.20 & 0.53 &  2.82 &  66 & 1075 & 1141 & 55.17 &  5.78 & 84.44 &  3.60\\\\\n",
       "\t 0.025641026 &  0 &    8 &    8 &  84.22 & 0.51 &  0.00 &  66 & 1083 & 1149 & 56.90 &  5.74 & 84.33 &  3.58\\\\\n",
       "\t 0.021582734 &  2 &  105 &  107 &  84.11 & 0.51 &  1.87 &  68 & 1188 & 1256 & 56.90 &  5.41 & 82.90 &  3.37\\\\\n",
       "\t 0.018079800 &  9 &  385 &  394 &  82.63 & 0.50 &  2.28 &  77 & 1573 & 1650 & 58.62 &  4.67 & 77.70 &  2.91\\\\\n",
       "\t 0.013905683 & 14 &  839 &  853 &  77.18 & 0.44 &  1.64 &  91 & 2412 & 2503 & 66.38 &  3.64 & 66.29 &  2.27\\\\\n",
       "\t 0.007371704 &  6 &  921 &  927 &  65.38 & 0.33 &  0.65 &  97 & 3333 & 3430 & 78.45 &  2.83 & 53.63 &  1.76\\\\\n",
       "\t 0.006764374 &  1 &  214 &  215 &  52.55 & 0.31 &  0.47 &  98 & 3547 & 3645 & 83.62 &  2.69 & 50.68 &  1.68\\\\\n",
       "\t 0.005376344 &  3 &   39 &   42 &  49.58 & 0.31 &  7.14 & 101 & 3586 & 3687 & 84.48 &  2.74 & 50.19 &  1.71\\\\\n",
       "\t 0.003804912 & 15 & 3527 & 3542 &  49.00 & 0.26 &  0.42 & 116 & 7113 & 7229 & 87.07 &  1.60 &  1.60 &  1.00\\\\\n",
       "\\end{tabular}\n"
      ],
      "text/markdown": [
       "\n",
       "A data.table: 29 × 14\n",
       "\n",
       "| pred_vpc &lt;dbl&gt; | DEFAULT &lt;int&gt; | OK &lt;int&gt; | tot &lt;int&gt; | tot_verdi &lt;dbl&gt; | lift_verde &lt;dbl&gt; | td_foglia &lt;dbl&gt; | def_cum &lt;int&gt; | ok_cum &lt;int&gt; | tot_cum &lt;int&gt; | recall &lt;dbl&gt; | precision &lt;dbl&gt; | accuracy &lt;dbl&gt; | lift &lt;dbl&gt; |\n",
       "|---|---|---|---|---|---|---|---|---|---|---|---|---|---|\n",
       "| 0.666666667 |  7 |    7 |   14 | 100.00 | 1.00 | 50.00 |   7 |    7 |   14 |  0.00 | 50.00 | 98.40 | 31.16 |\n",
       "| 0.625000000 |  2 |    3 |    5 |  99.81 | 0.94 | 40.00 |   9 |   10 |   19 |  6.03 | 47.37 | 98.38 | 29.52 |\n",
       "| 0.588235294 |  1 |    8 |    9 |  99.74 | 0.92 | 11.11 |  10 |   18 |   28 |  7.76 | 35.71 | 98.28 | 22.26 |\n",
       "| 0.571428571 |  1 |    7 |    8 |  99.61 | 0.92 | 12.50 |  11 |   25 |   36 |  8.62 | 30.56 | 98.20 | 19.04 |\n",
       "| 0.550000000 |  0 |    4 |    4 |  99.50 | 0.91 |  0.00 |  11 |   29 |   40 |  9.48 | 27.50 | 98.15 | 17.14 |\n",
       "| 0.529411765 |  0 |    4 |    4 |  99.45 | 0.91 |  0.00 |  11 |   33 |   44 |  9.48 | 25.00 | 98.09 | 15.58 |\n",
       "| 0.521739130 |  5 |   11 |   16 |  99.39 | 0.91 | 31.25 |  16 |   44 |   60 |  9.48 | 26.67 | 98.01 | 16.62 |\n",
       "| 0.259259259 |  0 |    5 |    5 |  99.17 | 0.87 |  0.00 |  16 |   49 |   65 | 13.79 | 24.62 | 97.94 | 15.34 |\n",
       "| 0.208333333 |  8 |   25 |   33 |  99.10 | 0.87 | 24.24 |  24 |   74 |   98 | 13.79 | 24.49 | 97.70 | 15.26 |\n",
       "| 0.169811321 |  1 |    9 |   10 |  98.64 | 0.80 | 10.00 |  25 |   83 |  108 | 20.69 | 23.15 | 97.59 | 14.43 |\n",
       "| 0.158730159 |  3 |   21 |   24 |  98.51 | 0.80 | 12.50 |  28 |  104 |  132 | 21.55 | 21.21 | 97.34 | 13.22 |\n",
       "| 0.138888889 |  1 |    8 |    9 |  98.17 | 0.77 | 11.11 |  29 |  112 |  141 | 24.14 | 20.57 | 97.25 | 12.82 |\n",
       "| 0.136363636 |  2 |   17 |   19 |  98.05 | 0.76 | 10.53 |  31 |  129 |  160 | 25.00 | 19.38 | 97.04 | 12.07 |\n",
       "| 0.132075472 |  0 |   13 |   13 |  97.79 | 0.75 |  0.00 |  31 |  142 |  173 | 26.72 | 17.92 | 96.86 | 11.17 |\n",
       "| 0.111904762 | 12 |   92 |  104 |  97.61 | 0.75 | 11.54 |  43 |  234 |  277 | 26.72 | 15.52 | 95.75 |  9.67 |\n",
       "| 0.079250720 |  4 |  181 |  185 |  96.17 | 0.65 |  2.16 |  47 |  415 |  462 | 37.07 | 10.17 | 93.30 |  6.34 |\n",
       "| 0.075268817 |  1 |   20 |   21 |  93.61 | 0.64 |  4.76 |  48 |  435 |  483 | 40.52 |  9.94 | 93.04 |  6.19 |\n",
       "| 0.044444444 |  0 |    6 |    6 |  93.32 | 0.63 |  0.00 |  48 |  441 |  489 | 41.38 |  9.82 | 92.96 |  6.12 |\n",
       "| 0.044117647 |  1 |   25 |   26 |  93.24 | 0.63 |  3.85 |  49 |  466 |  515 | 41.38 |  9.51 | 92.63 |  5.93 |\n",
       "| 0.037329820 | 15 |  540 |  555 |  92.88 | 0.62 |  2.70 |  64 | 1006 | 1070 | 42.24 |  5.98 | 85.36 |  3.73 |\n",
       "| 0.026415094 |  2 |   69 |   71 |  85.20 | 0.53 |  2.82 |  66 | 1075 | 1141 | 55.17 |  5.78 | 84.44 |  3.60 |\n",
       "| 0.025641026 |  0 |    8 |    8 |  84.22 | 0.51 |  0.00 |  66 | 1083 | 1149 | 56.90 |  5.74 | 84.33 |  3.58 |\n",
       "| 0.021582734 |  2 |  105 |  107 |  84.11 | 0.51 |  1.87 |  68 | 1188 | 1256 | 56.90 |  5.41 | 82.90 |  3.37 |\n",
       "| 0.018079800 |  9 |  385 |  394 |  82.63 | 0.50 |  2.28 |  77 | 1573 | 1650 | 58.62 |  4.67 | 77.70 |  2.91 |\n",
       "| 0.013905683 | 14 |  839 |  853 |  77.18 | 0.44 |  1.64 |  91 | 2412 | 2503 | 66.38 |  3.64 | 66.29 |  2.27 |\n",
       "| 0.007371704 |  6 |  921 |  927 |  65.38 | 0.33 |  0.65 |  97 | 3333 | 3430 | 78.45 |  2.83 | 53.63 |  1.76 |\n",
       "| 0.006764374 |  1 |  214 |  215 |  52.55 | 0.31 |  0.47 |  98 | 3547 | 3645 | 83.62 |  2.69 | 50.68 |  1.68 |\n",
       "| 0.005376344 |  3 |   39 |   42 |  49.58 | 0.31 |  7.14 | 101 | 3586 | 3687 | 84.48 |  2.74 | 50.19 |  1.71 |\n",
       "| 0.003804912 | 15 | 3527 | 3542 |  49.00 | 0.26 |  0.42 | 116 | 7113 | 7229 | 87.07 |  1.60 |  1.60 |  1.00 |\n",
       "\n"
      ],
      "text/plain": [
       "   pred_vpc    DEFAULT OK   tot  tot_verdi lift_verde td_foglia def_cum ok_cum\n",
       "1  0.666666667  7         7   14 100.00    1.00       50.00       7        7  \n",
       "2  0.625000000  2         3    5  99.81    0.94       40.00       9       10  \n",
       "3  0.588235294  1         8    9  99.74    0.92       11.11      10       18  \n",
       "4  0.571428571  1         7    8  99.61    0.92       12.50      11       25  \n",
       "5  0.550000000  0         4    4  99.50    0.91        0.00      11       29  \n",
       "6  0.529411765  0         4    4  99.45    0.91        0.00      11       33  \n",
       "7  0.521739130  5        11   16  99.39    0.91       31.25      16       44  \n",
       "8  0.259259259  0         5    5  99.17    0.87        0.00      16       49  \n",
       "9  0.208333333  8        25   33  99.10    0.87       24.24      24       74  \n",
       "10 0.169811321  1         9   10  98.64    0.80       10.00      25       83  \n",
       "11 0.158730159  3        21   24  98.51    0.80       12.50      28      104  \n",
       "12 0.138888889  1         8    9  98.17    0.77       11.11      29      112  \n",
       "13 0.136363636  2        17   19  98.05    0.76       10.53      31      129  \n",
       "14 0.132075472  0        13   13  97.79    0.75        0.00      31      142  \n",
       "15 0.111904762 12        92  104  97.61    0.75       11.54      43      234  \n",
       "16 0.079250720  4       181  185  96.17    0.65        2.16      47      415  \n",
       "17 0.075268817  1        20   21  93.61    0.64        4.76      48      435  \n",
       "18 0.044444444  0         6    6  93.32    0.63        0.00      48      441  \n",
       "19 0.044117647  1        25   26  93.24    0.63        3.85      49      466  \n",
       "20 0.037329820 15       540  555  92.88    0.62        2.70      64     1006  \n",
       "21 0.026415094  2        69   71  85.20    0.53        2.82      66     1075  \n",
       "22 0.025641026  0         8    8  84.22    0.51        0.00      66     1083  \n",
       "23 0.021582734  2       105  107  84.11    0.51        1.87      68     1188  \n",
       "24 0.018079800  9       385  394  82.63    0.50        2.28      77     1573  \n",
       "25 0.013905683 14       839  853  77.18    0.44        1.64      91     2412  \n",
       "26 0.007371704  6       921  927  65.38    0.33        0.65      97     3333  \n",
       "27 0.006764374  1       214  215  52.55    0.31        0.47      98     3547  \n",
       "28 0.005376344  3        39   42  49.58    0.31        7.14     101     3586  \n",
       "29 0.003804912 15      3527 3542  49.00    0.26        0.42     116     7113  \n",
       "   tot_cum recall precision accuracy lift \n",
       "1    14     0.00  50.00     98.40    31.16\n",
       "2    19     6.03  47.37     98.38    29.52\n",
       "3    28     7.76  35.71     98.28    22.26\n",
       "4    36     8.62  30.56     98.20    19.04\n",
       "5    40     9.48  27.50     98.15    17.14\n",
       "6    44     9.48  25.00     98.09    15.58\n",
       "7    60     9.48  26.67     98.01    16.62\n",
       "8    65    13.79  24.62     97.94    15.34\n",
       "9    98    13.79  24.49     97.70    15.26\n",
       "10  108    20.69  23.15     97.59    14.43\n",
       "11  132    21.55  21.21     97.34    13.22\n",
       "12  141    24.14  20.57     97.25    12.82\n",
       "13  160    25.00  19.38     97.04    12.07\n",
       "14  173    26.72  17.92     96.86    11.17\n",
       "15  277    26.72  15.52     95.75     9.67\n",
       "16  462    37.07  10.17     93.30     6.34\n",
       "17  483    40.52   9.94     93.04     6.19\n",
       "18  489    41.38   9.82     92.96     6.12\n",
       "19  515    41.38   9.51     92.63     5.93\n",
       "20 1070    42.24   5.98     85.36     3.73\n",
       "21 1141    55.17   5.78     84.44     3.60\n",
       "22 1149    56.90   5.74     84.33     3.58\n",
       "23 1256    56.90   5.41     82.90     3.37\n",
       "24 1650    58.62   4.67     77.70     2.91\n",
       "25 2503    66.38   3.64     66.29     2.27\n",
       "26 3430    78.45   2.83     53.63     1.76\n",
       "27 3645    83.62   2.69     50.68     1.68\n",
       "28 3687    84.48   2.74     50.19     1.71\n",
       "29 7229    87.07   1.60      1.60     1.00"
      ]
     },
     "metadata": {},
     "output_type": "display_data"
    }
   ],
   "source": [
    "table_performance <- dt_tree[,.(pred_vpc,DEFAULT,OK,tot)]\n",
    "table_performance[, tot_verdi := round(100*cumsum(tot)/sum(tot),2)]\n",
    "table_performance[, lift_verde := round((cumsum(DEFAULT)/cumsum(tot))/(sum(DEFAULT)/sum(tot)),2)]\n",
    "table_performance <- table_performance[order(-pred_vpc)]\n",
    "\n",
    "table_performance[,td_foglia := round(100*DEFAULT/tot,2)]\n",
    "table_performance[,def_cum := cumsum(DEFAULT)]\n",
    "table_performance[,ok_cum := cumsum(OK)]\n",
    "table_performance[,tot_cum := cumsum(tot)]\n",
    "\n",
    "\n",
    "#table_performance[,td_cum := def_cum/tot_cum]\n",
    "\n",
    "table_performance[,recall := round(100*(def_cum-DEFAULT)/sum(DEFAULT),2)]\n",
    "table_performance[,precision :=  round(100*def_cum/tot_cum,2)]\n",
    "table_performance[,accuracy :=  round(100*(def_cum+sum(OK) - ok_cum)/sum(tot),2)]\n",
    "table_performance[,lift := round((def_cum/tot_cum)/(sum(DEFAULT)/sum(tot)),2)]\n",
    "\n",
    "write.xlsx(table_performance, 'table_performance_corporate.xlsx', row.names= FALSE)\n",
    "\n",
    "cat('tot default',sum(table_performance$DEFAULT))\n",
    "cat('\\ntot ok',sum(table_performance$OK))\n",
    "cat('\\ntot ',sum(table_performance$tot))\n",
    "cat('\\ntd ',round(100*sum(table_performance$DEFAULT)/sum(table_performance$tot),2))\n",
    "table_performance[,pred_vpc := as.numeric(pred_vpc)]\n",
    "table_performance"
   ]
  },
  {
   "cell_type": "code",
   "execution_count": 353,
   "id": "intimate-april",
   "metadata": {},
   "outputs": [],
   "source": [
    "performance_prelim <- function(dt){\n",
    "    rbindlist(lapply(c(\"VERDE\",\"GIALLO\",\"ROSSO\"),function(x){\n",
    "       dt_appo <- dt[colore_senza_limsoc == x,\n",
    "                 list(colore = x,\n",
    "                      DEFAULT = nrow(dt[target=='DEFAULT' &colore_senza_limsoc==x ,]),\n",
    "                      OK = nrow(dt[target=='OK' &colore_senza_limsoc==x ,]),\n",
    "                      old_tot = nrow(dt[colore_senza_limsoc==x ,]))]\n",
    "              dt_appo[,old_td := round(100*DEFAULT/old_tot,3)]\n",
    "       dt_appo[,sample_perc := round(100*old_tot/nrow(dt),3)]\n",
    "       })\n",
    "   )\n",
    "}\n",
    "\n",
    "\n",
    "performance_newlim <- function(dt){\n",
    "    rbindlist(lapply(c(\"VERDE\",\"GIALLO\",\"ROSSO\"),function(x){\n",
    "       dt_appo <- dt[esito_finale_new_lim == x,\n",
    "                 list(colore = x,\n",
    "                      DEFAULT = nrow(dt[target=='DEFAULT' &esito_finale_new_lim==x ,]),\n",
    "                      OK = nrow(dt[target=='OK' &esito_finale_new_lim==x ,]),\n",
    "                      old_tot = nrow(dt[esito_finale_new_lim==x ,]))]\n",
    "              dt_appo[,old_td := round(100*DEFAULT/old_tot,3)]\n",
    "       dt_appo[,sample_perc := round(100*old_tot/nrow(dt),3)]\n",
    "       })\n",
    "   )\n",
    "}"
   ]
  },
  {
   "cell_type": "code",
   "execution_count": 331,
   "id": "tough-dinner",
   "metadata": {},
   "outputs": [
    {
     "name": "stdout",
     "output_type": "stream",
     "text": [
      "                               soglia DEFAULT   OK  tot  perc sample_perc\n",
      "1:                   pred_vpc <= 0.02      48 5925 5973 0.804      82.626\n",
      "2: pred_vpc <= 0.05 & pred_vpc > 0.02      20  753  773 2.587      10.693\n",
      "3:                    pred_vpc > 0.05      48  435  483 9.938       6.681\n",
      "   colore\n",
      "1:  VERDE\n",
      "2: GIALLO\n",
      "3:  ROSSO\n"
     ]
    }
   ],
   "source": [
    "soglia_vg <- 0.02\n",
    "soglia_gr <- 0.05\n",
    "\n",
    "dt_sample_small <- merge(dt_sample[,.(ESITO_FINALE_VPC,pred_vpc,target,NUM_PRATICA, PROGRESS_PRATICA)],\n",
    "                         master_modello[,.(NUM_PRATICA,PROGRESS_PRATICA,DSI_importo_fido_richiesto, DSI_sab,RAT_classe_rating_filt)],\n",
    "                         by = c('NUM_PRATICA','PROGRESS_PRATICA'),\n",
    "                         all.x = TRUE)\n",
    "\n",
    "dt_sample_small[, col_new_vpc := \"giallo\"]\n",
    "dt_sample_small[pred_vpc <= soglia_vg, col_new_vpc := \"verde\"]\n",
    "dt_sample_small[pred_vpc > soglia_gr, col_new_vpc := \"rosso\"]\n",
    "\n",
    "tab_perf <- table_soglie(dt_tree[type != 'other',],soglie = c(soglia_vg,soglia_gr))\n",
    "setnames(tab_perf, c('DEFAULT',\"OK\",\"tot\",\"perc\"),paste0(\"new_\", c('default',\"ok\",\"tot\",\"perc\"))) "
   ]
  },
  {
   "cell_type": "code",
   "execution_count": 332,
   "id": "advisory-lotus",
   "metadata": {},
   "outputs": [],
   "source": [
    "# old_perf <-  performance_oldvpc(dt_sample)\n",
    "# setnames(old_perf, c('DEFAULT',\"OK\"),paste0(\"old_\", c('default',\"ok\"))) \n",
    "# #old_perf\n",
    "\n",
    "# nrow(dt_sample_small[col_new_vpc == 'verde',])\n",
    "\n",
    "# perf_raw <- merge(tab_perf,\n",
    "#       old_perf,\n",
    "#       by = 'colore')\n",
    "# perf_raw"
   ]
  },
  {
   "cell_type": "code",
   "execution_count": 389,
   "id": "accepting-queue",
   "metadata": {},
   "outputs": [],
   "source": [
    "dt_sample_limsoc <- merge(dt_sample_small,\n",
    "                         dt_orig[,.(NUM_PRATICA, PROGRESS_PRATICA,LIMITE_MAX,`Esito - LIMITI SOCIETARI`,`Colore - LIMITI SOCIETARI`, `Esito_final_giallo e Monocontrollo_giallo`)],\n",
    "                         by =c('NUM_PRATICA', 'PROGRESS_PRATICA'),\n",
    "                         all.x = TRUE)\n",
    "\n",
    "dt_sample_limsoc[,new_limiti := LIMITE_MAX]\n",
    "dt_sample_limsoc[grepl(\"I\",RAT_classe_rating_filt),new_limiti := 500000]\n",
    "\n",
    "dt_sample_limsoc[DSI_importo_fido_richiesto >new_limiti ,new_col_limiti := \"GIALLO\"]\n",
    "dt_sample_limsoc[DSI_importo_fido_richiesto <= new_limiti ,new_col_limiti := \"VERDE\"]\n",
    "dt_sample_limsoc[LIMITE_MAX == 0 ,new_col_limiti := \"ROSSO\"]\n",
    "dt_sample_limsoc[DSI_importo_fido_richiesto == 0 ,new_col_limiti := \"VERDE\"]\n",
    "dt_sample_limsoc[grepl(\"R\",RAT_classe_rating_filt) & RAT_classe_rating_filt!= 'UR',new_col_limiti := \"ROSSO\"]\n",
    "\n",
    "\n",
    " dt_sample_limsoc <- merge(dt_sample_limsoc,\n",
    "                          dt_orig[, c(\"NUM_PRATICA\",\"PROGRESS_PRATICA\",cols_color), with = FALSE],\n",
    "                          by =  c(\"NUM_PRATICA\",\"PROGRESS_PRATICA\"),\n",
    "                           all.x = TRUE)\n",
    "\n",
    "dt_sample_limsoc[, new_num_limiti := as.numeric(factor(new_col_limiti, levels = c('NERO','GRIGIO','VERDE','GIALLO','ROSSO')))]\n",
    "\n",
    "cols_color <- c(colnames(dt_orig)[grepl(\"Colore -\",colnames(dt_orig)) & !grepl('LIMITI SOCIETARI',colnames(dt_orig))])\n",
    "#cols_color\n",
    "\n",
    "dt_color <- dt_orig[,c(\"NUM_PRATICA\",\"PROGRESS_PRATICA\",\"ESITO_FINALE_VPC\",cols_color), with = FALSE]\n",
    "\n",
    "dt_color[, (cols_color) := lapply(dt_color[,cols_color, with = FALSE], function(col){\n",
    "        as.numeric(factor(col, levels = c('NERO','GRIGIO','VERDE','GIALLO','ROSSO')))\n",
    "})]\n",
    "\n",
    "dt_color[, col_senzalimiti := do.call(pmax, c(.SD, list(na.rm = TRUE))), .SDcols=cols_color]\n",
    "\n",
    "\n",
    "\n",
    "\n",
    "dt_sample_limsoc <- merge(dt_sample_limsoc,\n",
    "                         dt_color[, c(\"NUM_PRATICA\",\"PROGRESS_PRATICA\",'col_senzalimiti')],\n",
    "                         by = c(\"NUM_PRATICA\",\"PROGRESS_PRATICA\"),\n",
    "                         all.x = TRUE)\n",
    "dt_sample_limsoc[col_senzalimiti ==3, colore_senza_limsoc := \"VERDE\"]\n",
    "dt_sample_limsoc[col_senzalimiti ==4, colore_senza_limsoc := \"GIALLO\"]\n",
    "dt_sample_limsoc[col_senzalimiti ==5, colore_senza_limsoc := \"ROSSO\"]\n",
    "dt_sample_limsoc[is.na(col_senzalimiti), colore_senza_limsoc := ESITO_FINALE_VPC]\n",
    "dt_sample_limsoc[is.na(col_senzalimiti), col_senzalimiti := 0]\n",
    "\n",
    "dt_sample_limsoc[, esito_finale_new_lim_num := do.call(pmax, c(.SD, list(na.rm = TRUE))), .SDcols=c('col_senzalimiti','new_num_limiti')]\n",
    "\n",
    "dt_sample_limsoc[esito_finale_new_lim_num ==3, esito_finale_new_lim := \"VERDE\"]\n",
    "dt_sample_limsoc[esito_finale_new_lim_num ==4, esito_finale_new_lim := \"GIALLO\"]\n",
    "dt_sample_limsoc[esito_finale_new_lim_num ==5, esito_finale_new_lim := \"ROSSO\"]\n",
    "dt_sample_limsoc[esito_finale_new_lim_num ==0, esito_finale_new_lim := ESITO_FINALE_VPC]"
   ]
  },
  {
   "cell_type": "code",
   "execution_count": 390,
   "id": "analyzed-alarm",
   "metadata": {},
   "outputs": [
    {
     "data": {
      "text/html": [
       "<table class=\"dataframe\">\n",
       "<caption>A data.table: 3 × 6</caption>\n",
       "<thead>\n",
       "\t<tr><th scope=col>colore</th><th scope=col>DEFAULT</th><th scope=col>OK</th><th scope=col>old_tot</th><th scope=col>old_td</th><th scope=col>sample_perc</th></tr>\n",
       "\t<tr><th scope=col>&lt;chr&gt;</th><th scope=col>&lt;int&gt;</th><th scope=col>&lt;int&gt;</th><th scope=col>&lt;int&gt;</th><th scope=col>&lt;dbl&gt;</th><th scope=col>&lt;dbl&gt;</th></tr>\n",
       "</thead>\n",
       "<tbody>\n",
       "\t<tr><td>VERDE </td><td>52</td><td>3401</td><td>3453</td><td>1.506</td><td>47.766</td></tr>\n",
       "\t<tr><td>GIALLO</td><td>38</td><td>3048</td><td>3086</td><td>1.231</td><td>42.689</td></tr>\n",
       "\t<tr><td>ROSSO </td><td>26</td><td> 664</td><td> 690</td><td>3.768</td><td> 9.545</td></tr>\n",
       "</tbody>\n",
       "</table>\n"
      ],
      "text/latex": [
       "A data.table: 3 × 6\n",
       "\\begin{tabular}{llllll}\n",
       " colore & DEFAULT & OK & old\\_tot & old\\_td & sample\\_perc\\\\\n",
       " <chr> & <int> & <int> & <int> & <dbl> & <dbl>\\\\\n",
       "\\hline\n",
       "\t VERDE  & 52 & 3401 & 3453 & 1.506 & 47.766\\\\\n",
       "\t GIALLO & 38 & 3048 & 3086 & 1.231 & 42.689\\\\\n",
       "\t ROSSO  & 26 &  664 &  690 & 3.768 &  9.545\\\\\n",
       "\\end{tabular}\n"
      ],
      "text/markdown": [
       "\n",
       "A data.table: 3 × 6\n",
       "\n",
       "| colore &lt;chr&gt; | DEFAULT &lt;int&gt; | OK &lt;int&gt; | old_tot &lt;int&gt; | old_td &lt;dbl&gt; | sample_perc &lt;dbl&gt; |\n",
       "|---|---|---|---|---|---|\n",
       "| VERDE  | 52 | 3401 | 3453 | 1.506 | 47.766 |\n",
       "| GIALLO | 38 | 3048 | 3086 | 1.231 | 42.689 |\n",
       "| ROSSO  | 26 |  664 |  690 | 3.768 |  9.545 |\n",
       "\n"
      ],
      "text/plain": [
       "  colore DEFAULT OK   old_tot old_td sample_perc\n",
       "1 VERDE  52      3401 3453    1.506  47.766     \n",
       "2 GIALLO 38      3048 3086    1.231  42.689     \n",
       "3 ROSSO  26       664  690    3.768   9.545     "
      ]
     },
     "metadata": {},
     "output_type": "display_data"
    },
    {
     "data": {
      "text/html": [
       "<table class=\"dataframe\">\n",
       "<caption>A data.table: 3 × 6</caption>\n",
       "<thead>\n",
       "\t<tr><th scope=col>colore</th><th scope=col>DEFAULT</th><th scope=col>OK</th><th scope=col>old_tot</th><th scope=col>old_td</th><th scope=col>sample_perc</th></tr>\n",
       "\t<tr><th scope=col>&lt;chr&gt;</th><th scope=col>&lt;int&gt;</th><th scope=col>&lt;int&gt;</th><th scope=col>&lt;int&gt;</th><th scope=col>&lt;dbl&gt;</th><th scope=col>&lt;dbl&gt;</th></tr>\n",
       "</thead>\n",
       "<tbody>\n",
       "\t<tr><td>VERDE </td><td>72</td><td>4157</td><td>4229</td><td>1.703</td><td>58.500</td></tr>\n",
       "\t<tr><td>GIALLO</td><td>24</td><td>2449</td><td>2473</td><td>0.970</td><td>34.209</td></tr>\n",
       "\t<tr><td>ROSSO </td><td>20</td><td> 507</td><td> 527</td><td>3.795</td><td> 7.290</td></tr>\n",
       "</tbody>\n",
       "</table>\n"
      ],
      "text/latex": [
       "A data.table: 3 × 6\n",
       "\\begin{tabular}{llllll}\n",
       " colore & DEFAULT & OK & old\\_tot & old\\_td & sample\\_perc\\\\\n",
       " <chr> & <int> & <int> & <int> & <dbl> & <dbl>\\\\\n",
       "\\hline\n",
       "\t VERDE  & 72 & 4157 & 4229 & 1.703 & 58.500\\\\\n",
       "\t GIALLO & 24 & 2449 & 2473 & 0.970 & 34.209\\\\\n",
       "\t ROSSO  & 20 &  507 &  527 & 3.795 &  7.290\\\\\n",
       "\\end{tabular}\n"
      ],
      "text/markdown": [
       "\n",
       "A data.table: 3 × 6\n",
       "\n",
       "| colore &lt;chr&gt; | DEFAULT &lt;int&gt; | OK &lt;int&gt; | old_tot &lt;int&gt; | old_td &lt;dbl&gt; | sample_perc &lt;dbl&gt; |\n",
       "|---|---|---|---|---|---|\n",
       "| VERDE  | 72 | 4157 | 4229 | 1.703 | 58.500 |\n",
       "| GIALLO | 24 | 2449 | 2473 | 0.970 | 34.209 |\n",
       "| ROSSO  | 20 |  507 |  527 | 3.795 |  7.290 |\n",
       "\n"
      ],
      "text/plain": [
       "  colore DEFAULT OK   old_tot old_td sample_perc\n",
       "1 VERDE  72      4157 4229    1.703  58.500     \n",
       "2 GIALLO 24      2449 2473    0.970  34.209     \n",
       "3 ROSSO  20       507  527    3.795   7.290     "
      ]
     },
     "metadata": {},
     "output_type": "display_data"
    }
   ],
   "source": [
    "source('../../model_functions.R')\n",
    "performance_oldvpc(dt_sample_limsoc)\n",
    "performance_prelim(dt_sample_limsoc)"
   ]
  },
  {
   "cell_type": "code",
   "execution_count": 391,
   "id": "international-forestry",
   "metadata": {},
   "outputs": [],
   "source": [
    "## table(dt_sample_limsoc$esito_finale_new_lim, useNA = \"always\")"
   ]
  },
  {
   "cell_type": "code",
   "execution_count": 392,
   "id": "insured-butter",
   "metadata": {},
   "outputs": [
    {
     "name": "stdout",
     "output_type": "stream",
     "text": [
      "\n",
      "   3    4    5 <NA> \n",
      "3444 2840  941    4 \n",
      "\n",
      "   3    4    5 <NA> \n",
      "3444 2840  941    4 \n",
      "\n",
      "   3    4    5 <NA> \n",
      "3444 2840  941    4 \n"
     ]
    },
    {
     "data": {
      "text/html": [
       "<table class=\"dataframe\">\n",
       "<caption>A data.table: 3 × 6</caption>\n",
       "<thead>\n",
       "\t<tr><th scope=col>colore</th><th scope=col>DEFAULT</th><th scope=col>OK</th><th scope=col>old_tot</th><th scope=col>old_td</th><th scope=col>sample_perc</th></tr>\n",
       "\t<tr><th scope=col>&lt;chr&gt;</th><th scope=col>&lt;int&gt;</th><th scope=col>&lt;int&gt;</th><th scope=col>&lt;int&gt;</th><th scope=col>&lt;dbl&gt;</th><th scope=col>&lt;dbl&gt;</th></tr>\n",
       "</thead>\n",
       "<tbody>\n",
       "\t<tr><td>VERDE </td><td>52</td><td>3393</td><td>3445</td><td>1.509</td><td>47.655</td></tr>\n",
       "\t<tr><td>GIALLO</td><td>27</td><td>2816</td><td>2843</td><td>0.950</td><td>39.328</td></tr>\n",
       "\t<tr><td>ROSSO </td><td>37</td><td> 904</td><td> 941</td><td>3.932</td><td>13.017</td></tr>\n",
       "</tbody>\n",
       "</table>\n"
      ],
      "text/latex": [
       "A data.table: 3 × 6\n",
       "\\begin{tabular}{llllll}\n",
       " colore & DEFAULT & OK & old\\_tot & old\\_td & sample\\_perc\\\\\n",
       " <chr> & <int> & <int> & <int> & <dbl> & <dbl>\\\\\n",
       "\\hline\n",
       "\t VERDE  & 52 & 3393 & 3445 & 1.509 & 47.655\\\\\n",
       "\t GIALLO & 27 & 2816 & 2843 & 0.950 & 39.328\\\\\n",
       "\t ROSSO  & 37 &  904 &  941 & 3.932 & 13.017\\\\\n",
       "\\end{tabular}\n"
      ],
      "text/markdown": [
       "\n",
       "A data.table: 3 × 6\n",
       "\n",
       "| colore &lt;chr&gt; | DEFAULT &lt;int&gt; | OK &lt;int&gt; | old_tot &lt;int&gt; | old_td &lt;dbl&gt; | sample_perc &lt;dbl&gt; |\n",
       "|---|---|---|---|---|---|\n",
       "| VERDE  | 52 | 3393 | 3445 | 1.509 | 47.655 |\n",
       "| GIALLO | 27 | 2816 | 2843 | 0.950 | 39.328 |\n",
       "| ROSSO  | 37 |  904 |  941 | 3.932 | 13.017 |\n",
       "\n"
      ],
      "text/plain": [
       "  colore DEFAULT OK   old_tot old_td sample_perc\n",
       "1 VERDE  52      3393 3445    1.509  47.655     \n",
       "2 GIALLO 27      2816 2843    0.950  39.328     \n",
       "3 ROSSO  37       904  941    3.932  13.017     "
      ]
     },
     "metadata": {},
     "output_type": "display_data"
    }
   ],
   "source": [
    "performance_newlim(dt_sample_limsoc)"
   ]
  },
  {
   "cell_type": "code",
   "execution_count": 370,
   "id": "olive-avatar",
   "metadata": {},
   "outputs": [
    {
     "data": {
      "text/html": [
       "<style>\n",
       ".list-inline {list-style: none; margin:0; padding: 0}\n",
       ".list-inline>li {display: inline-block}\n",
       ".list-inline>li:not(:last-child)::after {content: \"\\00b7\"; padding: 0 .5ex}\n",
       "</style>\n",
       "<ol class=list-inline><li>0.00737170399773178</li><li>0.00380491179522657</li><li>0.00380491179522657</li><li>0.00380491179522657</li></ol>\n"
      ],
      "text/latex": [
       "\\begin{enumerate*}\n",
       "\\item 0.00737170399773178\n",
       "\\item 0.00380491179522657\n",
       "\\item 0.00380491179522657\n",
       "\\item 0.00380491179522657\n",
       "\\end{enumerate*}\n"
      ],
      "text/markdown": [
       "1. 0.00737170399773178\n",
       "2. 0.00380491179522657\n",
       "3. 0.00380491179522657\n",
       "4. 0.00380491179522657\n",
       "\n",
       "\n"
      ],
      "text/plain": [
       "[1] 0.007371704 0.003804912 0.003804912 0.003804912"
      ]
     },
     "metadata": {},
     "output_type": "display_data"
    }
   ],
   "source": [
    "dt_sample_limsoc[is.na(col_senzalimiti), pred_vpc]\n"
   ]
  },
  {
   "cell_type": "code",
   "execution_count": 335,
   "id": "immediate-marina",
   "metadata": {},
   "outputs": [
    {
     "data": {
      "text/html": [
       "<table class=\"dataframe\">\n",
       "<caption>A data.table: 4 × 7</caption>\n",
       "<thead>\n",
       "\t<tr><th scope=col>colore</th><th scope=col>DEFAULT</th><th scope=col>OK</th><th scope=col>tot</th><th scope=col>soglia</th><th scope=col>perc_sample</th><th scope=col>td</th></tr>\n",
       "\t<tr><th scope=col>&lt;chr&gt;</th><th scope=col>&lt;int&gt;</th><th scope=col>&lt;int&gt;</th><th scope=col>&lt;int&gt;</th><th scope=col>&lt;dbl&gt;</th><th scope=col>&lt;dbl&gt;</th><th scope=col>&lt;dbl&gt;</th></tr>\n",
       "</thead>\n",
       "<tbody>\n",
       "\t<tr><td>VERDE</td><td>21</td><td>3951</td><td>3972</td><td>0.015</td><td>54.95</td><td>0.53</td></tr>\n",
       "\t<tr><td>ROSSO</td><td>95</td><td>3162</td><td>3257</td><td>0.015</td><td>45.05</td><td>2.92</td></tr>\n",
       "\t<tr><td>VERDE</td><td>34</td><td>4581</td><td>4615</td><td>0.040</td><td>63.84</td><td>0.74</td></tr>\n",
       "\t<tr><td>ROSSO</td><td>82</td><td>2532</td><td>2614</td><td>0.040</td><td>36.16</td><td>3.14</td></tr>\n",
       "</tbody>\n",
       "</table>\n"
      ],
      "text/latex": [
       "A data.table: 4 × 7\n",
       "\\begin{tabular}{lllllll}\n",
       " colore & DEFAULT & OK & tot & soglia & perc\\_sample & td\\\\\n",
       " <chr> & <int> & <int> & <int> & <dbl> & <dbl> & <dbl>\\\\\n",
       "\\hline\n",
       "\t VERDE & 21 & 3951 & 3972 & 0.015 & 54.95 & 0.53\\\\\n",
       "\t ROSSO & 95 & 3162 & 3257 & 0.015 & 45.05 & 2.92\\\\\n",
       "\t VERDE & 34 & 4581 & 4615 & 0.040 & 63.84 & 0.74\\\\\n",
       "\t ROSSO & 82 & 2532 & 2614 & 0.040 & 36.16 & 3.14\\\\\n",
       "\\end{tabular}\n"
      ],
      "text/markdown": [
       "\n",
       "A data.table: 4 × 7\n",
       "\n",
       "| colore &lt;chr&gt; | DEFAULT &lt;int&gt; | OK &lt;int&gt; | tot &lt;int&gt; | soglia &lt;dbl&gt; | perc_sample &lt;dbl&gt; | td &lt;dbl&gt; |\n",
       "|---|---|---|---|---|---|---|\n",
       "| VERDE | 21 | 3951 | 3972 | 0.015 | 54.95 | 0.53 |\n",
       "| ROSSO | 95 | 3162 | 3257 | 0.015 | 45.05 | 2.92 |\n",
       "| VERDE | 34 | 4581 | 4615 | 0.040 | 63.84 | 0.74 |\n",
       "| ROSSO | 82 | 2532 | 2614 | 0.040 | 36.16 | 3.14 |\n",
       "\n"
      ],
      "text/plain": [
       "  colore DEFAULT OK   tot  soglia perc_sample td  \n",
       "1 VERDE  21      3951 3972 0.015  54.95       0.53\n",
       "2 ROSSO  95      3162 3257 0.015  45.05       2.92\n",
       "3 VERDE  34      4581 4615 0.040  63.84       0.74\n",
       "4 ROSSO  82      2532 2614 0.040  36.16       3.14"
      ]
     },
     "metadata": {},
     "output_type": "display_data"
    }
   ],
   "source": [
    "soglie <- c(0.015,0.04)\n",
    "rbindlist(lapply(soglie,function(soglia){\n",
    "    dt_appo <- dt_sample_limsoc[,.(pred_vpc,target,esito_finale_new_lim_num,new_num_limiti,col_senzalimiti)]\n",
    "    dt_appo[, tree_col_num := 3]\n",
    "    dt_appo[pred_vpc > soglia, tree_col_num := 5]\n",
    "    dt_appo[, col_new_limsoc := do.call(pmax, \n",
    "                                        c(.SD, list(na.rm = TRUE))), .SDcols=c('tree_col_num','new_num_limiti')]\n",
    "    dt_appo[,colore := \"VERDE\"]\n",
    "    dt_appo[col_new_limsoc >3,colore := \"ROSSO\"]\n",
    "    dt_out <- dt_appo[, .(DEFAULT  = sum(target == \"DEFAULT\"),\n",
    "                          OK = sum(target == \"OK\"),tot = .N), by ='colore']\n",
    "    dt_out[,soglia := soglia]\n",
    "    dt_out[,perc_sample := round(100*tot/sum(dt_out$tot),2)]\n",
    "    dt_out[,td := round(100*DEFAULT/tot,2)]\n",
    "\n",
    "}))"
   ]
  },
  {
   "cell_type": "code",
   "execution_count": 288,
   "id": "starting-occurrence",
   "metadata": {},
   "outputs": [
    {
     "name": "stdout",
     "output_type": "stream",
     "text": [
      "              soglia DEFAULT   OK  tot  perc sample_perc colore\n",
      "1: pred_vpc <= 0.015      39 5540 5579 0.699      77.175  VERDE\n",
      "2:  pred_vpc > 0.015      77 1573 1650 4.667      22.825  ROSSO\n"
     ]
    },
    {
     "data": {
      "text/html": [
       "<table class=\"dataframe\">\n",
       "<caption>A data.table: 2 × 7</caption>\n",
       "<thead>\n",
       "\t<tr><th scope=col>soglia</th><th scope=col>DEFAULT</th><th scope=col>OK</th><th scope=col>tot</th><th scope=col>perc</th><th scope=col>sample_perc</th><th scope=col>colore</th></tr>\n",
       "\t<tr><th scope=col>&lt;chr&gt;</th><th scope=col>&lt;int&gt;</th><th scope=col>&lt;int&gt;</th><th scope=col>&lt;int&gt;</th><th scope=col>&lt;dbl&gt;</th><th scope=col>&lt;dbl&gt;</th><th scope=col>&lt;chr&gt;</th></tr>\n",
       "</thead>\n",
       "<tbody>\n",
       "\t<tr><td>pred_vpc &lt;= 0.015</td><td>39</td><td>5540</td><td>5579</td><td>0.699</td><td>77.175</td><td>VERDE</td></tr>\n",
       "\t<tr><td>pred_vpc &gt; 0.015 </td><td>77</td><td>1573</td><td>1650</td><td>4.667</td><td>22.825</td><td>ROSSO</td></tr>\n",
       "</tbody>\n",
       "</table>\n"
      ],
      "text/latex": [
       "A data.table: 2 × 7\n",
       "\\begin{tabular}{lllllll}\n",
       " soglia & DEFAULT & OK & tot & perc & sample\\_perc & colore\\\\\n",
       " <chr> & <int> & <int> & <int> & <dbl> & <dbl> & <chr>\\\\\n",
       "\\hline\n",
       "\t pred\\_vpc <= 0.015 & 39 & 5540 & 5579 & 0.699 & 77.175 & VERDE\\\\\n",
       "\t pred\\_vpc > 0.015  & 77 & 1573 & 1650 & 4.667 & 22.825 & ROSSO\\\\\n",
       "\\end{tabular}\n"
      ],
      "text/markdown": [
       "\n",
       "A data.table: 2 × 7\n",
       "\n",
       "| soglia &lt;chr&gt; | DEFAULT &lt;int&gt; | OK &lt;int&gt; | tot &lt;int&gt; | perc &lt;dbl&gt; | sample_perc &lt;dbl&gt; | colore &lt;chr&gt; |\n",
       "|---|---|---|---|---|---|---|\n",
       "| pred_vpc &lt;= 0.015 | 39 | 5540 | 5579 | 0.699 | 77.175 | VERDE |\n",
       "| pred_vpc &gt; 0.015  | 77 | 1573 | 1650 | 4.667 | 22.825 | ROSSO |\n",
       "\n"
      ],
      "text/plain": [
       "  soglia            DEFAULT OK   tot  perc  sample_perc colore\n",
       "1 pred_vpc <= 0.015 39      5540 5579 0.699 77.175      VERDE \n",
       "2 pred_vpc > 0.015  77      1573 1650 4.667 22.825      ROSSO "
      ]
     },
     "metadata": {},
     "output_type": "display_data"
    }
   ],
   "source": [
    "table_soglie(dt_tree,soglie = c(0.015,0.015))"
   ]
  },
  {
   "cell_type": "code",
   "execution_count": 289,
   "id": "potential-current",
   "metadata": {},
   "outputs": [
    {
     "data": {
      "text/html": [
       "<table class=\"dataframe\">\n",
       "<caption>A data.table: 3 × 6</caption>\n",
       "<thead>\n",
       "\t<tr><th scope=col>colore</th><th scope=col>DEFAULT</th><th scope=col>OK</th><th scope=col>tot</th><th scope=col>perc_sample</th><th scope=col>td</th></tr>\n",
       "\t<tr><th scope=col>&lt;chr&gt;</th><th scope=col>&lt;int&gt;</th><th scope=col>&lt;int&gt;</th><th scope=col>&lt;int&gt;</th><th scope=col>&lt;dbl&gt;</th><th scope=col>&lt;dbl&gt;</th></tr>\n",
       "</thead>\n",
       "<tbody>\n",
       "\t<tr><td>VERDE </td><td>29</td><td>4273</td><td>4302</td><td>59.51</td><td>0.67</td></tr>\n",
       "\t<tr><td>GIALLO</td><td>19</td><td>1920</td><td>1939</td><td>26.82</td><td>0.98</td></tr>\n",
       "\t<tr><td>ROSSO </td><td>68</td><td> 920</td><td> 988</td><td>13.67</td><td>6.88</td></tr>\n",
       "</tbody>\n",
       "</table>\n"
      ],
      "text/latex": [
       "A data.table: 3 × 6\n",
       "\\begin{tabular}{llllll}\n",
       " colore & DEFAULT & OK & tot & perc\\_sample & td\\\\\n",
       " <chr> & <int> & <int> & <int> & <dbl> & <dbl>\\\\\n",
       "\\hline\n",
       "\t VERDE  & 29 & 4273 & 4302 & 59.51 & 0.67\\\\\n",
       "\t GIALLO & 19 & 1920 & 1939 & 26.82 & 0.98\\\\\n",
       "\t ROSSO  & 68 &  920 &  988 & 13.67 & 6.88\\\\\n",
       "\\end{tabular}\n"
      ],
      "text/markdown": [
       "\n",
       "A data.table: 3 × 6\n",
       "\n",
       "| colore &lt;chr&gt; | DEFAULT &lt;int&gt; | OK &lt;int&gt; | tot &lt;int&gt; | perc_sample &lt;dbl&gt; | td &lt;dbl&gt; |\n",
       "|---|---|---|---|---|---|\n",
       "| VERDE  | 29 | 4273 | 4302 | 59.51 | 0.67 |\n",
       "| GIALLO | 19 | 1920 | 1939 | 26.82 | 0.98 |\n",
       "| ROSSO  | 68 |  920 |  988 | 13.67 | 6.88 |\n",
       "\n"
      ],
      "text/plain": [
       "  colore DEFAULT OK   tot  perc_sample td  \n",
       "1 VERDE  29      4273 4302 59.51       0.67\n",
       "2 GIALLO 19      1920 1939 26.82       0.98\n",
       "3 ROSSO  68       920  988 13.67       6.88"
      ]
     },
     "metadata": {},
     "output_type": "display_data"
    }
   ],
   "source": [
    "dt_appo <- dt_sample_limsoc[,.(pred_vpc,target,esito_finale_new_lim_num,new_num_limiti,col_senzalimiti)]\n",
    "    dt_appo[, tree_col_num := 3]\n",
    "    dt_appo[pred_vpc > 0.02 & pred_vpc <=0.04 , tree_col_num := 4]\n",
    "    dt_appo[pred_vpc > 0.04 , tree_col_num := 5]\n",
    "    dt_appo[, col_new_limsoc := do.call(pmax, \n",
    "                                        c(.SD, list(na.rm = TRUE))), .SDcols=c('tree_col_num','new_num_limiti')]\n",
    "    dt_appo[,colore := \"VERDE\"]\n",
    "    dt_appo[col_new_limsoc == 4,colore := \"GIALLO\"]\n",
    "    dt_appo[col_new_limsoc == 5,colore := \"ROSSO\"]\n",
    "    dt_out <- dt_appo[, .(DEFAULT  = sum(target == \"DEFAULT\"),\n",
    "                          OK = sum(target == \"OK\"),tot = .N), by ='colore']\n",
    "   # dt_out[,soglia := soglia]\n",
    "    dt_out[,perc_sample := round(100*tot/sum(dt_out$tot),2)]\n",
    "    dt_out[,td := round(100*DEFAULT/tot,2)]\n",
    "\n",
    "dt_out"
   ]
  },
  {
   "cell_type": "code",
   "execution_count": null,
   "id": "brazilian-siemens",
   "metadata": {},
   "outputs": [],
   "source": []
  },
  {
   "cell_type": "code",
   "execution_count": 290,
   "id": "surface-percentage",
   "metadata": {},
   "outputs": [
    {
     "data": {
      "text/html": [
       "<table class=\"dataframe\">\n",
       "<caption>A data.table: 9 × 7</caption>\n",
       "<thead>\n",
       "\t<tr><th scope=col>colore</th><th scope=col>DEFAULT</th><th scope=col>OK</th><th scope=col>tot</th><th scope=col>soglia</th><th scope=col>perc_sample</th><th scope=col>td</th></tr>\n",
       "\t<tr><th scope=col>&lt;chr&gt;</th><th scope=col>&lt;int&gt;</th><th scope=col>&lt;int&gt;</th><th scope=col>&lt;int&gt;</th><th scope=col>&lt;chr&gt;</th><th scope=col>&lt;dbl&gt;</th><th scope=col>&lt;dbl&gt;</th></tr>\n",
       "</thead>\n",
       "<tbody>\n",
       "\t<tr><td>VERDE </td><td>34</td><td>4581</td><td>4615</td><td>4 % -  5 %  </td><td>63.84</td><td>0.74</td></tr>\n",
       "\t<tr><td>GIALLO</td><td>15</td><td>1633</td><td>1648</td><td>4 % -  5 %  </td><td>22.80</td><td>0.91</td></tr>\n",
       "\t<tr><td>ROSSO </td><td>67</td><td> 899</td><td> 966</td><td>4 % -  5 %  </td><td>13.36</td><td>6.94</td></tr>\n",
       "\t<tr><td>VERDE </td><td>34</td><td>4581</td><td>4615</td><td>4 % -  8 %  </td><td>63.84</td><td>0.74</td></tr>\n",
       "\t<tr><td>GIALLO</td><td>20</td><td>1823</td><td>1843</td><td>4 % -  8 %  </td><td>25.49</td><td>1.09</td></tr>\n",
       "\t<tr><td>ROSSO </td><td>62</td><td> 709</td><td> 771</td><td>4 % -  8 %  </td><td>10.67</td><td>8.04</td></tr>\n",
       "\t<tr><td>VERDE </td><td>21</td><td>3951</td><td>3972</td><td>4 % -  1.7 %</td><td>54.95</td><td>0.53</td></tr>\n",
       "\t<tr><td>ROSSO </td><td>83</td><td>1772</td><td>1855</td><td>4 % -  1.7 %</td><td>25.66</td><td>4.47</td></tr>\n",
       "\t<tr><td>GIALLO</td><td>12</td><td>1390</td><td>1402</td><td>4 % -  1.7 %</td><td>19.39</td><td>0.86</td></tr>\n",
       "</tbody>\n",
       "</table>\n"
      ],
      "text/latex": [
       "A data.table: 9 × 7\n",
       "\\begin{tabular}{lllllll}\n",
       " colore & DEFAULT & OK & tot & soglia & perc\\_sample & td\\\\\n",
       " <chr> & <int> & <int> & <int> & <chr> & <dbl> & <dbl>\\\\\n",
       "\\hline\n",
       "\t VERDE  & 34 & 4581 & 4615 & 4 \\% -  5 \\%   & 63.84 & 0.74\\\\\n",
       "\t GIALLO & 15 & 1633 & 1648 & 4 \\% -  5 \\%   & 22.80 & 0.91\\\\\n",
       "\t ROSSO  & 67 &  899 &  966 & 4 \\% -  5 \\%   & 13.36 & 6.94\\\\\n",
       "\t VERDE  & 34 & 4581 & 4615 & 4 \\% -  8 \\%   & 63.84 & 0.74\\\\\n",
       "\t GIALLO & 20 & 1823 & 1843 & 4 \\% -  8 \\%   & 25.49 & 1.09\\\\\n",
       "\t ROSSO  & 62 &  709 &  771 & 4 \\% -  8 \\%   & 10.67 & 8.04\\\\\n",
       "\t VERDE  & 21 & 3951 & 3972 & 4 \\% -  1.7 \\% & 54.95 & 0.53\\\\\n",
       "\t ROSSO  & 83 & 1772 & 1855 & 4 \\% -  1.7 \\% & 25.66 & 4.47\\\\\n",
       "\t GIALLO & 12 & 1390 & 1402 & 4 \\% -  1.7 \\% & 19.39 & 0.86\\\\\n",
       "\\end{tabular}\n"
      ],
      "text/markdown": [
       "\n",
       "A data.table: 9 × 7\n",
       "\n",
       "| colore &lt;chr&gt; | DEFAULT &lt;int&gt; | OK &lt;int&gt; | tot &lt;int&gt; | soglia &lt;chr&gt; | perc_sample &lt;dbl&gt; | td &lt;dbl&gt; |\n",
       "|---|---|---|---|---|---|---|\n",
       "| VERDE  | 34 | 4581 | 4615 | 4 % -  5 %   | 63.84 | 0.74 |\n",
       "| GIALLO | 15 | 1633 | 1648 | 4 % -  5 %   | 22.80 | 0.91 |\n",
       "| ROSSO  | 67 |  899 |  966 | 4 % -  5 %   | 13.36 | 6.94 |\n",
       "| VERDE  | 34 | 4581 | 4615 | 4 % -  8 %   | 63.84 | 0.74 |\n",
       "| GIALLO | 20 | 1823 | 1843 | 4 % -  8 %   | 25.49 | 1.09 |\n",
       "| ROSSO  | 62 |  709 |  771 | 4 % -  8 %   | 10.67 | 8.04 |\n",
       "| VERDE  | 21 | 3951 | 3972 | 4 % -  1.7 % | 54.95 | 0.53 |\n",
       "| ROSSO  | 83 | 1772 | 1855 | 4 % -  1.7 % | 25.66 | 4.47 |\n",
       "| GIALLO | 12 | 1390 | 1402 | 4 % -  1.7 % | 19.39 | 0.86 |\n",
       "\n"
      ],
      "text/plain": [
       "  colore DEFAULT OK   tot  soglia       perc_sample td  \n",
       "1 VERDE  34      4581 4615 4 % -  5 %   63.84       0.74\n",
       "2 GIALLO 15      1633 1648 4 % -  5 %   22.80       0.91\n",
       "3 ROSSO  67       899  966 4 % -  5 %   13.36       6.94\n",
       "4 VERDE  34      4581 4615 4 % -  8 %   63.84       0.74\n",
       "5 GIALLO 20      1823 1843 4 % -  8 %   25.49       1.09\n",
       "6 ROSSO  62       709  771 4 % -  8 %   10.67       8.04\n",
       "7 VERDE  21      3951 3972 4 % -  1.7 % 54.95       0.53\n",
       "8 ROSSO  83      1772 1855 4 % -  1.7 % 25.66       4.47\n",
       "9 GIALLO 12      1390 1402 4 % -  1.7 % 19.39       0.86"
      ]
     },
     "metadata": {},
     "output_type": "display_data"
    }
   ],
   "source": [
    "soglia_verde <- 0.04\n",
    "soglie <- c(0.05,0.08,0.017)\n",
    "\n",
    "\n",
    "performance_0.5 <- rbindlist(lapply(soglie,function(s){\n",
    "        dt_appo <- dt_sample_limsoc[,.(pred_vpc,target,esito_finale_new_lim_num,new_num_limiti,col_senzalimiti)]\n",
    "        dt_appo[pred_vpc <= soglia_verde, tree_col_num := 3]\n",
    "        dt_appo[pred_vpc > soglia_verde & pred_vpc <= s, tree_col_num := 4]\n",
    "        dt_appo[pred_vpc > s, tree_col_num := 5]\n",
    "        dt_appo[, col_new_limsoc := do.call(pmax, \n",
    "                                            c(.SD, list(na.rm = TRUE))), .SDcols=c('tree_col_num','new_num_limiti')]\n",
    "        dt_appo[,colore := \"VERDE\"]\n",
    "        dt_appo[col_new_limsoc == 4,colore := \"GIALLO\"]\n",
    "        dt_appo[col_new_limsoc == 5,colore := \"ROSSO\"]\n",
    "\n",
    "        dt_out <- dt_appo[, .(DEFAULT  = sum(target == \"DEFAULT\"),\n",
    "                              OK = sum(target == \"OK\"),tot = .N), by ='colore']\n",
    "        dt_out[,soglia := paste(100*soglia_verde,\"% - \", 100*s, \"%\")]\n",
    "        dt_out[,perc_sample := round(100*tot/sum(dt_out$tot),2)]\n",
    "        dt_out[,td := round(100*DEFAULT/tot,2)]   \n",
    "    }))\n",
    "performance_0.5"
   ]
  },
  {
   "cell_type": "code",
   "execution_count": 291,
   "id": "cooperative-refrigerator",
   "metadata": {},
   "outputs": [
    {
     "data": {
      "text/html": [
       "<table class=\"dataframe\">\n",
       "<caption>A data.table: 9 × 7</caption>\n",
       "<thead>\n",
       "\t<tr><th scope=col>colore</th><th scope=col>DEFAULT</th><th scope=col>OK</th><th scope=col>tot</th><th scope=col>soglia</th><th scope=col>perc_sample</th><th scope=col>td</th></tr>\n",
       "\t<tr><th scope=col>&lt;chr&gt;</th><th scope=col>&lt;int&gt;</th><th scope=col>&lt;int&gt;</th><th scope=col>&lt;int&gt;</th><th scope=col>&lt;chr&gt;</th><th scope=col>&lt;dbl&gt;</th><th scope=col>&lt;dbl&gt;</th></tr>\n",
       "</thead>\n",
       "<tbody>\n",
       "\t<tr><td>VERDE </td><td>10</td><td>2653</td><td>2663</td><td>0.7 % -  0.9 %</td><td>36.84</td><td>0.38</td></tr>\n",
       "\t<tr><td>GIALLO</td><td>11</td><td>1916</td><td>1927</td><td>0.7 % -  0.9 %</td><td>26.66</td><td>0.57</td></tr>\n",
       "\t<tr><td>ROSSO </td><td>95</td><td>2544</td><td>2639</td><td>0.7 % -  0.9 %</td><td>36.51</td><td>3.60</td></tr>\n",
       "\t<tr><td>VERDE </td><td>10</td><td>2653</td><td>2663</td><td>0.7 % -  1.4 %</td><td>36.84</td><td>0.38</td></tr>\n",
       "\t<tr><td>GIALLO</td><td>23</td><td>2688</td><td>2711</td><td>0.7 % -  1.4 %</td><td>37.50</td><td>0.85</td></tr>\n",
       "\t<tr><td>ROSSO </td><td>83</td><td>1772</td><td>1855</td><td>0.7 % -  1.4 %</td><td>25.66</td><td>4.47</td></tr>\n",
       "\t<tr><td>VERDE </td><td>10</td><td>2653</td><td>2663</td><td>0.7 % -  3 %  </td><td>36.84</td><td>0.38</td></tr>\n",
       "\t<tr><td>GIALLO</td><td>34</td><td>3227</td><td>3261</td><td>0.7 % -  3 %  </td><td>45.11</td><td>1.04</td></tr>\n",
       "\t<tr><td>ROSSO </td><td>72</td><td>1233</td><td>1305</td><td>0.7 % -  3 %  </td><td>18.05</td><td>5.52</td></tr>\n",
       "</tbody>\n",
       "</table>\n"
      ],
      "text/latex": [
       "A data.table: 9 × 7\n",
       "\\begin{tabular}{lllllll}\n",
       " colore & DEFAULT & OK & tot & soglia & perc\\_sample & td\\\\\n",
       " <chr> & <int> & <int> & <int> & <chr> & <dbl> & <dbl>\\\\\n",
       "\\hline\n",
       "\t VERDE  & 10 & 2653 & 2663 & 0.7 \\% -  0.9 \\% & 36.84 & 0.38\\\\\n",
       "\t GIALLO & 11 & 1916 & 1927 & 0.7 \\% -  0.9 \\% & 26.66 & 0.57\\\\\n",
       "\t ROSSO  & 95 & 2544 & 2639 & 0.7 \\% -  0.9 \\% & 36.51 & 3.60\\\\\n",
       "\t VERDE  & 10 & 2653 & 2663 & 0.7 \\% -  1.4 \\% & 36.84 & 0.38\\\\\n",
       "\t GIALLO & 23 & 2688 & 2711 & 0.7 \\% -  1.4 \\% & 37.50 & 0.85\\\\\n",
       "\t ROSSO  & 83 & 1772 & 1855 & 0.7 \\% -  1.4 \\% & 25.66 & 4.47\\\\\n",
       "\t VERDE  & 10 & 2653 & 2663 & 0.7 \\% -  3 \\%   & 36.84 & 0.38\\\\\n",
       "\t GIALLO & 34 & 3227 & 3261 & 0.7 \\% -  3 \\%   & 45.11 & 1.04\\\\\n",
       "\t ROSSO  & 72 & 1233 & 1305 & 0.7 \\% -  3 \\%   & 18.05 & 5.52\\\\\n",
       "\\end{tabular}\n"
      ],
      "text/markdown": [
       "\n",
       "A data.table: 9 × 7\n",
       "\n",
       "| colore &lt;chr&gt; | DEFAULT &lt;int&gt; | OK &lt;int&gt; | tot &lt;int&gt; | soglia &lt;chr&gt; | perc_sample &lt;dbl&gt; | td &lt;dbl&gt; |\n",
       "|---|---|---|---|---|---|---|\n",
       "| VERDE  | 10 | 2653 | 2663 | 0.7 % -  0.9 % | 36.84 | 0.38 |\n",
       "| GIALLO | 11 | 1916 | 1927 | 0.7 % -  0.9 % | 26.66 | 0.57 |\n",
       "| ROSSO  | 95 | 2544 | 2639 | 0.7 % -  0.9 % | 36.51 | 3.60 |\n",
       "| VERDE  | 10 | 2653 | 2663 | 0.7 % -  1.4 % | 36.84 | 0.38 |\n",
       "| GIALLO | 23 | 2688 | 2711 | 0.7 % -  1.4 % | 37.50 | 0.85 |\n",
       "| ROSSO  | 83 | 1772 | 1855 | 0.7 % -  1.4 % | 25.66 | 4.47 |\n",
       "| VERDE  | 10 | 2653 | 2663 | 0.7 % -  3 %   | 36.84 | 0.38 |\n",
       "| GIALLO | 34 | 3227 | 3261 | 0.7 % -  3 %   | 45.11 | 1.04 |\n",
       "| ROSSO  | 72 | 1233 | 1305 | 0.7 % -  3 %   | 18.05 | 5.52 |\n",
       "\n"
      ],
      "text/plain": [
       "  colore DEFAULT OK   tot  soglia         perc_sample td  \n",
       "1 VERDE  10      2653 2663 0.7 % -  0.9 % 36.84       0.38\n",
       "2 GIALLO 11      1916 1927 0.7 % -  0.9 % 26.66       0.57\n",
       "3 ROSSO  95      2544 2639 0.7 % -  0.9 % 36.51       3.60\n",
       "4 VERDE  10      2653 2663 0.7 % -  1.4 % 36.84       0.38\n",
       "5 GIALLO 23      2688 2711 0.7 % -  1.4 % 37.50       0.85\n",
       "6 ROSSO  83      1772 1855 0.7 % -  1.4 % 25.66       4.47\n",
       "7 VERDE  10      2653 2663 0.7 % -  3 %   36.84       0.38\n",
       "8 GIALLO 34      3227 3261 0.7 % -  3 %   45.11       1.04\n",
       "9 ROSSO  72      1233 1305 0.7 % -  3 %   18.05       5.52"
      ]
     },
     "metadata": {},
     "output_type": "display_data"
    }
   ],
   "source": [
    "soglia_verde <- 0.007\n",
    "soglie <- c(0.009,0.014,0.03)\n",
    "\n",
    "\n",
    "performance_0.7 <- rbindlist(lapply(soglie,function(s){\n",
    "        dt_appo <- dt_sample_limsoc[,.(pred_vpc,target,esito_finale_new_lim_num,new_num_limiti,col_senzalimiti)]\n",
    "        dt_appo[pred_vpc <= soglia_verde, tree_col_num := 3]\n",
    "        dt_appo[pred_vpc > soglia_verde & pred_vpc <= s, tree_col_num := 4]\n",
    "        dt_appo[pred_vpc > s, tree_col_num := 5]\n",
    "        dt_appo[, col_new_limsoc := do.call(pmax, \n",
    "                                            c(.SD, list(na.rm = TRUE))), .SDcols=c('tree_col_num','new_num_limiti')]\n",
    "        dt_appo[,colore := \"VERDE\"]\n",
    "        dt_appo[col_new_limsoc == 4,colore := \"GIALLO\"]\n",
    "        dt_appo[col_new_limsoc == 5,colore := \"ROSSO\"]\n",
    "\n",
    "        dt_out <- dt_appo[, .(DEFAULT  = sum(target == \"DEFAULT\"),\n",
    "                              OK = sum(target == \"OK\"),tot = .N), by ='colore']\n",
    "        dt_out[,soglia := paste(100*soglia_verde,\"% - \", 100*s, \"%\")]\n",
    "        dt_out[,perc_sample := round(100*tot/sum(dt_out$tot),2)]\n",
    "        dt_out[,td := round(100*DEFAULT/tot,2)]   \n",
    "    }))\n",
    "performance_0.7"
   ]
  },
  {
   "cell_type": "code",
   "execution_count": 292,
   "id": "hollow-threat",
   "metadata": {},
   "outputs": [
    {
     "data": {
      "text/html": [
       "<table class=\"dataframe\">\n",
       "<caption>A data.table: 9 × 7</caption>\n",
       "<thead>\n",
       "\t<tr><th scope=col>colore</th><th scope=col>DEFAULT</th><th scope=col>OK</th><th scope=col>tot</th><th scope=col>soglia</th><th scope=col>perc_sample</th><th scope=col>td</th></tr>\n",
       "\t<tr><th scope=col>&lt;chr&gt;</th><th scope=col>&lt;int&gt;</th><th scope=col>&lt;int&gt;</th><th scope=col>&lt;int&gt;</th><th scope=col>&lt;chr&gt;</th><th scope=col>&lt;dbl&gt;</th><th scope=col>&lt;dbl&gt;</th></tr>\n",
       "</thead>\n",
       "<tbody>\n",
       "\t<tr><td>VERDE </td><td>34</td><td>4581</td><td>4615</td><td>4 % -  7 % </td><td>63.84</td><td>0.74</td></tr>\n",
       "\t<tr><td>GIALLO</td><td>15</td><td>1633</td><td>1648</td><td>4 % -  7 % </td><td>22.80</td><td>0.91</td></tr>\n",
       "\t<tr><td>ROSSO </td><td>67</td><td> 899</td><td> 966</td><td>4 % -  7 % </td><td>13.36</td><td>6.94</td></tr>\n",
       "\t<tr><td>VERDE </td><td>34</td><td>4581</td><td>4615</td><td>4 % -  10 %</td><td>63.84</td><td>0.74</td></tr>\n",
       "\t<tr><td>GIALLO</td><td>20</td><td>1823</td><td>1843</td><td>4 % -  10 %</td><td>25.49</td><td>1.09</td></tr>\n",
       "\t<tr><td>ROSSO </td><td>62</td><td> 709</td><td> 771</td><td>4 % -  10 %</td><td>10.67</td><td>8.04</td></tr>\n",
       "\t<tr><td>VERDE </td><td>34</td><td>4581</td><td>4615</td><td>4 % -  13 %</td><td>63.84</td><td>0.74</td></tr>\n",
       "\t<tr><td>GIALLO</td><td>32</td><td>1910</td><td>1942</td><td>4 % -  13 %</td><td>26.86</td><td>1.65</td></tr>\n",
       "\t<tr><td>ROSSO </td><td>50</td><td> 622</td><td> 672</td><td>4 % -  13 %</td><td> 9.30</td><td>7.44</td></tr>\n",
       "</tbody>\n",
       "</table>\n"
      ],
      "text/latex": [
       "A data.table: 9 × 7\n",
       "\\begin{tabular}{lllllll}\n",
       " colore & DEFAULT & OK & tot & soglia & perc\\_sample & td\\\\\n",
       " <chr> & <int> & <int> & <int> & <chr> & <dbl> & <dbl>\\\\\n",
       "\\hline\n",
       "\t VERDE  & 34 & 4581 & 4615 & 4 \\% -  7 \\%  & 63.84 & 0.74\\\\\n",
       "\t GIALLO & 15 & 1633 & 1648 & 4 \\% -  7 \\%  & 22.80 & 0.91\\\\\n",
       "\t ROSSO  & 67 &  899 &  966 & 4 \\% -  7 \\%  & 13.36 & 6.94\\\\\n",
       "\t VERDE  & 34 & 4581 & 4615 & 4 \\% -  10 \\% & 63.84 & 0.74\\\\\n",
       "\t GIALLO & 20 & 1823 & 1843 & 4 \\% -  10 \\% & 25.49 & 1.09\\\\\n",
       "\t ROSSO  & 62 &  709 &  771 & 4 \\% -  10 \\% & 10.67 & 8.04\\\\\n",
       "\t VERDE  & 34 & 4581 & 4615 & 4 \\% -  13 \\% & 63.84 & 0.74\\\\\n",
       "\t GIALLO & 32 & 1910 & 1942 & 4 \\% -  13 \\% & 26.86 & 1.65\\\\\n",
       "\t ROSSO  & 50 &  622 &  672 & 4 \\% -  13 \\% &  9.30 & 7.44\\\\\n",
       "\\end{tabular}\n"
      ],
      "text/markdown": [
       "\n",
       "A data.table: 9 × 7\n",
       "\n",
       "| colore &lt;chr&gt; | DEFAULT &lt;int&gt; | OK &lt;int&gt; | tot &lt;int&gt; | soglia &lt;chr&gt; | perc_sample &lt;dbl&gt; | td &lt;dbl&gt; |\n",
       "|---|---|---|---|---|---|---|\n",
       "| VERDE  | 34 | 4581 | 4615 | 4 % -  7 %  | 63.84 | 0.74 |\n",
       "| GIALLO | 15 | 1633 | 1648 | 4 % -  7 %  | 22.80 | 0.91 |\n",
       "| ROSSO  | 67 |  899 |  966 | 4 % -  7 %  | 13.36 | 6.94 |\n",
       "| VERDE  | 34 | 4581 | 4615 | 4 % -  10 % | 63.84 | 0.74 |\n",
       "| GIALLO | 20 | 1823 | 1843 | 4 % -  10 % | 25.49 | 1.09 |\n",
       "| ROSSO  | 62 |  709 |  771 | 4 % -  10 % | 10.67 | 8.04 |\n",
       "| VERDE  | 34 | 4581 | 4615 | 4 % -  13 % | 63.84 | 0.74 |\n",
       "| GIALLO | 32 | 1910 | 1942 | 4 % -  13 % | 26.86 | 1.65 |\n",
       "| ROSSO  | 50 |  622 |  672 | 4 % -  13 % |  9.30 | 7.44 |\n",
       "\n"
      ],
      "text/plain": [
       "  colore DEFAULT OK   tot  soglia      perc_sample td  \n",
       "1 VERDE  34      4581 4615 4 % -  7 %  63.84       0.74\n",
       "2 GIALLO 15      1633 1648 4 % -  7 %  22.80       0.91\n",
       "3 ROSSO  67       899  966 4 % -  7 %  13.36       6.94\n",
       "4 VERDE  34      4581 4615 4 % -  10 % 63.84       0.74\n",
       "5 GIALLO 20      1823 1843 4 % -  10 % 25.49       1.09\n",
       "6 ROSSO  62       709  771 4 % -  10 % 10.67       8.04\n",
       "7 VERDE  34      4581 4615 4 % -  13 % 63.84       0.74\n",
       "8 GIALLO 32      1910 1942 4 % -  13 % 26.86       1.65\n",
       "9 ROSSO  50       622  672 4 % -  13 %  9.30       7.44"
      ]
     },
     "metadata": {},
     "output_type": "display_data"
    }
   ],
   "source": [
    "soglia_verde <- 0.04\n",
    "soglie <- c(0.07,0.1,0.13)\n",
    "\n",
    "\n",
    "performance_4 <- rbindlist(lapply(soglie,function(s){\n",
    "        dt_appo <- dt_sample_limsoc[,.(pred_vpc,target,esito_finale_new_lim_num,new_num_limiti,col_senzalimiti)]\n",
    "        dt_appo[pred_vpc <= soglia_verde, tree_col_num := 3]\n",
    "        dt_appo[pred_vpc > soglia_verde & pred_vpc <= s, tree_col_num := 4]\n",
    "        dt_appo[pred_vpc > s, tree_col_num := 5]\n",
    "        dt_appo[, col_new_limsoc := do.call(pmax, \n",
    "                                            c(.SD, list(na.rm = TRUE))), .SDcols=c('tree_col_num','new_num_limiti')]\n",
    "        dt_appo[,colore := \"VERDE\"]\n",
    "        dt_appo[col_new_limsoc == 4,colore := \"GIALLO\"]\n",
    "        dt_appo[col_new_limsoc == 5,colore := \"ROSSO\"]\n",
    "\n",
    "        dt_out <- dt_appo[, .(DEFAULT  = sum(target == \"DEFAULT\"),\n",
    "                              OK = sum(target == \"OK\"),tot = .N), by ='colore']\n",
    "        dt_out[,soglia := paste(100*soglia_verde,\"% - \", 100*s, \"%\")]\n",
    "        dt_out[,perc_sample := round(100*tot/sum(dt_out$tot),2)]\n",
    "        dt_out[,td := round(100*DEFAULT/tot,2)]   \n",
    "    }))\n",
    "performance_4"
   ]
  },
  {
   "cell_type": "code",
   "execution_count": 293,
   "id": "classified-butler",
   "metadata": {},
   "outputs": [
    {
     "data": {
      "text/html": [
       "<table class=\"dataframe\">\n",
       "<caption>A data.table: 9 × 7</caption>\n",
       "<thead>\n",
       "\t<tr><th scope=col>colore</th><th scope=col>DEFAULT</th><th scope=col>OK</th><th scope=col>tot</th><th scope=col>soglia</th><th scope=col>perc_sample</th><th scope=col>td</th></tr>\n",
       "\t<tr><th scope=col>&lt;chr&gt;</th><th scope=col>&lt;int&gt;</th><th scope=col>&lt;int&gt;</th><th scope=col>&lt;int&gt;</th><th scope=col>&lt;chr&gt;</th><th scope=col>&lt;dbl&gt;</th><th scope=col>&lt;dbl&gt;</th></tr>\n",
       "</thead>\n",
       "<tbody>\n",
       "\t<tr><td>VERDE </td><td>47</td><td>4816</td><td>4863</td><td>12 % -  20 %</td><td>67.27</td><td>0.97</td></tr>\n",
       "\t<tr><td>GIALLO</td><td>20</td><td>1724</td><td>1744</td><td>12 % -  20 %</td><td>24.13</td><td>1.15</td></tr>\n",
       "\t<tr><td>ROSSO </td><td>49</td><td> 573</td><td> 622</td><td>12 % -  20 %</td><td> 8.60</td><td>7.88</td></tr>\n",
       "\t<tr><td>VERDE </td><td>47</td><td>4816</td><td>4863</td><td>12 % -  25 %</td><td>67.27</td><td>0.97</td></tr>\n",
       "\t<tr><td>GIALLO</td><td>28</td><td>1749</td><td>1777</td><td>12 % -  25 %</td><td>24.58</td><td>1.58</td></tr>\n",
       "\t<tr><td>ROSSO </td><td>41</td><td> 548</td><td> 589</td><td>12 % -  25 %</td><td> 8.15</td><td>6.96</td></tr>\n",
       "\t<tr><td>VERDE </td><td>47</td><td>4816</td><td>4863</td><td>12 % -  60 %</td><td>67.27</td><td>0.97</td></tr>\n",
       "\t<tr><td>GIALLO</td><td>35</td><td>1785</td><td>1820</td><td>12 % -  60 %</td><td>25.18</td><td>1.92</td></tr>\n",
       "\t<tr><td>ROSSO </td><td>34</td><td> 512</td><td> 546</td><td>12 % -  60 %</td><td> 7.55</td><td>6.23</td></tr>\n",
       "</tbody>\n",
       "</table>\n"
      ],
      "text/latex": [
       "A data.table: 9 × 7\n",
       "\\begin{tabular}{lllllll}\n",
       " colore & DEFAULT & OK & tot & soglia & perc\\_sample & td\\\\\n",
       " <chr> & <int> & <int> & <int> & <chr> & <dbl> & <dbl>\\\\\n",
       "\\hline\n",
       "\t VERDE  & 47 & 4816 & 4863 & 12 \\% -  20 \\% & 67.27 & 0.97\\\\\n",
       "\t GIALLO & 20 & 1724 & 1744 & 12 \\% -  20 \\% & 24.13 & 1.15\\\\\n",
       "\t ROSSO  & 49 &  573 &  622 & 12 \\% -  20 \\% &  8.60 & 7.88\\\\\n",
       "\t VERDE  & 47 & 4816 & 4863 & 12 \\% -  25 \\% & 67.27 & 0.97\\\\\n",
       "\t GIALLO & 28 & 1749 & 1777 & 12 \\% -  25 \\% & 24.58 & 1.58\\\\\n",
       "\t ROSSO  & 41 &  548 &  589 & 12 \\% -  25 \\% &  8.15 & 6.96\\\\\n",
       "\t VERDE  & 47 & 4816 & 4863 & 12 \\% -  60 \\% & 67.27 & 0.97\\\\\n",
       "\t GIALLO & 35 & 1785 & 1820 & 12 \\% -  60 \\% & 25.18 & 1.92\\\\\n",
       "\t ROSSO  & 34 &  512 &  546 & 12 \\% -  60 \\% &  7.55 & 6.23\\\\\n",
       "\\end{tabular}\n"
      ],
      "text/markdown": [
       "\n",
       "A data.table: 9 × 7\n",
       "\n",
       "| colore &lt;chr&gt; | DEFAULT &lt;int&gt; | OK &lt;int&gt; | tot &lt;int&gt; | soglia &lt;chr&gt; | perc_sample &lt;dbl&gt; | td &lt;dbl&gt; |\n",
       "|---|---|---|---|---|---|---|\n",
       "| VERDE  | 47 | 4816 | 4863 | 12 % -  20 % | 67.27 | 0.97 |\n",
       "| GIALLO | 20 | 1724 | 1744 | 12 % -  20 % | 24.13 | 1.15 |\n",
       "| ROSSO  | 49 |  573 |  622 | 12 % -  20 % |  8.60 | 7.88 |\n",
       "| VERDE  | 47 | 4816 | 4863 | 12 % -  25 % | 67.27 | 0.97 |\n",
       "| GIALLO | 28 | 1749 | 1777 | 12 % -  25 % | 24.58 | 1.58 |\n",
       "| ROSSO  | 41 |  548 |  589 | 12 % -  25 % |  8.15 | 6.96 |\n",
       "| VERDE  | 47 | 4816 | 4863 | 12 % -  60 % | 67.27 | 0.97 |\n",
       "| GIALLO | 35 | 1785 | 1820 | 12 % -  60 % | 25.18 | 1.92 |\n",
       "| ROSSO  | 34 |  512 |  546 | 12 % -  60 % |  7.55 | 6.23 |\n",
       "\n"
      ],
      "text/plain": [
       "  colore DEFAULT OK   tot  soglia       perc_sample td  \n",
       "1 VERDE  47      4816 4863 12 % -  20 % 67.27       0.97\n",
       "2 GIALLO 20      1724 1744 12 % -  20 % 24.13       1.15\n",
       "3 ROSSO  49       573  622 12 % -  20 %  8.60       7.88\n",
       "4 VERDE  47      4816 4863 12 % -  25 % 67.27       0.97\n",
       "5 GIALLO 28      1749 1777 12 % -  25 % 24.58       1.58\n",
       "6 ROSSO  41       548  589 12 % -  25 %  8.15       6.96\n",
       "7 VERDE  47      4816 4863 12 % -  60 % 67.27       0.97\n",
       "8 GIALLO 35      1785 1820 12 % -  60 % 25.18       1.92\n",
       "9 ROSSO  34       512  546 12 % -  60 %  7.55       6.23"
      ]
     },
     "metadata": {},
     "output_type": "display_data"
    }
   ],
   "source": [
    "soglia_verde <- 0.12\n",
    "soglie <- c(0.20,0.25,0.6)\n",
    "\n",
    "\n",
    "performance_12 <- rbindlist(lapply(soglie,function(s){\n",
    "        dt_appo <- dt_sample_limsoc[,.(pred_vpc,target,esito_finale_new_lim_num,new_num_limiti,col_senzalimiti)]\n",
    "        dt_appo[pred_vpc <= soglia_verde, tree_col_num := 3]\n",
    "        dt_appo[pred_vpc > soglia_verde & pred_vpc <= s, tree_col_num := 4]\n",
    "        dt_appo[pred_vpc > s, tree_col_num := 5]\n",
    "        dt_appo[, col_new_limsoc := do.call(pmax, \n",
    "                                            c(.SD, list(na.rm = TRUE))), .SDcols=c('tree_col_num','new_num_limiti')]\n",
    "        dt_appo[,colore := \"VERDE\"]\n",
    "        dt_appo[col_new_limsoc == 4,colore := \"GIALLO\"]\n",
    "        dt_appo[col_new_limsoc == 5,colore := \"ROSSO\"]\n",
    "\n",
    "        dt_out <- dt_appo[, .(DEFAULT  = sum(target == \"DEFAULT\"),\n",
    "                              OK = sum(target == \"OK\"),tot = .N), by ='colore']\n",
    "        dt_out[,soglia := paste(100*soglia_verde,\"% - \", 100*s, \"%\")]\n",
    "        dt_out[,perc_sample := round(100*tot/sum(dt_out$tot),2)]\n",
    "        dt_out[,td := round(100*DEFAULT/tot,2)]   \n",
    "    }))\n",
    "performance_12"
   ]
  },
  {
   "cell_type": "code",
   "execution_count": 294,
   "id": "headed-birth",
   "metadata": {},
   "outputs": [],
   "source": [
    "write.xlsx(rbind(performance_0.5,performance_4,performance_12), \"../non_sme/performance_nuovilimiti_co.xlsx\",row.names = FALSE)"
   ]
  },
  {
   "cell_type": "code",
   "execution_count": 295,
   "id": "auburn-chain",
   "metadata": {},
   "outputs": [
    {
     "name": "stdout",
     "output_type": "stream",
     "text": [
      "              soglia DEFAULT   OK  tot  perc sample_perc colore\n",
      "1: pred_vpc <= 0.005      15 3527 3542 0.423      48.997  VERDE\n",
      "2:  pred_vpc > 0.005     101 3586 3687 2.739      51.003  ROSSO\n",
      "             soglia DEFAULT   OK  tot  perc sample_perc colore\n",
      "1: pred_vpc <= 0.04      67 6647 6714 0.998      92.876  VERDE\n",
      "2:  pred_vpc > 0.04      49  466  515 9.515       7.124  ROSSO\n",
      "             soglia DEFAULT   OK  tot   perc sample_perc colore\n",
      "1: pred_vpc <= 0.12      85 6971 7056  1.205      97.607  VERDE\n",
      "2:  pred_vpc > 0.12      31  142  173 17.919       2.393  ROSSO\n"
     ]
    },
    {
     "data": {
      "text/html": [
       "<table class=\"dataframe\">\n",
       "<caption>A data.table: 6 × 7</caption>\n",
       "<thead>\n",
       "\t<tr><th scope=col>soglia</th><th scope=col>DEFAULT</th><th scope=col>OK</th><th scope=col>tot</th><th scope=col>perc</th><th scope=col>sample_perc</th><th scope=col>colore</th></tr>\n",
       "\t<tr><th scope=col>&lt;chr&gt;</th><th scope=col>&lt;int&gt;</th><th scope=col>&lt;int&gt;</th><th scope=col>&lt;int&gt;</th><th scope=col>&lt;dbl&gt;</th><th scope=col>&lt;dbl&gt;</th><th scope=col>&lt;chr&gt;</th></tr>\n",
       "</thead>\n",
       "<tbody>\n",
       "\t<tr><td>pred_vpc &lt;= 0.005</td><td> 15</td><td>3527</td><td>3542</td><td> 0.423</td><td>48.997</td><td>VERDE</td></tr>\n",
       "\t<tr><td>pred_vpc &gt; 0.005 </td><td>101</td><td>3586</td><td>3687</td><td> 2.739</td><td>51.003</td><td>ROSSO</td></tr>\n",
       "\t<tr><td>pred_vpc &lt;= 0.04 </td><td> 67</td><td>6647</td><td>6714</td><td> 0.998</td><td>92.876</td><td>VERDE</td></tr>\n",
       "\t<tr><td><span style=white-space:pre-wrap>pred_vpc &gt; 0.04  </span></td><td> 49</td><td> 466</td><td> 515</td><td> 9.515</td><td> 7.124</td><td>ROSSO</td></tr>\n",
       "\t<tr><td>pred_vpc &lt;= 0.12 </td><td> 85</td><td>6971</td><td>7056</td><td> 1.205</td><td>97.607</td><td>VERDE</td></tr>\n",
       "\t<tr><td><span style=white-space:pre-wrap>pred_vpc &gt; 0.12  </span></td><td> 31</td><td> 142</td><td> 173</td><td>17.919</td><td> 2.393</td><td>ROSSO</td></tr>\n",
       "</tbody>\n",
       "</table>\n"
      ],
      "text/latex": [
       "A data.table: 6 × 7\n",
       "\\begin{tabular}{lllllll}\n",
       " soglia & DEFAULT & OK & tot & perc & sample\\_perc & colore\\\\\n",
       " <chr> & <int> & <int> & <int> & <dbl> & <dbl> & <chr>\\\\\n",
       "\\hline\n",
       "\t pred\\_vpc <= 0.005 &  15 & 3527 & 3542 &  0.423 & 48.997 & VERDE\\\\\n",
       "\t pred\\_vpc > 0.005  & 101 & 3586 & 3687 &  2.739 & 51.003 & ROSSO\\\\\n",
       "\t pred\\_vpc <= 0.04  &  67 & 6647 & 6714 &  0.998 & 92.876 & VERDE\\\\\n",
       "\t pred\\_vpc > 0.04   &  49 &  466 &  515 &  9.515 &  7.124 & ROSSO\\\\\n",
       "\t pred\\_vpc <= 0.12  &  85 & 6971 & 7056 &  1.205 & 97.607 & VERDE\\\\\n",
       "\t pred\\_vpc > 0.12   &  31 &  142 &  173 & 17.919 &  2.393 & ROSSO\\\\\n",
       "\\end{tabular}\n"
      ],
      "text/markdown": [
       "\n",
       "A data.table: 6 × 7\n",
       "\n",
       "| soglia &lt;chr&gt; | DEFAULT &lt;int&gt; | OK &lt;int&gt; | tot &lt;int&gt; | perc &lt;dbl&gt; | sample_perc &lt;dbl&gt; | colore &lt;chr&gt; |\n",
       "|---|---|---|---|---|---|---|\n",
       "| pred_vpc &lt;= 0.005 |  15 | 3527 | 3542 |  0.423 | 48.997 | VERDE |\n",
       "| pred_vpc &gt; 0.005  | 101 | 3586 | 3687 |  2.739 | 51.003 | ROSSO |\n",
       "| pred_vpc &lt;= 0.04  |  67 | 6647 | 6714 |  0.998 | 92.876 | VERDE |\n",
       "| pred_vpc &gt; 0.04   |  49 |  466 |  515 |  9.515 |  7.124 | ROSSO |\n",
       "| pred_vpc &lt;= 0.12  |  85 | 6971 | 7056 |  1.205 | 97.607 | VERDE |\n",
       "| pred_vpc &gt; 0.12   |  31 |  142 |  173 | 17.919 |  2.393 | ROSSO |\n",
       "\n"
      ],
      "text/plain": [
       "  soglia            DEFAULT OK   tot  perc   sample_perc colore\n",
       "1 pred_vpc <= 0.005  15     3527 3542  0.423 48.997      VERDE \n",
       "2 pred_vpc > 0.005  101     3586 3687  2.739 51.003      ROSSO \n",
       "3 pred_vpc <= 0.04   67     6647 6714  0.998 92.876      VERDE \n",
       "4 pred_vpc > 0.04    49      466  515  9.515  7.124      ROSSO \n",
       "5 pred_vpc <= 0.12   85     6971 7056  1.205 97.607      VERDE \n",
       "6 pred_vpc > 0.12    31      142  173 17.919  2.393      ROSSO "
      ]
     },
     "metadata": {},
     "output_type": "display_data"
    }
   ],
   "source": [
    "soglie <- c(0.005,0.04,0.12)\n",
    "rbindlist(lapply(soglie,function(soglia){table_soglie(dt_tree,soglie = c(soglia,soglia))}))"
   ]
  },
  {
   "cell_type": "code",
   "execution_count": 296,
   "id": "copyrighted-designation",
   "metadata": {},
   "outputs": [
    {
     "data": {
      "text/plain": [
       "\n",
       "GIALLO  ROSSO  VERDE \n",
       "  3086    690   3453 "
      ]
     },
     "metadata": {},
     "output_type": "display_data"
    }
   ],
   "source": [
    "table(dt_sample$ESITO_FINALE_VPC)"
   ]
  },
  {
   "cell_type": "markdown",
   "id": "empty-replication",
   "metadata": {},
   "source": [
    "### PLOT"
   ]
  },
  {
   "cell_type": "code",
   "execution_count": 297,
   "id": "cardiac-tractor",
   "metadata": {},
   "outputs": [],
   "source": [
    "soglia_vg <- 0.04\n",
    "soglia_gr <- 0.13"
   ]
  },
  {
   "cell_type": "code",
   "execution_count": 302,
   "id": "nonprofit-suspension",
   "metadata": {},
   "outputs": [
    {
     "data": {
      "text/html": [
       "<strong>pdf:</strong> 2"
      ],
      "text/latex": [
       "\\textbf{pdf:} 2"
      ],
      "text/markdown": [
       "**pdf:** 2"
      ],
      "text/plain": [
       "pdf \n",
       "  2 "
      ]
     },
     "metadata": {},
     "output_type": "display_data"
    }
   ],
   "source": [
    "\n",
    "rosso <-   adjustcolor( \"red\", alpha.f = 0.5)\n",
    "verde <-   adjustcolor( \"darkolivegreen3\", alpha.f = 0.6)\n",
    "giallo <-   adjustcolor( \"gold\", alpha.f = 0.5)\n",
    "options(repr.plot.width=8, repr.plot.height=7)\n",
    "path_name <- create_path('output')\n",
    "    pdf(file.path(path_name$path,paste0(\"tree_\",path_name$index,'.pdf')))\n",
    "   prp(modello_nonsme$model, split.fun=split.fun, yesno=1, extra = 105,type = 1, varlen = 0,#box.palette=\"RdGn\",\n",
    "            box.col=c(verde,giallo,rosso)[findInterval(as.data.table(modello_nonsme$model$frame)$yval2.V4, v = c(0,soglia_vg,soglia_gr))])\n",
    "   dev.off()"
   ]
  },
  {
   "cell_type": "markdown",
   "id": "dimensional-replication",
   "metadata": {},
   "source": [
    "### migrazione"
   ]
  },
  {
   "cell_type": "code",
   "execution_count": 399,
   "id": "lesser-scott",
   "metadata": {},
   "outputs": [],
   "source": [
    "## SOGLIE DEFINITIVE\n",
    "\n",
    "dt_appo <- dt_sample_limsoc[,.(NUM_PRATICA,PROGRESS_PRATICA, pred_vpc,target,ESITO_FINALE_VPC,\n",
    "                               esito_finale_new_lim_num,new_num_limiti,col_senzalimiti)]\n",
    "        dt_appo[pred_vpc <= soglia_vg, tree_col_num := 3]\n",
    "        dt_appo[pred_vpc > soglia_vg & pred_vpc <= soglia_gr, tree_col_num := 4]\n",
    "        dt_appo[pred_vpc > soglia_gr, tree_col_num := 5]\n",
    "        dt_appo[, col_new_limsoc := do.call(pmax, \n",
    "                                            c(.SD, list(na.rm = TRUE))), .SDcols=c('tree_col_num','new_num_limiti')]\n",
    "        dt_appo[,col_new_vpc := \"VERDE\"]\n",
    "        dt_appo[col_new_limsoc == 4,col_new_vpc := \"GIALLO\"]\n",
    "        dt_appo[col_new_limsoc == 5,col_new_vpc := \"ROSSO\"]"
   ]
  },
  {
   "cell_type": "code",
   "execution_count": 400,
   "id": "stunning-peeing",
   "metadata": {},
   "outputs": [],
   "source": [
    "dt_appo<-merge(dt_appo,\n",
    "              master_modello[, .(NUM_PRATICA,PROGRESS_PRATICA, CRA_ADJ)],\n",
    "              by = c('NUM_PRATICA','PROGRESS_PRATICA'),\n",
    "              all.x = TRUE)\n",
    "\n",
    "dt_appo<-merge(dt_appo,\n",
    "              dt_orig[, .(NUM_PRATICA,PROGRESS_PRATICA, DATA_DELIBERA_O_ANNULL_FIDO)],\n",
    "              by = c('NUM_PRATICA','PROGRESS_PRATICA'),\n",
    "              all.x = TRUE)"
   ]
  },
  {
   "cell_type": "code",
   "execution_count": 401,
   "id": "thermal-victorian",
   "metadata": {},
   "outputs": [
    {
     "data": {
      "text/html": [
       "<style>\n",
       ".list-inline {list-style: none; margin:0; padding: 0}\n",
       ".list-inline>li {display: inline-block}\n",
       ".list-inline>li:not(:last-child)::after {content: \"\\00b7\"; padding: 0 .5ex}\n",
       "</style>\n",
       "<ol class=list-inline><li>'NUM_PRATICA'</li><li>'PROGRESS_PRATICA'</li><li>'pred_vpc'</li><li>'target'</li><li>'ESITO_FINALE_VPC'</li><li>'esito_finale_new_lim_num'</li><li>'new_num_limiti'</li><li>'col_senzalimiti'</li><li>'tree_col_num'</li><li>'col_new_limsoc'</li><li>'col_new_vpc'</li><li>'CRA_ADJ'</li><li>'DATA_DELIBERA_O_ANNULL_FIDO'</li></ol>\n"
      ],
      "text/latex": [
       "\\begin{enumerate*}\n",
       "\\item 'NUM\\_PRATICA'\n",
       "\\item 'PROGRESS\\_PRATICA'\n",
       "\\item 'pred\\_vpc'\n",
       "\\item 'target'\n",
       "\\item 'ESITO\\_FINALE\\_VPC'\n",
       "\\item 'esito\\_finale\\_new\\_lim\\_num'\n",
       "\\item 'new\\_num\\_limiti'\n",
       "\\item 'col\\_senzalimiti'\n",
       "\\item 'tree\\_col\\_num'\n",
       "\\item 'col\\_new\\_limsoc'\n",
       "\\item 'col\\_new\\_vpc'\n",
       "\\item 'CRA\\_ADJ'\n",
       "\\item 'DATA\\_DELIBERA\\_O\\_ANNULL\\_FIDO'\n",
       "\\end{enumerate*}\n"
      ],
      "text/markdown": [
       "1. 'NUM_PRATICA'\n",
       "2. 'PROGRESS_PRATICA'\n",
       "3. 'pred_vpc'\n",
       "4. 'target'\n",
       "5. 'ESITO_FINALE_VPC'\n",
       "6. 'esito_finale_new_lim_num'\n",
       "7. 'new_num_limiti'\n",
       "8. 'col_senzalimiti'\n",
       "9. 'tree_col_num'\n",
       "10. 'col_new_limsoc'\n",
       "11. 'col_new_vpc'\n",
       "12. 'CRA_ADJ'\n",
       "13. 'DATA_DELIBERA_O_ANNULL_FIDO'\n",
       "\n",
       "\n"
      ],
      "text/plain": [
       " [1] \"NUM_PRATICA\"                 \"PROGRESS_PRATICA\"           \n",
       " [3] \"pred_vpc\"                    \"target\"                     \n",
       " [5] \"ESITO_FINALE_VPC\"            \"esito_finale_new_lim_num\"   \n",
       " [7] \"new_num_limiti\"              \"col_senzalimiti\"            \n",
       " [9] \"tree_col_num\"                \"col_new_limsoc\"             \n",
       "[11] \"col_new_vpc\"                 \"CRA_ADJ\"                    \n",
       "[13] \"DATA_DELIBERA_O_ANNULL_FIDO\""
      ]
     },
     "metadata": {},
     "output_type": "display_data"
    }
   ],
   "source": [
    "colnames(dt_appo)"
   ]
  },
  {
   "cell_type": "code",
   "execution_count": 402,
   "id": "convinced-senior",
   "metadata": {},
   "outputs": [
    {
     "data": {
      "text/html": [
       "<style>\n",
       ".list-inline {list-style: none; margin:0; padding: 0}\n",
       ".list-inline>li {display: inline-block}\n",
       ".list-inline>li:not(:last-child)::after {content: \"\\00b7\"; padding: 0 .5ex}\n",
       "</style>\n",
       "<ol class=list-inline><li>'NUM_PRATICA'</li><li>'PROGRESS_PRATICA'</li><li>'pred_vpc'</li><li>'target'</li><li>'ESITO_FINALE_VPC'</li><li>'esito_finale_new_lim_num'</li><li>'new_num_limiti'</li><li>'col_senzalimiti'</li><li>'tree_col_num'</li><li>'col_new_limsoc'</li><li>'col_new_vpc'</li><li>'CRA_ADJ'</li><li>'DATA_DELIBERA_O_ANNULL_FIDO'</li></ol>\n"
      ],
      "text/latex": [
       "\\begin{enumerate*}\n",
       "\\item 'NUM\\_PRATICA'\n",
       "\\item 'PROGRESS\\_PRATICA'\n",
       "\\item 'pred\\_vpc'\n",
       "\\item 'target'\n",
       "\\item 'ESITO\\_FINALE\\_VPC'\n",
       "\\item 'esito\\_finale\\_new\\_lim\\_num'\n",
       "\\item 'new\\_num\\_limiti'\n",
       "\\item 'col\\_senzalimiti'\n",
       "\\item 'tree\\_col\\_num'\n",
       "\\item 'col\\_new\\_limsoc'\n",
       "\\item 'col\\_new\\_vpc'\n",
       "\\item 'CRA\\_ADJ'\n",
       "\\item 'DATA\\_DELIBERA\\_O\\_ANNULL\\_FIDO'\n",
       "\\end{enumerate*}\n"
      ],
      "text/markdown": [
       "1. 'NUM_PRATICA'\n",
       "2. 'PROGRESS_PRATICA'\n",
       "3. 'pred_vpc'\n",
       "4. 'target'\n",
       "5. 'ESITO_FINALE_VPC'\n",
       "6. 'esito_finale_new_lim_num'\n",
       "7. 'new_num_limiti'\n",
       "8. 'col_senzalimiti'\n",
       "9. 'tree_col_num'\n",
       "10. 'col_new_limsoc'\n",
       "11. 'col_new_vpc'\n",
       "12. 'CRA_ADJ'\n",
       "13. 'DATA_DELIBERA_O_ANNULL_FIDO'\n",
       "\n",
       "\n"
      ],
      "text/plain": [
       " [1] \"NUM_PRATICA\"                 \"PROGRESS_PRATICA\"           \n",
       " [3] \"pred_vpc\"                    \"target\"                     \n",
       " [5] \"ESITO_FINALE_VPC\"            \"esito_finale_new_lim_num\"   \n",
       " [7] \"new_num_limiti\"              \"col_senzalimiti\"            \n",
       " [9] \"tree_col_num\"                \"col_new_limsoc\"             \n",
       "[11] \"col_new_vpc\"                 \"CRA_ADJ\"                    \n",
       "[13] \"DATA_DELIBERA_O_ANNULL_FIDO\""
      ]
     },
     "metadata": {},
     "output_type": "display_data"
    }
   ],
   "source": [
    "dt_appo_prelim <- dt_sample_limsoc[,.(pred_vpc,target,ESITO_FINALE_VPC,\n",
    "                               esito_finale_new_lim_num,new_num_limiti,col_senzalimiti)]\n",
    "        dt_appo_prelim[pred_vpc <= soglia_vg, tree_col_num := 3]\n",
    "        dt_appo_prelim[pred_vpc > soglia_vg & pred_vpc <= soglia_gr, tree_col_num := 4]\n",
    "        dt_appo_prelim[pred_vpc > soglia_gr, tree_col_num := 5]\n",
    "        dt_appo_prelim[, col_new_limsoc := do.call(pmax, \n",
    "                                            c(.SD, list(na.rm = TRUE))), .SDcols=c('tree_col_num','tree_col_num')]\n",
    "        dt_appo_prelim[,col_new_vpc := \"VERDE\"]\n",
    "        dt_appo_prelim[col_new_limsoc == 4,col_new_vpc := \"GIALLO\"]\n",
    "        dt_appo_prelim[col_new_limsoc == 5,col_new_vpc := \"ROSSO\"]\n",
    "\n",
    "colnames(dt_appo)"
   ]
  },
  {
   "cell_type": "code",
   "execution_count": 320,
   "id": "white-hacker",
   "metadata": {},
   "outputs": [
    {
     "data": {
      "text/html": [
       "<table class=\"dataframe\">\n",
       "<caption>A data.frame: 4 × 4</caption>\n",
       "<thead>\n",
       "\t<tr><th></th><th scope=col>New_GIALLO</th><th scope=col>New_ROSSO</th><th scope=col>New_VERDE</th><th scope=col>total</th></tr>\n",
       "\t<tr><th></th><th scope=col>&lt;dbl&gt;</th><th scope=col>&lt;dbl&gt;</th><th scope=col>&lt;dbl&gt;</th><th scope=col>&lt;dbl&gt;</th></tr>\n",
       "</thead>\n",
       "<tbody>\n",
       "\t<tr><th scope=row>GIALLO</th><td>20</td><td>15</td><td> 3</td><td> 38</td></tr>\n",
       "\t<tr><th scope=row>ROSSO</th><td> 1</td><td>21</td><td> 4</td><td> 26</td></tr>\n",
       "\t<tr><th scope=row>VERDE</th><td>11</td><td>14</td><td>27</td><td> 52</td></tr>\n",
       "\t<tr><th scope=row>total</th><td>32</td><td>50</td><td>34</td><td>116</td></tr>\n",
       "</tbody>\n",
       "</table>\n"
      ],
      "text/latex": [
       "A data.frame: 4 × 4\n",
       "\\begin{tabular}{r|llll}\n",
       "  & New\\_GIALLO & New\\_ROSSO & New\\_VERDE & total\\\\\n",
       "  & <dbl> & <dbl> & <dbl> & <dbl>\\\\\n",
       "\\hline\n",
       "\tGIALLO & 20 & 15 &  3 &  38\\\\\n",
       "\tROSSO &  1 & 21 &  4 &  26\\\\\n",
       "\tVERDE & 11 & 14 & 27 &  52\\\\\n",
       "\ttotal & 32 & 50 & 34 & 116\\\\\n",
       "\\end{tabular}\n"
      ],
      "text/markdown": [
       "\n",
       "A data.frame: 4 × 4\n",
       "\n",
       "| <!--/--> | New_GIALLO &lt;dbl&gt; | New_ROSSO &lt;dbl&gt; | New_VERDE &lt;dbl&gt; | total &lt;dbl&gt; |\n",
       "|---|---|---|---|---|\n",
       "| GIALLO | 20 | 15 |  3 |  38 |\n",
       "| ROSSO |  1 | 21 |  4 |  26 |\n",
       "| VERDE | 11 | 14 | 27 |  52 |\n",
       "| total | 32 | 50 | 34 | 116 |\n",
       "\n"
      ],
      "text/plain": [
       "       New_GIALLO New_ROSSO New_VERDE total\n",
       "GIALLO 20         15         3         38  \n",
       "ROSSO   1         21         4         26  \n",
       "VERDE  11         14        27         52  \n",
       "total  32         50        34        116  "
      ]
     },
     "metadata": {},
     "output_type": "display_data"
    }
   ],
   "source": [
    "## DEFAULT POST LIM\n",
    "\n",
    "dt_sam_appo <- dt_appo[target == \"DEFAULT\",.(N= .N ), by = c('ESITO_FINALE_VPC','col_new_vpc')]\n",
    "\n",
    "migr_mat_def <- reshape(dt_sam_appo, idvar = \"ESITO_FINALE_VPC\", timevar = \"col_new_vpc\", direction = \"wide\")\n",
    "\n",
    "colnames(migr_mat_def) <- gsub(\"N\\\\.\",\"New_\",colnames(migr_mat_def))\n",
    "migr_mat_def <- migr_mat_def[,sort(colnames(migr_mat_def)), with = FALSE][order(ESITO_FINALE_VPC)]\n",
    "\n",
    "migr_mat_def <- data.frame(migr_mat_def)\n",
    "rownames(migr_mat_def) <- migr_mat_def$ESITO_FINALE_VPC\n",
    "migr_mat_def$ESITO_FINALE_VPC <- NULL\n",
    "migr_mat_def<- cbind(migr_mat_def, total = rowSums(migr_mat_def))\n",
    "migr_mat_def<- rbind(migr_mat_def, total = colSums(migr_mat_def))\n",
    "#rownames(migr_mat_def) <- c(migr_mat_def$ESITO_FINALE_VPC,\"total\")\n",
    "migr_mat_def"
   ]
  },
  {
   "cell_type": "code",
   "execution_count": 321,
   "id": "shared-benjamin",
   "metadata": {},
   "outputs": [
    {
     "data": {
      "text/html": [
       "<table class=\"dataframe\">\n",
       "<caption>A data.frame: 4 × 4</caption>\n",
       "<thead>\n",
       "\t<tr><th></th><th scope=col>New_GIALLO</th><th scope=col>New_ROSSO</th><th scope=col>New_VERDE</th><th scope=col>total</th></tr>\n",
       "\t<tr><th></th><th scope=col>&lt;dbl&gt;</th><th scope=col>&lt;dbl&gt;</th><th scope=col>&lt;dbl&gt;</th><th scope=col>&lt;dbl&gt;</th></tr>\n",
       "</thead>\n",
       "<tbody>\n",
       "\t<tr><th scope=row>GIALLO</th><td>1662</td><td>192</td><td>1194</td><td>3048</td></tr>\n",
       "\t<tr><th scope=row>ROSSO</th><td>  57</td><td>342</td><td> 265</td><td> 664</td></tr>\n",
       "\t<tr><th scope=row>VERDE</th><td> 191</td><td> 88</td><td>3122</td><td>3401</td></tr>\n",
       "\t<tr><th scope=row>total</th><td>1910</td><td>622</td><td>4581</td><td>7113</td></tr>\n",
       "</tbody>\n",
       "</table>\n"
      ],
      "text/latex": [
       "A data.frame: 4 × 4\n",
       "\\begin{tabular}{r|llll}\n",
       "  & New\\_GIALLO & New\\_ROSSO & New\\_VERDE & total\\\\\n",
       "  & <dbl> & <dbl> & <dbl> & <dbl>\\\\\n",
       "\\hline\n",
       "\tGIALLO & 1662 & 192 & 1194 & 3048\\\\\n",
       "\tROSSO &   57 & 342 &  265 &  664\\\\\n",
       "\tVERDE &  191 &  88 & 3122 & 3401\\\\\n",
       "\ttotal & 1910 & 622 & 4581 & 7113\\\\\n",
       "\\end{tabular}\n"
      ],
      "text/markdown": [
       "\n",
       "A data.frame: 4 × 4\n",
       "\n",
       "| <!--/--> | New_GIALLO &lt;dbl&gt; | New_ROSSO &lt;dbl&gt; | New_VERDE &lt;dbl&gt; | total &lt;dbl&gt; |\n",
       "|---|---|---|---|---|\n",
       "| GIALLO | 1662 | 192 | 1194 | 3048 |\n",
       "| ROSSO |   57 | 342 |  265 |  664 |\n",
       "| VERDE |  191 |  88 | 3122 | 3401 |\n",
       "| total | 1910 | 622 | 4581 | 7113 |\n",
       "\n"
      ],
      "text/plain": [
       "       New_GIALLO New_ROSSO New_VERDE total\n",
       "GIALLO 1662       192       1194      3048 \n",
       "ROSSO    57       342        265       664 \n",
       "VERDE   191        88       3122      3401 \n",
       "total  1910       622       4581      7113 "
      ]
     },
     "metadata": {},
     "output_type": "display_data"
    }
   ],
   "source": [
    "## BONIS POST LIM\n",
    "\n",
    "dt_sam_appo <- dt_appo[target != \"DEFAULT\",.(N= .N ), by = c('ESITO_FINALE_VPC','col_new_vpc')]\n",
    "\n",
    "migr_mat_bon <- reshape(dt_sam_appo, idvar = \"ESITO_FINALE_VPC\", timevar = \"col_new_vpc\", direction = \"wide\")\n",
    "\n",
    "colnames(migr_mat_bon) <- gsub(\"N\\\\.\",\"New_\",colnames(migr_mat_bon))\n",
    "migr_mat_bon <- migr_mat_bon[,sort(colnames(migr_mat_bon)), with = FALSE][order(ESITO_FINALE_VPC)]\n",
    "\n",
    "migr_mat_bon <- data.frame(migr_mat_bon)\n",
    "rownames(migr_mat_bon) <- migr_mat_bon$ESITO_FINALE_VPC\n",
    "migr_mat_bon$ESITO_FINALE_VPC <- NULL\n",
    "migr_mat_bon<- cbind(migr_mat_bon, total = rowSums(migr_mat_bon))\n",
    "migr_mat_bon<- rbind(migr_mat_bon, total = colSums(migr_mat_bon))\n",
    "\n",
    "migr_mat_bon"
   ]
  },
  {
   "cell_type": "code",
   "execution_count": 322,
   "id": "removed-apartment",
   "metadata": {},
   "outputs": [
    {
     "data": {
      "text/html": [
       "<table class=\"dataframe\">\n",
       "<caption>A data.frame: 4 × 4</caption>\n",
       "<thead>\n",
       "\t<tr><th></th><th scope=col>New_GIALLO</th><th scope=col>New_ROSSO</th><th scope=col>New_VERDE</th><th scope=col>total</th></tr>\n",
       "\t<tr><th></th><th scope=col>&lt;dbl&gt;</th><th scope=col>&lt;dbl&gt;</th><th scope=col>&lt;dbl&gt;</th><th scope=col>&lt;dbl&gt;</th></tr>\n",
       "</thead>\n",
       "<tbody>\n",
       "\t<tr><th scope=row>GIALLO</th><td> 7</td><td> 9</td><td>22</td><td> 38</td></tr>\n",
       "\t<tr><th scope=row>ROSSO</th><td> 1</td><td> 8</td><td>17</td><td> 26</td></tr>\n",
       "\t<tr><th scope=row>VERDE</th><td>10</td><td>14</td><td>28</td><td> 52</td></tr>\n",
       "\t<tr><th scope=row>total</th><td>18</td><td>31</td><td>67</td><td>116</td></tr>\n",
       "</tbody>\n",
       "</table>\n"
      ],
      "text/latex": [
       "A data.frame: 4 × 4\n",
       "\\begin{tabular}{r|llll}\n",
       "  & New\\_GIALLO & New\\_ROSSO & New\\_VERDE & total\\\\\n",
       "  & <dbl> & <dbl> & <dbl> & <dbl>\\\\\n",
       "\\hline\n",
       "\tGIALLO &  7 &  9 & 22 &  38\\\\\n",
       "\tROSSO &  1 &  8 & 17 &  26\\\\\n",
       "\tVERDE & 10 & 14 & 28 &  52\\\\\n",
       "\ttotal & 18 & 31 & 67 & 116\\\\\n",
       "\\end{tabular}\n"
      ],
      "text/markdown": [
       "\n",
       "A data.frame: 4 × 4\n",
       "\n",
       "| <!--/--> | New_GIALLO &lt;dbl&gt; | New_ROSSO &lt;dbl&gt; | New_VERDE &lt;dbl&gt; | total &lt;dbl&gt; |\n",
       "|---|---|---|---|---|\n",
       "| GIALLO |  7 |  9 | 22 |  38 |\n",
       "| ROSSO |  1 |  8 | 17 |  26 |\n",
       "| VERDE | 10 | 14 | 28 |  52 |\n",
       "| total | 18 | 31 | 67 | 116 |\n",
       "\n"
      ],
      "text/plain": [
       "       New_GIALLO New_ROSSO New_VERDE total\n",
       "GIALLO  7          9        22         38  \n",
       "ROSSO   1          8        17         26  \n",
       "VERDE  10         14        28         52  \n",
       "total  18         31        67        116  "
      ]
     },
     "metadata": {},
     "output_type": "display_data"
    }
   ],
   "source": [
    "## DEFAULT pre LIM\n",
    "\n",
    "dt_sam_appo <- dt_appo_prelim[target == \"DEFAULT\",.(N= .N ), by = c('ESITO_FINALE_VPC','col_new_vpc')]\n",
    "\n",
    "migr_mat_def <- reshape(dt_sam_appo, idvar = \"ESITO_FINALE_VPC\", timevar = \"col_new_vpc\", direction = \"wide\")\n",
    "\n",
    "colnames(migr_mat_def) <- gsub(\"N\\\\.\",\"New_\",colnames(migr_mat_def))\n",
    "migr_mat_def <- migr_mat_def[,sort(colnames(migr_mat_def)), with = FALSE][order(ESITO_FINALE_VPC)]\n",
    "\n",
    "migr_mat_def <- data.frame(migr_mat_def)\n",
    "rownames(migr_mat_def) <- migr_mat_def$ESITO_FINALE_VPC\n",
    "migr_mat_def$ESITO_FINALE_VPC <- NULL\n",
    "migr_mat_def<- cbind(migr_mat_def, total = rowSums(migr_mat_def))\n",
    "migr_mat_def<- rbind(migr_mat_def, total = colSums(migr_mat_def))\n",
    "#rownames(migr_mat_def) <- c(migr_mat_def$ESITO_FINALE_VPC,\"total\")\n",
    "migr_mat_def"
   ]
  },
  {
   "cell_type": "code",
   "execution_count": 323,
   "id": "diagnostic-judge",
   "metadata": {},
   "outputs": [
    {
     "data": {
      "text/html": [
       "<table class=\"dataframe\">\n",
       "<caption>A data.frame: 4 × 4</caption>\n",
       "<thead>\n",
       "\t<tr><th></th><th scope=col>New_GIALLO</th><th scope=col>New_ROSSO</th><th scope=col>New_VERDE</th><th scope=col>total</th></tr>\n",
       "\t<tr><th></th><th scope=col>&lt;dbl&gt;</th><th scope=col>&lt;dbl&gt;</th><th scope=col>&lt;dbl&gt;</th><th scope=col>&lt;dbl&gt;</th></tr>\n",
       "</thead>\n",
       "<tbody>\n",
       "\t<tr><th scope=row>GIALLO</th><td>106</td><td> 46</td><td>2896</td><td>3048</td></tr>\n",
       "\t<tr><th scope=row>ROSSO</th><td> 30</td><td> 25</td><td> 609</td><td> 664</td></tr>\n",
       "\t<tr><th scope=row>VERDE</th><td>188</td><td> 71</td><td>3142</td><td>3401</td></tr>\n",
       "\t<tr><th scope=row>total</th><td>324</td><td>142</td><td>6647</td><td>7113</td></tr>\n",
       "</tbody>\n",
       "</table>\n"
      ],
      "text/latex": [
       "A data.frame: 4 × 4\n",
       "\\begin{tabular}{r|llll}\n",
       "  & New\\_GIALLO & New\\_ROSSO & New\\_VERDE & total\\\\\n",
       "  & <dbl> & <dbl> & <dbl> & <dbl>\\\\\n",
       "\\hline\n",
       "\tGIALLO & 106 &  46 & 2896 & 3048\\\\\n",
       "\tROSSO &  30 &  25 &  609 &  664\\\\\n",
       "\tVERDE & 188 &  71 & 3142 & 3401\\\\\n",
       "\ttotal & 324 & 142 & 6647 & 7113\\\\\n",
       "\\end{tabular}\n"
      ],
      "text/markdown": [
       "\n",
       "A data.frame: 4 × 4\n",
       "\n",
       "| <!--/--> | New_GIALLO &lt;dbl&gt; | New_ROSSO &lt;dbl&gt; | New_VERDE &lt;dbl&gt; | total &lt;dbl&gt; |\n",
       "|---|---|---|---|---|\n",
       "| GIALLO | 106 |  46 | 2896 | 3048 |\n",
       "| ROSSO |  30 |  25 |  609 |  664 |\n",
       "| VERDE | 188 |  71 | 3142 | 3401 |\n",
       "| total | 324 | 142 | 6647 | 7113 |\n",
       "\n"
      ],
      "text/plain": [
       "       New_GIALLO New_ROSSO New_VERDE total\n",
       "GIALLO 106         46       2896      3048 \n",
       "ROSSO   30         25        609       664 \n",
       "VERDE  188         71       3142      3401 \n",
       "total  324        142       6647      7113 "
      ]
     },
     "metadata": {},
     "output_type": "display_data"
    }
   ],
   "source": [
    "## BONIS pre LIM\n",
    "\n",
    "dt_sam_appo <- dt_appo_prelim[target != \"DEFAULT\",.(N= .N ), by = c('ESITO_FINALE_VPC','col_new_vpc')]\n",
    "\n",
    "migr_mat_bon <- reshape(dt_sam_appo, idvar = \"ESITO_FINALE_VPC\", timevar = \"col_new_vpc\", direction = \"wide\")\n",
    "\n",
    "colnames(migr_mat_bon) <- gsub(\"N\\\\.\",\"New_\",colnames(migr_mat_bon))\n",
    "migr_mat_bon <- migr_mat_bon[,sort(colnames(migr_mat_bon)), with = FALSE][order(ESITO_FINALE_VPC)]\n",
    "\n",
    "migr_mat_bon <- data.frame(migr_mat_bon)\n",
    "rownames(migr_mat_bon) <- migr_mat_bon$ESITO_FINALE_VPC\n",
    "migr_mat_bon$ESITO_FINALE_VPC <- NULL\n",
    "migr_mat_bon<- cbind(migr_mat_bon, total = rowSums(migr_mat_bon))\n",
    "migr_mat_bon<- rbind(migr_mat_bon, total = colSums(migr_mat_bon))\n",
    "\n",
    "migr_mat_bon"
   ]
  },
  {
   "cell_type": "code",
   "execution_count": 394,
   "id": "polish-candy",
   "metadata": {},
   "outputs": [],
   "source": [
    "migr_mat_cra <- NULL"
   ]
  },
  {
   "cell_type": "code",
   "execution_count": 398,
   "id": "explicit-milwaukee",
   "metadata": {},
   "outputs": [
    {
     "data": {
      "text/html": [
       "<table class=\"dataframe\">\n",
       "<caption>A data.frame: 7 × 4</caption>\n",
       "<thead>\n",
       "\t<tr><th></th><th scope=col>New_GIALLO</th><th scope=col>New_ROSSO</th><th scope=col>New_VERDE</th><th scope=col>total</th></tr>\n",
       "\t<tr><th></th><th scope=col>&lt;dbl&gt;</th><th scope=col>&lt;dbl&gt;</th><th scope=col>&lt;dbl&gt;</th><th scope=col>&lt;dbl&gt;</th></tr>\n",
       "</thead>\n",
       "<tbody>\n",
       "\t<tr><th scope=row>00</th><td> 6</td><td>10</td><td>13</td><td>29</td></tr>\n",
       "\t<tr><th scope=row>01</th><td> 5</td><td> 7</td><td> 6</td><td>18</td></tr>\n",
       "\t<tr><th scope=row>02</th><td> 2</td><td>18</td><td> 1</td><td>21</td></tr>\n",
       "\t<tr><th scope=row>03</th><td> 2</td><td> 1</td><td>NA</td><td>NA</td></tr>\n",
       "\t<tr><th scope=row>04</th><td> 2</td><td> 5</td><td> 2</td><td> 9</td></tr>\n",
       "\t<tr><th scope=row>missing</th><td>15</td><td> 9</td><td>12</td><td>36</td></tr>\n",
       "\t<tr><th scope=row>total</th><td>32</td><td>50</td><td>NA</td><td>NA</td></tr>\n",
       "</tbody>\n",
       "</table>\n"
      ],
      "text/latex": [
       "A data.frame: 7 × 4\n",
       "\\begin{tabular}{r|llll}\n",
       "  & New\\_GIALLO & New\\_ROSSO & New\\_VERDE & total\\\\\n",
       "  & <dbl> & <dbl> & <dbl> & <dbl>\\\\\n",
       "\\hline\n",
       "\t00 &  6 & 10 & 13 & 29\\\\\n",
       "\t01 &  5 &  7 &  6 & 18\\\\\n",
       "\t02 &  2 & 18 &  1 & 21\\\\\n",
       "\t03 &  2 &  1 & NA & NA\\\\\n",
       "\t04 &  2 &  5 &  2 &  9\\\\\n",
       "\tmissing & 15 &  9 & 12 & 36\\\\\n",
       "\ttotal & 32 & 50 & NA & NA\\\\\n",
       "\\end{tabular}\n"
      ],
      "text/markdown": [
       "\n",
       "A data.frame: 7 × 4\n",
       "\n",
       "| <!--/--> | New_GIALLO &lt;dbl&gt; | New_ROSSO &lt;dbl&gt; | New_VERDE &lt;dbl&gt; | total &lt;dbl&gt; |\n",
       "|---|---|---|---|---|\n",
       "| 00 |  6 | 10 | 13 | 29 |\n",
       "| 01 |  5 |  7 |  6 | 18 |\n",
       "| 02 |  2 | 18 |  1 | 21 |\n",
       "| 03 |  2 |  1 | NA | NA |\n",
       "| 04 |  2 |  5 |  2 |  9 |\n",
       "| missing | 15 |  9 | 12 | 36 |\n",
       "| total | 32 | 50 | NA | NA |\n",
       "\n"
      ],
      "text/plain": [
       "        New_GIALLO New_ROSSO New_VERDE total\n",
       "00       6         10        13        29   \n",
       "01       5          7         6        18   \n",
       "02       2         18         1        21   \n",
       "03       2          1        NA        NA   \n",
       "04       2          5         2         9   \n",
       "missing 15          9        12        36   \n",
       "total   32         50        NA        NA   "
      ]
     },
     "metadata": {},
     "output_type": "display_data"
    },
    {
     "data": {
      "text/html": [
       "<table class=\"dataframe\">\n",
       "<caption>A data.frame: 7 × 4</caption>\n",
       "<thead>\n",
       "\t<tr><th></th><th scope=col>New_GIALLO</th><th scope=col>New_ROSSO</th><th scope=col>New_VERDE</th><th scope=col>total</th></tr>\n",
       "\t<tr><th></th><th scope=col>&lt;dbl&gt;</th><th scope=col>&lt;dbl&gt;</th><th scope=col>&lt;dbl&gt;</th><th scope=col>&lt;dbl&gt;</th></tr>\n",
       "</thead>\n",
       "<tbody>\n",
       "\t<tr><th scope=row>00</th><td>1060</td><td> 84</td><td>3055</td><td>4199</td></tr>\n",
       "\t<tr><th scope=row>01</th><td> 339</td><td>106</td><td> 440</td><td> 885</td></tr>\n",
       "\t<tr><th scope=row>02</th><td>  22</td><td>253</td><td>  15</td><td> 290</td></tr>\n",
       "\t<tr><th scope=row>03</th><td>  27</td><td> 18</td><td>  41</td><td>  86</td></tr>\n",
       "\t<tr><th scope=row>04</th><td>  76</td><td> 72</td><td> 151</td><td> 299</td></tr>\n",
       "\t<tr><th scope=row>missing</th><td> 386</td><td> 89</td><td> 879</td><td>1354</td></tr>\n",
       "\t<tr><th scope=row>total</th><td>1910</td><td>622</td><td>4581</td><td>7113</td></tr>\n",
       "</tbody>\n",
       "</table>\n"
      ],
      "text/latex": [
       "A data.frame: 7 × 4\n",
       "\\begin{tabular}{r|llll}\n",
       "  & New\\_GIALLO & New\\_ROSSO & New\\_VERDE & total\\\\\n",
       "  & <dbl> & <dbl> & <dbl> & <dbl>\\\\\n",
       "\\hline\n",
       "\t00 & 1060 &  84 & 3055 & 4199\\\\\n",
       "\t01 &  339 & 106 &  440 &  885\\\\\n",
       "\t02 &   22 & 253 &   15 &  290\\\\\n",
       "\t03 &   27 &  18 &   41 &   86\\\\\n",
       "\t04 &   76 &  72 &  151 &  299\\\\\n",
       "\tmissing &  386 &  89 &  879 & 1354\\\\\n",
       "\ttotal & 1910 & 622 & 4581 & 7113\\\\\n",
       "\\end{tabular}\n"
      ],
      "text/markdown": [
       "\n",
       "A data.frame: 7 × 4\n",
       "\n",
       "| <!--/--> | New_GIALLO &lt;dbl&gt; | New_ROSSO &lt;dbl&gt; | New_VERDE &lt;dbl&gt; | total &lt;dbl&gt; |\n",
       "|---|---|---|---|---|\n",
       "| 00 | 1060 |  84 | 3055 | 4199 |\n",
       "| 01 |  339 | 106 |  440 |  885 |\n",
       "| 02 |   22 | 253 |   15 |  290 |\n",
       "| 03 |   27 |  18 |   41 |   86 |\n",
       "| 04 |   76 |  72 |  151 |  299 |\n",
       "| missing |  386 |  89 |  879 | 1354 |\n",
       "| total | 1910 | 622 | 4581 | 7113 |\n",
       "\n"
      ],
      "text/plain": [
       "        New_GIALLO New_ROSSO New_VERDE total\n",
       "00      1060        84       3055      4199 \n",
       "01       339       106        440       885 \n",
       "02        22       253         15       290 \n",
       "03        27        18         41        86 \n",
       "04        76        72        151       299 \n",
       "missing  386        89        879      1354 \n",
       "total   1910       622       4581      7113 "
      ]
     },
     "metadata": {},
     "output_type": "display_data"
    }
   ],
   "source": [
    "dt_cra_appo_def <- dt_appo[target == \"DEFAULT\",.(N= .N ), by = c('CRA_ADJ','col_new_vpc')]\n",
    "\n",
    "migr_mat_cra_def <- reshape(dt_cra_appo_def, idvar = \"CRA_ADJ\", timevar = \"col_new_vpc\", direction = \"wide\")\n",
    "\n",
    "colnames(migr_mat_cra_def) <- gsub(\"N\\\\.\",\"New_\",colnames(migr_mat_cra_def))\n",
    "\n",
    "migr_mat_cra_def <- setDT(migr_mat_cra_def[,sort(colnames(migr_mat_cra_def)), with = FALSE][order(CRA_ADJ)])\n",
    "migr_mat_cra_def[is.na(CRA_ADJ),CRA_ADJ := 'missing',]\n",
    "\n",
    "migr_mat_cra_def <- data.frame(migr_mat_cra_def)\n",
    "rownames(migr_mat_cra_def) <- migr_mat_cra_def$CRA_ADJ\n",
    "migr_mat_cra_def$CRA_ADJ <- NULL\n",
    "migr_mat_cra_def<- cbind(migr_mat_cra_def, total = rowSums(migr_mat_cra_def))\n",
    "migr_mat_cra_def<- rbind(migr_mat_cra_def, total = colSums(migr_mat_cra_def))\n",
    "\n",
    "migr_mat_cra_def\n",
    "\n",
    "\n",
    "dt_cra_appo_nondef <- dt_appo[target != \"DEFAULT\",.(N= .N ), by = c('CRA_ADJ','col_new_vpc')]\n",
    "\n",
    "migr_mat_cra_nondef <- reshape(dt_cra_appo_nondef, idvar = \"CRA_ADJ\", timevar = \"col_new_vpc\", direction = \"wide\")\n",
    "\n",
    "colnames(migr_mat_cra_nondef) <- gsub(\"N\\\\.\",\"New_\",colnames(migr_mat_cra_nondef))\n",
    "\n",
    "migr_mat_cra_nondef <- setDT(migr_mat_cra_nondef[,sort(colnames(migr_mat_cra_nondef)), with = FALSE][order(CRA_ADJ)])\n",
    "migr_mat_cra_nondef[is.na(CRA_ADJ),CRA_ADJ := 'missing',]\n",
    "\n",
    "migr_mat_cra_nondef <- data.frame(migr_mat_cra_nondef)\n",
    "rownames(migr_mat_cra_nondef) <- migr_mat_cra_nondef$CRA_ADJ\n",
    "migr_mat_cra_nondef$CRA_ADJ <- NULL\n",
    "migr_mat_cra_nondef<- cbind(migr_mat_cra_nondef, total = rowSums(migr_mat_cra_nondef))\n",
    "migr_mat_cra_nondef<- rbind(migr_mat_cra_nondef, total = colSums(migr_mat_cra_nondef))\n",
    "\n",
    "migr_mat_cra_nondef"
   ]
  },
  {
   "cell_type": "code",
   "execution_count": null,
   "id": "smaller-noise",
   "metadata": {},
   "outputs": [],
   "source": [
    "# dt_ews_appo <- dt_appo[,.(N= .N ), by = c('EWS_ASIS','col_new_vpc')]\n",
    "\n",
    "# migr_mat_ews <- reshape(dt_ews_appo, idvar = \"EWS_ASIS\", timevar = \"col_new_vpc\", direction = \"wide\")\n",
    "\n",
    "# colnames(migr_mat_ews) <- gsub(\"N\\\\.\",\"New_\",colnames(migr_mat_ews))\n",
    "\n",
    "# migr_mat_ews <- migr_mat_ews[,sort(colnames(migr_mat_ews)), with = FALSE][order(EWS_ASIS)]\n",
    "\n",
    "# migr_mat_ews[,EWS_ASIS:= as.character(EWS_ASIS)]\n",
    "# migr_mat_ews[EWS_ASIS == '0',EWS_ASIS := 'Verde',]\n",
    "# migr_mat_ews[EWS_ASIS == '1',EWS_ASIS := 'Verdino',]\n",
    "# migr_mat_ews[EWS_ASIS == '2',EWS_ASIS := 'Arancio',]\n",
    "# migr_mat_ews[EWS_ASIS == '3',EWS_ASIS := 'Rosso',]\n",
    "# migr_mat_ews[EWS_ASIS == '4',EWS_ASIS := 'Blu chiaro',]\n",
    "# migr_mat_ews[EWS_ASIS == '5',EWS_ASIS := 'Blu scuro',]\n",
    "# migr_mat_ews[is.na(EWS_ASIS),EWS_ASIS := 'missing',]\n",
    "\n",
    "# migr_mat_ews <- data.frame(migr_mat_ews)\n",
    "# rownames(migr_mat_ews) <- migr_mat_ews$EWS_ASIS\n",
    "# migr_mat_ews$EWS_ASIS <- NULL\n",
    "# migr_mat_ews<- cbind(migr_mat_ews, total = rowSums(migr_mat_ews))\n",
    "# migr_mat_ews<- rbind(migr_mat_ews, total = colSums(migr_mat_ews))\n",
    "\n",
    "# migr_mat_ews"
   ]
  },
  {
   "cell_type": "code",
   "execution_count": 403,
   "id": "willing-impact",
   "metadata": {},
   "outputs": [
    {
     "data": {
      "text/html": [
       "<table class=\"dataframe\">\n",
       "<caption>A data.frame: 7 × 4</caption>\n",
       "<thead>\n",
       "\t<tr><th></th><th scope=col>New_GIALLO</th><th scope=col>New_ROSSO</th><th scope=col>New_VERDE</th><th scope=col>total</th></tr>\n",
       "\t<tr><th></th><th scope=col>&lt;dbl&gt;</th><th scope=col>&lt;dbl&gt;</th><th scope=col>&lt;dbl&gt;</th><th scope=col>&lt;dbl&gt;</th></tr>\n",
       "</thead>\n",
       "<tbody>\n",
       "\t<tr><th scope=row>2016</th><td> 127</td><td>171</td><td> 473</td><td> 771</td></tr>\n",
       "\t<tr><th scope=row>2017</th><td> 480</td><td>213</td><td> 761</td><td>1454</td></tr>\n",
       "\t<tr><th scope=row>2018</th><td> 563</td><td>274</td><td>1493</td><td>2330</td></tr>\n",
       "\t<tr><th scope=row>2019</th><td> 490</td><td>208</td><td>1056</td><td>1754</td></tr>\n",
       "\t<tr><th scope=row>2020</th><td> 294</td><td> 96</td><td> 492</td><td> 882</td></tr>\n",
       "\t<tr><th scope=row>2021</th><td>   7</td><td>  4</td><td>  27</td><td>  38</td></tr>\n",
       "\t<tr><th scope=row>total</th><td>1961</td><td>966</td><td>4302</td><td>7229</td></tr>\n",
       "</tbody>\n",
       "</table>\n"
      ],
      "text/latex": [
       "A data.frame: 7 × 4\n",
       "\\begin{tabular}{r|llll}\n",
       "  & New\\_GIALLO & New\\_ROSSO & New\\_VERDE & total\\\\\n",
       "  & <dbl> & <dbl> & <dbl> & <dbl>\\\\\n",
       "\\hline\n",
       "\t2016 &  127 & 171 &  473 &  771\\\\\n",
       "\t2017 &  480 & 213 &  761 & 1454\\\\\n",
       "\t2018 &  563 & 274 & 1493 & 2330\\\\\n",
       "\t2019 &  490 & 208 & 1056 & 1754\\\\\n",
       "\t2020 &  294 &  96 &  492 &  882\\\\\n",
       "\t2021 &    7 &   4 &   27 &   38\\\\\n",
       "\ttotal & 1961 & 966 & 4302 & 7229\\\\\n",
       "\\end{tabular}\n"
      ],
      "text/markdown": [
       "\n",
       "A data.frame: 7 × 4\n",
       "\n",
       "| <!--/--> | New_GIALLO &lt;dbl&gt; | New_ROSSO &lt;dbl&gt; | New_VERDE &lt;dbl&gt; | total &lt;dbl&gt; |\n",
       "|---|---|---|---|---|\n",
       "| 2016 |  127 | 171 |  473 |  771 |\n",
       "| 2017 |  480 | 213 |  761 | 1454 |\n",
       "| 2018 |  563 | 274 | 1493 | 2330 |\n",
       "| 2019 |  490 | 208 | 1056 | 1754 |\n",
       "| 2020 |  294 |  96 |  492 |  882 |\n",
       "| 2021 |    7 |   4 |   27 |   38 |\n",
       "| total | 1961 | 966 | 4302 | 7229 |\n",
       "\n"
      ],
      "text/plain": [
       "      New_GIALLO New_ROSSO New_VERDE total\n",
       "2016   127       171        473       771 \n",
       "2017   480       213        761      1454 \n",
       "2018   563       274       1493      2330 \n",
       "2019   490       208       1056      1754 \n",
       "2020   294        96        492       882 \n",
       "2021     7         4         27        38 \n",
       "total 1961       966       4302      7229 "
      ]
     },
     "metadata": {},
     "output_type": "display_data"
    }
   ],
   "source": [
    "dt_appo[,anno := year(DATA_DELIBERA_O_ANNULL_FIDO)]\n",
    "\n",
    "dt_sam_appo <- dt_appo[,.(N= .N ), by = c('anno','col_new_vpc')]\n",
    "\n",
    "migr_mat_year <- reshape(dt_sam_appo, idvar = \"anno\", timevar = \"col_new_vpc\", direction = \"wide\")\n",
    "\n",
    "colnames(migr_mat_year) <- gsub(\"N\\\\.\",\"New_\",colnames(migr_mat_year))\n",
    "migr_mat_year <- migr_mat_year[,sort(colnames(migr_mat_year)), with = FALSE][order(anno)]\n",
    "\n",
    "migr_mat_year <- data.frame(migr_mat_year)\n",
    "rownames(migr_mat_year) <- migr_mat_year$anno\n",
    "migr_mat_year$anno <- NULL\n",
    "migr_mat_year<- cbind(migr_mat_year, total = rowSums(migr_mat_year))\n",
    "migr_mat_year<- rbind(migr_mat_year, total = colSums(migr_mat_year))\n",
    "#rownames(migr_mat_year) <- c(migr_mat_year$ESITO_FINALE_VPC,\"total\")\n",
    "migr_mat_year"
   ]
  },
  {
   "cell_type": "markdown",
   "id": "religious-fence",
   "metadata": {},
   "source": [
    "## estrazione soglie di taglio nell'albero"
   ]
  },
  {
   "cell_type": "code",
   "execution_count": 325,
   "id": "marine-worry",
   "metadata": {},
   "outputs": [],
   "source": [
    "txt <- readr::read_file('output/20220610/tree_nonsme_variabili_isp_V3_arricchito_1.xml')\n",
    "\n",
    "library(stringr)"
   ]
  },
  {
   "cell_type": "code",
   "execution_count": 326,
   "id": "nonprofit-survey",
   "metadata": {},
   "outputs": [
    {
     "data": {
      "text/html": [
       "<table class=\"dataframe\">\n",
       "<caption>A data.table: 26 × 1</caption>\n",
       "<thead>\n",
       "\t<tr><th scope=col>lista_soglie_cr</th></tr>\n",
       "\t<tr><th scope=col>&lt;chr&gt;</th></tr>\n",
       "</thead>\n",
       "<tbody>\n",
       "\t<tr><td><span style=white-space:pre-wrap>CR_sconf_acc &gt;= 0.0172164254269013  </span></td></tr>\n",
       "\t<tr><td><span style=white-space:pre-wrap>CR_sconf_acc &lt; 0.0172164254269013   </span></td></tr>\n",
       "\t<tr><td><span style=white-space:pre-wrap>CR_sconf_acc &lt; -5000                </span></td></tr>\n",
       "\t<tr><td><span style=white-space:pre-wrap>CR_sconf_acc &gt;= 0.152734468722897   </span></td></tr>\n",
       "\t<tr><td><span style=white-space:pre-wrap>CR_sconf_acc &lt; -5000                </span></td></tr>\n",
       "\t<tr><td><span style=white-space:pre-wrap>CR_sconf_acc &gt;= -5000               </span></td></tr>\n",
       "\t<tr><td><span style=white-space:pre-wrap>CR_sconf_acc &lt; 0.152734468722897    </span></td></tr>\n",
       "\t<tr><td><span style=white-space:pre-wrap>CR_sconf_acc &gt;= 1.650634e-06        </span></td></tr>\n",
       "\t<tr><td>CR_sconf_acc &gt;= 1.28166848242807e-05</td></tr>\n",
       "\t<tr><td>CR_sconf_acc &lt; 1.28166848242807e-05 </td></tr>\n",
       "\t<tr><td><span style=white-space:pre-wrap>CR_sconf_acc &lt; 1.650634e-06         </span></td></tr>\n",
       "\t<tr><td><span style=white-space:pre-wrap>CR_sconf_acc &gt;= -5000               </span></td></tr>\n",
       "\t<tr><td><span style=white-space:pre-wrap>CR_sconf_acc &gt;= 0.02189118          </span></td></tr>\n",
       "\t<tr><td><span style=white-space:pre-wrap>CR_sconf_acc &lt; 0.0223447389535174   </span></td></tr>\n",
       "\t<tr><td><span style=white-space:pre-wrap>CR_sconf_acc &gt;= 0.0223447389535174  </span></td></tr>\n",
       "\t<tr><td><span style=white-space:pre-wrap>CR_sconf_acc &lt; 0.02189118           </span></td></tr>\n",
       "\t<tr><td><span style=white-space:pre-wrap>CR_sconf_acc &gt;= 0.1218406           </span></td></tr>\n",
       "\t<tr><td><span style=white-space:pre-wrap>CR_sconf_acc &lt; 0.1218406            </span></td></tr>\n",
       "\t<tr><td><span style=white-space:pre-wrap>CR_sconf_acc &lt; -5000                </span></td></tr>\n",
       "\t<tr><td><span style=white-space:pre-wrap>CR_sconf_acc &lt; -5000                </span></td></tr>\n",
       "\t<tr><td>CR_sconf_acc &gt;= 1.93102194648867e-07</td></tr>\n",
       "\t<tr><td><span style=white-space:pre-wrap>CR_sconf_acc &lt; -5000                </span></td></tr>\n",
       "\t<tr><td><span style=white-space:pre-wrap>CR_sconf_acc &gt;= -5000               </span></td></tr>\n",
       "\t<tr><td>CR_sconf_acc &lt; 1.93102194648867e-07 </td></tr>\n",
       "\t<tr><td><span style=white-space:pre-wrap>CR_sconf_acc &gt;= -5000               </span></td></tr>\n",
       "\t<tr><td><span style=white-space:pre-wrap>CR_sconf_acc &gt;= -5000               </span></td></tr>\n",
       "</tbody>\n",
       "</table>\n"
      ],
      "text/latex": [
       "A data.table: 26 × 1\n",
       "\\begin{tabular}{l}\n",
       " lista\\_soglie\\_cr\\\\\n",
       " <chr>\\\\\n",
       "\\hline\n",
       "\t CR\\_sconf\\_acc >= 0.0172164254269013  \\\\\n",
       "\t CR\\_sconf\\_acc < 0.0172164254269013   \\\\\n",
       "\t CR\\_sconf\\_acc < -5000                \\\\\n",
       "\t CR\\_sconf\\_acc >= 0.152734468722897   \\\\\n",
       "\t CR\\_sconf\\_acc < -5000                \\\\\n",
       "\t CR\\_sconf\\_acc >= -5000               \\\\\n",
       "\t CR\\_sconf\\_acc < 0.152734468722897    \\\\\n",
       "\t CR\\_sconf\\_acc >= 1.650634e-06        \\\\\n",
       "\t CR\\_sconf\\_acc >= 1.28166848242807e-05\\\\\n",
       "\t CR\\_sconf\\_acc < 1.28166848242807e-05 \\\\\n",
       "\t CR\\_sconf\\_acc < 1.650634e-06         \\\\\n",
       "\t CR\\_sconf\\_acc >= -5000               \\\\\n",
       "\t CR\\_sconf\\_acc >= 0.02189118          \\\\\n",
       "\t CR\\_sconf\\_acc < 0.0223447389535174   \\\\\n",
       "\t CR\\_sconf\\_acc >= 0.0223447389535174  \\\\\n",
       "\t CR\\_sconf\\_acc < 0.02189118           \\\\\n",
       "\t CR\\_sconf\\_acc >= 0.1218406           \\\\\n",
       "\t CR\\_sconf\\_acc < 0.1218406            \\\\\n",
       "\t CR\\_sconf\\_acc < -5000                \\\\\n",
       "\t CR\\_sconf\\_acc < -5000                \\\\\n",
       "\t CR\\_sconf\\_acc >= 1.93102194648867e-07\\\\\n",
       "\t CR\\_sconf\\_acc < -5000                \\\\\n",
       "\t CR\\_sconf\\_acc >= -5000               \\\\\n",
       "\t CR\\_sconf\\_acc < 1.93102194648867e-07 \\\\\n",
       "\t CR\\_sconf\\_acc >= -5000               \\\\\n",
       "\t CR\\_sconf\\_acc >= -5000               \\\\\n",
       "\\end{tabular}\n"
      ],
      "text/markdown": [
       "\n",
       "A data.table: 26 × 1\n",
       "\n",
       "| lista_soglie_cr &lt;chr&gt; |\n",
       "|---|\n",
       "| CR_sconf_acc &gt;= 0.0172164254269013   |\n",
       "| CR_sconf_acc &lt; 0.0172164254269013    |\n",
       "| CR_sconf_acc &lt; -5000                 |\n",
       "| CR_sconf_acc &gt;= 0.152734468722897    |\n",
       "| CR_sconf_acc &lt; -5000                 |\n",
       "| CR_sconf_acc &gt;= -5000                |\n",
       "| CR_sconf_acc &lt; 0.152734468722897     |\n",
       "| CR_sconf_acc &gt;= 1.650634e-06         |\n",
       "| CR_sconf_acc &gt;= 1.28166848242807e-05 |\n",
       "| CR_sconf_acc &lt; 1.28166848242807e-05  |\n",
       "| CR_sconf_acc &lt; 1.650634e-06          |\n",
       "| CR_sconf_acc &gt;= -5000                |\n",
       "| CR_sconf_acc &gt;= 0.02189118           |\n",
       "| CR_sconf_acc &lt; 0.0223447389535174    |\n",
       "| CR_sconf_acc &gt;= 0.0223447389535174   |\n",
       "| CR_sconf_acc &lt; 0.02189118            |\n",
       "| CR_sconf_acc &gt;= 0.1218406            |\n",
       "| CR_sconf_acc &lt; 0.1218406             |\n",
       "| CR_sconf_acc &lt; -5000                 |\n",
       "| CR_sconf_acc &lt; -5000                 |\n",
       "| CR_sconf_acc &gt;= 1.93102194648867e-07 |\n",
       "| CR_sconf_acc &lt; -5000                 |\n",
       "| CR_sconf_acc &gt;= -5000                |\n",
       "| CR_sconf_acc &lt; 1.93102194648867e-07  |\n",
       "| CR_sconf_acc &gt;= -5000                |\n",
       "| CR_sconf_acc &gt;= -5000                |\n",
       "\n"
      ],
      "text/plain": [
       "   lista_soglie_cr                     \n",
       "1  CR_sconf_acc >= 0.0172164254269013  \n",
       "2  CR_sconf_acc < 0.0172164254269013   \n",
       "3  CR_sconf_acc < -5000                \n",
       "4  CR_sconf_acc >= 0.152734468722897   \n",
       "5  CR_sconf_acc < -5000                \n",
       "6  CR_sconf_acc >= -5000               \n",
       "7  CR_sconf_acc < 0.152734468722897    \n",
       "8  CR_sconf_acc >= 1.650634e-06        \n",
       "9  CR_sconf_acc >= 1.28166848242807e-05\n",
       "10 CR_sconf_acc < 1.28166848242807e-05 \n",
       "11 CR_sconf_acc < 1.650634e-06         \n",
       "12 CR_sconf_acc >= -5000               \n",
       "13 CR_sconf_acc >= 0.02189118          \n",
       "14 CR_sconf_acc < 0.0223447389535174   \n",
       "15 CR_sconf_acc >= 0.0223447389535174  \n",
       "16 CR_sconf_acc < 0.02189118           \n",
       "17 CR_sconf_acc >= 0.1218406           \n",
       "18 CR_sconf_acc < 0.1218406            \n",
       "19 CR_sconf_acc < -5000                \n",
       "20 CR_sconf_acc < -5000                \n",
       "21 CR_sconf_acc >= 1.93102194648867e-07\n",
       "22 CR_sconf_acc < -5000                \n",
       "23 CR_sconf_acc >= -5000               \n",
       "24 CR_sconf_acc < 1.93102194648867e-07 \n",
       "25 CR_sconf_acc >= -5000               \n",
       "26 CR_sconf_acc >= -5000               "
      ]
     },
     "metadata": {},
     "output_type": "display_data"
    }
   ],
   "source": [
    "##CR\n",
    "lista_raw <- unlist(str_extract_all(gsub('\"',\"\",txt), 'field=CR_sconf_acc.+/>'))\n",
    "lista_soglie_cr <- gsub('field=',\"\",lista_raw)\n",
    "lista_soglie_cr <- gsub('operator=',\"\",lista_soglie_cr)\n",
    "lista_soglie_cr <- gsub('value=',\"\",lista_soglie_cr)\n",
    "lista_soglie_cr <- gsub('/>',\"\",lista_soglie_cr)\n",
    "lista_soglie_cr <- gsub('greaterOrEqual',\">=\",lista_soglie_cr)\n",
    "lista_soglie_cr <- gsub('lessThan',\"<\",lista_soglie_cr)\n",
    "\n",
    "data.table(lista_soglie_cr)"
   ]
  },
  {
   "cell_type": "code",
   "execution_count": 327,
   "id": "foreign-water",
   "metadata": {},
   "outputs": [],
   "source": [
    "# ##BIL_Oneri_ebitda\n",
    "# lista_raw <- unlist(str_extract_all(gsub('\"',\"\",txt), 'field=BIL_onerifin_ebitda.+/>'))\n",
    "# lista_soglie_oneri <- gsub('field=',\"\",lista_raw)\n",
    "# lista_soglie_oneri <- gsub('operator=',\"\",lista_soglie_oneri)\n",
    "# lista_soglie_oneri <- gsub('value=',\"\",lista_soglie_oneri)\n",
    "# lista_soglie_oneri <- gsub('/>',\"\",lista_soglie_oneri)\n",
    "# lista_soglie_oneri <- gsub('greaterOrEqual',\">=\",lista_soglie_oneri)\n",
    "# lista_soglie_oneri <- gsub('lessThan',\"<\",lista_soglie_oneri)\n",
    "# data.table(lista_soglie_oneri)"
   ]
  },
  {
   "cell_type": "code",
   "execution_count": 328,
   "id": "fitted-mistake",
   "metadata": {},
   "outputs": [
    {
     "data": {
      "text/html": [
       "<table class=\"dataframe\">\n",
       "<caption>A data.table: 24 × 1</caption>\n",
       "<thead>\n",
       "\t<tr><th scope=col>lista_soglie_pfn</th></tr>\n",
       "\t<tr><th scope=col>&lt;chr&gt;</th></tr>\n",
       "</thead>\n",
       "<tbody>\n",
       "\t<tr><td><span style=white-space:pre-wrap>BIL_PFN_Ebitda &lt; -5000078.6          </span></td></tr>\n",
       "\t<tr><td><span style=white-space:pre-wrap>BIL_PFN_Ebitda &gt;= -5000078.6         </span></td></tr>\n",
       "\t<tr><td><span style=white-space:pre-wrap>BIL_PFN_Ebitda &lt; 0.00675012          </span></td></tr>\n",
       "\t<tr><td><span style=white-space:pre-wrap>BIL_PFN_Ebitda &gt;= -0.6306999         </span></td></tr>\n",
       "\t<tr><td><span style=white-space:pre-wrap>BIL_PFN_Ebitda &lt; -0.630586251275906  </span></td></tr>\n",
       "\t<tr><td>BIL_PFN_Ebitda &gt;= -0.630586251275906 </td></tr>\n",
       "\t<tr><td><span style=white-space:pre-wrap>BIL_PFN_Ebitda &lt; -0.6306999          </span></td></tr>\n",
       "\t<tr><td><span style=white-space:pre-wrap>BIL_PFN_Ebitda &gt;= 0.00675012         </span></td></tr>\n",
       "\t<tr><td><span style=white-space:pre-wrap>BIL_PFN_Ebitda &lt; 2.51324688978448    </span></td></tr>\n",
       "\t<tr><td><span style=white-space:pre-wrap>BIL_PFN_Ebitda &lt; 1.717236            </span></td></tr>\n",
       "\t<tr><td><span style=white-space:pre-wrap>BIL_PFN_Ebitda &gt;= 1.717236           </span></td></tr>\n",
       "\t<tr><td><span style=white-space:pre-wrap>BIL_PFN_Ebitda &gt;= 2.51324688978448   </span></td></tr>\n",
       "\t<tr><td><span style=white-space:pre-wrap>BIL_PFN_Ebitda &gt;= 3073.03846153846   </span></td></tr>\n",
       "\t<tr><td><span style=white-space:pre-wrap>BIL_PFN_Ebitda &gt;= 5011989.09711666   </span></td></tr>\n",
       "\t<tr><td><span style=white-space:pre-wrap>BIL_PFN_Ebitda &lt; 1.124839            </span></td></tr>\n",
       "\t<tr><td><span style=white-space:pre-wrap>BIL_PFN_Ebitda &gt;= -0.2849635         </span></td></tr>\n",
       "\t<tr><td><span style=white-space:pre-wrap>BIL_PFN_Ebitda &lt; 0.02419836          </span></td></tr>\n",
       "\t<tr><td>BIL_PFN_Ebitda &lt; -0.0367671352195591 </td></tr>\n",
       "\t<tr><td>BIL_PFN_Ebitda &gt;= -0.0367671352195591</td></tr>\n",
       "\t<tr><td><span style=white-space:pre-wrap>BIL_PFN_Ebitda &gt;= 0.02419836         </span></td></tr>\n",
       "\t<tr><td><span style=white-space:pre-wrap>BIL_PFN_Ebitda &lt; -0.2849635          </span></td></tr>\n",
       "\t<tr><td><span style=white-space:pre-wrap>BIL_PFN_Ebitda &gt;= 1.124839           </span></td></tr>\n",
       "\t<tr><td><span style=white-space:pre-wrap>BIL_PFN_Ebitda &lt; 5011989.09711666    </span></td></tr>\n",
       "\t<tr><td><span style=white-space:pre-wrap>BIL_PFN_Ebitda &lt; 3073.03846153846    </span></td></tr>\n",
       "</tbody>\n",
       "</table>\n"
      ],
      "text/latex": [
       "A data.table: 24 × 1\n",
       "\\begin{tabular}{l}\n",
       " lista\\_soglie\\_pfn\\\\\n",
       " <chr>\\\\\n",
       "\\hline\n",
       "\t BIL\\_PFN\\_Ebitda < -5000078.6          \\\\\n",
       "\t BIL\\_PFN\\_Ebitda >= -5000078.6         \\\\\n",
       "\t BIL\\_PFN\\_Ebitda < 0.00675012          \\\\\n",
       "\t BIL\\_PFN\\_Ebitda >= -0.6306999         \\\\\n",
       "\t BIL\\_PFN\\_Ebitda < -0.630586251275906  \\\\\n",
       "\t BIL\\_PFN\\_Ebitda >= -0.630586251275906 \\\\\n",
       "\t BIL\\_PFN\\_Ebitda < -0.6306999          \\\\\n",
       "\t BIL\\_PFN\\_Ebitda >= 0.00675012         \\\\\n",
       "\t BIL\\_PFN\\_Ebitda < 2.51324688978448    \\\\\n",
       "\t BIL\\_PFN\\_Ebitda < 1.717236            \\\\\n",
       "\t BIL\\_PFN\\_Ebitda >= 1.717236           \\\\\n",
       "\t BIL\\_PFN\\_Ebitda >= 2.51324688978448   \\\\\n",
       "\t BIL\\_PFN\\_Ebitda >= 3073.03846153846   \\\\\n",
       "\t BIL\\_PFN\\_Ebitda >= 5011989.09711666   \\\\\n",
       "\t BIL\\_PFN\\_Ebitda < 1.124839            \\\\\n",
       "\t BIL\\_PFN\\_Ebitda >= -0.2849635         \\\\\n",
       "\t BIL\\_PFN\\_Ebitda < 0.02419836          \\\\\n",
       "\t BIL\\_PFN\\_Ebitda < -0.0367671352195591 \\\\\n",
       "\t BIL\\_PFN\\_Ebitda >= -0.0367671352195591\\\\\n",
       "\t BIL\\_PFN\\_Ebitda >= 0.02419836         \\\\\n",
       "\t BIL\\_PFN\\_Ebitda < -0.2849635          \\\\\n",
       "\t BIL\\_PFN\\_Ebitda >= 1.124839           \\\\\n",
       "\t BIL\\_PFN\\_Ebitda < 5011989.09711666    \\\\\n",
       "\t BIL\\_PFN\\_Ebitda < 3073.03846153846    \\\\\n",
       "\\end{tabular}\n"
      ],
      "text/markdown": [
       "\n",
       "A data.table: 24 × 1\n",
       "\n",
       "| lista_soglie_pfn &lt;chr&gt; |\n",
       "|---|\n",
       "| BIL_PFN_Ebitda &lt; -5000078.6           |\n",
       "| BIL_PFN_Ebitda &gt;= -5000078.6          |\n",
       "| BIL_PFN_Ebitda &lt; 0.00675012           |\n",
       "| BIL_PFN_Ebitda &gt;= -0.6306999          |\n",
       "| BIL_PFN_Ebitda &lt; -0.630586251275906   |\n",
       "| BIL_PFN_Ebitda &gt;= -0.630586251275906  |\n",
       "| BIL_PFN_Ebitda &lt; -0.6306999           |\n",
       "| BIL_PFN_Ebitda &gt;= 0.00675012          |\n",
       "| BIL_PFN_Ebitda &lt; 2.51324688978448     |\n",
       "| BIL_PFN_Ebitda &lt; 1.717236             |\n",
       "| BIL_PFN_Ebitda &gt;= 1.717236            |\n",
       "| BIL_PFN_Ebitda &gt;= 2.51324688978448    |\n",
       "| BIL_PFN_Ebitda &gt;= 3073.03846153846    |\n",
       "| BIL_PFN_Ebitda &gt;= 5011989.09711666    |\n",
       "| BIL_PFN_Ebitda &lt; 1.124839             |\n",
       "| BIL_PFN_Ebitda &gt;= -0.2849635          |\n",
       "| BIL_PFN_Ebitda &lt; 0.02419836           |\n",
       "| BIL_PFN_Ebitda &lt; -0.0367671352195591  |\n",
       "| BIL_PFN_Ebitda &gt;= -0.0367671352195591 |\n",
       "| BIL_PFN_Ebitda &gt;= 0.02419836          |\n",
       "| BIL_PFN_Ebitda &lt; -0.2849635           |\n",
       "| BIL_PFN_Ebitda &gt;= 1.124839            |\n",
       "| BIL_PFN_Ebitda &lt; 5011989.09711666     |\n",
       "| BIL_PFN_Ebitda &lt; 3073.03846153846     |\n",
       "\n"
      ],
      "text/plain": [
       "   lista_soglie_pfn                     \n",
       "1  BIL_PFN_Ebitda < -5000078.6          \n",
       "2  BIL_PFN_Ebitda >= -5000078.6         \n",
       "3  BIL_PFN_Ebitda < 0.00675012          \n",
       "4  BIL_PFN_Ebitda >= -0.6306999         \n",
       "5  BIL_PFN_Ebitda < -0.630586251275906  \n",
       "6  BIL_PFN_Ebitda >= -0.630586251275906 \n",
       "7  BIL_PFN_Ebitda < -0.6306999          \n",
       "8  BIL_PFN_Ebitda >= 0.00675012         \n",
       "9  BIL_PFN_Ebitda < 2.51324688978448    \n",
       "10 BIL_PFN_Ebitda < 1.717236            \n",
       "11 BIL_PFN_Ebitda >= 1.717236           \n",
       "12 BIL_PFN_Ebitda >= 2.51324688978448   \n",
       "13 BIL_PFN_Ebitda >= 3073.03846153846   \n",
       "14 BIL_PFN_Ebitda >= 5011989.09711666   \n",
       "15 BIL_PFN_Ebitda < 1.124839            \n",
       "16 BIL_PFN_Ebitda >= -0.2849635         \n",
       "17 BIL_PFN_Ebitda < 0.02419836          \n",
       "18 BIL_PFN_Ebitda < -0.0367671352195591 \n",
       "19 BIL_PFN_Ebitda >= -0.0367671352195591\n",
       "20 BIL_PFN_Ebitda >= 0.02419836         \n",
       "21 BIL_PFN_Ebitda < -0.2849635          \n",
       "22 BIL_PFN_Ebitda >= 1.124839           \n",
       "23 BIL_PFN_Ebitda < 5011989.09711666    \n",
       "24 BIL_PFN_Ebitda < 3073.03846153846    "
      ]
     },
     "metadata": {},
     "output_type": "display_data"
    }
   ],
   "source": [
    "##BIL_PFN_ebitda\n",
    "lista_raw <- unlist(str_extract_all(gsub('\"',\"\",txt), 'field=BIL_PFN_Ebitda.+/>'))\n",
    "lista_soglie_pfn <- gsub('field=',\"\",lista_raw)\n",
    "lista_soglie_pfn <- gsub('operator=',\"\",lista_soglie_pfn)\n",
    "lista_soglie_pfn <- gsub('value=',\"\",lista_soglie_pfn)\n",
    "lista_soglie_pfn <- gsub('/>',\"\",lista_soglie_pfn)\n",
    "lista_soglie_pfn <- gsub('greaterOrEqual',\">=\",lista_soglie_pfn)\n",
    "lista_soglie_pfn <- gsub('lessThan',\"<\",lista_soglie_pfn)\n",
    "\n",
    "data.table(lista_soglie_pfn)"
   ]
  },
  {
   "cell_type": "code",
   "execution_count": null,
   "id": "sophisticated-right",
   "metadata": {},
   "outputs": [],
   "source": []
  },
  {
   "cell_type": "markdown",
   "id": "worse-delay",
   "metadata": {},
   "source": [
    "#### analisi verdi albero"
   ]
  },
  {
   "cell_type": "code",
   "execution_count": 329,
   "id": "first-carroll",
   "metadata": {},
   "outputs": [
    {
     "data": {
      "text/html": [
       "<table class=\"dataframe\">\n",
       "<caption>A data.table: 25 × 3</caption>\n",
       "<thead>\n",
       "\t<tr><th scope=col>nome</th><th scope=col>giallo</th><th scope=col>rosso</th></tr>\n",
       "\t<tr><th scope=col>&lt;chr&gt;</th><th scope=col>&lt;int&gt;</th><th scope=col>&lt;int&gt;</th></tr>\n",
       "</thead>\n",
       "<tbody>\n",
       "\t<tr><td>Colore - SOGGETTO ESTERO        </td><td> 50</td><td>  0</td></tr>\n",
       "\t<tr><td>Colore - TIPO OPERAZIONE RIDUZIO</td><td> 24</td><td>  0</td></tr>\n",
       "\t<tr><td>Colore - SOGGETTO EEPP          </td><td>  1</td><td>  0</td></tr>\n",
       "\t<tr><td>Colore - FORMA GIURIDICA SENZA C</td><td>  1</td><td>  0</td></tr>\n",
       "\t<tr><td>Colore - STATO SAB              </td><td>  8</td><td>  0</td></tr>\n",
       "\t<tr><td>Colore - RATING SCADUTO         </td><td>143</td><td> 49</td></tr>\n",
       "\t<tr><td>Colore - PRESENZA DI FIDI CEDENT</td><td>115</td><td>  0</td></tr>\n",
       "\t<tr><td>Colore - SOGGETTO CEDENTE       </td><td> 10</td><td>  0</td></tr>\n",
       "\t<tr><td>Colore - RAPPORTI IN OSSERVAZION</td><td>  6</td><td>  0</td></tr>\n",
       "\t<tr><td>Colore - INCONGRUENZA TRA LOCALI</td><td> 15</td><td>  0</td></tr>\n",
       "\t<tr><td>Colore - PRESENZA GARANZIA OPERA</td><td>  9</td><td>  0</td></tr>\n",
       "\t<tr><td>Colore - FIDO CON CAUSALE NEGATI</td><td> 63</td><td>  0</td></tr>\n",
       "\t<tr><td>Colore - APPROVATO              </td><td> 13</td><td>  0</td></tr>\n",
       "\t<tr><td>Colore - FIDO SCADUTO           </td><td>400</td><td>  0</td></tr>\n",
       "\t<tr><td>Colore - AUTONOMIA FIDO         </td><td>241</td><td>  0</td></tr>\n",
       "\t<tr><td>Colore - FIDO RIDOTTO           </td><td> 43</td><td>  0</td></tr>\n",
       "\t<tr><td>Colore - APPLICAZIONE CON CAUSAL</td><td> 64</td><td>  0</td></tr>\n",
       "\t<tr><td>Colore - SCADUTO &gt; 20%OUTSTANDIN</td><td> 29</td><td><span style=white-space:pre-wrap>  0</span></td></tr>\n",
       "\t<tr><td>Colore - CR: UTILIZZATO &gt; ACCORD</td><td><span style=white-space:pre-wrap>  0</span></td><td> 25</td></tr>\n",
       "\t<tr><td>Colore - BILANCI :PATRIMONIO NET</td><td>  0</td><td> 40</td></tr>\n",
       "\t<tr><td>Colore - BILANCI :DEBITI BANCARI</td><td>  2</td><td>  0</td></tr>\n",
       "\t<tr><td>Colore - BILANCI :PASSIVO CORREN</td><td>  0</td><td>129</td></tr>\n",
       "\t<tr><td>Colore - DATA COSTITUZIONE      </td><td>  0</td><td> 48</td></tr>\n",
       "\t<tr><td>Colore - NUMERO INTERROGAZIONI  </td><td> 27</td><td>  0</td></tr>\n",
       "\t<tr><td>Colore - ATECO BKIT OBBLIGATORIO</td><td> 11</td><td>  0</td></tr>\n",
       "</tbody>\n",
       "</table>\n"
      ],
      "text/latex": [
       "A data.table: 25 × 3\n",
       "\\begin{tabular}{lll}\n",
       " nome & giallo & rosso\\\\\n",
       " <chr> & <int> & <int>\\\\\n",
       "\\hline\n",
       "\t Colore - SOGGETTO ESTERO         &  50 &   0\\\\\n",
       "\t Colore - TIPO OPERAZIONE RIDUZIO &  24 &   0\\\\\n",
       "\t Colore - SOGGETTO EEPP           &   1 &   0\\\\\n",
       "\t Colore - FORMA GIURIDICA SENZA C &   1 &   0\\\\\n",
       "\t Colore - STATO SAB               &   8 &   0\\\\\n",
       "\t Colore - RATING SCADUTO          & 143 &  49\\\\\n",
       "\t Colore - PRESENZA DI FIDI CEDENT & 115 &   0\\\\\n",
       "\t Colore - SOGGETTO CEDENTE        &  10 &   0\\\\\n",
       "\t Colore - RAPPORTI IN OSSERVAZION &   6 &   0\\\\\n",
       "\t Colore - INCONGRUENZA TRA LOCALI &  15 &   0\\\\\n",
       "\t Colore - PRESENZA GARANZIA OPERA &   9 &   0\\\\\n",
       "\t Colore - FIDO CON CAUSALE NEGATI &  63 &   0\\\\\n",
       "\t Colore - APPROVATO               &  13 &   0\\\\\n",
       "\t Colore - FIDO SCADUTO            & 400 &   0\\\\\n",
       "\t Colore - AUTONOMIA FIDO          & 241 &   0\\\\\n",
       "\t Colore - FIDO RIDOTTO            &  43 &   0\\\\\n",
       "\t Colore - APPLICAZIONE CON CAUSAL &  64 &   0\\\\\n",
       "\t Colore - SCADUTO > 20\\%OUTSTANDIN &  29 &   0\\\\\n",
       "\t Colore - CR: UTILIZZATO > ACCORD &   0 &  25\\\\\n",
       "\t Colore - BILANCI :PATRIMONIO NET &   0 &  40\\\\\n",
       "\t Colore - BILANCI :DEBITI BANCARI &   2 &   0\\\\\n",
       "\t Colore - BILANCI :PASSIVO CORREN &   0 & 129\\\\\n",
       "\t Colore - DATA COSTITUZIONE       &   0 &  48\\\\\n",
       "\t Colore - NUMERO INTERROGAZIONI   &  27 &   0\\\\\n",
       "\t Colore - ATECO BKIT OBBLIGATORIO &  11 &   0\\\\\n",
       "\\end{tabular}\n"
      ],
      "text/markdown": [
       "\n",
       "A data.table: 25 × 3\n",
       "\n",
       "| nome &lt;chr&gt; | giallo &lt;int&gt; | rosso &lt;int&gt; |\n",
       "|---|---|---|\n",
       "| Colore - SOGGETTO ESTERO         |  50 |   0 |\n",
       "| Colore - TIPO OPERAZIONE RIDUZIO |  24 |   0 |\n",
       "| Colore - SOGGETTO EEPP           |   1 |   0 |\n",
       "| Colore - FORMA GIURIDICA SENZA C |   1 |   0 |\n",
       "| Colore - STATO SAB               |   8 |   0 |\n",
       "| Colore - RATING SCADUTO          | 143 |  49 |\n",
       "| Colore - PRESENZA DI FIDI CEDENT | 115 |   0 |\n",
       "| Colore - SOGGETTO CEDENTE        |  10 |   0 |\n",
       "| Colore - RAPPORTI IN OSSERVAZION |   6 |   0 |\n",
       "| Colore - INCONGRUENZA TRA LOCALI |  15 |   0 |\n",
       "| Colore - PRESENZA GARANZIA OPERA |   9 |   0 |\n",
       "| Colore - FIDO CON CAUSALE NEGATI |  63 |   0 |\n",
       "| Colore - APPROVATO               |  13 |   0 |\n",
       "| Colore - FIDO SCADUTO            | 400 |   0 |\n",
       "| Colore - AUTONOMIA FIDO          | 241 |   0 |\n",
       "| Colore - FIDO RIDOTTO            |  43 |   0 |\n",
       "| Colore - APPLICAZIONE CON CAUSAL |  64 |   0 |\n",
       "| Colore - SCADUTO &gt; 20%OUTSTANDIN |  29 |   0 |\n",
       "| Colore - CR: UTILIZZATO &gt; ACCORD |   0 |  25 |\n",
       "| Colore - BILANCI :PATRIMONIO NET |   0 |  40 |\n",
       "| Colore - BILANCI :DEBITI BANCARI |   2 |   0 |\n",
       "| Colore - BILANCI :PASSIVO CORREN |   0 | 129 |\n",
       "| Colore - DATA COSTITUZIONE       |   0 |  48 |\n",
       "| Colore - NUMERO INTERROGAZIONI   |  27 |   0 |\n",
       "| Colore - ATECO BKIT OBBLIGATORIO |  11 |   0 |\n",
       "\n"
      ],
      "text/plain": [
       "   nome                             giallo rosso\n",
       "1  Colore - SOGGETTO ESTERO          50      0  \n",
       "2  Colore - TIPO OPERAZIONE RIDUZIO  24      0  \n",
       "3  Colore - SOGGETTO EEPP             1      0  \n",
       "4  Colore - FORMA GIURIDICA SENZA C   1      0  \n",
       "5  Colore - STATO SAB                 8      0  \n",
       "6  Colore - RATING SCADUTO          143     49  \n",
       "7  Colore - PRESENZA DI FIDI CEDENT 115      0  \n",
       "8  Colore - SOGGETTO CEDENTE         10      0  \n",
       "9  Colore - RAPPORTI IN OSSERVAZION   6      0  \n",
       "10 Colore - INCONGRUENZA TRA LOCALI  15      0  \n",
       "11 Colore - PRESENZA GARANZIA OPERA   9      0  \n",
       "12 Colore - FIDO CON CAUSALE NEGATI  63      0  \n",
       "13 Colore - APPROVATO                13      0  \n",
       "14 Colore - FIDO SCADUTO            400      0  \n",
       "15 Colore - AUTONOMIA FIDO          241      0  \n",
       "16 Colore - FIDO RIDOTTO             43      0  \n",
       "17 Colore - APPLICAZIONE CON CAUSAL  64      0  \n",
       "18 Colore - SCADUTO > 20%OUTSTANDIN  29      0  \n",
       "19 Colore - CR: UTILIZZATO > ACCORD   0     25  \n",
       "20 Colore - BILANCI :PATRIMONIO NET   0     40  \n",
       "21 Colore - BILANCI :DEBITI BANCARI   2      0  \n",
       "22 Colore - BILANCI :PASSIVO CORREN   0    129  \n",
       "23 Colore - DATA COSTITUZIONE         0     48  \n",
       "24 Colore - NUMERO INTERROGAZIONI    27      0  \n",
       "25 Colore - ATECO BKIT OBBLIGATORIO  11      0  "
      ]
     },
     "metadata": {},
     "output_type": "display_data"
    },
    {
     "data": {
      "image/png": "[encoded data removed]",
      "text/plain": [
       "plot without title"
      ]
     },
     "metadata": {
      "image/png": {
       "height": 420,
       "width": 480
      }
     },
     "output_type": "display_data"
    },
    {
     "data": {
      "image/png": "[encoded data removed]",
      "text/plain": [
       "plot without title"
      ]
     },
     "metadata": {
      "image/png": {
       "height": 420,
       "width": 480
      }
     },
     "output_type": "display_data"
    }
   ],
   "source": [
    "dt_color_conpred <- merge(dt_color,\n",
    "                          dt_sample_limsoc[,.(NUM_PRATICA,PROGRESS_PRATICA,pred_vpc,target,new_num_limiti)],\n",
    "                          by = c(\"NUM_PRATICA\",\"PROGRESS_PRATICA\"),\n",
    "                         all.x = TRUE)\n",
    "\n",
    "        dt_color_conpred[pred_vpc <= soglia_vg, tree_col_num := 3]\n",
    "        dt_color_conpred[pred_vpc > soglia_vg & pred_vpc <= soglia_gr, tree_col_num := 4]\n",
    "        dt_color_conpred[pred_vpc > soglia_gr, tree_col_num := 5]\n",
    "        dt_color_conpred[, col_new_limsoc := do.call(pmax, \n",
    "                                            c(.SD, list(na.rm = TRUE))), .SDcols=c('tree_col_num','new_num_limiti')]\n",
    "        dt_color_conpred[,col_new_vpc := \"VERDE\"]\n",
    "        dt_color_conpred[col_new_limsoc == 4,col_new_vpc := \"GIALLO\"]\n",
    "        dt_color_conpred[col_new_limsoc == 5,col_new_vpc := \"ROSSO\"]\n",
    "\n",
    "dt_analisi <- dt_color_conpred[col_new_vpc == \"VERDE\" & target == \"OK\" & ESITO_FINALE_VPC != \"VERDE\" ,..cols_color]\n",
    "\n",
    "dt_count <- rbindlist(lapply(colnames(dt_analisi), function(col){\n",
    "    \n",
    "    data.table(nome = col, giallo = nrow(dt_analisi[get(col)==4,]), rosso = nrow(dt_analisi[get(col)==5,]) )\n",
    "}))\n",
    "\n",
    "dt_count[giallo + rosso>0,]\n",
    "\n",
    "p<-ggplot(data=dt_count[giallo >0,], \n",
    "                      aes(x=reorder(nome,giallo), \n",
    "                          y=giallo)) + \n",
    "                geom_bar(stat=\"identity\", fill=\"gold\") + coord_flip()   +\n",
    "                geom_text(aes(label=round(100*giallo/nrow(dt_analisi),1)), hjust=0)\n",
    "\n",
    "            p\n",
    "\n",
    "ggsave(\n",
    "                filename = 'analisi_newverdi_bonis_gialli_co.png', \n",
    "                width = 300, height = 450,\n",
    "                units = \"mm\",\n",
    "                dpi = 320,\n",
    "                p\n",
    "            )\n",
    "\n",
    "p<-ggplot(data=dt_count[rosso >0,], \n",
    "                      aes(x=reorder(nome,giallo), \n",
    "                          y=giallo)) + \n",
    "                geom_bar(stat=\"identity\", fill=\"red3\") + coord_flip()  +\n",
    "                geom_text(aes(label=round(100*giallo/nrow(dt_analisi),1)), hjust=-0.1)\n",
    "\n",
    "            p\n",
    "ggsave(\n",
    "                filename = 'analisi_newverdi_bonis_rossi_co.png', \n",
    "                width = 300, height = 450,\n",
    "                units = \"mm\",\n",
    "                dpi = 320,\n",
    "                p\n",
    "            )"
   ]
  },
  {
   "cell_type": "code",
   "execution_count": null,
   "id": "renewable-bosnia",
   "metadata": {},
   "outputs": [],
   "source": []
  },
  {
   "cell_type": "markdown",
   "id": "nonprofit-virtue",
   "metadata": {},
   "source": [
    "## CROSS VALIDATION"
   ]
  },
  {
   "cell_type": "code",
   "execution_count": 159,
   "id": "selective-antenna",
   "metadata": {},
   "outputs": [
    {
     "name": "stdout",
     "output_type": "stream",
     "text": [
      "[1] 28913\n",
      "[1] 7229\n",
      "[1] 5\n"
     ]
    },
    {
     "name": "stderr",
     "output_type": "stream",
     "text": [
      "Warning message:\n",
      "“labs do not fit even at cex 0.15, there may be some overplotting”\n",
      "Using 'N' as value column. Use 'value.var' to override\n",
      "\n"
     ]
    },
    {
     "name": "stdout",
     "output_type": "stream",
     "text": [
      "[1] 0.7596543\n",
      "[1] 28913\n",
      "[1] 7229\n",
      "[1] 5\n"
     ]
    },
    {
     "name": "stderr",
     "output_type": "stream",
     "text": [
      "Warning message:\n",
      "“labs do not fit even at cex 0.15, there may be some overplotting”\n",
      "Using 'N' as value column. Use 'value.var' to override\n",
      "\n"
     ]
    },
    {
     "name": "stdout",
     "output_type": "stream",
     "text": [
      "[1] 0.8010749\n",
      "[1] 28913\n",
      "[1] 7229\n",
      "[1] 5\n"
     ]
    },
    {
     "name": "stderr",
     "output_type": "stream",
     "text": [
      "Warning message:\n",
      "“labs do not fit even at cex 0.15, there may be some overplotting”\n",
      "Using 'N' as value column. Use 'value.var' to override\n",
      "\n"
     ]
    },
    {
     "name": "stdout",
     "output_type": "stream",
     "text": [
      "[1] 0.7852466\n",
      "[1] 28913\n",
      "[1] 7229\n",
      "[1] 5\n"
     ]
    },
    {
     "name": "stderr",
     "output_type": "stream",
     "text": [
      "Warning message:\n",
      "“labs do not fit even at cex 0.15, there may be some overplotting”\n",
      "Using 'N' as value column. Use 'value.var' to override\n",
      "\n"
     ]
    },
    {
     "name": "stdout",
     "output_type": "stream",
     "text": [
      "[1] 0.8068256\n",
      "[1] 28913\n",
      "[1] 7229\n",
      "[1] 5\n"
     ]
    },
    {
     "name": "stderr",
     "output_type": "stream",
     "text": [
      "Warning message:\n",
      "“labs do not fit even at cex 0.15, there may be some overplotting”\n",
      "Using 'N' as value column. Use 'value.var' to override\n",
      "\n"
     ]
    },
    {
     "name": "stdout",
     "output_type": "stream",
     "text": [
      "[1] 0.7607779\n",
      "[1] 28913\n",
      "[1] 7229\n",
      "[1] 5\n"
     ]
    },
    {
     "name": "stderr",
     "output_type": "stream",
     "text": [
      "Warning message:\n",
      "“labs do not fit even at cex 0.15, there may be some overplotting”\n",
      "Using 'N' as value column. Use 'value.var' to override\n",
      "\n"
     ]
    },
    {
     "name": "stdout",
     "output_type": "stream",
     "text": [
      "[1] 0.8284488\n"
     ]
    }
   ],
   "source": [
    "lista_auc2 <- lapply(c(10311,33433,45343,651194,1244,4222), function(seed){\n",
    "    modello_nonsme <- compute_model(\n",
    "    master_modello_fill[flag_exante == 'NO',\n",
    "   # setdiff(colnames(master_modello_fill),c(lista_vars_na,cols_2rm,\"flag_exante\")),,with = FALSE\n",
    "                       ..cols_modello], seed = seed,\n",
    "    suffix=\"nonsme_variabili_isp_V3_arricchito\",minbuck= 0.0003, \n",
    "  # cols_2rm = c(\"EWS_ASIS\",'CRA_ADJ'),\n",
    "    use_surr =  1,perc_split = 0.80,desc = 'nonsme')\n",
    "    \n",
    "    \n",
    " dt_pred_tree <- merge(modello_nonsme$pred,unique(model_frame[type =='leaf',.(yval2.V4,type)]),by.x ='pred_vpc', by.y = 'yval2.V4', all.x = TRUE )\n",
    "   \n",
    "\n",
    "pred_test <- prediction(predict(modello_nonsme$model, dt_pred_tree, type=\"prob\")[, 2], dt_pred_tree$target)\n",
    "\n",
    "auc_ROCR <- performance(pred_test, measure = \"auc\")\n",
    "print(auc_ROCR@y.values[[1]])\n",
    "\n",
    "# plot(performance(pred_test, measure = \"tpr\", x.measure = \"fpr\"),)\n",
    "# abline(0, 1, lty = 2)\n",
    "png(paste0('cross_val/plot_nonsme', seed,'.jpg'))\n",
    "plot(x = performance(pred_test, measure = \"tpr\", x.measure = \"fpr\")@x.values[[1]],y = performance(pred_test, measure = \"tpr\", x.measure = \"fpr\")@y.values[[1]],type=\"p\", pch = 16,col = 'forestgreen',ylab = 'True positive rate',xlab = 'False positive rate', main=round(auc_ROCR@y.values[[1]],2))\n",
    "abline(0,1, lty = 2)\n",
    "dev.off()\n",
    "    return(auc_ROCR@y.values[[1]])\n",
    "})\n",
    "\n",
    "names(lista_auc2) <- c(10311,33433,45343,651194,1244,4222)"
   ]
  },
  {
   "cell_type": "code",
   "execution_count": 144,
   "id": "compatible-thesaurus",
   "metadata": {},
   "outputs": [
    {
     "data": {
      "text/html": [
       "0.800790897834343"
      ],
      "text/latex": [
       "0.800790897834343"
      ],
      "text/markdown": [
       "0.800790897834343"
      ],
      "text/plain": [
       "[1] 0.8007909"
      ]
     },
     "metadata": {},
     "output_type": "display_data"
    },
    {
     "data": {
      "text/html": [
       "<dl>\n",
       "\t<dt>$`10311`</dt>\n",
       "\t\t<dd>0.759654293372025</dd>\n",
       "\t<dt>$`33433`</dt>\n",
       "\t\t<dd>0.801074907625126</dd>\n",
       "\t<dt>$`45343`</dt>\n",
       "\t\t<dd>0.785246586792978</dd>\n",
       "\t<dt>$`651194`</dt>\n",
       "\t\t<dd>0.806825640779341</dd>\n",
       "\t<dt>$`1244`</dt>\n",
       "\t\t<dd>0.760777923354078</dd>\n",
       "\t<dt>$`4222`</dt>\n",
       "\t\t<dd>0.828448762631671</dd>\n",
       "</dl>\n"
      ],
      "text/latex": [
       "\\begin{description}\n",
       "\\item[\\$`10311`] 0.759654293372025\n",
       "\\item[\\$`33433`] 0.801074907625126\n",
       "\\item[\\$`45343`] 0.785246586792978\n",
       "\\item[\\$`651194`] 0.806825640779341\n",
       "\\item[\\$`1244`] 0.760777923354078\n",
       "\\item[\\$`4222`] 0.828448762631671\n",
       "\\end{description}\n"
      ],
      "text/markdown": [
       "$`10311`\n",
       ":   0.759654293372025\n",
       "$`33433`\n",
       ":   0.801074907625126\n",
       "$`45343`\n",
       ":   0.785246586792978\n",
       "$`651194`\n",
       ":   0.806825640779341\n",
       "$`1244`\n",
       ":   0.760777923354078\n",
       "$`4222`\n",
       ":   0.828448762631671\n",
       "\n",
       "\n"
      ],
      "text/plain": [
       "$`10311`\n",
       "[1] 0.7596543\n",
       "\n",
       "$`33433`\n",
       "[1] 0.8010749\n",
       "\n",
       "$`45343`\n",
       "[1] 0.7852466\n",
       "\n",
       "$`651194`\n",
       "[1] 0.8068256\n",
       "\n",
       "$`1244`\n",
       "[1] 0.7607779\n",
       "\n",
       "$`4222`\n",
       "[1] 0.8284488\n"
      ]
     },
     "metadata": {},
     "output_type": "display_data"
    }
   ],
   "source": [
    "#mean(unlist(lista_auc2))\n",
    "(sum(unlist(lista_auc2))-0.738073625383505)/(length(lista_auc2)-1)\n",
    "lista_auc2"
   ]
  },
  {
   "cell_type": "code",
   "execution_count": 158,
   "id": "noticed-anime",
   "metadata": {
    "scrolled": true
   },
   "outputs": [
    {
     "data": {
      "image/png": "[encoded data removed]",
      "text/plain": [
       "Plot with title “0.790051120580579”"
      ]
     },
     "metadata": {
      "image/png": {
       "height": 420,
       "width": 480
      }
     },
     "output_type": "display_data"
    }
   ],
   "source": [
    "plot(x = performance(pred_test, measure = \"tpr\", x.measure = \"fpr\")@x.values[[1]],y = performance(pred_test, measure = \"tpr\", x.measure = \"fpr\")@y.values[[1]],type=\"p\", pch = 16,col = 'forestgreen',ylab = 'True positive rate',xlab = 'False positive rate', main=auc_ROCR@y.values[[1]] )"
   ]
  },
  {
   "cell_type": "code",
   "execution_count": null,
   "id": "secret-diameter",
   "metadata": {},
   "outputs": [],
   "source": []
  },
  {
   "cell_type": "code",
   "execution_count": null,
   "id": "stylish-shame",
   "metadata": {},
   "outputs": [],
   "source": []
  },
  {
   "cell_type": "code",
   "execution_count": null,
   "id": "becoming-turkish",
   "metadata": {},
   "outputs": [],
   "source": [
    "# ### Check limiti societari\n",
    "\n",
    "# dt_sample_small <- dt_sample[,.(ESITO_FINALE_VPC,pred_vpc,target,NUM_PRATICA, PROGRESS_PRATICA)]\n",
    "\n",
    "# dt_sample_small[, col_new_vpc := \"giallo\"]\n",
    "# dt_sample_small[pred_vpc <= soglia_vg, col_new_vpc := \"verde\"]\n",
    "# dt_sample_small[pred_vpc > soglia_gr, col_new_vpc := \"rosso\"]\n",
    "\n",
    "# tab_perf <- table_soglie(dt_tree[type != 'other',],soglie = c(soglia_vg,soglia_gr))\n",
    "# setnames(tab_perf, c('DEFAULT',\"OK\",\"tot\",\"perc\"),paste0(\"new_\", c('default',\"ok\",\"tot\",\"perc\"))) \n",
    "\n",
    "# old_perf <-  performance_oldvpc(dt_sample)\n",
    "# setnames(old_perf, c('DEFAULT',\"OK\"),paste0(\"old_\", c('default',\"ok\"))) \n",
    "# old_perf\n",
    "\n",
    "# nrow(dt_sample_small[col_new_vpc == 'verde',])\n",
    "\n",
    "# perf_raw <- merge(tab_perf,\n",
    "#       old_perf,\n",
    "#       by = 'colore')\n",
    "# perf_raw\n",
    "\n",
    "# dt_sample_limsoc <- merge(dt_sample_small,\n",
    "#                          dt_orig[,.(NUM_PRATICA, PROGRESS_PRATICA,`Colore - LIMITI SOCIETARI`, `Esito_final_giallo e Monocontrollo_giallo`)],\n",
    "#                          by =c('NUM_PRATICA', 'PROGRESS_PRATICA'),\n",
    "#                          all.x = TRUE)\n",
    "\n",
    "# table(dt_sample_limsoc[grepl('LIMITI',`Esito_final_giallo e Monocontrollo_giallo`), target])\n",
    "\n",
    "# (nrow(dt_sample_limsoc[grepl('LIMITI',`Esito_final_giallo e Monocontrollo_giallo`) & target == \"DEFAULT\",]))\n",
    "# (nrow(dt_sample_limsoc[grepl('LIMITI',`Esito_final_giallo e Monocontrollo_giallo`) & target == \"OK\",]))\n",
    "\n",
    "# perf_ls <- copy(perf_raw)\n",
    "# perf_ls[colore == \"GIALLO\", old_default := old_default - (nrow(dt_sample_limsoc[grepl('LIMITI',`Esito_final_giallo e Monocontrollo_giallo`) & target == \"DEFAULT\",]))]\n",
    "# perf_ls[colore == \"GIALLO\", old_ok := old_ok - (nrow(dt_sample_limsoc[grepl('LIMITI',`Esito_final_giallo e Monocontrollo_giallo`) & target == \"OK\",]))]\n",
    "# perf_ls[,old_tot := old_default+old_ok]\n",
    "# perf_ls[,old_perc := round(100*old_default/old_tot,2)]\n",
    "\n",
    "# new_g_da_v_ok <- nrow(dt_sample_limsoc[col_new_vpc == 'verde' &`Colore - LIMITI SOCIETARI` == \"GIALLO\" & target == \"OK\",])\n",
    "\n",
    "# new_g_da_v_default<- nrow(dt_sample_limsoc[col_new_vpc == 'verde' &`Colore - LIMITI SOCIETARI` == \"GIALLO\" & target == \"DEFAULT\",])\n",
    "\n",
    "# new_r_da_v_ok<- nrow(dt_sample_limsoc[col_new_vpc == 'verde' &`Colore - LIMITI SOCIETARI` == \"ROSSO\" & target == \"OK\",])\n",
    "\n",
    "# new_r_da_v_default<- nrow(dt_sample_limsoc[col_new_vpc == 'verde' &`Colore - LIMITI SOCIETARI` == \"ROSSO\" & target == \"DEFAULT\",])\n",
    "\n",
    "# new_r_da_g_ok<- nrow(dt_sample_limsoc[col_new_vpc == 'giallo' &`Colore - LIMITI SOCIETARI` == \"ROSSO\" & target == \"OK\",])\n",
    "\n",
    "# new_r_da_g_default<- nrow(dt_sample_limsoc[col_new_vpc == 'giallo' &`Colore - LIMITI SOCIETARI` == \"ROSSO\" & target == \"DEFAULT\",])\n",
    "\n",
    "# perf_ls[colore == \"GIALLO\", new_default := new_default -new_r_da_g_default + new_g_da_v_default]\n",
    "# perf_ls[colore == \"GIALLO\", new_ok := new_ok - new_r_da_g_ok + new_g_da_v_ok]\n",
    "\n",
    "# perf_ls[colore == \"VERDE\", new_default := new_default - new_r_da_v_default - new_g_da_v_default]\n",
    "# perf_ls[colore == \"VERDE\", new_ok := new_ok  - new_r_da_v_ok - new_g_da_v_ok ]\n",
    "\n",
    "# perf_ls[colore == \"ROSSO\", new_default := new_default  + new_r_da_g_default + new_r_da_v_default]\n",
    "# perf_ls[colore == \"ROSSO\", new_ok := new_ok + new_r_da_g_ok + new_r_da_v_ok ]\n",
    "\n",
    "# perf_ls[,new_tot := new_default+new_ok]\n",
    "# perf_ls[,new_perc := round(100*new_default/new_tot,2)]\n",
    "\n",
    "# perf_ls\n",
    "\n",
    "\n",
    "\n",
    "# table(dt_sample_limsoc[col_new_vpc == \"verde\" & `Colore - LIMITI SOCIETARI` == \"GIALLO\", target])\n",
    "\n",
    "# table(dt_sample_limsoc[col_new_vpc == \"verde\" & `Colore - LIMITI SOCIETARI` == \"ROSSO\", target])\n",
    "\n",
    "# table(dt_sample_limsoc[col_new_vpc == \"giallo\",'Colore - LIMITI SOCIETARI'],useNA = 'always')\n",
    "\n",
    "# table(dt_sample_limsoc[col_new_vpc == \"giallo\" & `Colore - LIMITI SOCIETARI` == \"ROSSO\", target])\n",
    "\n",
    "# str(dt_sample_small)"
   ]
  }
 ],
 "metadata": {
  "kernelspec": {
   "display_name": "R",
   "language": "R",
   "name": "ir"
  },
  "language_info": {
   "codemirror_mode": "r",
   "file_extension": ".r",
   "mimetype": "text/x-r-source",
   "name": "R",
   "pygments_lexer": "r",
   "version": "4.0.3"
  },
  "toc": {
   "base_numbering": 1,
   "nav_menu": {},
   "number_sections": true,
   "sideBar": true,
   "skip_h1_title": false,
   "title_cell": "Table of Contents",
   "title_sidebar": "Contents",
   "toc_cell": false,
   "toc_position": {},
   "toc_section_display": true,
   "toc_window_display": true
  }
 },
 "nbformat": 4,
 "nbformat_minor": 5
}
