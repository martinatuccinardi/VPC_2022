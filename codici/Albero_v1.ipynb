{
 "cells": [
  {
   "cell_type": "code",
   "execution_count": 2,
   "id": "assisted-domestic",
   "metadata": {},
   "outputs": [
    {
     "name": "stderr",
     "output_type": "stream",
     "text": [
      "Loading required package: XML\n",
      "\n",
      "Loading required package: grid\n",
      "\n",
      "Loading required package: libcoin\n",
      "\n",
      "Loading required package: mvtnorm\n",
      "\n"
     ]
    }
   ],
   "source": [
    "\n",
    "library(readxl)\n",
    "library(readxlsb)\n",
    "library(data.table)\n",
    "library(rpart)\n",
    "library(rpart.plot)\n",
    "library(readxl)\n",
    "library(stringr)\n",
    "library(pmml)\n",
    "library(partykit)\n",
    "\n",
    "library(ranger)\n",
    "library(xgboost)\n",
    "library(ggplot2)\n",
    "library(ROCR)\n",
    "library(SHAPforxgboost)"
   ]
  },
  {
   "cell_type": "code",
   "execution_count": 3,
   "id": "regulated-quilt",
   "metadata": {},
   "outputs": [],
   "source": [
    "dt <- readRDS('../data/DB_perimetro.RDS')"
   ]
  },
  {
   "cell_type": "code",
   "execution_count": 105,
   "id": "blocked-electricity",
   "metadata": {},
   "outputs": [],
   "source": [
    "col_colore <- colnames(dt)[grepl('colore -',colnames(dt) )]"
   ]
  },
  {
   "cell_type": "code",
   "execution_count": 106,
   "id": "numerous-james",
   "metadata": {},
   "outputs": [],
   "source": [
    "col_esito <- colnames(dt)[grepl('esito -',colnames(dt) )]\n"
   ]
  },
  {
   "cell_type": "code",
   "execution_count": 107,
   "id": "italian-racing",
   "metadata": {},
   "outputs": [],
   "source": [
    "col_target <- c('rating_fine_periodo_adj','rating_fine_periodo_ricondotto',\n",
    "'rating_periodo_adj','rating_fine_periodo_adj','mean_of_rating_periodo_adj')"
   ]
  },
  {
   "cell_type": "code",
   "execution_count": 108,
   "id": "above-harassment",
   "metadata": {},
   "outputs": [],
   "source": [
    "c1<- c('stato_pratica','chiave_db','abi','abi_pef5','filiale_pef5','anno_pef5','progressivo_pef5',\n",
    "       'provenienza_pratica','descrizione_provenienza','data_delibera_o_annull_fido',\n",
    "       'annomese_delibera_o_annull_fido','condice_consociata','user_istruttoria','data_istruttoria',\n",
    "       'user_delibera','sndg_ceduto_old')"
   ]
  },
  {
   "cell_type": "code",
   "execution_count": 109,
   "id": "static-adapter",
   "metadata": {},
   "outputs": [],
   "source": [
    "c2<-c('macrosegmento_attuale','rating_attuale_ricondotto','cod_mod_bws_attuale',\n",
    "      'prima_data_attrib_primula','primo_segmento_primula','primo_modello_primula','primo_rating_primula',\n",
    "      'monopratica_o_monocolore','accordato_medio_pro_soluto','utilizzato_medio_pro_soluto',\n",
    "      'accordato_medio_prosolvendo','utilizzato_medio_prosolvendo','accordato_medio_altri_crediti',\n",
    "      'acc_operativo_medio_altri_credit','utilizzato_medio_altri_crediti','saldo_creditori_medio_altri_cred',\n",
    "      'accordato_medio_altro_fac','acc_oper_medio_altro_fact','utilizzato_medio_altro_fac',\n",
    "      'saldicredit_medio_altro_fac','data_richiesta','ragio_sociale_ceduto','ragio_sociale_cedente',\n",
    "      'id_cedente...34','conteggio_giallo_esito_finale_giallo','conteggio_rosso',\n",
    "      'appoggio - esito_final_giallo e monocontrollo_giallo',\n",
    "      'appoggio - esito_final_rosso e monocontrollo_rosso','esito_final_giallo e monocontrollo_giallo',\n",
    "      'esito_final_rosso e monocontrollo_rosso','flag_utilizzato=0','perimetro analisi descrittive',\n",
    "      'perimetro_finale_analisi td','perimetro_no_default_t0','perimetro_si_default_tfinal',\n",
    "      'cluster_operazione_concessa_applica','rating_appoggio','rating_appoggio2','rating',\n",
    "      'sag_appoggio','sag_appoggio2','sag','id_cedente_appoggio','id_cedente...228',\n",
    "      'chiave_limiti_soc','limite_max','cluster_finale_operazione_concessa_applica',\n",
    "      'sogg_estero_risk','macrosegmento_attuale lc','flag_univocita_cont_giallo',\n",
    "      'cluster_numerosità_contr_gialli','cluster_numerosità_contr_rossi',\n",
    "      'flag_univoco/compresenza_gialli','flag_imp_fido_orig_<limite','richiesto_vs_limite_v2',\n",
    "      'perimetro_standard','scarto_vs_limite','cluster_scarto','importo origi+appl concessa',\n",
    "      'cluster_rating_fascia','m3-m4','m1-m2','i5-i6','i4','i3','i1-i2','nuovi_verdi',\n",
    "      'nuovo_esito_finale','nuovi_verdi_senza_soglia','nuovo_esito_senza soglia')"
   ]
  },
  {
   "cell_type": "code",
   "execution_count": 110,
   "id": "steady-samoa",
   "metadata": {},
   "outputs": [],
   "source": [
    "c3 <- c('importo concesso applicazione','divisa concessa applicazione','tipo operazione concessa applica',\n",
    "        'quota prosoluto - importo','quota prosoluto - ft gf','quota prosoluto - ft pcr',\n",
    "        'quota prosolvendo - importo','quota prosolvendo - ft gf','quota prosolvendo - ft pcr',\n",
    "        'tipo operazione fido','importo fido','divisa fido','filiale_factoring_ceduto','filiale_cedente',\n",
    "        'settore_cedente','descrizione_settore','rae_cedente','rae_descr_cedente','sae_cedente',\n",
    "        'sae_descr_cedente','numero_tot_fidi','count_fidi_in_conferma','sum_import_fidi_concessione',\n",
    "        'sum_import_fidi_aumento','data_richiesta_fido','isr_data','isr_codice','isr_descrizione',\n",
    "        'data_perfez_contratto','semaforo_primo_livello','prefisso_mod_rating_ceduto',\n",
    "        'modello_rating_ceduto','rating_ceduto','cib_bdt_cedente','prefisso_mod_rating_cedente',\n",
    "        'modello_rating_cedente','rating_cedente','sag_ceduto','sag_cedente','flag_ubi_factor')"
   ]
  },
  {
   "cell_type": "code",
   "execution_count": 111,
   "id": "legitimate-sauce",
   "metadata": {},
   "outputs": [],
   "source": [
    "c4 <- c('pratica_testo','flag_monofido','presenza_fido_580_590','presenza_fido_580_590_c',\n",
    "        'congruenza_prodotto_fido','flag_applicazione_univoca','flag_finale','istruttore','deliberante',\n",
    "        'sndg_ceduto_new','flag_ditta_individuale','sndg_ceduto','tipo_valutazione_del_ceduto',\n",
    "        'flag_valutazione_vpc_sul_ceduto','flag_presenza_sndg_ceduto','presenza_rating','rating_inizio_periodo',\n",
    "        'periodo_osservazione_in_corso','dat_attr_rat_per_compreso','dat_attr_rat_t0','dat_attr_rat_per_finale',\n",
    "        'data_attr_rat_fine_per_0101160','data_attr_rat_fin_per_31122999','prima_data_attr_primula_per_ante',\n",
    "        'media_rating_per_ante','prima_data_attrib_prim_per_post','cod_segm_per_compreso','cod_segm_t0',\n",
    "        'cod_mod_bws_per_compreso','cod_mod_bws_t0','cod_classe_cra_per_compreso','cod_classe_cra_t0',\n",
    "        'cod_colore_classe_per_compreso','anno_delibera','mese_delibera','delta_fido_selezionato',\n",
    "        'deltafido580590_inv_prod','deltafido_capofila_non_580590')"
   ]
  },
  {
   "cell_type": "code",
   "execution_count": 112,
   "id": "broke-outreach",
   "metadata": {},
   "outputs": [],
   "source": [
    "cols <- setdiff(colnames(dt),c(col_colore,col_esito, c1,c2,c3,c4,col_target))\n",
    "names(cols)<-gsub(\"input - \",\"\",setdiff(colnames(dt),c(col_colore,col_esito, c1,c2,c3,c4,col_target)))\n",
    "names(cols)<- gsub(\"\\\\s+\",\"_\",gsub('[^a-zA-Z0-9]', \" \",names(cols)))"
   ]
  },
  {
   "cell_type": "code",
   "execution_count": 314,
   "id": "equivalent-portable",
   "metadata": {},
   "outputs": [],
   "source": [
    "dt_clean <- copy(dt[,..cols])\n",
    "colnames(dt_clean)<- names(cols)"
   ]
  },
  {
   "cell_type": "code",
   "execution_count": 315,
   "id": "incredible-director",
   "metadata": {},
   "outputs": [],
   "source": [
    "## elimino righe non in euro, sono poche (2) quindi non influiscono, altrimenti avrei dovuto fare la conversione degli importi per poterli confrontare\n",
    "dt_clean <- dt_clean[divisa_richiesta_applicazione =='EURO',]"
   ]
  },
  {
   "cell_type": "code",
   "execution_count": 316,
   "id": "impressive-radio",
   "metadata": {},
   "outputs": [],
   "source": [
    "dt_clean[,limiti_societari := gsub(\"\\\\.\",\" \",limiti_societari)]\n",
    "dt_clean[,limiti_societari := gsub(\":\",\" \",limiti_societari)]\n",
    "dt_clean[,limiti_societari := gsub(\"\\\\s+\",\" \",limiti_societari)]\n",
    "\n",
    "dt_clean[,ced := gsub(\".*CED (.+) SAG.*\", \"\\\\1\",limiti_societari )]\n",
    "dt_clean[,sag := gsub(\".*SAG (.+) RTNG.*\", \"\\\\1\",limiti_societari )]\n",
    "dt_clean[,rat := gsub(\".*RTNG (.+) ESC.*\", \"\\\\1\",limiti_societari )]\n",
    "dt_clean[,esc := gsub(\".*ESC (.+) RIS.*\", \"\\\\1\",limiti_societari )]\n",
    "dt_clean[,aput := ifelse(grepl(\"APPL\",limiti_societari),\n",
    "                         gsub(\".*APUT (.+) APPL.*\", \"\\\\1\",limiti_societari ),\n",
    "                         gsub(\".*APUT \", \"\\\\1\",limiti_societari ))]\n",
    "dt_clean[,aput := as.numeric(gsub(\",\",\".\",aput))]\n",
    "\n",
    "dt_clean[,ris := gsub(\".*RIS (.+) APUT.*\", \"\\\\1\",limiti_societari )]\n",
    "dt_clean[,ris := as.numeric(gsub(\",\",\".\",ris))]"
   ]
  },
  {
   "cell_type": "code",
   "execution_count": 317,
   "id": "stock-berlin",
   "metadata": {},
   "outputs": [],
   "source": [
    "dt_clean[,caus_caus_neg := gsub(\".*CAUS:(.+)STATO:.*\", \"\\\\1\",fido_con_causale_negativ )]\n",
    "dt_clean[,stato_caus_neg := gsub(\".*STATO:(.+)FIDO.*\", \"\\\\1\",fido_con_causale_negativ )]\n",
    "dt_clean[,tipo_caus_neg := gsub(\".*TIPO:\", \"\\\\1\",fido_con_causale_negativ )]"
   ]
  },
  {
   "cell_type": "code",
   "execution_count": 318,
   "id": "central-initial",
   "metadata": {},
   "outputs": [],
   "source": [
    "dt_clean[,limiti_societari_as_is := gsub(\"\\\\.\",\" \",limiti_societari_as_is)]\n",
    "dt_clean[,limiti_societari_as_is := gsub(\":\",\" \",limiti_societari_as_is)]\n",
    "dt_clean[,limiti_societari_as_is := gsub(\"\\\\s+\",\" \",limiti_societari_as_is)]\n",
    "\n",
    "dt_clean[,ced_as_is := gsub(\".*CED (.+) SAG.*\", \"\\\\1\",limiti_societari_as_is )]\n",
    "dt_clean[,sag_as_is := gsub(\".*SAG (.+) RTNG.*\", \"\\\\1\",limiti_societari_as_is )]\n",
    "dt_clean[,rat_as_is := gsub(\".*RTNG (.+) ESC.*\", \"\\\\1\",limiti_societari_as_is )]\n",
    "dt_clean[,escl_as_is := gsub(\".*ESCL\", \"\\\\1\",limiti_societari_as_is )]"
   ]
  },
  {
   "cell_type": "code",
   "execution_count": 319,
   "id": "pressing-junction",
   "metadata": {},
   "outputs": [],
   "source": [
    "dt_clean[,imprese_collegate_proce := gsub(\":\",\" \",imprese_collegate_proce)]\n",
    "dt_clean[,imprese_collegate_proce := gsub(\"\\\\s+\",\" \",imprese_collegate_proce)]\n",
    "\n",
    "dt_clean[,sensore_proc := gsub(\".*PROC(.+)STATO.*\", \"\\\\1\",imprese_collegate_proce )]\n",
    "dt_clean[,stato_soc := gsub(\".*SOC \", \"\\\\1\",imprese_collegate_proce )]\n"
   ]
  },
  {
   "cell_type": "code",
   "execution_count": 320,
   "id": "architectural-fifteen",
   "metadata": {},
   "outputs": [],
   "source": [
    "dt_clean[,approvato := gsub(\"\\\\s+\",\" \",approvato)]\n",
    "\n",
    "dt_clean[,approvato_dettaglio := gsub(\".*APPROVATO: (.+) APPL.*\", \"\\\\1\",approvato )]\n",
    "dt_clean[,appl_ric := gsub(\".*RIC: (.+) DA.*\", \"\\\\1\",approvato )]\n",
    "dt_clean[,da_sanare := gsub(\".*DA SANARE\", \"\\\\1\",approvato )]\n",
    "dt_clean[,approvato_dettaglio := as.numeric(gsub(\",\",\".\",approvato_dettaglio))]\n",
    "dt_clean[,appl_ric := as.numeric(gsub(\",\",\".\",appl_ric))]"
   ]
  },
  {
   "cell_type": "code",
   "execution_count": 321,
   "id": "respiratory-compound",
   "metadata": {},
   "outputs": [],
   "source": [
    "dt_clean[,cr_presenza_sofferenze := gsub(\"\\\\s+\",\" \",cr_presenza_sofferenze)]\n",
    "\n",
    "dt_clean[,cr_ps_acc := gsub(\".*ACC: (.+) UTI:.*\", \"\\\\1\",cr_presenza_sofferenze )]\n",
    "dt_clean[,cr_ps_acc := as.numeric(gsub(\",\",\".\",cr_ps_acc))]\n",
    "\n",
    "dt_clean[,cr_ps_uti := gsub(\".*UTI: (.+) SCO:.*\", \"\\\\1\",cr_presenza_sofferenze )]\n",
    "dt_clean[,cr_ps_uti := as.numeric(gsub(\",\",\".\",cr_ps_uti))]\n",
    "\n",
    "dt_clean[,cr_ps_sconf := gsub(\".*SCO:\", \"\\\\1\",cr_presenza_sofferenze )]\n",
    "dt_clean[,cr_ps_sconf := as.numeric(gsub(\",\",\".\",cr_ps_sconf))]"
   ]
  },
  {
   "cell_type": "code",
   "execution_count": 322,
   "id": "official-exhibit",
   "metadata": {},
   "outputs": [],
   "source": [
    "dt_clean[,cr_utilizzato_accorda := gsub(\"\\\\s+\",\" \",cr_utilizzato_accorda)]\n",
    "\n",
    "dt_clean[,cr_ua_acc := gsub(\".*ACC: (.+) TOT UTI:.*\", \"\\\\1\",cr_utilizzato_accorda )]\n",
    "dt_clean[,cr_ua_acc := as.numeric(gsub(\",\",\".\",cr_ua_acc))]\n",
    "\n",
    "dt_clean[,cr_ua_uti := gsub(\".*TOT UTI:\", \"\\\\1\",cr_utilizzato_accorda )]\n",
    "dt_clean[,cr_ua_uti := as.numeric(gsub(\",\",\".\",cr_ua_uti))]\n",
    "\n"
   ]
  },
  {
   "cell_type": "code",
   "execution_count": 323,
   "id": "sustainable-footage",
   "metadata": {},
   "outputs": [],
   "source": [
    "dt_clean[,scaduto_20_outstanding := gsub(\"\\\\s+\",\" \",scaduto_20_outstanding)]\n",
    "\n",
    "dt_clean[,scaduto_out_scad := gsub(\".*SCAD: (.+) TOT OUTS:.*\", \"\\\\1\",scaduto_20_outstanding )]\n",
    "dt_clean[,scaduto_out_scad := as.numeric(gsub(\",\",\".\",scaduto_out_scad))]\n",
    "\n",
    "dt_clean[,scaduto_out_outs := gsub(\".*TOT OUTS:\", \"\\\\1\",scaduto_20_outstanding )]\n",
    "dt_clean[,scaduto_out_outs := as.numeric(gsub(\",\",\".\",scaduto_out_outs))]\n",
    "\n"
   ]
  },
  {
   "cell_type": "code",
   "execution_count": 324,
   "id": "parental-strand",
   "metadata": {},
   "outputs": [],
   "source": [
    "dt_clean[,rat_cluster := rat]\n",
    "dt_clean[grepl('R',rat_cluster),rat_cluster := \"R\"]\n",
    "dt_clean[grepl('M',rat_cluster),rat_cluster := \"M\"]\n",
    "dt_clean[grepl('I',rat_cluster),rat_cluster := \"I\"]"
   ]
  },
  {
   "cell_type": "code",
   "execution_count": 325,
   "id": "representative-check",
   "metadata": {},
   "outputs": [],
   "source": [
    "dt_clean[,soggetto_cedente := gsub(\"[^0-9]\",\"\",soggetto_cedente)]\n",
    "dt_clean[,presenza_di_fidi_cedente := gsub(\"[^0-9]\",\"\",presenza_di_fidi_cedente)]\n",
    "dt_clean[,parte_correlata := gsub(\"[^0-9]\",\"\",parte_correlata)]"
   ]
  },
  {
   "cell_type": "code",
   "execution_count": 326,
   "id": "vulnerable-leone",
   "metadata": {},
   "outputs": [],
   "source": [
    "### controllo RIS in limiti societari, si parla con altre colonne di importo? NO\n",
    "\n",
    "# dt_clean[, c(col_master[grepl('imp',col_master)],'ris', 'limiti_societari'), with = FALSE]"
   ]
  },
  {
   "cell_type": "code",
   "execution_count": 327,
   "id": "divided-southeast",
   "metadata": {},
   "outputs": [],
   "source": [
    "## colonne che hanno un solo valore\n",
    "col_1_val <- lapply(colnames(dt_clean),function(x){\n",
    "    if(length(unique(unlist(dt_clean[, eval(x), with = FALSE])))<2){\n",
    "        return(x)\n",
    "    }else return(NULL)\n",
    "})\n",
    "\n",
    "col_1_val <- unlist(col_1_val)\n"
   ]
  },
  {
   "cell_type": "code",
   "execution_count": 328,
   "id": "polished-acquisition",
   "metadata": {},
   "outputs": [],
   "source": [
    "col_anagrafica <- c('num_pratica','progress_pratica','tipo_pratica','codice_fiscale_ceduto','ndg_ceduto',\n",
    "                    'andi_ndg_super','ndg_cedente','sndg_cedente','codice_fiscale_cedente','id_cedente',\n",
    "                    'ndg_settoriale_mancante','codice_fiscale_p_iva_no','codice_fiscale_gia_pres',\n",
    "                    'codice_fiscale_gia_0001','codice_fiscale_formalmen','confirming_codice_fisc')\n",
    "col_extra_to_rm <- c('importo_richiesto_ad','incongruenza_tra_localit','rae_descr_ceduto','sae_descr_ceduto','divisa_richiesta_applicazione',\n",
    "                     'rating_scaduto','fido_con_causale_negativ','data_stile_numerico','approvato','applicazione_con_causale','bilanci_passivo_corrent','stato_cedente')\n",
    "col_split <- c('limiti_societari','limiti_societari_as_is','scaduto_20_outstanding','cr_utilizzato_accorda','cr_presenza_sofferenze','imprese_collegate_proce')\n",
    "## applicazione_con_causale e bilanci_passivo_corrent vanno analizzate"
   ]
  },
  {
   "cell_type": "code",
   "execution_count": 329,
   "id": "placed-highlight",
   "metadata": {},
   "outputs": [],
   "source": [
    "col_master <- setdiff(colnames(dt_clean),c(col_anagrafica,col_extra_to_rm,col_1_val,col_split))"
   ]
  },
  {
   "cell_type": "code",
   "execution_count": 330,
   "id": "objective-storage",
   "metadata": {},
   "outputs": [
    {
     "data": {
      "text/html": [
       "<style>\n",
       ".list-inline {list-style: none; margin:0; padding: 0}\n",
       ".list-inline>li {display: inline-block}\n",
       ".list-inline>li:not(:last-child)::after {content: \"\\00b7\"; padding: 0 .5ex}\n",
       "</style>\n",
       "<ol class=list-inline><li>'importo_richiesto_applicazione'</li><li>'importo_richiesto_a_zero'</li><li>'importo_richiesto'</li><li>'importo_originale'</li><li>'importo_originario'</li><li>'import_origin_appl_prosoluto'</li><li>'import_origin_appl_prosolvendo'</li><li>'importo_fido_adj'</li></ol>\n"
      ],
      "text/latex": [
       "\\begin{enumerate*}\n",
       "\\item 'importo\\_richiesto\\_applicazione'\n",
       "\\item 'importo\\_richiesto\\_a\\_zero'\n",
       "\\item 'importo\\_richiesto'\n",
       "\\item 'importo\\_originale'\n",
       "\\item 'importo\\_originario'\n",
       "\\item 'import\\_origin\\_appl\\_prosoluto'\n",
       "\\item 'import\\_origin\\_appl\\_prosolvendo'\n",
       "\\item 'importo\\_fido\\_adj'\n",
       "\\end{enumerate*}\n"
      ],
      "text/markdown": [
       "1. 'importo_richiesto_applicazione'\n",
       "2. 'importo_richiesto_a_zero'\n",
       "3. 'importo_richiesto'\n",
       "4. 'importo_originale'\n",
       "5. 'importo_originario'\n",
       "6. 'import_origin_appl_prosoluto'\n",
       "7. 'import_origin_appl_prosolvendo'\n",
       "8. 'importo_fido_adj'\n",
       "\n",
       "\n"
      ],
      "text/plain": [
       "[1] \"importo_richiesto_applicazione\" \"importo_richiesto_a_zero\"      \n",
       "[3] \"importo_richiesto\"              \"importo_originale\"             \n",
       "[5] \"importo_originario\"             \"import_origin_appl_prosoluto\"  \n",
       "[7] \"import_origin_appl_prosolvendo\" \"importo_fido_adj\"              "
      ]
     },
     "metadata": {},
     "output_type": "display_data"
    }
   ],
   "source": [
    "col_master[grepl('imp',col_master)]"
   ]
  },
  {
   "cell_type": "code",
   "execution_count": 331,
   "id": "daily-spain",
   "metadata": {},
   "outputs": [],
   "source": [
    "master <- dt_clean[,..col_master]\n",
    "master<- master[,which(unlist(lapply(master, function(x)!all(is.na(x))))),with=F]\n",
    "master<- master[,which(unlist(lapply(master, function(x)!all(is.na(x))))),with=F]\n",
    "master$target <- factor(master$target, levels = c('OK',\"DEFAULT\"))"
   ]
  },
  {
   "cell_type": "code",
   "execution_count": 332,
   "id": "advanced-rouge",
   "metadata": {},
   "outputs": [],
   "source": [
    "\n",
    "master <- cbind.data.frame(lapply(master, function(x) {\n",
    "  if (all(unique(x) %in% c(0,1)))\n",
    "    as.factor(c(\"NO\", \"YES\")[x+1])\n",
    "  else if (all(is.character(x)))\n",
    "    as.factor(x)\n",
    "  else\n",
    "    x\n",
    "}))\n",
    "setDT(master)"
   ]
  },
  {
   "cell_type": "code",
   "execution_count": 421,
   "id": "danish-hanging",
   "metadata": {},
   "outputs": [],
   "source": [
    "set.seed(1704)\n",
    "rows <- sample(1:nrow(master), 100000, replace=F)\n",
    "modello2 <- rpart(target ~. ,\n",
    "                data=master[rows,],\n",
    "                method=\"class\", control=rpart.control(cp = 1e-2))#metodo class o anova "
   ]
  },
  {
   "cell_type": "code",
   "execution_count": 422,
   "id": "structural-fever",
   "metadata": {},
   "outputs": [
    {
     "data": {
      "text/plain": [
       "n= 100000 \n",
       "\n",
       "node), split, n, loss, yval, (yprob)\n",
       "      * denotes terminal node\n",
       "\n",
       " 1) root 100000 3098 OK (0.969020000 0.030980000)  \n",
       "   2) rating_attuale=I1,I1.B,I1.C,I1.D,I1.E,I2,I3,I4,I5,I6,M1,M2,M3,M4,R1,R2,R3,R4,RT01,RT02,RT03,RT04,RT05,RT06,RT07,RT08,RT09,RT10,RT11,RT12,RT13,RT14 92535  685 OK (0.992597396 0.007402604) *\n",
       "   3) rating_attuale=D,R5,UR 7465 2413 OK (0.676758205 0.323241795)  \n",
       "     6) rating_medio_post_stipula>=0.3333333 6402 1682 OK (0.737269603 0.262730397)  \n",
       "      12) rating_attuale=R5,UR 3337  506 OK (0.848366797 0.151633203)  \n",
       "        24) rating_medio_post_stipula< 15.4881 2000  139 OK (0.930500000 0.069500000) *\n",
       "        25) rating_medio_post_stipula>=15.4881 1337  367 OK (0.725504862 0.274495138)  \n",
       "          50) rating_medio_post_stipula>=15.94868 1001  137 OK (0.863136863 0.136863137) *\n",
       "          51) rating_medio_post_stipula< 15.94868 336  106 DEFAULT (0.315476190 0.684523810) *\n",
       "      13) rating_attuale=D 3065 1176 OK (0.616313214 0.383686786)  \n",
       "        26) ced=398188884,398422010 2057  616 OK (0.700534759 0.299465241) *\n",
       "        27) ced=398202022,398388911,398445736,398501692 1008  448 DEFAULT (0.444444444 0.555555556) *\n",
       "     7) rating_medio_post_stipula< 0.3333333 1063  332 DEFAULT (0.312323612 0.687676388)  \n",
       "      14) macrosegmentot0=Corporate,Sme Corporate,Sme Retail 175   12 OK (0.931428571 0.068571429) *\n",
       "      15) macrosegmentot0=Altro 888  169 DEFAULT (0.190315315 0.809684685)  \n",
       "        30) sae_ceduto=102,167,173,177,245,248,259,273,288,294,432,481,490 68    1 OK (0.985294118 0.014705882) *\n",
       "        31) sae_ceduto=280,430,450,480,482,491,492,501,600,614,615 820  102 DEFAULT (0.124390244 0.875609756) *"
      ]
     },
     "metadata": {},
     "output_type": "display_data"
    }
   ],
   "source": [
    "modello2"
   ]
  },
  {
   "cell_type": "code",
   "execution_count": 423,
   "id": "thermal-knock",
   "metadata": {},
   "outputs": [
    {
     "data": {
      "text/html": [
       "<strong>pdf:</strong> 2"
      ],
      "text/latex": [
       "\\textbf{pdf:} 2"
      ],
      "text/markdown": [
       "**pdf:** 2"
      ],
      "text/plain": [
       "pdf \n",
       "  2 "
      ]
     },
     "metadata": {},
     "output_type": "display_data"
    }
   ],
   "source": [
    "options(repr.plot.width=8, repr.plot.height=7)\n",
    "pdf('prova2.pdf')\n",
    "rpart.plot(modello2, type=2, fallen.leaves=F, yesno=2, extra = 107,box.palette=\"-RdGn\")\n",
    "dev.off()"
   ]
  },
  {
   "cell_type": "code",
   "execution_count": 424,
   "id": "simplified-geneva",
   "metadata": {},
   "outputs": [],
   "source": [
    "pmod2 <- pmml(modello2, model_name = \"VPC Tree Model\",\n",
    "app_name = NULL,\n",
    "description = NULL,\n",
    "copyright = NULL)"
   ]
  },
  {
   "cell_type": "code",
   "execution_count": 425,
   "id": "selected-square",
   "metadata": {},
   "outputs": [
    {
     "data": {
      "text/html": [
       "'tree_v2.xml'"
      ],
      "text/latex": [
       "'tree\\_v2.xml'"
      ],
      "text/markdown": [
       "'tree_v2.xml'"
      ],
      "text/plain": [
       "[1] \"tree_v2.xml\""
      ]
     },
     "metadata": {},
     "output_type": "display_data"
    }
   ],
   "source": [
    "saveXML(pmod2, file=\"tree_v2.xml\")"
   ]
  },
  {
   "cell_type": "code",
   "execution_count": 426,
   "id": "delayed-bottom",
   "metadata": {},
   "outputs": [
    {
     "data": {
      "text/plain": [
       "                     target\n",
       "pred_vpc                 OK DEFAULT\n",
       "  0.00740260441994921 33111     237\n",
       "  0.0147058823529412     19       1\n",
       "  0.0685714285714286     53       3\n",
       "  0.0695                683      54\n",
       "  0.136863136863137     335      54\n",
       "  0.299465240641711     553     228\n",
       "  0.555555555555556     145     169\n",
       "  0.68452380952381       38      86\n",
       "  0.875609756097561      48     271"
      ]
     },
     "metadata": {},
     "output_type": "display_data"
    }
   ],
   "source": [
    "pred_mod2<- predict(modello2,master[-rows,])\n",
    "pred_mod2<- as.data.table(pred_mod2)\n",
    "\n",
    "dt_appo_pred <- master[-rows,] \n",
    "dt_appo_pred$pred_vpc <- pred_mod2$DEFAULT\n",
    "\n",
    "table(dt_appo_pred[,c('pred_vpc','target')])"
   ]
  },
  {
   "cell_type": "code",
   "execution_count": 427,
   "id": "enormous-hampshire",
   "metadata": {},
   "outputs": [
    {
     "data": {
      "text/plain": [
       "       \n",
       "           OK DEFAULT\n",
       "  FALSE 34201     349\n",
       "  TRUE    784     754"
      ]
     },
     "metadata": {},
     "output_type": "display_data"
    }
   ],
   "source": [
    "table(pred_mod2[,2]>0.25,master[-rows,target] )"
   ]
  },
  {
   "cell_type": "code",
   "execution_count": 428,
   "id": "enabling-salon",
   "metadata": {},
   "outputs": [
    {
     "data": {
      "text/html": [
       "1103"
      ],
      "text/latex": [
       "1103"
      ],
      "text/markdown": [
       "1103"
      ],
      "text/plain": [
       "[1] 1103"
      ]
     },
     "metadata": {},
     "output_type": "display_data"
    }
   ],
   "source": [
    "nrow(master[-rows,][target == 'DEFAULT',])"
   ]
  },
  {
   "cell_type": "code",
   "execution_count": 429,
   "id": "unlike-analysis",
   "metadata": {},
   "outputs": [
    {
     "data": {
      "text/plain": [
       "\n",
       "  D   I   M   R \n",
       "  2  12  27 246 "
      ]
     },
     "metadata": {},
     "output_type": "display_data"
    }
   ],
   "source": [
    "table(dt_appo_pred[pred_vpc <0.1 & target == \"DEFAULT\",rat_cluster])"
   ]
  },
  {
   "cell_type": "code",
   "execution_count": 389,
   "id": "radical-wisdom",
   "metadata": {},
   "outputs": [
    {
     "data": {
      "text/html": [
       "<style>\n",
       ".list-inline {list-style: none; margin:0; padding: 0}\n",
       ".list-inline>li {display: inline-block}\n",
       ".list-inline>li:not(:last-child)::after {content: \"\\00b7\"; padding: 0 .5ex}\n",
       "</style>\n",
       "<ol class=list-inline><li>'settore_ceduto'</li><li>'divisione_ceduto'</li><li>'tipo_applicazione'</li><li>'importo_richiesto_applicazione'</li><li>'tipo_operazione_richiesta_applic'</li><li>'ft_factoring'</li><li>'tipologia_ft_factoring_continua'</li><li>'indicatore_se_fido_capofila_o_pr'</li><li>'descr_stato_cedente'</li><li>'esito_finale_vpc'</li><li>'cedente_revocato'</li><li>'cedente_travel'</li><li>'soggetto_estero'</li><li>'tipo_operazione_riduzion'</li><li>'importo_richiesto_a_zero'</li><li>'soggetto_eepp'</li><li>'stato_sab'</li><li>'parte_correlata'</li><li>'presenza_di_fidi_cedente'</li><li>'soggetto_cedente'</li><li>'rapporti_in_osservazione'</li><li>'stato_societario'</li><li>'protesti_certi'</li><li>'protesti_dubbi'</li><li>'fallimenti_certi'</li><li>'pregiudizievoli_gravi'</li><li>'ateco_bkit_obbligatorio'</li><li>'timeout_scaduto1'</li><li>'nessuna_posizione_incroc'</li><li>'inserimento_non_consenti'</li><li>'timeout_scaduto2'</li><li>'timeout_scaduto3'</li><li>'errore_generico_risotto'</li><li>'importo_richiesto'</li><li>'right_num_pratica'</li><li>'right_progress_pratica'</li><li>'rae_ceduto'</li><li>'sae_ceduto'</li><li>'importo_originale'</li><li>'polizza_diretta_39_'</li><li>'polizza_indiretta_41_'</li><li>'tipologia_ft_factoring_continu2'</li><li>'importo_originario'</li><li>'import_origin_appl_prosoluto'</li><li>'import_origin_appl_prosolvendo'</li><li>'rating_medio_post_stipula'</li><li>'cod_colore_classe_t0'</li><li>'rating_attuale'</li><li>'cod_prov_attuale'</li><li>'importo_fido_adj'</li><li>'numerofidi_pratica'</li><li>'delta_applicazione'</li><li>'tipo_operazione_fido_aggregato'</li><li>'tipo_operaz_concessa_appl_aggreg'</li><li>'rating_iniz_periodo_ricondotto'</li><li>'macrosegmentot0'</li><li>'macrosegmento_per_compreso'</li><li>'target'</li><li>'ced'</li><li>'sag'</li><li>'rat'</li><li>'esc'</li><li>'aput'</li><li>'ris'</li><li>'caus_caus_neg'</li><li>'stato_caus_neg'</li><li>'tipo_caus_neg'</li><li>'ced_as_is'</li><li>'sag_as_is'</li><li>'rat_as_is'</li><li>'escl_as_is'</li><li>'sensore_proc'</li><li>'stato_soc'</li><li>'approvato_dettaglio'</li><li>'appl_ric'</li><li>'da_sanare'</li><li>'cr_ps_acc'</li><li>'cr_ps_uti'</li><li>'cr_ua_acc'</li><li>'cr_ua_uti'</li><li>'scaduto_out_scad'</li><li>'scaduto_out_outs'</li><li>'rat_cluster'</li></ol>\n"
      ],
      "text/latex": [
       "\\begin{enumerate*}\n",
       "\\item 'settore\\_ceduto'\n",
       "\\item 'divisione\\_ceduto'\n",
       "\\item 'tipo\\_applicazione'\n",
       "\\item 'importo\\_richiesto\\_applicazione'\n",
       "\\item 'tipo\\_operazione\\_richiesta\\_applic'\n",
       "\\item 'ft\\_factoring'\n",
       "\\item 'tipologia\\_ft\\_factoring\\_continua'\n",
       "\\item 'indicatore\\_se\\_fido\\_capofila\\_o\\_pr'\n",
       "\\item 'descr\\_stato\\_cedente'\n",
       "\\item 'esito\\_finale\\_vpc'\n",
       "\\item 'cedente\\_revocato'\n",
       "\\item 'cedente\\_travel'\n",
       "\\item 'soggetto\\_estero'\n",
       "\\item 'tipo\\_operazione\\_riduzion'\n",
       "\\item 'importo\\_richiesto\\_a\\_zero'\n",
       "\\item 'soggetto\\_eepp'\n",
       "\\item 'stato\\_sab'\n",
       "\\item 'parte\\_correlata'\n",
       "\\item 'presenza\\_di\\_fidi\\_cedente'\n",
       "\\item 'soggetto\\_cedente'\n",
       "\\item 'rapporti\\_in\\_osservazione'\n",
       "\\item 'stato\\_societario'\n",
       "\\item 'protesti\\_certi'\n",
       "\\item 'protesti\\_dubbi'\n",
       "\\item 'fallimenti\\_certi'\n",
       "\\item 'pregiudizievoli\\_gravi'\n",
       "\\item 'ateco\\_bkit\\_obbligatorio'\n",
       "\\item 'timeout\\_scaduto1'\n",
       "\\item 'nessuna\\_posizione\\_incroc'\n",
       "\\item 'inserimento\\_non\\_consenti'\n",
       "\\item 'timeout\\_scaduto2'\n",
       "\\item 'timeout\\_scaduto3'\n",
       "\\item 'errore\\_generico\\_risotto'\n",
       "\\item 'importo\\_richiesto'\n",
       "\\item 'right\\_num\\_pratica'\n",
       "\\item 'right\\_progress\\_pratica'\n",
       "\\item 'rae\\_ceduto'\n",
       "\\item 'sae\\_ceduto'\n",
       "\\item 'importo\\_originale'\n",
       "\\item 'polizza\\_diretta\\_39\\_'\n",
       "\\item 'polizza\\_indiretta\\_41\\_'\n",
       "\\item 'tipologia\\_ft\\_factoring\\_continu2'\n",
       "\\item 'importo\\_originario'\n",
       "\\item 'import\\_origin\\_appl\\_prosoluto'\n",
       "\\item 'import\\_origin\\_appl\\_prosolvendo'\n",
       "\\item 'rating\\_medio\\_post\\_stipula'\n",
       "\\item 'cod\\_colore\\_classe\\_t0'\n",
       "\\item 'rating\\_attuale'\n",
       "\\item 'cod\\_prov\\_attuale'\n",
       "\\item 'importo\\_fido\\_adj'\n",
       "\\item 'numerofidi\\_pratica'\n",
       "\\item 'delta\\_applicazione'\n",
       "\\item 'tipo\\_operazione\\_fido\\_aggregato'\n",
       "\\item 'tipo\\_operaz\\_concessa\\_appl\\_aggreg'\n",
       "\\item 'rating\\_iniz\\_periodo\\_ricondotto'\n",
       "\\item 'macrosegmentot0'\n",
       "\\item 'macrosegmento\\_per\\_compreso'\n",
       "\\item 'target'\n",
       "\\item 'ced'\n",
       "\\item 'sag'\n",
       "\\item 'rat'\n",
       "\\item 'esc'\n",
       "\\item 'aput'\n",
       "\\item 'ris'\n",
       "\\item 'caus\\_caus\\_neg'\n",
       "\\item 'stato\\_caus\\_neg'\n",
       "\\item 'tipo\\_caus\\_neg'\n",
       "\\item 'ced\\_as\\_is'\n",
       "\\item 'sag\\_as\\_is'\n",
       "\\item 'rat\\_as\\_is'\n",
       "\\item 'escl\\_as\\_is'\n",
       "\\item 'sensore\\_proc'\n",
       "\\item 'stato\\_soc'\n",
       "\\item 'approvato\\_dettaglio'\n",
       "\\item 'appl\\_ric'\n",
       "\\item 'da\\_sanare'\n",
       "\\item 'cr\\_ps\\_acc'\n",
       "\\item 'cr\\_ps\\_uti'\n",
       "\\item 'cr\\_ua\\_acc'\n",
       "\\item 'cr\\_ua\\_uti'\n",
       "\\item 'scaduto\\_out\\_scad'\n",
       "\\item 'scaduto\\_out\\_outs'\n",
       "\\item 'rat\\_cluster'\n",
       "\\end{enumerate*}\n"
      ],
      "text/markdown": [
       "1. 'settore_ceduto'\n",
       "2. 'divisione_ceduto'\n",
       "3. 'tipo_applicazione'\n",
       "4. 'importo_richiesto_applicazione'\n",
       "5. 'tipo_operazione_richiesta_applic'\n",
       "6. 'ft_factoring'\n",
       "7. 'tipologia_ft_factoring_continua'\n",
       "8. 'indicatore_se_fido_capofila_o_pr'\n",
       "9. 'descr_stato_cedente'\n",
       "10. 'esito_finale_vpc'\n",
       "11. 'cedente_revocato'\n",
       "12. 'cedente_travel'\n",
       "13. 'soggetto_estero'\n",
       "14. 'tipo_operazione_riduzion'\n",
       "15. 'importo_richiesto_a_zero'\n",
       "16. 'soggetto_eepp'\n",
       "17. 'stato_sab'\n",
       "18. 'parte_correlata'\n",
       "19. 'presenza_di_fidi_cedente'\n",
       "20. 'soggetto_cedente'\n",
       "21. 'rapporti_in_osservazione'\n",
       "22. 'stato_societario'\n",
       "23. 'protesti_certi'\n",
       "24. 'protesti_dubbi'\n",
       "25. 'fallimenti_certi'\n",
       "26. 'pregiudizievoli_gravi'\n",
       "27. 'ateco_bkit_obbligatorio'\n",
       "28. 'timeout_scaduto1'\n",
       "29. 'nessuna_posizione_incroc'\n",
       "30. 'inserimento_non_consenti'\n",
       "31. 'timeout_scaduto2'\n",
       "32. 'timeout_scaduto3'\n",
       "33. 'errore_generico_risotto'\n",
       "34. 'importo_richiesto'\n",
       "35. 'right_num_pratica'\n",
       "36. 'right_progress_pratica'\n",
       "37. 'rae_ceduto'\n",
       "38. 'sae_ceduto'\n",
       "39. 'importo_originale'\n",
       "40. 'polizza_diretta_39_'\n",
       "41. 'polizza_indiretta_41_'\n",
       "42. 'tipologia_ft_factoring_continu2'\n",
       "43. 'importo_originario'\n",
       "44. 'import_origin_appl_prosoluto'\n",
       "45. 'import_origin_appl_prosolvendo'\n",
       "46. 'rating_medio_post_stipula'\n",
       "47. 'cod_colore_classe_t0'\n",
       "48. 'rating_attuale'\n",
       "49. 'cod_prov_attuale'\n",
       "50. 'importo_fido_adj'\n",
       "51. 'numerofidi_pratica'\n",
       "52. 'delta_applicazione'\n",
       "53. 'tipo_operazione_fido_aggregato'\n",
       "54. 'tipo_operaz_concessa_appl_aggreg'\n",
       "55. 'rating_iniz_periodo_ricondotto'\n",
       "56. 'macrosegmentot0'\n",
       "57. 'macrosegmento_per_compreso'\n",
       "58. 'target'\n",
       "59. 'ced'\n",
       "60. 'sag'\n",
       "61. 'rat'\n",
       "62. 'esc'\n",
       "63. 'aput'\n",
       "64. 'ris'\n",
       "65. 'caus_caus_neg'\n",
       "66. 'stato_caus_neg'\n",
       "67. 'tipo_caus_neg'\n",
       "68. 'ced_as_is'\n",
       "69. 'sag_as_is'\n",
       "70. 'rat_as_is'\n",
       "71. 'escl_as_is'\n",
       "72. 'sensore_proc'\n",
       "73. 'stato_soc'\n",
       "74. 'approvato_dettaglio'\n",
       "75. 'appl_ric'\n",
       "76. 'da_sanare'\n",
       "77. 'cr_ps_acc'\n",
       "78. 'cr_ps_uti'\n",
       "79. 'cr_ua_acc'\n",
       "80. 'cr_ua_uti'\n",
       "81. 'scaduto_out_scad'\n",
       "82. 'scaduto_out_outs'\n",
       "83. 'rat_cluster'\n",
       "\n",
       "\n"
      ],
      "text/plain": [
       " [1] \"settore_ceduto\"                   \"divisione_ceduto\"                \n",
       " [3] \"tipo_applicazione\"                \"importo_richiesto_applicazione\"  \n",
       " [5] \"tipo_operazione_richiesta_applic\" \"ft_factoring\"                    \n",
       " [7] \"tipologia_ft_factoring_continua\"  \"indicatore_se_fido_capofila_o_pr\"\n",
       " [9] \"descr_stato_cedente\"              \"esito_finale_vpc\"                \n",
       "[11] \"cedente_revocato\"                 \"cedente_travel\"                  \n",
       "[13] \"soggetto_estero\"                  \"tipo_operazione_riduzion\"        \n",
       "[15] \"importo_richiesto_a_zero\"         \"soggetto_eepp\"                   \n",
       "[17] \"stato_sab\"                        \"parte_correlata\"                 \n",
       "[19] \"presenza_di_fidi_cedente\"         \"soggetto_cedente\"                \n",
       "[21] \"rapporti_in_osservazione\"         \"stato_societario\"                \n",
       "[23] \"protesti_certi\"                   \"protesti_dubbi\"                  \n",
       "[25] \"fallimenti_certi\"                 \"pregiudizievoli_gravi\"           \n",
       "[27] \"ateco_bkit_obbligatorio\"          \"timeout_scaduto1\"                \n",
       "[29] \"nessuna_posizione_incroc\"         \"inserimento_non_consenti\"        \n",
       "[31] \"timeout_scaduto2\"                 \"timeout_scaduto3\"                \n",
       "[33] \"errore_generico_risotto\"          \"importo_richiesto\"               \n",
       "[35] \"right_num_pratica\"                \"right_progress_pratica\"          \n",
       "[37] \"rae_ceduto\"                       \"sae_ceduto\"                      \n",
       "[39] \"importo_originale\"                \"polizza_diretta_39_\"             \n",
       "[41] \"polizza_indiretta_41_\"            \"tipologia_ft_factoring_continu2\" \n",
       "[43] \"importo_originario\"               \"import_origin_appl_prosoluto\"    \n",
       "[45] \"import_origin_appl_prosolvendo\"   \"rating_medio_post_stipula\"       \n",
       "[47] \"cod_colore_classe_t0\"             \"rating_attuale\"                  \n",
       "[49] \"cod_prov_attuale\"                 \"importo_fido_adj\"                \n",
       "[51] \"numerofidi_pratica\"               \"delta_applicazione\"              \n",
       "[53] \"tipo_operazione_fido_aggregato\"   \"tipo_operaz_concessa_appl_aggreg\"\n",
       "[55] \"rating_iniz_periodo_ricondotto\"   \"macrosegmentot0\"                 \n",
       "[57] \"macrosegmento_per_compreso\"       \"target\"                          \n",
       "[59] \"ced\"                              \"sag\"                             \n",
       "[61] \"rat\"                              \"esc\"                             \n",
       "[63] \"aput\"                             \"ris\"                             \n",
       "[65] \"caus_caus_neg\"                    \"stato_caus_neg\"                  \n",
       "[67] \"tipo_caus_neg\"                    \"ced_as_is\"                       \n",
       "[69] \"sag_as_is\"                        \"rat_as_is\"                       \n",
       "[71] \"escl_as_is\"                       \"sensore_proc\"                    \n",
       "[73] \"stato_soc\"                        \"approvato_dettaglio\"             \n",
       "[75] \"appl_ric\"                         \"da_sanare\"                       \n",
       "[77] \"cr_ps_acc\"                        \"cr_ps_uti\"                       \n",
       "[79] \"cr_ua_acc\"                        \"cr_ua_uti\"                       \n",
       "[81] \"scaduto_out_scad\"                 \"scaduto_out_outs\"                \n",
       "[83] \"rat_cluster\"                     "
      ]
     },
     "metadata": {},
     "output_type": "display_data"
    }
   ],
   "source": [
    "colnames(master)"
   ]
  },
  {
   "cell_type": "code",
   "execution_count": null,
   "id": "brutal-vacuum",
   "metadata": {},
   "outputs": [],
   "source": []
  },
  {
   "cell_type": "code",
   "execution_count": null,
   "id": "hollow-checkout",
   "metadata": {},
   "outputs": [],
   "source": []
  },
  {
   "cell_type": "code",
   "execution_count": null,
   "id": "educated-policy",
   "metadata": {},
   "outputs": [],
   "source": []
  },
  {
   "cell_type": "code",
   "execution_count": 310,
   "id": "sublime-cliff",
   "metadata": {},
   "outputs": [
    {
     "data": {
      "text/html": [
       "<style>\n",
       ".list-inline {list-style: none; margin:0; padding: 0}\n",
       ".list-inline>li {display: inline-block}\n",
       ".list-inline>li:not(:last-child)::after {content: \"\\00b7\"; padding: 0 .5ex}\n",
       "</style>\n",
       "<ol class=list-inline><li>NA</li><li>' '</li><li>' PP '</li><li>' PC '</li><li>' ER '</li><li>' ND '</li></ol>\n"
      ],
      "text/latex": [
       "\\begin{enumerate*}\n",
       "\\item NA\n",
       "\\item ' '\n",
       "\\item ' PP '\n",
       "\\item ' PC '\n",
       "\\item ' ER '\n",
       "\\item ' ND '\n",
       "\\end{enumerate*}\n"
      ],
      "text/markdown": [
       "1. NA\n",
       "2. ' '\n",
       "3. ' PP '\n",
       "4. ' PC '\n",
       "5. ' ER '\n",
       "6. ' ND '\n",
       "\n",
       "\n"
      ],
      "text/plain": [
       "[1] NA     \" \"    \" PP \" \" PC \" \" ER \" \" ND \""
      ]
     },
     "metadata": {},
     "output_type": "display_data"
    }
   ],
   "source": [
    "unique(gsub(\".*PROC(.+)STATO.*\", \"\\\\1\",dt_clean$imprese_collegate_proce ))"
   ]
  },
  {
   "cell_type": "code",
   "execution_count": 313,
   "id": "valuable-wages",
   "metadata": {},
   "outputs": [
    {
     "data": {
      "text/html": [
       "<table class=\"dataframe\">\n",
       "<caption>A data.table: 136088 × 154</caption>\n",
       "<thead>\n",
       "\t<tr><th scope=col>num_pratica</th><th scope=col>progress_pratica</th><th scope=col>tipo_pratica</th><th scope=col>codice_fiscale_ceduto</th><th scope=col>ndg_ceduto</th><th scope=col>andi_ndg_super</th><th scope=col>settore_ceduto</th><th scope=col>ndg_cedente</th><th scope=col>divisione_ceduto</th><th scope=col>tipo_applicazione</th><th scope=col>⋯</th><th scope=col>appl_ric</th><th scope=col>da_sanare</th><th scope=col>cr_ps_acc</th><th scope=col>cr_ps_uti</th><th scope=col>cr_ps_sconf</th><th scope=col>cr_ua_acc</th><th scope=col>cr_ua_uti</th><th scope=col>scaduto_out_scad</th><th scope=col>scaduto_out_outs</th><th scope=col>rat_cluster</th></tr>\n",
       "\t<tr><th scope=col>&lt;dbl&gt;</th><th scope=col>&lt;dbl&gt;</th><th scope=col>&lt;dbl&gt;</th><th scope=col>&lt;chr&gt;</th><th scope=col>&lt;chr&gt;</th><th scope=col>&lt;chr&gt;</th><th scope=col>&lt;chr&gt;</th><th scope=col>&lt;chr&gt;</th><th scope=col>&lt;chr&gt;</th><th scope=col>&lt;chr&gt;</th><th scope=col>⋯</th><th scope=col>&lt;dbl&gt;</th><th scope=col>&lt;chr&gt;</th><th scope=col>&lt;dbl&gt;</th><th scope=col>&lt;dbl&gt;</th><th scope=col>&lt;dbl&gt;</th><th scope=col>&lt;dbl&gt;</th><th scope=col>&lt;dbl&gt;</th><th scope=col>&lt;dbl&gt;</th><th scope=col>&lt;dbl&gt;</th><th scope=col>&lt;chr&gt;</th></tr>\n",
       "</thead>\n",
       "<tbody>\n",
       "\t<tr><td>102230026</td><td>1</td><td>3</td><td>9054770962      </td><td>4608870000000</td><td>NA              </td><td>18</td><td>6182450000000</td><td>BDT</td><td>PLAFOND</td><td>⋯</td><td>NA</td><td>NA</td><td>NA</td><td>NA</td><td>NA</td><td>NA</td><td>NA</td><td>NA</td><td>NA</td><td>R </td></tr>\n",
       "\t<tr><td>102230029</td><td>2</td><td>3</td><td>2695820304      </td><td>4495180000000</td><td>NA              </td><td>6 </td><td>3288980000000</td><td>BDT</td><td>PLAFOND</td><td>⋯</td><td>NA</td><td>NA</td><td>NA</td><td>NA</td><td>NA</td><td>NA</td><td>NA</td><td>NA</td><td>NA</td><td>R </td></tr>\n",
       "\t<tr><td>102230030</td><td>1</td><td>2</td><td>80002210104     </td><td>2012160000000</td><td>NA              </td><td>89</td><td>3288980000000</td><td>BDT</td><td>PLAFOND</td><td>⋯</td><td> 0</td><td>  </td><td>NA</td><td>NA</td><td>NA</td><td>NA</td><td>NA</td><td>NA</td><td>NA</td><td>NA</td></tr>\n",
       "\t<tr><td>102230031</td><td>1</td><td>3</td><td>3503350260      </td><td>3340210000000</td><td>NA              </td><td>6 </td><td>3288980000000</td><td>BDT</td><td>PLAFOND</td><td>⋯</td><td> 0</td><td>  </td><td>NA</td><td>NA</td><td>NA</td><td>NA</td><td>NA</td><td>NA</td><td>NA</td><td>I </td></tr>\n",
       "\t<tr><td>102230032</td><td>1</td><td>3</td><td>3679130264      </td><td>203665000000 </td><td>NA              </td><td>6 </td><td>3288980000000</td><td>BDT</td><td>PLAFOND</td><td>⋯</td><td> 0</td><td>  </td><td>NA</td><td>NA</td><td>NA</td><td>NA</td><td>NA</td><td>NA</td><td>NA</td><td>I </td></tr>\n",
       "\t<tr><td>102230034</td><td>1</td><td>2</td><td>3917900874      </td><td>202162000000 </td><td>NA              </td><td>6 </td><td>3288980000000</td><td>BDT</td><td>PLAFOND</td><td>⋯</td><td> 0</td><td>  </td><td>NA</td><td>NA</td><td>NA</td><td>NA</td><td>NA</td><td>NA</td><td>NA</td><td>NA</td></tr>\n",
       "\t<tr><td>102230035</td><td>1</td><td>3</td><td>3930791219      </td><td>3225830000000</td><td>NA              </td><td>6 </td><td>3288980000000</td><td>BDT</td><td>PLAFOND</td><td>⋯</td><td> 0</td><td>  </td><td>NA</td><td>NA</td><td>NA</td><td>NA</td><td>NA</td><td>NA</td><td>NA</td><td>R </td></tr>\n",
       "\t<tr><td>103230023</td><td>1</td><td>3</td><td>1924290248      </td><td>1441010000000</td><td>NA              </td><td>6 </td><td>1483160000000</td><td>BDT</td><td>PLAFOND</td><td>⋯</td><td> 0</td><td>  </td><td>NA</td><td>NA</td><td>NA</td><td>NA</td><td>NA</td><td>NA</td><td>NA</td><td>I </td></tr>\n",
       "\t<tr><td>103230027</td><td>1</td><td>3</td><td>3919160659      </td><td>7651580000000</td><td>NA              </td><td>89</td><td>3980230000000</td><td>BDT</td><td>PLAFOND</td><td>⋯</td><td> 0</td><td>  </td><td>NA</td><td>NA</td><td>NA</td><td>NA</td><td>NA</td><td>NA</td><td>NA</td><td>R </td></tr>\n",
       "\t<tr><td>103230030</td><td>1</td><td>3</td><td>4994730655      </td><td>3921420000000</td><td>NA              </td><td>89</td><td>3980230000000</td><td>BDT</td><td>PLAFOND</td><td>⋯</td><td> 0</td><td>  </td><td>NA</td><td>NA</td><td>NA</td><td>NA</td><td>NA</td><td>NA</td><td>NA</td><td>I </td></tr>\n",
       "\t<tr><td>103230030</td><td>2</td><td>3</td><td>CCCNNA69P51F839V</td><td>4343140000000</td><td>0000000090309384</td><td>89</td><td>3980230000000</td><td>BDT</td><td>PLAFOND</td><td>⋯</td><td>NA</td><td>NA</td><td>NA</td><td>NA</td><td>NA</td><td>NA</td><td>NA</td><td>NA</td><td>NA</td><td>R </td></tr>\n",
       "\t<tr><td>103230031</td><td>1</td><td>3</td><td>339970816       </td><td>3330290000000</td><td>NA              </td><td>6 </td><td>3288980000000</td><td>BDT</td><td>PLAFOND</td><td>⋯</td><td> 0</td><td>  </td><td>NA</td><td>NA</td><td>NA</td><td>NA</td><td>NA</td><td>NA</td><td>NA</td><td>R </td></tr>\n",
       "\t<tr><td>103230032</td><td>1</td><td>3</td><td>433800349       </td><td>3319200000000</td><td>NA              </td><td>6 </td><td>3288980000000</td><td>BDT</td><td>PLAFOND</td><td>⋯</td><td> 0</td><td>  </td><td>NA</td><td>NA</td><td>NA</td><td>NA</td><td>NA</td><td>NA</td><td>NA</td><td>I </td></tr>\n",
       "\t<tr><td>103230033</td><td>1</td><td>3</td><td>1424330098      </td><td>4563540000000</td><td>NA              </td><td>6 </td><td>3288980000000</td><td>BDT</td><td>PLAFOND</td><td>⋯</td><td> 0</td><td>  </td><td>NA</td><td>NA</td><td>NA</td><td>NA</td><td>NA</td><td>NA</td><td>NA</td><td>M </td></tr>\n",
       "\t<tr><td>103230034</td><td>1</td><td>3</td><td>1494580812      </td><td>4112410000000</td><td>NA              </td><td>88</td><td>3288980000000</td><td>BDT</td><td>PLAFOND</td><td>⋯</td><td> 0</td><td>  </td><td>NA</td><td>NA</td><td>NA</td><td>NA</td><td>NA</td><td>NA</td><td>NA</td><td>M </td></tr>\n",
       "\t<tr><td>103230035</td><td>1</td><td>3</td><td>1553300623      </td><td>7682100000000</td><td>NA              </td><td>6 </td><td>3288980000000</td><td>BDT</td><td>PLAFOND</td><td>⋯</td><td> 0</td><td>  </td><td>NA</td><td>NA</td><td>NA</td><td>NA</td><td>NA</td><td>NA</td><td>NA</td><td>R </td></tr>\n",
       "\t<tr><td>103230036</td><td>1</td><td>3</td><td>1825130519      </td><td>508314000000 </td><td>NA              </td><td>89</td><td>3288980000000</td><td>BDT</td><td>PLAFOND</td><td>⋯</td><td> 0</td><td>  </td><td>NA</td><td>NA</td><td>NA</td><td>NA</td><td>NA</td><td>NA</td><td>NA</td><td>M </td></tr>\n",
       "\t<tr><td>103230037</td><td>1</td><td>2</td><td>2053750150      </td><td>8062610000000</td><td>NA              </td><td>6 </td><td>3288980000000</td><td>BDT</td><td>PLAFOND</td><td>⋯</td><td> 0</td><td>  </td><td>NA</td><td>NA</td><td>NA</td><td>NA</td><td>NA</td><td>NA</td><td>NA</td><td>NA</td></tr>\n",
       "\t<tr><td>103230038</td><td>1</td><td>3</td><td>2222050995      </td><td>7679330000000</td><td>NA              </td><td>6 </td><td>3288980000000</td><td>BDT</td><td>PLAFOND</td><td>⋯</td><td> 0</td><td>  </td><td>NA</td><td>NA</td><td>NA</td><td>NA</td><td>NA</td><td>NA</td><td>NA</td><td>I </td></tr>\n",
       "\t<tr><td>103230039</td><td>1</td><td>3</td><td>3221020799      </td><td>7677110000000</td><td>NA              </td><td>6 </td><td>3288980000000</td><td>BDT</td><td>PLAFOND</td><td>⋯</td><td> 0</td><td>  </td><td>NA</td><td>NA</td><td>NA</td><td>NA</td><td>NA</td><td>NA</td><td>NA</td><td>R </td></tr>\n",
       "\t<tr><td>103230040</td><td>1</td><td>3</td><td>3261590834      </td><td>7629110000000</td><td>NA              </td><td>6 </td><td>3288980000000</td><td>BDT</td><td>PLAFOND</td><td>⋯</td><td> 0</td><td>  </td><td>NA</td><td>NA</td><td>NA</td><td>NA</td><td>NA</td><td>NA</td><td>NA</td><td>R </td></tr>\n",
       "\t<tr><td>103230041</td><td>1</td><td>3</td><td>3597300965      </td><td>7670450000000</td><td>NA              </td><td>6 </td><td>3288980000000</td><td>BDT</td><td>PLAFOND</td><td>⋯</td><td> 0</td><td>  </td><td>NA</td><td>NA</td><td>NA</td><td>NA</td><td>NA</td><td>NA</td><td>NA</td><td>R </td></tr>\n",
       "\t<tr><td>103230042</td><td>1</td><td>3</td><td>4612780652      </td><td>7511330000000</td><td>NA              </td><td>6 </td><td>3288980000000</td><td>BDT</td><td>PLAFOND</td><td>⋯</td><td> 0</td><td>  </td><td>NA</td><td>NA</td><td>NA</td><td>NA</td><td>NA</td><td>NA</td><td>NA</td><td>R </td></tr>\n",
       "\t<tr><td>103230043</td><td>1</td><td>3</td><td>5207091009      </td><td>3254040000000</td><td>NA              </td><td>6 </td><td>3288980000000</td><td>BDT</td><td>PLAFOND</td><td>⋯</td><td> 0</td><td>  </td><td>NA</td><td>NA</td><td>NA</td><td>NA</td><td>NA</td><td>NA</td><td>NA</td><td>M </td></tr>\n",
       "\t<tr><td>103230044</td><td>1</td><td>3</td><td>5208530658      </td><td>7681270000000</td><td>NA              </td><td>6 </td><td>3288980000000</td><td>BDT</td><td>PLAFOND</td><td>⋯</td><td> 0</td><td>  </td><td>NA</td><td>NA</td><td>NA</td><td>NA</td><td>NA</td><td>NA</td><td>NA</td><td>R </td></tr>\n",
       "\t<tr><td>103230045</td><td>1</td><td>3</td><td>5515870656      </td><td>7473680000000</td><td>NA              </td><td>6 </td><td>3288980000000</td><td>BDT</td><td>PLAFOND</td><td>⋯</td><td> 0</td><td>  </td><td>NA</td><td>NA</td><td>NA</td><td>NA</td><td>NA</td><td>NA</td><td>NA</td><td>M </td></tr>\n",
       "\t<tr><td>103230046</td><td>1</td><td>3</td><td>6699950967      </td><td>2949420000000</td><td>NA              </td><td>6 </td><td>3288980000000</td><td>BDT</td><td>PLAFOND</td><td>⋯</td><td> 0</td><td>  </td><td>NA</td><td>NA</td><td>NA</td><td>NA</td><td>NA</td><td>NA</td><td>NA</td><td>R </td></tr>\n",
       "\t<tr><td>103230048</td><td>1</td><td>3</td><td>7890480960      </td><td>3965520000000</td><td>NA              </td><td>6 </td><td>3288980000000</td><td>BDT</td><td>PLAFOND</td><td>⋯</td><td> 0</td><td>  </td><td>NA</td><td>NA</td><td>NA</td><td>NA</td><td>NA</td><td>NA</td><td>NA</td><td>M </td></tr>\n",
       "\t<tr><td>103230049</td><td>1</td><td>2</td><td>14666791000     </td><td>5061730000000</td><td>NA              </td><td>3 </td><td>7172120000000</td><td>BDT</td><td>PLAFOND</td><td>⋯</td><td> 0</td><td>  </td><td>NA</td><td>NA</td><td>NA</td><td>NA</td><td>NA</td><td>NA</td><td>NA</td><td>M </td></tr>\n",
       "\t<tr><td>103230050</td><td>1</td><td>2</td><td>165440348       </td><td>15557988000  </td><td>NA              </td><td>89</td><td>262075000000 </td><td>BDT</td><td>PLAFOND</td><td>⋯</td><td> 0</td><td>  </td><td>NA</td><td>NA</td><td>NA</td><td>NA</td><td>NA</td><td>NA</td><td>NA</td><td>M </td></tr>\n",
       "\t<tr><td>⋮</td><td>⋮</td><td>⋮</td><td>⋮</td><td>⋮</td><td>⋮</td><td>⋮</td><td>⋮</td><td>⋮</td><td>⋮</td><td>⋱</td><td>⋮</td><td>⋮</td><td>⋮</td><td>⋮</td><td>⋮</td><td>⋮</td><td>⋮</td><td>⋮</td><td>⋮</td><td>⋮</td></tr>\n",
       "\t<tr><td>91227230040</td><td>1</td><td>3</td><td>3823960236      </td><td>7680000000000</td><td>NA              </td><td>17</td><td>3190000000000</td><td>BDT</td><td>PLAFOND</td><td>⋯</td><td>     0</td><td>  </td><td>NA</td><td>NA</td><td>NA</td><td>NA</td><td>NA</td><td>NA</td><td>NA</td><td>R </td></tr>\n",
       "\t<tr><td>91227230041</td><td>2</td><td>3</td><td>LTRDNC82E15L418K</td><td>7420000000000</td><td>0000000101765588</td><td>6 </td><td>3290000000000</td><td>BDT</td><td>PLAFOND</td><td>⋯</td><td>    NA</td><td>NA</td><td>NA</td><td>NA</td><td>NA</td><td>NA</td><td>NA</td><td>NA</td><td>NA</td><td>R </td></tr>\n",
       "\t<tr><td>91227230041</td><td>3</td><td>3</td><td>550050678       </td><td>4020000000000</td><td>NA              </td><td>6 </td><td>3290000000000</td><td>BDT</td><td>PLAFOND</td><td>⋯</td><td>    NA</td><td>NA</td><td>NA</td><td>NA</td><td>NA</td><td>NA</td><td>NA</td><td>NA</td><td>NA</td><td>R </td></tr>\n",
       "\t<tr><td>91227230041</td><td>4</td><td>3</td><td>1504400621      </td><td>7720000000000</td><td>NA              </td><td>6 </td><td>3290000000000</td><td>BDT</td><td>PLAFOND</td><td>⋯</td><td>    NA</td><td>NA</td><td>NA</td><td>NA</td><td>NA</td><td>NA</td><td>NA</td><td>NA</td><td>NA</td><td>R </td></tr>\n",
       "\t<tr><td>91227230041</td><td>6</td><td>3</td><td>1949440760      </td><td>7720000000000</td><td>NA              </td><td>6 </td><td>3290000000000</td><td>BDT</td><td>PLAFOND</td><td>⋯</td><td>    NA</td><td>NA</td><td>NA</td><td>NA</td><td>NA</td><td>NA</td><td>NA</td><td>NA</td><td>NA</td><td>R </td></tr>\n",
       "\t<tr><td>91227230041</td><td>7</td><td>3</td><td>2024890762      </td><td>7720000000000</td><td>NA              </td><td>6 </td><td>3290000000000</td><td>BDT</td><td>PLAFOND</td><td>⋯</td><td>    NA</td><td>NA</td><td>NA</td><td>NA</td><td>NA</td><td>NA</td><td>NA</td><td>NA</td><td>NA</td><td>R </td></tr>\n",
       "\t<tr><td>91227230042</td><td>1</td><td>2</td><td>163640048       </td><td>4840000000000</td><td>NA              </td><td>18</td><td>3290000000000</td><td>BDT</td><td>PLAFOND</td><td>⋯</td><td>223789</td><td>  </td><td>NA</td><td>NA</td><td>NA</td><td>NA</td><td>NA</td><td>NA</td><td>NA</td><td>M </td></tr>\n",
       "\t<tr><td>91227230043</td><td>1</td><td>2</td><td>488270018       </td><td>9250000000000</td><td>NA              </td><td>6 </td><td>3290000000000</td><td>CIB</td><td>PLAFOND</td><td>⋯</td><td>     0</td><td>  </td><td>NA</td><td>NA</td><td>NA</td><td>NA</td><td>NA</td><td>NA</td><td>NA</td><td>I </td></tr>\n",
       "\t<tr><td>91227230044</td><td>1</td><td>3</td><td>1135070397      </td><td>7640000000000</td><td>NA              </td><td>6 </td><td>3290000000000</td><td>BDT</td><td>PLAFOND</td><td>⋯</td><td>     0</td><td>  </td><td>NA</td><td>NA</td><td>NA</td><td>NA</td><td>NA</td><td>NA</td><td>NA</td><td>R </td></tr>\n",
       "\t<tr><td>91227230045</td><td>1</td><td>3</td><td>1893720761      </td><td>7690000000000</td><td>NA              </td><td>6 </td><td>3290000000000</td><td>BDT</td><td>PLAFOND</td><td>⋯</td><td>     0</td><td>  </td><td>NA</td><td>NA</td><td>NA</td><td>NA</td><td>NA</td><td>NA</td><td>NA</td><td>R </td></tr>\n",
       "\t<tr><td>91227230046</td><td>1</td><td>3</td><td>3191310048      </td><td>499000000000 </td><td>NA              </td><td>6 </td><td>3290000000000</td><td>BDT</td><td>PLAFOND</td><td>⋯</td><td>     0</td><td>  </td><td>NA</td><td>NA</td><td>NA</td><td>NA</td><td>NA</td><td>NA</td><td>NA</td><td>NA</td></tr>\n",
       "\t<tr><td>91227230047</td><td>1</td><td>2</td><td>3585140266      </td><td>3350000000000</td><td>NA              </td><td>6 </td><td>3290000000000</td><td>BDT</td><td>PLAFOND</td><td>⋯</td><td>     0</td><td>  </td><td>NA</td><td>NA</td><td>NA</td><td>NA</td><td>NA</td><td>NA</td><td>NA</td><td>NA</td></tr>\n",
       "\t<tr><td>91227230048</td><td>1</td><td>2</td><td>4146990876      </td><td>316000000000 </td><td>NA              </td><td>6 </td><td>3290000000000</td><td>BDT</td><td>PLAFOND</td><td>⋯</td><td>     0</td><td>  </td><td>NA</td><td>NA</td><td>NA</td><td>NA</td><td>NA</td><td>NA</td><td>NA</td><td>NA</td></tr>\n",
       "\t<tr><td>91227230050</td><td>1</td><td>3</td><td>4756490753      </td><td>7690000000000</td><td>NA              </td><td>6 </td><td>3290000000000</td><td>BDT</td><td>PLAFOND</td><td>⋯</td><td>     0</td><td>  </td><td>NA</td><td>NA</td><td>NA</td><td>NA</td><td>NA</td><td>NA</td><td>NA</td><td>R </td></tr>\n",
       "\t<tr><td>91227230051</td><td>1</td><td>3</td><td>5256190827      </td><td>258000000000 </td><td>NA              </td><td>6 </td><td>3290000000000</td><td>BDT</td><td>PLAFOND</td><td>⋯</td><td>     0</td><td>  </td><td>NA</td><td>NA</td><td>NA</td><td>NA</td><td>NA</td><td>NA</td><td>NA</td><td>M </td></tr>\n",
       "\t<tr><td>91227230052</td><td>1</td><td>3</td><td>5944020485      </td><td>7680000000000</td><td>NA              </td><td>6 </td><td>3290000000000</td><td>BDT</td><td>PLAFOND</td><td>⋯</td><td>     0</td><td>  </td><td>NA</td><td>NA</td><td>NA</td><td>NA</td><td>NA</td><td>NA</td><td>NA</td><td>R </td></tr>\n",
       "\t<tr><td>91227230053</td><td>1</td><td>3</td><td>1804930855      </td><td>2920000000000</td><td>NA              </td><td>10</td><td>9760000000000</td><td>BDT</td><td>PLAFOND</td><td>⋯</td><td>     0</td><td>  </td><td>NA</td><td>NA</td><td>NA</td><td>NA</td><td>NA</td><td>NA</td><td>NA</td><td>M </td></tr>\n",
       "\t<tr><td>91230230019</td><td>1</td><td>2</td><td>RCCFBA81M20G273I</td><td>7690000000000</td><td>0000000060495419</td><td>3 </td><td>403000000000 </td><td>BDT</td><td>PLAFOND</td><td>⋯</td><td>     0</td><td>  </td><td>NA</td><td>NA</td><td>NA</td><td>NA</td><td>NA</td><td>NA</td><td>NA</td><td>R </td></tr>\n",
       "\t<tr><td>91230230021</td><td>1</td><td>3</td><td>4218910240      </td><td>7720000000000</td><td>NA              </td><td>89</td><td>148000000000 </td><td>BDT</td><td>PLAFOND</td><td>⋯</td><td>    NA</td><td>NA</td><td>NA</td><td>NA</td><td>NA</td><td>NA</td><td>NA</td><td>NA</td><td>NA</td><td>R </td></tr>\n",
       "\t<tr><td>91230230023</td><td>1</td><td>3</td><td>FRENCL80D15Z112J</td><td>6260000000000</td><td>0000000086456074</td><td>6 </td><td>3290000000000</td><td>BDT</td><td>PLAFOND</td><td>⋯</td><td>    NA</td><td>NA</td><td>NA</td><td>NA</td><td>NA</td><td>NA</td><td>NA</td><td>NA</td><td>NA</td><td>R </td></tr>\n",
       "\t<tr><td>91230230023</td><td>7</td><td>3</td><td>11340270013     </td><td>7720000000000</td><td>NA              </td><td>6 </td><td>3290000000000</td><td>BDT</td><td>PLAFOND</td><td>⋯</td><td>    NA</td><td>NA</td><td>NA</td><td>NA</td><td>NA</td><td>NA</td><td>NA</td><td>NA</td><td>NA</td><td>R </td></tr>\n",
       "\t<tr><td>91230230024</td><td>1</td><td>2</td><td>NNSBRN59A05H739V</td><td>7650000000000</td><td>0000000070155661</td><td>6 </td><td>3290000000000</td><td>BDT</td><td>PLAFOND</td><td>⋯</td><td>     0</td><td>  </td><td>NA</td><td>NA</td><td>NA</td><td>NA</td><td>NA</td><td>NA</td><td>NA</td><td>R </td></tr>\n",
       "\t<tr><td>91230230026</td><td>1</td><td>3</td><td>2932200104      </td><td>6960000000000</td><td>NA              </td><td>6 </td><td>3290000000000</td><td>BDT</td><td>PLAFOND</td><td>⋯</td><td>     0</td><td>  </td><td>NA</td><td>NA</td><td>NA</td><td>NA</td><td>NA</td><td>NA</td><td>NA</td><td>M </td></tr>\n",
       "\t<tr><td>91230230027</td><td>1</td><td>3</td><td>8785111009      </td><td>7620000000000</td><td>NA              </td><td>6 </td><td>3290000000000</td><td>BDT</td><td>PLAFOND</td><td>⋯</td><td>     0</td><td>  </td><td>NA</td><td>NA</td><td>NA</td><td>NA</td><td>NA</td><td>NA</td><td>NA</td><td>R </td></tr>\n",
       "\t<tr><td>91231230026</td><td>1</td><td>3</td><td>PLLMCN60M25I166V</td><td>7720000000000</td><td>0000000101780400</td><td>4 </td><td>31378284000  </td><td>BDT</td><td>PLAFOND</td><td>⋯</td><td>    NA</td><td>NA</td><td>NA</td><td>NA</td><td>NA</td><td>NA</td><td>NA</td><td>NA</td><td>NA</td><td>R </td></tr>\n",
       "\t<tr><td>91231230032</td><td>1</td><td>3</td><td>3412740379      </td><td>6820000000000</td><td>NA              </td><td>9 </td><td>6890000000000</td><td>BDT</td><td>PLAFOND</td><td>⋯</td><td>     0</td><td>  </td><td>NA</td><td>NA</td><td>NA</td><td>NA</td><td>NA</td><td>NA</td><td>NA</td><td>I </td></tr>\n",
       "\t<tr><td>91231230033</td><td>1</td><td>2</td><td>3755200239      </td><td>4770000000000</td><td>NA              </td><td>9 </td><td>173000000000 </td><td>BDT</td><td>PLAFOND</td><td>⋯</td><td>     0</td><td>  </td><td>NA</td><td>NA</td><td>NA</td><td>NA</td><td>NA</td><td>NA</td><td>NA</td><td>I </td></tr>\n",
       "\t<tr><td>91231230034</td><td>1</td><td>3</td><td>1277680243      </td><td>169000000000 </td><td>NA              </td><td>9 </td><td>1140000000000</td><td>BDT</td><td>PLAFOND</td><td>⋯</td><td>     0</td><td>  </td><td>NA</td><td>NA</td><td>NA</td><td>NA</td><td>NA</td><td>NA</td><td>NA</td><td>I </td></tr>\n",
       "\t<tr><td>91231230038</td><td>1</td><td>3</td><td>623760600       </td><td>4150000000000</td><td>NA              </td><td>9 </td><td>1140000000000</td><td>BDT</td><td>PLAFOND</td><td>⋯</td><td>     0</td><td>  </td><td>NA</td><td>NA</td><td>NA</td><td>NA</td><td>NA</td><td>NA</td><td>NA</td><td>I </td></tr>\n",
       "\t<tr><td>91231230040</td><td>1</td><td>3</td><td>TRPGPP55C71H703P</td><td>2860000000000</td><td>0000000030895704</td><td>89</td><td>3980000000000</td><td>BDT</td><td>PLAFOND</td><td>⋯</td><td>     0</td><td>  </td><td>NA</td><td>NA</td><td>NA</td><td>NA</td><td>NA</td><td>NA</td><td>NA</td><td>R </td></tr>\n",
       "</tbody>\n",
       "</table>\n"
      ],
      "text/latex": [
       "A data.table: 136088 × 154\n",
       "\\begin{tabular}{lllllllllllllllllllll}\n",
       " num\\_pratica & progress\\_pratica & tipo\\_pratica & codice\\_fiscale\\_ceduto & ndg\\_ceduto & andi\\_ndg\\_super & settore\\_ceduto & ndg\\_cedente & divisione\\_ceduto & tipo\\_applicazione & ⋯ & appl\\_ric & da\\_sanare & cr\\_ps\\_acc & cr\\_ps\\_uti & cr\\_ps\\_sconf & cr\\_ua\\_acc & cr\\_ua\\_uti & scaduto\\_out\\_scad & scaduto\\_out\\_outs & rat\\_cluster\\\\\n",
       " <dbl> & <dbl> & <dbl> & <chr> & <chr> & <chr> & <chr> & <chr> & <chr> & <chr> & ⋯ & <dbl> & <chr> & <dbl> & <dbl> & <dbl> & <dbl> & <dbl> & <dbl> & <dbl> & <chr>\\\\\n",
       "\\hline\n",
       "\t 102230026 & 1 & 3 & 9054770962       & 4608870000000 & NA               & 18 & 6182450000000 & BDT & PLAFOND & ⋯ & NA & NA & NA & NA & NA & NA & NA & NA & NA & R \\\\\n",
       "\t 102230029 & 2 & 3 & 2695820304       & 4495180000000 & NA               & 6  & 3288980000000 & BDT & PLAFOND & ⋯ & NA & NA & NA & NA & NA & NA & NA & NA & NA & R \\\\\n",
       "\t 102230030 & 1 & 2 & 80002210104      & 2012160000000 & NA               & 89 & 3288980000000 & BDT & PLAFOND & ⋯ &  0 &    & NA & NA & NA & NA & NA & NA & NA & NA\\\\\n",
       "\t 102230031 & 1 & 3 & 3503350260       & 3340210000000 & NA               & 6  & 3288980000000 & BDT & PLAFOND & ⋯ &  0 &    & NA & NA & NA & NA & NA & NA & NA & I \\\\\n",
       "\t 102230032 & 1 & 3 & 3679130264       & 203665000000  & NA               & 6  & 3288980000000 & BDT & PLAFOND & ⋯ &  0 &    & NA & NA & NA & NA & NA & NA & NA & I \\\\\n",
       "\t 102230034 & 1 & 2 & 3917900874       & 202162000000  & NA               & 6  & 3288980000000 & BDT & PLAFOND & ⋯ &  0 &    & NA & NA & NA & NA & NA & NA & NA & NA\\\\\n",
       "\t 102230035 & 1 & 3 & 3930791219       & 3225830000000 & NA               & 6  & 3288980000000 & BDT & PLAFOND & ⋯ &  0 &    & NA & NA & NA & NA & NA & NA & NA & R \\\\\n",
       "\t 103230023 & 1 & 3 & 1924290248       & 1441010000000 & NA               & 6  & 1483160000000 & BDT & PLAFOND & ⋯ &  0 &    & NA & NA & NA & NA & NA & NA & NA & I \\\\\n",
       "\t 103230027 & 1 & 3 & 3919160659       & 7651580000000 & NA               & 89 & 3980230000000 & BDT & PLAFOND & ⋯ &  0 &    & NA & NA & NA & NA & NA & NA & NA & R \\\\\n",
       "\t 103230030 & 1 & 3 & 4994730655       & 3921420000000 & NA               & 89 & 3980230000000 & BDT & PLAFOND & ⋯ &  0 &    & NA & NA & NA & NA & NA & NA & NA & I \\\\\n",
       "\t 103230030 & 2 & 3 & CCCNNA69P51F839V & 4343140000000 & 0000000090309384 & 89 & 3980230000000 & BDT & PLAFOND & ⋯ & NA & NA & NA & NA & NA & NA & NA & NA & NA & R \\\\\n",
       "\t 103230031 & 1 & 3 & 339970816        & 3330290000000 & NA               & 6  & 3288980000000 & BDT & PLAFOND & ⋯ &  0 &    & NA & NA & NA & NA & NA & NA & NA & R \\\\\n",
       "\t 103230032 & 1 & 3 & 433800349        & 3319200000000 & NA               & 6  & 3288980000000 & BDT & PLAFOND & ⋯ &  0 &    & NA & NA & NA & NA & NA & NA & NA & I \\\\\n",
       "\t 103230033 & 1 & 3 & 1424330098       & 4563540000000 & NA               & 6  & 3288980000000 & BDT & PLAFOND & ⋯ &  0 &    & NA & NA & NA & NA & NA & NA & NA & M \\\\\n",
       "\t 103230034 & 1 & 3 & 1494580812       & 4112410000000 & NA               & 88 & 3288980000000 & BDT & PLAFOND & ⋯ &  0 &    & NA & NA & NA & NA & NA & NA & NA & M \\\\\n",
       "\t 103230035 & 1 & 3 & 1553300623       & 7682100000000 & NA               & 6  & 3288980000000 & BDT & PLAFOND & ⋯ &  0 &    & NA & NA & NA & NA & NA & NA & NA & R \\\\\n",
       "\t 103230036 & 1 & 3 & 1825130519       & 508314000000  & NA               & 89 & 3288980000000 & BDT & PLAFOND & ⋯ &  0 &    & NA & NA & NA & NA & NA & NA & NA & M \\\\\n",
       "\t 103230037 & 1 & 2 & 2053750150       & 8062610000000 & NA               & 6  & 3288980000000 & BDT & PLAFOND & ⋯ &  0 &    & NA & NA & NA & NA & NA & NA & NA & NA\\\\\n",
       "\t 103230038 & 1 & 3 & 2222050995       & 7679330000000 & NA               & 6  & 3288980000000 & BDT & PLAFOND & ⋯ &  0 &    & NA & NA & NA & NA & NA & NA & NA & I \\\\\n",
       "\t 103230039 & 1 & 3 & 3221020799       & 7677110000000 & NA               & 6  & 3288980000000 & BDT & PLAFOND & ⋯ &  0 &    & NA & NA & NA & NA & NA & NA & NA & R \\\\\n",
       "\t 103230040 & 1 & 3 & 3261590834       & 7629110000000 & NA               & 6  & 3288980000000 & BDT & PLAFOND & ⋯ &  0 &    & NA & NA & NA & NA & NA & NA & NA & R \\\\\n",
       "\t 103230041 & 1 & 3 & 3597300965       & 7670450000000 & NA               & 6  & 3288980000000 & BDT & PLAFOND & ⋯ &  0 &    & NA & NA & NA & NA & NA & NA & NA & R \\\\\n",
       "\t 103230042 & 1 & 3 & 4612780652       & 7511330000000 & NA               & 6  & 3288980000000 & BDT & PLAFOND & ⋯ &  0 &    & NA & NA & NA & NA & NA & NA & NA & R \\\\\n",
       "\t 103230043 & 1 & 3 & 5207091009       & 3254040000000 & NA               & 6  & 3288980000000 & BDT & PLAFOND & ⋯ &  0 &    & NA & NA & NA & NA & NA & NA & NA & M \\\\\n",
       "\t 103230044 & 1 & 3 & 5208530658       & 7681270000000 & NA               & 6  & 3288980000000 & BDT & PLAFOND & ⋯ &  0 &    & NA & NA & NA & NA & NA & NA & NA & R \\\\\n",
       "\t 103230045 & 1 & 3 & 5515870656       & 7473680000000 & NA               & 6  & 3288980000000 & BDT & PLAFOND & ⋯ &  0 &    & NA & NA & NA & NA & NA & NA & NA & M \\\\\n",
       "\t 103230046 & 1 & 3 & 6699950967       & 2949420000000 & NA               & 6  & 3288980000000 & BDT & PLAFOND & ⋯ &  0 &    & NA & NA & NA & NA & NA & NA & NA & R \\\\\n",
       "\t 103230048 & 1 & 3 & 7890480960       & 3965520000000 & NA               & 6  & 3288980000000 & BDT & PLAFOND & ⋯ &  0 &    & NA & NA & NA & NA & NA & NA & NA & M \\\\\n",
       "\t 103230049 & 1 & 2 & 14666791000      & 5061730000000 & NA               & 3  & 7172120000000 & BDT & PLAFOND & ⋯ &  0 &    & NA & NA & NA & NA & NA & NA & NA & M \\\\\n",
       "\t 103230050 & 1 & 2 & 165440348        & 15557988000   & NA               & 89 & 262075000000  & BDT & PLAFOND & ⋯ &  0 &    & NA & NA & NA & NA & NA & NA & NA & M \\\\\n",
       "\t ⋮ & ⋮ & ⋮ & ⋮ & ⋮ & ⋮ & ⋮ & ⋮ & ⋮ & ⋮ & ⋱ & ⋮ & ⋮ & ⋮ & ⋮ & ⋮ & ⋮ & ⋮ & ⋮ & ⋮ & ⋮\\\\\n",
       "\t 91227230040 & 1 & 3 & 3823960236       & 7680000000000 & NA               & 17 & 3190000000000 & BDT & PLAFOND & ⋯ &      0 &    & NA & NA & NA & NA & NA & NA & NA & R \\\\\n",
       "\t 91227230041 & 2 & 3 & LTRDNC82E15L418K & 7420000000000 & 0000000101765588 & 6  & 3290000000000 & BDT & PLAFOND & ⋯ &     NA & NA & NA & NA & NA & NA & NA & NA & NA & R \\\\\n",
       "\t 91227230041 & 3 & 3 & 550050678        & 4020000000000 & NA               & 6  & 3290000000000 & BDT & PLAFOND & ⋯ &     NA & NA & NA & NA & NA & NA & NA & NA & NA & R \\\\\n",
       "\t 91227230041 & 4 & 3 & 1504400621       & 7720000000000 & NA               & 6  & 3290000000000 & BDT & PLAFOND & ⋯ &     NA & NA & NA & NA & NA & NA & NA & NA & NA & R \\\\\n",
       "\t 91227230041 & 6 & 3 & 1949440760       & 7720000000000 & NA               & 6  & 3290000000000 & BDT & PLAFOND & ⋯ &     NA & NA & NA & NA & NA & NA & NA & NA & NA & R \\\\\n",
       "\t 91227230041 & 7 & 3 & 2024890762       & 7720000000000 & NA               & 6  & 3290000000000 & BDT & PLAFOND & ⋯ &     NA & NA & NA & NA & NA & NA & NA & NA & NA & R \\\\\n",
       "\t 91227230042 & 1 & 2 & 163640048        & 4840000000000 & NA               & 18 & 3290000000000 & BDT & PLAFOND & ⋯ & 223789 &    & NA & NA & NA & NA & NA & NA & NA & M \\\\\n",
       "\t 91227230043 & 1 & 2 & 488270018        & 9250000000000 & NA               & 6  & 3290000000000 & CIB & PLAFOND & ⋯ &      0 &    & NA & NA & NA & NA & NA & NA & NA & I \\\\\n",
       "\t 91227230044 & 1 & 3 & 1135070397       & 7640000000000 & NA               & 6  & 3290000000000 & BDT & PLAFOND & ⋯ &      0 &    & NA & NA & NA & NA & NA & NA & NA & R \\\\\n",
       "\t 91227230045 & 1 & 3 & 1893720761       & 7690000000000 & NA               & 6  & 3290000000000 & BDT & PLAFOND & ⋯ &      0 &    & NA & NA & NA & NA & NA & NA & NA & R \\\\\n",
       "\t 91227230046 & 1 & 3 & 3191310048       & 499000000000  & NA               & 6  & 3290000000000 & BDT & PLAFOND & ⋯ &      0 &    & NA & NA & NA & NA & NA & NA & NA & NA\\\\\n",
       "\t 91227230047 & 1 & 2 & 3585140266       & 3350000000000 & NA               & 6  & 3290000000000 & BDT & PLAFOND & ⋯ &      0 &    & NA & NA & NA & NA & NA & NA & NA & NA\\\\\n",
       "\t 91227230048 & 1 & 2 & 4146990876       & 316000000000  & NA               & 6  & 3290000000000 & BDT & PLAFOND & ⋯ &      0 &    & NA & NA & NA & NA & NA & NA & NA & NA\\\\\n",
       "\t 91227230050 & 1 & 3 & 4756490753       & 7690000000000 & NA               & 6  & 3290000000000 & BDT & PLAFOND & ⋯ &      0 &    & NA & NA & NA & NA & NA & NA & NA & R \\\\\n",
       "\t 91227230051 & 1 & 3 & 5256190827       & 258000000000  & NA               & 6  & 3290000000000 & BDT & PLAFOND & ⋯ &      0 &    & NA & NA & NA & NA & NA & NA & NA & M \\\\\n",
       "\t 91227230052 & 1 & 3 & 5944020485       & 7680000000000 & NA               & 6  & 3290000000000 & BDT & PLAFOND & ⋯ &      0 &    & NA & NA & NA & NA & NA & NA & NA & R \\\\\n",
       "\t 91227230053 & 1 & 3 & 1804930855       & 2920000000000 & NA               & 10 & 9760000000000 & BDT & PLAFOND & ⋯ &      0 &    & NA & NA & NA & NA & NA & NA & NA & M \\\\\n",
       "\t 91230230019 & 1 & 2 & RCCFBA81M20G273I & 7690000000000 & 0000000060495419 & 3  & 403000000000  & BDT & PLAFOND & ⋯ &      0 &    & NA & NA & NA & NA & NA & NA & NA & R \\\\\n",
       "\t 91230230021 & 1 & 3 & 4218910240       & 7720000000000 & NA               & 89 & 148000000000  & BDT & PLAFOND & ⋯ &     NA & NA & NA & NA & NA & NA & NA & NA & NA & R \\\\\n",
       "\t 91230230023 & 1 & 3 & FRENCL80D15Z112J & 6260000000000 & 0000000086456074 & 6  & 3290000000000 & BDT & PLAFOND & ⋯ &     NA & NA & NA & NA & NA & NA & NA & NA & NA & R \\\\\n",
       "\t 91230230023 & 7 & 3 & 11340270013      & 7720000000000 & NA               & 6  & 3290000000000 & BDT & PLAFOND & ⋯ &     NA & NA & NA & NA & NA & NA & NA & NA & NA & R \\\\\n",
       "\t 91230230024 & 1 & 2 & NNSBRN59A05H739V & 7650000000000 & 0000000070155661 & 6  & 3290000000000 & BDT & PLAFOND & ⋯ &      0 &    & NA & NA & NA & NA & NA & NA & NA & R \\\\\n",
       "\t 91230230026 & 1 & 3 & 2932200104       & 6960000000000 & NA               & 6  & 3290000000000 & BDT & PLAFOND & ⋯ &      0 &    & NA & NA & NA & NA & NA & NA & NA & M \\\\\n",
       "\t 91230230027 & 1 & 3 & 8785111009       & 7620000000000 & NA               & 6  & 3290000000000 & BDT & PLAFOND & ⋯ &      0 &    & NA & NA & NA & NA & NA & NA & NA & R \\\\\n",
       "\t 91231230026 & 1 & 3 & PLLMCN60M25I166V & 7720000000000 & 0000000101780400 & 4  & 31378284000   & BDT & PLAFOND & ⋯ &     NA & NA & NA & NA & NA & NA & NA & NA & NA & R \\\\\n",
       "\t 91231230032 & 1 & 3 & 3412740379       & 6820000000000 & NA               & 9  & 6890000000000 & BDT & PLAFOND & ⋯ &      0 &    & NA & NA & NA & NA & NA & NA & NA & I \\\\\n",
       "\t 91231230033 & 1 & 2 & 3755200239       & 4770000000000 & NA               & 9  & 173000000000  & BDT & PLAFOND & ⋯ &      0 &    & NA & NA & NA & NA & NA & NA & NA & I \\\\\n",
       "\t 91231230034 & 1 & 3 & 1277680243       & 169000000000  & NA               & 9  & 1140000000000 & BDT & PLAFOND & ⋯ &      0 &    & NA & NA & NA & NA & NA & NA & NA & I \\\\\n",
       "\t 91231230038 & 1 & 3 & 623760600        & 4150000000000 & NA               & 9  & 1140000000000 & BDT & PLAFOND & ⋯ &      0 &    & NA & NA & NA & NA & NA & NA & NA & I \\\\\n",
       "\t 91231230040 & 1 & 3 & TRPGPP55C71H703P & 2860000000000 & 0000000030895704 & 89 & 3980000000000 & BDT & PLAFOND & ⋯ &      0 &    & NA & NA & NA & NA & NA & NA & NA & R \\\\\n",
       "\\end{tabular}\n"
      ],
      "text/markdown": [
       "\n",
       "A data.table: 136088 × 154\n",
       "\n",
       "| num_pratica &lt;dbl&gt; | progress_pratica &lt;dbl&gt; | tipo_pratica &lt;dbl&gt; | codice_fiscale_ceduto &lt;chr&gt; | ndg_ceduto &lt;chr&gt; | andi_ndg_super &lt;chr&gt; | settore_ceduto &lt;chr&gt; | ndg_cedente &lt;chr&gt; | divisione_ceduto &lt;chr&gt; | tipo_applicazione &lt;chr&gt; | ⋯ ⋯ | appl_ric &lt;dbl&gt; | da_sanare &lt;chr&gt; | cr_ps_acc &lt;dbl&gt; | cr_ps_uti &lt;dbl&gt; | cr_ps_sconf &lt;dbl&gt; | cr_ua_acc &lt;dbl&gt; | cr_ua_uti &lt;dbl&gt; | scaduto_out_scad &lt;dbl&gt; | scaduto_out_outs &lt;dbl&gt; | rat_cluster &lt;chr&gt; |\n",
       "|---|---|---|---|---|---|---|---|---|---|---|---|---|---|---|---|---|---|---|---|---|\n",
       "| 102230026 | 1 | 3 | 9054770962       | 4608870000000 | NA               | 18 | 6182450000000 | BDT | PLAFOND | ⋯ | NA | NA | NA | NA | NA | NA | NA | NA | NA | R  |\n",
       "| 102230029 | 2 | 3 | 2695820304       | 4495180000000 | NA               | 6  | 3288980000000 | BDT | PLAFOND | ⋯ | NA | NA | NA | NA | NA | NA | NA | NA | NA | R  |\n",
       "| 102230030 | 1 | 2 | 80002210104      | 2012160000000 | NA               | 89 | 3288980000000 | BDT | PLAFOND | ⋯ |  0 | <!----> | NA | NA | NA | NA | NA | NA | NA | NA |\n",
       "| 102230031 | 1 | 3 | 3503350260       | 3340210000000 | NA               | 6  | 3288980000000 | BDT | PLAFOND | ⋯ |  0 | <!----> | NA | NA | NA | NA | NA | NA | NA | I  |\n",
       "| 102230032 | 1 | 3 | 3679130264       | 203665000000  | NA               | 6  | 3288980000000 | BDT | PLAFOND | ⋯ |  0 | <!----> | NA | NA | NA | NA | NA | NA | NA | I  |\n",
       "| 102230034 | 1 | 2 | 3917900874       | 202162000000  | NA               | 6  | 3288980000000 | BDT | PLAFOND | ⋯ |  0 | <!----> | NA | NA | NA | NA | NA | NA | NA | NA |\n",
       "| 102230035 | 1 | 3 | 3930791219       | 3225830000000 | NA               | 6  | 3288980000000 | BDT | PLAFOND | ⋯ |  0 | <!----> | NA | NA | NA | NA | NA | NA | NA | R  |\n",
       "| 103230023 | 1 | 3 | 1924290248       | 1441010000000 | NA               | 6  | 1483160000000 | BDT | PLAFOND | ⋯ |  0 | <!----> | NA | NA | NA | NA | NA | NA | NA | I  |\n",
       "| 103230027 | 1 | 3 | 3919160659       | 7651580000000 | NA               | 89 | 3980230000000 | BDT | PLAFOND | ⋯ |  0 | <!----> | NA | NA | NA | NA | NA | NA | NA | R  |\n",
       "| 103230030 | 1 | 3 | 4994730655       | 3921420000000 | NA               | 89 | 3980230000000 | BDT | PLAFOND | ⋯ |  0 | <!----> | NA | NA | NA | NA | NA | NA | NA | I  |\n",
       "| 103230030 | 2 | 3 | CCCNNA69P51F839V | 4343140000000 | 0000000090309384 | 89 | 3980230000000 | BDT | PLAFOND | ⋯ | NA | NA | NA | NA | NA | NA | NA | NA | NA | R  |\n",
       "| 103230031 | 1 | 3 | 339970816        | 3330290000000 | NA               | 6  | 3288980000000 | BDT | PLAFOND | ⋯ |  0 | <!----> | NA | NA | NA | NA | NA | NA | NA | R  |\n",
       "| 103230032 | 1 | 3 | 433800349        | 3319200000000 | NA               | 6  | 3288980000000 | BDT | PLAFOND | ⋯ |  0 | <!----> | NA | NA | NA | NA | NA | NA | NA | I  |\n",
       "| 103230033 | 1 | 3 | 1424330098       | 4563540000000 | NA               | 6  | 3288980000000 | BDT | PLAFOND | ⋯ |  0 | <!----> | NA | NA | NA | NA | NA | NA | NA | M  |\n",
       "| 103230034 | 1 | 3 | 1494580812       | 4112410000000 | NA               | 88 | 3288980000000 | BDT | PLAFOND | ⋯ |  0 | <!----> | NA | NA | NA | NA | NA | NA | NA | M  |\n",
       "| 103230035 | 1 | 3 | 1553300623       | 7682100000000 | NA               | 6  | 3288980000000 | BDT | PLAFOND | ⋯ |  0 | <!----> | NA | NA | NA | NA | NA | NA | NA | R  |\n",
       "| 103230036 | 1 | 3 | 1825130519       | 508314000000  | NA               | 89 | 3288980000000 | BDT | PLAFOND | ⋯ |  0 | <!----> | NA | NA | NA | NA | NA | NA | NA | M  |\n",
       "| 103230037 | 1 | 2 | 2053750150       | 8062610000000 | NA               | 6  | 3288980000000 | BDT | PLAFOND | ⋯ |  0 | <!----> | NA | NA | NA | NA | NA | NA | NA | NA |\n",
       "| 103230038 | 1 | 3 | 2222050995       | 7679330000000 | NA               | 6  | 3288980000000 | BDT | PLAFOND | ⋯ |  0 | <!----> | NA | NA | NA | NA | NA | NA | NA | I  |\n",
       "| 103230039 | 1 | 3 | 3221020799       | 7677110000000 | NA               | 6  | 3288980000000 | BDT | PLAFOND | ⋯ |  0 | <!----> | NA | NA | NA | NA | NA | NA | NA | R  |\n",
       "| 103230040 | 1 | 3 | 3261590834       | 7629110000000 | NA               | 6  | 3288980000000 | BDT | PLAFOND | ⋯ |  0 | <!----> | NA | NA | NA | NA | NA | NA | NA | R  |\n",
       "| 103230041 | 1 | 3 | 3597300965       | 7670450000000 | NA               | 6  | 3288980000000 | BDT | PLAFOND | ⋯ |  0 | <!----> | NA | NA | NA | NA | NA | NA | NA | R  |\n",
       "| 103230042 | 1 | 3 | 4612780652       | 7511330000000 | NA               | 6  | 3288980000000 | BDT | PLAFOND | ⋯ |  0 | <!----> | NA | NA | NA | NA | NA | NA | NA | R  |\n",
       "| 103230043 | 1 | 3 | 5207091009       | 3254040000000 | NA               | 6  | 3288980000000 | BDT | PLAFOND | ⋯ |  0 | <!----> | NA | NA | NA | NA | NA | NA | NA | M  |\n",
       "| 103230044 | 1 | 3 | 5208530658       | 7681270000000 | NA               | 6  | 3288980000000 | BDT | PLAFOND | ⋯ |  0 | <!----> | NA | NA | NA | NA | NA | NA | NA | R  |\n",
       "| 103230045 | 1 | 3 | 5515870656       | 7473680000000 | NA               | 6  | 3288980000000 | BDT | PLAFOND | ⋯ |  0 | <!----> | NA | NA | NA | NA | NA | NA | NA | M  |\n",
       "| 103230046 | 1 | 3 | 6699950967       | 2949420000000 | NA               | 6  | 3288980000000 | BDT | PLAFOND | ⋯ |  0 | <!----> | NA | NA | NA | NA | NA | NA | NA | R  |\n",
       "| 103230048 | 1 | 3 | 7890480960       | 3965520000000 | NA               | 6  | 3288980000000 | BDT | PLAFOND | ⋯ |  0 | <!----> | NA | NA | NA | NA | NA | NA | NA | M  |\n",
       "| 103230049 | 1 | 2 | 14666791000      | 5061730000000 | NA               | 3  | 7172120000000 | BDT | PLAFOND | ⋯ |  0 | <!----> | NA | NA | NA | NA | NA | NA | NA | M  |\n",
       "| 103230050 | 1 | 2 | 165440348        | 15557988000   | NA               | 89 | 262075000000  | BDT | PLAFOND | ⋯ |  0 | <!----> | NA | NA | NA | NA | NA | NA | NA | M  |\n",
       "| ⋮ | ⋮ | ⋮ | ⋮ | ⋮ | ⋮ | ⋮ | ⋮ | ⋮ | ⋮ | ⋱ | ⋮ | ⋮ | ⋮ | ⋮ | ⋮ | ⋮ | ⋮ | ⋮ | ⋮ | ⋮ |\n",
       "| 91227230040 | 1 | 3 | 3823960236       | 7680000000000 | NA               | 17 | 3190000000000 | BDT | PLAFOND | ⋯ |      0 | <!----> | NA | NA | NA | NA | NA | NA | NA | R  |\n",
       "| 91227230041 | 2 | 3 | LTRDNC82E15L418K | 7420000000000 | 0000000101765588 | 6  | 3290000000000 | BDT | PLAFOND | ⋯ |     NA | NA | NA | NA | NA | NA | NA | NA | NA | R  |\n",
       "| 91227230041 | 3 | 3 | 550050678        | 4020000000000 | NA               | 6  | 3290000000000 | BDT | PLAFOND | ⋯ |     NA | NA | NA | NA | NA | NA | NA | NA | NA | R  |\n",
       "| 91227230041 | 4 | 3 | 1504400621       | 7720000000000 | NA               | 6  | 3290000000000 | BDT | PLAFOND | ⋯ |     NA | NA | NA | NA | NA | NA | NA | NA | NA | R  |\n",
       "| 91227230041 | 6 | 3 | 1949440760       | 7720000000000 | NA               | 6  | 3290000000000 | BDT | PLAFOND | ⋯ |     NA | NA | NA | NA | NA | NA | NA | NA | NA | R  |\n",
       "| 91227230041 | 7 | 3 | 2024890762       | 7720000000000 | NA               | 6  | 3290000000000 | BDT | PLAFOND | ⋯ |     NA | NA | NA | NA | NA | NA | NA | NA | NA | R  |\n",
       "| 91227230042 | 1 | 2 | 163640048        | 4840000000000 | NA               | 18 | 3290000000000 | BDT | PLAFOND | ⋯ | 223789 | <!----> | NA | NA | NA | NA | NA | NA | NA | M  |\n",
       "| 91227230043 | 1 | 2 | 488270018        | 9250000000000 | NA               | 6  | 3290000000000 | CIB | PLAFOND | ⋯ |      0 | <!----> | NA | NA | NA | NA | NA | NA | NA | I  |\n",
       "| 91227230044 | 1 | 3 | 1135070397       | 7640000000000 | NA               | 6  | 3290000000000 | BDT | PLAFOND | ⋯ |      0 | <!----> | NA | NA | NA | NA | NA | NA | NA | R  |\n",
       "| 91227230045 | 1 | 3 | 1893720761       | 7690000000000 | NA               | 6  | 3290000000000 | BDT | PLAFOND | ⋯ |      0 | <!----> | NA | NA | NA | NA | NA | NA | NA | R  |\n",
       "| 91227230046 | 1 | 3 | 3191310048       | 499000000000  | NA               | 6  | 3290000000000 | BDT | PLAFOND | ⋯ |      0 | <!----> | NA | NA | NA | NA | NA | NA | NA | NA |\n",
       "| 91227230047 | 1 | 2 | 3585140266       | 3350000000000 | NA               | 6  | 3290000000000 | BDT | PLAFOND | ⋯ |      0 | <!----> | NA | NA | NA | NA | NA | NA | NA | NA |\n",
       "| 91227230048 | 1 | 2 | 4146990876       | 316000000000  | NA               | 6  | 3290000000000 | BDT | PLAFOND | ⋯ |      0 | <!----> | NA | NA | NA | NA | NA | NA | NA | NA |\n",
       "| 91227230050 | 1 | 3 | 4756490753       | 7690000000000 | NA               | 6  | 3290000000000 | BDT | PLAFOND | ⋯ |      0 | <!----> | NA | NA | NA | NA | NA | NA | NA | R  |\n",
       "| 91227230051 | 1 | 3 | 5256190827       | 258000000000  | NA               | 6  | 3290000000000 | BDT | PLAFOND | ⋯ |      0 | <!----> | NA | NA | NA | NA | NA | NA | NA | M  |\n",
       "| 91227230052 | 1 | 3 | 5944020485       | 7680000000000 | NA               | 6  | 3290000000000 | BDT | PLAFOND | ⋯ |      0 | <!----> | NA | NA | NA | NA | NA | NA | NA | R  |\n",
       "| 91227230053 | 1 | 3 | 1804930855       | 2920000000000 | NA               | 10 | 9760000000000 | BDT | PLAFOND | ⋯ |      0 | <!----> | NA | NA | NA | NA | NA | NA | NA | M  |\n",
       "| 91230230019 | 1 | 2 | RCCFBA81M20G273I | 7690000000000 | 0000000060495419 | 3  | 403000000000  | BDT | PLAFOND | ⋯ |      0 | <!----> | NA | NA | NA | NA | NA | NA | NA | R  |\n",
       "| 91230230021 | 1 | 3 | 4218910240       | 7720000000000 | NA               | 89 | 148000000000  | BDT | PLAFOND | ⋯ |     NA | NA | NA | NA | NA | NA | NA | NA | NA | R  |\n",
       "| 91230230023 | 1 | 3 | FRENCL80D15Z112J | 6260000000000 | 0000000086456074 | 6  | 3290000000000 | BDT | PLAFOND | ⋯ |     NA | NA | NA | NA | NA | NA | NA | NA | NA | R  |\n",
       "| 91230230023 | 7 | 3 | 11340270013      | 7720000000000 | NA               | 6  | 3290000000000 | BDT | PLAFOND | ⋯ |     NA | NA | NA | NA | NA | NA | NA | NA | NA | R  |\n",
       "| 91230230024 | 1 | 2 | NNSBRN59A05H739V | 7650000000000 | 0000000070155661 | 6  | 3290000000000 | BDT | PLAFOND | ⋯ |      0 | <!----> | NA | NA | NA | NA | NA | NA | NA | R  |\n",
       "| 91230230026 | 1 | 3 | 2932200104       | 6960000000000 | NA               | 6  | 3290000000000 | BDT | PLAFOND | ⋯ |      0 | <!----> | NA | NA | NA | NA | NA | NA | NA | M  |\n",
       "| 91230230027 | 1 | 3 | 8785111009       | 7620000000000 | NA               | 6  | 3290000000000 | BDT | PLAFOND | ⋯ |      0 | <!----> | NA | NA | NA | NA | NA | NA | NA | R  |\n",
       "| 91231230026 | 1 | 3 | PLLMCN60M25I166V | 7720000000000 | 0000000101780400 | 4  | 31378284000   | BDT | PLAFOND | ⋯ |     NA | NA | NA | NA | NA | NA | NA | NA | NA | R  |\n",
       "| 91231230032 | 1 | 3 | 3412740379       | 6820000000000 | NA               | 9  | 6890000000000 | BDT | PLAFOND | ⋯ |      0 | <!----> | NA | NA | NA | NA | NA | NA | NA | I  |\n",
       "| 91231230033 | 1 | 2 | 3755200239       | 4770000000000 | NA               | 9  | 173000000000  | BDT | PLAFOND | ⋯ |      0 | <!----> | NA | NA | NA | NA | NA | NA | NA | I  |\n",
       "| 91231230034 | 1 | 3 | 1277680243       | 169000000000  | NA               | 9  | 1140000000000 | BDT | PLAFOND | ⋯ |      0 | <!----> | NA | NA | NA | NA | NA | NA | NA | I  |\n",
       "| 91231230038 | 1 | 3 | 623760600        | 4150000000000 | NA               | 9  | 1140000000000 | BDT | PLAFOND | ⋯ |      0 | <!----> | NA | NA | NA | NA | NA | NA | NA | I  |\n",
       "| 91231230040 | 1 | 3 | TRPGPP55C71H703P | 2860000000000 | 0000000030895704 | 89 | 3980000000000 | BDT | PLAFOND | ⋯ |      0 | <!----> | NA | NA | NA | NA | NA | NA | NA | R  |\n",
       "\n"
      ],
      "text/plain": [
       "       num_pratica progress_pratica tipo_pratica codice_fiscale_ceduto\n",
       "1      102230026   1                3            9054770962           \n",
       "2      102230029   2                3            2695820304           \n",
       "3      102230030   1                2            80002210104          \n",
       "4      102230031   1                3            3503350260           \n",
       "5      102230032   1                3            3679130264           \n",
       "6      102230034   1                2            3917900874           \n",
       "7      102230035   1                3            3930791219           \n",
       "8      103230023   1                3            1924290248           \n",
       "9      103230027   1                3            3919160659           \n",
       "10     103230030   1                3            4994730655           \n",
       "11     103230030   2                3            CCCNNA69P51F839V     \n",
       "12     103230031   1                3            339970816            \n",
       "13     103230032   1                3            433800349            \n",
       "14     103230033   1                3            1424330098           \n",
       "15     103230034   1                3            1494580812           \n",
       "16     103230035   1                3            1553300623           \n",
       "17     103230036   1                3            1825130519           \n",
       "18     103230037   1                2            2053750150           \n",
       "19     103230038   1                3            2222050995           \n",
       "20     103230039   1                3            3221020799           \n",
       "21     103230040   1                3            3261590834           \n",
       "22     103230041   1                3            3597300965           \n",
       "23     103230042   1                3            4612780652           \n",
       "24     103230043   1                3            5207091009           \n",
       "25     103230044   1                3            5208530658           \n",
       "26     103230045   1                3            5515870656           \n",
       "27     103230046   1                3            6699950967           \n",
       "28     103230048   1                3            7890480960           \n",
       "29     103230049   1                2            14666791000          \n",
       "30     103230050   1                2            165440348            \n",
       "⋮      ⋮           ⋮                ⋮            ⋮                    \n",
       "136059 91227230040 1                3            3823960236           \n",
       "136060 91227230041 2                3            LTRDNC82E15L418K     \n",
       "136061 91227230041 3                3            550050678            \n",
       "136062 91227230041 4                3            1504400621           \n",
       "136063 91227230041 6                3            1949440760           \n",
       "136064 91227230041 7                3            2024890762           \n",
       "136065 91227230042 1                2            163640048            \n",
       "136066 91227230043 1                2            488270018            \n",
       "136067 91227230044 1                3            1135070397           \n",
       "136068 91227230045 1                3            1893720761           \n",
       "136069 91227230046 1                3            3191310048           \n",
       "136070 91227230047 1                2            3585140266           \n",
       "136071 91227230048 1                2            4146990876           \n",
       "136072 91227230050 1                3            4756490753           \n",
       "136073 91227230051 1                3            5256190827           \n",
       "136074 91227230052 1                3            5944020485           \n",
       "136075 91227230053 1                3            1804930855           \n",
       "136076 91230230019 1                2            RCCFBA81M20G273I     \n",
       "136077 91230230021 1                3            4218910240           \n",
       "136078 91230230023 1                3            FRENCL80D15Z112J     \n",
       "136079 91230230023 7                3            11340270013          \n",
       "136080 91230230024 1                2            NNSBRN59A05H739V     \n",
       "136081 91230230026 1                3            2932200104           \n",
       "136082 91230230027 1                3            8785111009           \n",
       "136083 91231230026 1                3            PLLMCN60M25I166V     \n",
       "136084 91231230032 1                3            3412740379           \n",
       "136085 91231230033 1                2            3755200239           \n",
       "136086 91231230034 1                3            1277680243           \n",
       "136087 91231230038 1                3            623760600            \n",
       "136088 91231230040 1                3            TRPGPP55C71H703P     \n",
       "       ndg_ceduto    andi_ndg_super   settore_ceduto ndg_cedente  \n",
       "1      4608870000000 NA               18             6182450000000\n",
       "2      4495180000000 NA               6              3288980000000\n",
       "3      2012160000000 NA               89             3288980000000\n",
       "4      3340210000000 NA               6              3288980000000\n",
       "5      203665000000  NA               6              3288980000000\n",
       "6      202162000000  NA               6              3288980000000\n",
       "7      3225830000000 NA               6              3288980000000\n",
       "8      1441010000000 NA               6              1483160000000\n",
       "9      7651580000000 NA               89             3980230000000\n",
       "10     3921420000000 NA               89             3980230000000\n",
       "11     4343140000000 0000000090309384 89             3980230000000\n",
       "12     3330290000000 NA               6              3288980000000\n",
       "13     3319200000000 NA               6              3288980000000\n",
       "14     4563540000000 NA               6              3288980000000\n",
       "15     4112410000000 NA               88             3288980000000\n",
       "16     7682100000000 NA               6              3288980000000\n",
       "17     508314000000  NA               89             3288980000000\n",
       "18     8062610000000 NA               6              3288980000000\n",
       "19     7679330000000 NA               6              3288980000000\n",
       "20     7677110000000 NA               6              3288980000000\n",
       "21     7629110000000 NA               6              3288980000000\n",
       "22     7670450000000 NA               6              3288980000000\n",
       "23     7511330000000 NA               6              3288980000000\n",
       "24     3254040000000 NA               6              3288980000000\n",
       "25     7681270000000 NA               6              3288980000000\n",
       "26     7473680000000 NA               6              3288980000000\n",
       "27     2949420000000 NA               6              3288980000000\n",
       "28     3965520000000 NA               6              3288980000000\n",
       "29     5061730000000 NA               3              7172120000000\n",
       "30     15557988000   NA               89             262075000000 \n",
       "⋮      ⋮             ⋮                ⋮              ⋮            \n",
       "136059 7680000000000 NA               17             3190000000000\n",
       "136060 7420000000000 0000000101765588 6              3290000000000\n",
       "136061 4020000000000 NA               6              3290000000000\n",
       "136062 7720000000000 NA               6              3290000000000\n",
       "136063 7720000000000 NA               6              3290000000000\n",
       "136064 7720000000000 NA               6              3290000000000\n",
       "136065 4840000000000 NA               18             3290000000000\n",
       "136066 9250000000000 NA               6              3290000000000\n",
       "136067 7640000000000 NA               6              3290000000000\n",
       "136068 7690000000000 NA               6              3290000000000\n",
       "136069 499000000000  NA               6              3290000000000\n",
       "136070 3350000000000 NA               6              3290000000000\n",
       "136071 316000000000  NA               6              3290000000000\n",
       "136072 7690000000000 NA               6              3290000000000\n",
       "136073 258000000000  NA               6              3290000000000\n",
       "136074 7680000000000 NA               6              3290000000000\n",
       "136075 2920000000000 NA               10             9760000000000\n",
       "136076 7690000000000 0000000060495419 3              403000000000 \n",
       "136077 7720000000000 NA               89             148000000000 \n",
       "136078 6260000000000 0000000086456074 6              3290000000000\n",
       "136079 7720000000000 NA               6              3290000000000\n",
       "136080 7650000000000 0000000070155661 6              3290000000000\n",
       "136081 6960000000000 NA               6              3290000000000\n",
       "136082 7620000000000 NA               6              3290000000000\n",
       "136083 7720000000000 0000000101780400 4              31378284000  \n",
       "136084 6820000000000 NA               9              6890000000000\n",
       "136085 4770000000000 NA               9              173000000000 \n",
       "136086 169000000000  NA               9              1140000000000\n",
       "136087 4150000000000 NA               9              1140000000000\n",
       "136088 2860000000000 0000000030895704 89             3980000000000\n",
       "       divisione_ceduto tipo_applicazione ⋯ appl_ric da_sanare cr_ps_acc\n",
       "1      BDT              PLAFOND           ⋯ NA       NA        NA       \n",
       "2      BDT              PLAFOND           ⋯ NA       NA        NA       \n",
       "3      BDT              PLAFOND           ⋯  0                 NA       \n",
       "4      BDT              PLAFOND           ⋯  0                 NA       \n",
       "5      BDT              PLAFOND           ⋯  0                 NA       \n",
       "6      BDT              PLAFOND           ⋯  0                 NA       \n",
       "7      BDT              PLAFOND           ⋯  0                 NA       \n",
       "8      BDT              PLAFOND           ⋯  0                 NA       \n",
       "9      BDT              PLAFOND           ⋯  0                 NA       \n",
       "10     BDT              PLAFOND           ⋯  0                 NA       \n",
       "11     BDT              PLAFOND           ⋯ NA       NA        NA       \n",
       "12     BDT              PLAFOND           ⋯  0                 NA       \n",
       "13     BDT              PLAFOND           ⋯  0                 NA       \n",
       "14     BDT              PLAFOND           ⋯  0                 NA       \n",
       "15     BDT              PLAFOND           ⋯  0                 NA       \n",
       "16     BDT              PLAFOND           ⋯  0                 NA       \n",
       "17     BDT              PLAFOND           ⋯  0                 NA       \n",
       "18     BDT              PLAFOND           ⋯  0                 NA       \n",
       "19     BDT              PLAFOND           ⋯  0                 NA       \n",
       "20     BDT              PLAFOND           ⋯  0                 NA       \n",
       "21     BDT              PLAFOND           ⋯  0                 NA       \n",
       "22     BDT              PLAFOND           ⋯  0                 NA       \n",
       "23     BDT              PLAFOND           ⋯  0                 NA       \n",
       "24     BDT              PLAFOND           ⋯  0                 NA       \n",
       "25     BDT              PLAFOND           ⋯  0                 NA       \n",
       "26     BDT              PLAFOND           ⋯  0                 NA       \n",
       "27     BDT              PLAFOND           ⋯  0                 NA       \n",
       "28     BDT              PLAFOND           ⋯  0                 NA       \n",
       "29     BDT              PLAFOND           ⋯  0                 NA       \n",
       "30     BDT              PLAFOND           ⋯  0                 NA       \n",
       "⋮      ⋮                ⋮                 ⋱ ⋮        ⋮         ⋮        \n",
       "136059 BDT              PLAFOND           ⋯      0             NA       \n",
       "136060 BDT              PLAFOND           ⋯     NA   NA        NA       \n",
       "136061 BDT              PLAFOND           ⋯     NA   NA        NA       \n",
       "136062 BDT              PLAFOND           ⋯     NA   NA        NA       \n",
       "136063 BDT              PLAFOND           ⋯     NA   NA        NA       \n",
       "136064 BDT              PLAFOND           ⋯     NA   NA        NA       \n",
       "136065 BDT              PLAFOND           ⋯ 223789             NA       \n",
       "136066 CIB              PLAFOND           ⋯      0             NA       \n",
       "136067 BDT              PLAFOND           ⋯      0             NA       \n",
       "136068 BDT              PLAFOND           ⋯      0             NA       \n",
       "136069 BDT              PLAFOND           ⋯      0             NA       \n",
       "136070 BDT              PLAFOND           ⋯      0             NA       \n",
       "136071 BDT              PLAFOND           ⋯      0             NA       \n",
       "136072 BDT              PLAFOND           ⋯      0             NA       \n",
       "136073 BDT              PLAFOND           ⋯      0             NA       \n",
       "136074 BDT              PLAFOND           ⋯      0             NA       \n",
       "136075 BDT              PLAFOND           ⋯      0             NA       \n",
       "136076 BDT              PLAFOND           ⋯      0             NA       \n",
       "136077 BDT              PLAFOND           ⋯     NA   NA        NA       \n",
       "136078 BDT              PLAFOND           ⋯     NA   NA        NA       \n",
       "136079 BDT              PLAFOND           ⋯     NA   NA        NA       \n",
       "136080 BDT              PLAFOND           ⋯      0             NA       \n",
       "136081 BDT              PLAFOND           ⋯      0             NA       \n",
       "136082 BDT              PLAFOND           ⋯      0             NA       \n",
       "136083 BDT              PLAFOND           ⋯     NA   NA        NA       \n",
       "136084 BDT              PLAFOND           ⋯      0             NA       \n",
       "136085 BDT              PLAFOND           ⋯      0             NA       \n",
       "136086 BDT              PLAFOND           ⋯      0             NA       \n",
       "136087 BDT              PLAFOND           ⋯      0             NA       \n",
       "136088 BDT              PLAFOND           ⋯      0             NA       \n",
       "       cr_ps_uti cr_ps_sconf cr_ua_acc cr_ua_uti scaduto_out_scad\n",
       "1      NA        NA          NA        NA        NA              \n",
       "2      NA        NA          NA        NA        NA              \n",
       "3      NA        NA          NA        NA        NA              \n",
       "4      NA        NA          NA        NA        NA              \n",
       "5      NA        NA          NA        NA        NA              \n",
       "6      NA        NA          NA        NA        NA              \n",
       "7      NA        NA          NA        NA        NA              \n",
       "8      NA        NA          NA        NA        NA              \n",
       "9      NA        NA          NA        NA        NA              \n",
       "10     NA        NA          NA        NA        NA              \n",
       "11     NA        NA          NA        NA        NA              \n",
       "12     NA        NA          NA        NA        NA              \n",
       "13     NA        NA          NA        NA        NA              \n",
       "14     NA        NA          NA        NA        NA              \n",
       "15     NA        NA          NA        NA        NA              \n",
       "16     NA        NA          NA        NA        NA              \n",
       "17     NA        NA          NA        NA        NA              \n",
       "18     NA        NA          NA        NA        NA              \n",
       "19     NA        NA          NA        NA        NA              \n",
       "20     NA        NA          NA        NA        NA              \n",
       "21     NA        NA          NA        NA        NA              \n",
       "22     NA        NA          NA        NA        NA              \n",
       "23     NA        NA          NA        NA        NA              \n",
       "24     NA        NA          NA        NA        NA              \n",
       "25     NA        NA          NA        NA        NA              \n",
       "26     NA        NA          NA        NA        NA              \n",
       "27     NA        NA          NA        NA        NA              \n",
       "28     NA        NA          NA        NA        NA              \n",
       "29     NA        NA          NA        NA        NA              \n",
       "30     NA        NA          NA        NA        NA              \n",
       "⋮      ⋮         ⋮           ⋮         ⋮         ⋮               \n",
       "136059 NA        NA          NA        NA        NA              \n",
       "136060 NA        NA          NA        NA        NA              \n",
       "136061 NA        NA          NA        NA        NA              \n",
       "136062 NA        NA          NA        NA        NA              \n",
       "136063 NA        NA          NA        NA        NA              \n",
       "136064 NA        NA          NA        NA        NA              \n",
       "136065 NA        NA          NA        NA        NA              \n",
       "136066 NA        NA          NA        NA        NA              \n",
       "136067 NA        NA          NA        NA        NA              \n",
       "136068 NA        NA          NA        NA        NA              \n",
       "136069 NA        NA          NA        NA        NA              \n",
       "136070 NA        NA          NA        NA        NA              \n",
       "136071 NA        NA          NA        NA        NA              \n",
       "136072 NA        NA          NA        NA        NA              \n",
       "136073 NA        NA          NA        NA        NA              \n",
       "136074 NA        NA          NA        NA        NA              \n",
       "136075 NA        NA          NA        NA        NA              \n",
       "136076 NA        NA          NA        NA        NA              \n",
       "136077 NA        NA          NA        NA        NA              \n",
       "136078 NA        NA          NA        NA        NA              \n",
       "136079 NA        NA          NA        NA        NA              \n",
       "136080 NA        NA          NA        NA        NA              \n",
       "136081 NA        NA          NA        NA        NA              \n",
       "136082 NA        NA          NA        NA        NA              \n",
       "136083 NA        NA          NA        NA        NA              \n",
       "136084 NA        NA          NA        NA        NA              \n",
       "136085 NA        NA          NA        NA        NA              \n",
       "136086 NA        NA          NA        NA        NA              \n",
       "136087 NA        NA          NA        NA        NA              \n",
       "136088 NA        NA          NA        NA        NA              \n",
       "       scaduto_out_outs rat_cluster\n",
       "1      NA               R          \n",
       "2      NA               R          \n",
       "3      NA               NA         \n",
       "4      NA               I          \n",
       "5      NA               I          \n",
       "6      NA               NA         \n",
       "7      NA               R          \n",
       "8      NA               I          \n",
       "9      NA               R          \n",
       "10     NA               I          \n",
       "11     NA               R          \n",
       "12     NA               R          \n",
       "13     NA               I          \n",
       "14     NA               M          \n",
       "15     NA               M          \n",
       "16     NA               R          \n",
       "17     NA               M          \n",
       "18     NA               NA         \n",
       "19     NA               I          \n",
       "20     NA               R          \n",
       "21     NA               R          \n",
       "22     NA               R          \n",
       "23     NA               R          \n",
       "24     NA               M          \n",
       "25     NA               R          \n",
       "26     NA               M          \n",
       "27     NA               R          \n",
       "28     NA               M          \n",
       "29     NA               M          \n",
       "30     NA               M          \n",
       "⋮      ⋮                ⋮          \n",
       "136059 NA               R          \n",
       "136060 NA               R          \n",
       "136061 NA               R          \n",
       "136062 NA               R          \n",
       "136063 NA               R          \n",
       "136064 NA               R          \n",
       "136065 NA               M          \n",
       "136066 NA               I          \n",
       "136067 NA               R          \n",
       "136068 NA               R          \n",
       "136069 NA               NA         \n",
       "136070 NA               NA         \n",
       "136071 NA               NA         \n",
       "136072 NA               R          \n",
       "136073 NA               M          \n",
       "136074 NA               R          \n",
       "136075 NA               M          \n",
       "136076 NA               R          \n",
       "136077 NA               R          \n",
       "136078 NA               R          \n",
       "136079 NA               R          \n",
       "136080 NA               R          \n",
       "136081 NA               M          \n",
       "136082 NA               R          \n",
       "136083 NA               R          \n",
       "136084 NA               I          \n",
       "136085 NA               I          \n",
       "136086 NA               I          \n",
       "136087 NA               I          \n",
       "136088 NA               R          "
      ]
     },
     "metadata": {},
     "output_type": "display_data"
    }
   ],
   "source": [
    "dt_clean"
   ]
  },
  {
   "cell_type": "code",
   "execution_count": null,
   "id": "refined-spoke",
   "metadata": {},
   "outputs": [],
   "source": []
  },
  {
   "cell_type": "code",
   "execution_count": null,
   "id": "monthly-collapse",
   "metadata": {},
   "outputs": [],
   "source": []
  },
  {
   "cell_type": "code",
   "execution_count": 311,
   "id": "smoking-singles",
   "metadata": {},
   "outputs": [
    {
     "data": {
      "text/html": [
       "<style>\n",
       ".list-inline {list-style: none; margin:0; padding: 0}\n",
       ".list-inline>li {display: inline-block}\n",
       ".list-inline>li:not(:last-child)::after {content: \"\\00b7\"; padding: 0 .5ex}\n",
       "</style>\n",
       "<ol class=list-inline><li>'398188884'</li><li>NA</li></ol>\n"
      ],
      "text/latex": [
       "\\begin{enumerate*}\n",
       "\\item '398188884'\n",
       "\\item NA\n",
       "\\end{enumerate*}\n"
      ],
      "text/markdown": [
       "1. '398188884'\n",
       "2. NA\n",
       "\n",
       "\n"
      ],
      "text/plain": [
       "[1] \"398188884\" NA         "
      ]
     },
     "metadata": {},
     "output_type": "display_data"
    }
   ],
   "source": [
    "unique(dt_clean$ced_as_is)"
   ]
  },
  {
   "cell_type": "code",
   "execution_count": 185,
   "id": "innovative-america",
   "metadata": {},
   "outputs": [
    {
     "data": {
      "text/html": [
       "<style>\n",
       ".list-inline {list-style: none; margin:0; padding: 0}\n",
       ".list-inline>li {display: inline-block}\n",
       ".list-inline>li:not(:last-child)::after {content: \"\\00b7\"; padding: 0 .5ex}\n",
       "</style>\n",
       "<ol class=list-inline><li>'2'</li><li>'1'</li><li>'3'</li><li>'6'</li><li>'7'</li><li>'5'</li><li>'8'</li></ol>\n"
      ],
      "text/latex": [
       "\\begin{enumerate*}\n",
       "\\item '2'\n",
       "\\item '1'\n",
       "\\item '3'\n",
       "\\item '6'\n",
       "\\item '7'\n",
       "\\item '5'\n",
       "\\item '8'\n",
       "\\end{enumerate*}\n"
      ],
      "text/markdown": [
       "1. '2'\n",
       "2. '1'\n",
       "3. '3'\n",
       "4. '6'\n",
       "5. '7'\n",
       "6. '5'\n",
       "7. '8'\n",
       "\n",
       "\n"
      ],
      "text/plain": [
       "[1] \"2\" \"1\" \"3\" \"6\" \"7\" \"5\" \"8\""
      ]
     },
     "metadata": {},
     "output_type": "display_data"
    }
   ],
   "source": [
    "unique(dt_clean$stato_cedente)"
   ]
  },
  {
   "cell_type": "code",
   "execution_count": 184,
   "id": "opponent-problem",
   "metadata": {},
   "outputs": [
    {
     "data": {
      "text/html": [
       "<style>\n",
       ".list-inline {list-style: none; margin:0; padding: 0}\n",
       ".list-inline>li {display: inline-block}\n",
       ".list-inline>li:not(:last-child)::after {content: \"\\00b7\"; padding: 0 .5ex}\n",
       "</style>\n",
       "<ol class=list-inline><li>'sndg_ceduto_old'</li><li>'codice_fiscale_ceduto'</li><li>'ndg_ceduto'</li><li>'filiale_factoring_ceduto'</li><li>'settore_ceduto'</li><li>'ndg_cedente'</li><li>'divisione_ceduto'</li><li>'sndg_cedente'</li><li>'codice_fiscale_cedente'</li><li>'id_cedente'</li><li>'stato_cedente'</li><li>'cedente_si/no'</li><li>'descr_stato_cedente'</li><li>'filiale_cedente'</li><li>'settore_cedente'</li><li>'colore - cedente revocato'</li><li>'colore - cedente travel'</li><li>'colore - export facile-sia ceden'</li><li>'colore - presenza di fidi cedent'</li><li>'colore - soggetto cedente'</li><li>'colore - procedure concorsuali'</li><li>'colore - cedente appartiene a gr'</li><li>'esito - cedente revocato'</li><li>'esito - cedente travel'</li><li>'esito - export facile-sia cedent'</li><li>'esito - presenza di fidi cedente'</li><li>'esito - soggetto cedente'</li><li>'esito - procedure concorsuali'</li><li>'esito - cedente appartiene a gru'</li><li>'input - cedente revocato'</li><li>'input - cedente travel'</li><li>'input - export facile-sia cedent'</li><li>'input - presenza di fidi cedente'</li><li>'input - soggetto cedente'</li><li>'input - procedure concorsuali'</li><li>'input - cedente appartiene a gru'</li><li>'rae_ceduto'</li><li>'rae_descr_ceduto'</li><li>'sae_ceduto'</li><li>'sae_descr_ceduto'</li><li>'rae_cedente'</li><li>'rae_descr_cedente'</li><li>'sae_cedente'</li><li>'sae_descr_cedente'</li><li>'prefisso_mod_rating_ceduto'</li><li>'modello_rating_ceduto'</li><li>'rating_ceduto'</li><li>'cib_bdt_cedente'</li><li>'prefisso_mod_rating_cedente'</li><li>'modello_rating_cedente'</li><li>'rating_cedente'</li><li>'sag_ceduto'</li><li>'sag_cedente'</li><li>'sndg_ceduto_new'</li><li>'sndg_ceduto'</li><li>'tipo_valutazione_del_ceduto'</li><li>'flag_valutazione_vpc_sul_ceduto'</li><li>'flag_presenza_sndg_ceduto'</li><li>'ragio_sociale_ceduto'</li><li>'ragio_sociale_cedente'</li><li>'id_cedente...34'</li><li>'id_cedente_appoggio'</li><li>'id_cedente...228'</li></ol>\n"
      ],
      "text/latex": [
       "\\begin{enumerate*}\n",
       "\\item 'sndg\\_ceduto\\_old'\n",
       "\\item 'codice\\_fiscale\\_ceduto'\n",
       "\\item 'ndg\\_ceduto'\n",
       "\\item 'filiale\\_factoring\\_ceduto'\n",
       "\\item 'settore\\_ceduto'\n",
       "\\item 'ndg\\_cedente'\n",
       "\\item 'divisione\\_ceduto'\n",
       "\\item 'sndg\\_cedente'\n",
       "\\item 'codice\\_fiscale\\_cedente'\n",
       "\\item 'id\\_cedente'\n",
       "\\item 'stato\\_cedente'\n",
       "\\item 'cedente\\_si/no'\n",
       "\\item 'descr\\_stato\\_cedente'\n",
       "\\item 'filiale\\_cedente'\n",
       "\\item 'settore\\_cedente'\n",
       "\\item 'colore - cedente revocato'\n",
       "\\item 'colore - cedente travel'\n",
       "\\item 'colore - export facile-sia ceden'\n",
       "\\item 'colore - presenza di fidi cedent'\n",
       "\\item 'colore - soggetto cedente'\n",
       "\\item 'colore - procedure concorsuali'\n",
       "\\item 'colore - cedente appartiene a gr'\n",
       "\\item 'esito - cedente revocato'\n",
       "\\item 'esito - cedente travel'\n",
       "\\item 'esito - export facile-sia cedent'\n",
       "\\item 'esito - presenza di fidi cedente'\n",
       "\\item 'esito - soggetto cedente'\n",
       "\\item 'esito - procedure concorsuali'\n",
       "\\item 'esito - cedente appartiene a gru'\n",
       "\\item 'input - cedente revocato'\n",
       "\\item 'input - cedente travel'\n",
       "\\item 'input - export facile-sia cedent'\n",
       "\\item 'input - presenza di fidi cedente'\n",
       "\\item 'input - soggetto cedente'\n",
       "\\item 'input - procedure concorsuali'\n",
       "\\item 'input - cedente appartiene a gru'\n",
       "\\item 'rae\\_ceduto'\n",
       "\\item 'rae\\_descr\\_ceduto'\n",
       "\\item 'sae\\_ceduto'\n",
       "\\item 'sae\\_descr\\_ceduto'\n",
       "\\item 'rae\\_cedente'\n",
       "\\item 'rae\\_descr\\_cedente'\n",
       "\\item 'sae\\_cedente'\n",
       "\\item 'sae\\_descr\\_cedente'\n",
       "\\item 'prefisso\\_mod\\_rating\\_ceduto'\n",
       "\\item 'modello\\_rating\\_ceduto'\n",
       "\\item 'rating\\_ceduto'\n",
       "\\item 'cib\\_bdt\\_cedente'\n",
       "\\item 'prefisso\\_mod\\_rating\\_cedente'\n",
       "\\item 'modello\\_rating\\_cedente'\n",
       "\\item 'rating\\_cedente'\n",
       "\\item 'sag\\_ceduto'\n",
       "\\item 'sag\\_cedente'\n",
       "\\item 'sndg\\_ceduto\\_new'\n",
       "\\item 'sndg\\_ceduto'\n",
       "\\item 'tipo\\_valutazione\\_del\\_ceduto'\n",
       "\\item 'flag\\_valutazione\\_vpc\\_sul\\_ceduto'\n",
       "\\item 'flag\\_presenza\\_sndg\\_ceduto'\n",
       "\\item 'ragio\\_sociale\\_ceduto'\n",
       "\\item 'ragio\\_sociale\\_cedente'\n",
       "\\item 'id\\_cedente...34'\n",
       "\\item 'id\\_cedente\\_appoggio'\n",
       "\\item 'id\\_cedente...228'\n",
       "\\end{enumerate*}\n"
      ],
      "text/markdown": [
       "1. 'sndg_ceduto_old'\n",
       "2. 'codice_fiscale_ceduto'\n",
       "3. 'ndg_ceduto'\n",
       "4. 'filiale_factoring_ceduto'\n",
       "5. 'settore_ceduto'\n",
       "6. 'ndg_cedente'\n",
       "7. 'divisione_ceduto'\n",
       "8. 'sndg_cedente'\n",
       "9. 'codice_fiscale_cedente'\n",
       "10. 'id_cedente'\n",
       "11. 'stato_cedente'\n",
       "12. 'cedente_si/no'\n",
       "13. 'descr_stato_cedente'\n",
       "14. 'filiale_cedente'\n",
       "15. 'settore_cedente'\n",
       "16. 'colore - cedente revocato'\n",
       "17. 'colore - cedente travel'\n",
       "18. 'colore - export facile-sia ceden'\n",
       "19. 'colore - presenza di fidi cedent'\n",
       "20. 'colore - soggetto cedente'\n",
       "21. 'colore - procedure concorsuali'\n",
       "22. 'colore - cedente appartiene a gr'\n",
       "23. 'esito - cedente revocato'\n",
       "24. 'esito - cedente travel'\n",
       "25. 'esito - export facile-sia cedent'\n",
       "26. 'esito - presenza di fidi cedente'\n",
       "27. 'esito - soggetto cedente'\n",
       "28. 'esito - procedure concorsuali'\n",
       "29. 'esito - cedente appartiene a gru'\n",
       "30. 'input - cedente revocato'\n",
       "31. 'input - cedente travel'\n",
       "32. 'input - export facile-sia cedent'\n",
       "33. 'input - presenza di fidi cedente'\n",
       "34. 'input - soggetto cedente'\n",
       "35. 'input - procedure concorsuali'\n",
       "36. 'input - cedente appartiene a gru'\n",
       "37. 'rae_ceduto'\n",
       "38. 'rae_descr_ceduto'\n",
       "39. 'sae_ceduto'\n",
       "40. 'sae_descr_ceduto'\n",
       "41. 'rae_cedente'\n",
       "42. 'rae_descr_cedente'\n",
       "43. 'sae_cedente'\n",
       "44. 'sae_descr_cedente'\n",
       "45. 'prefisso_mod_rating_ceduto'\n",
       "46. 'modello_rating_ceduto'\n",
       "47. 'rating_ceduto'\n",
       "48. 'cib_bdt_cedente'\n",
       "49. 'prefisso_mod_rating_cedente'\n",
       "50. 'modello_rating_cedente'\n",
       "51. 'rating_cedente'\n",
       "52. 'sag_ceduto'\n",
       "53. 'sag_cedente'\n",
       "54. 'sndg_ceduto_new'\n",
       "55. 'sndg_ceduto'\n",
       "56. 'tipo_valutazione_del_ceduto'\n",
       "57. 'flag_valutazione_vpc_sul_ceduto'\n",
       "58. 'flag_presenza_sndg_ceduto'\n",
       "59. 'ragio_sociale_ceduto'\n",
       "60. 'ragio_sociale_cedente'\n",
       "61. 'id_cedente...34'\n",
       "62. 'id_cedente_appoggio'\n",
       "63. 'id_cedente...228'\n",
       "\n",
       "\n"
      ],
      "text/plain": [
       " [1] \"sndg_ceduto_old\"                  \"codice_fiscale_ceduto\"           \n",
       " [3] \"ndg_ceduto\"                       \"filiale_factoring_ceduto\"        \n",
       " [5] \"settore_ceduto\"                   \"ndg_cedente\"                     \n",
       " [7] \"divisione_ceduto\"                 \"sndg_cedente\"                    \n",
       " [9] \"codice_fiscale_cedente\"           \"id_cedente\"                      \n",
       "[11] \"stato_cedente\"                    \"cedente_si/no\"                   \n",
       "[13] \"descr_stato_cedente\"              \"filiale_cedente\"                 \n",
       "[15] \"settore_cedente\"                  \"colore - cedente revocato\"       \n",
       "[17] \"colore - cedente travel\"          \"colore - export facile-sia ceden\"\n",
       "[19] \"colore - presenza di fidi cedent\" \"colore - soggetto cedente\"       \n",
       "[21] \"colore - procedure concorsuali\"   \"colore - cedente appartiene a gr\"\n",
       "[23] \"esito - cedente revocato\"         \"esito - cedente travel\"          \n",
       "[25] \"esito - export facile-sia cedent\" \"esito - presenza di fidi cedente\"\n",
       "[27] \"esito - soggetto cedente\"         \"esito - procedure concorsuali\"   \n",
       "[29] \"esito - cedente appartiene a gru\" \"input - cedente revocato\"        \n",
       "[31] \"input - cedente travel\"           \"input - export facile-sia cedent\"\n",
       "[33] \"input - presenza di fidi cedente\" \"input - soggetto cedente\"        \n",
       "[35] \"input - procedure concorsuali\"    \"input - cedente appartiene a gru\"\n",
       "[37] \"rae_ceduto\"                       \"rae_descr_ceduto\"                \n",
       "[39] \"sae_ceduto\"                       \"sae_descr_ceduto\"                \n",
       "[41] \"rae_cedente\"                      \"rae_descr_cedente\"               \n",
       "[43] \"sae_cedente\"                      \"sae_descr_cedente\"               \n",
       "[45] \"prefisso_mod_rating_ceduto\"       \"modello_rating_ceduto\"           \n",
       "[47] \"rating_ceduto\"                    \"cib_bdt_cedente\"                 \n",
       "[49] \"prefisso_mod_rating_cedente\"      \"modello_rating_cedente\"          \n",
       "[51] \"rating_cedente\"                   \"sag_ceduto\"                      \n",
       "[53] \"sag_cedente\"                      \"sndg_ceduto_new\"                 \n",
       "[55] \"sndg_ceduto\"                      \"tipo_valutazione_del_ceduto\"     \n",
       "[57] \"flag_valutazione_vpc_sul_ceduto\"  \"flag_presenza_sndg_ceduto\"       \n",
       "[59] \"ragio_sociale_ceduto\"             \"ragio_sociale_cedente\"           \n",
       "[61] \"id_cedente...34\"                  \"id_cedente_appoggio\"             \n",
       "[63] \"id_cedente...228\"                "
      ]
     },
     "metadata": {},
     "output_type": "display_data"
    }
   ],
   "source": [
    "colnames(dt)[grepl('ced',colnames(dt))]"
   ]
  },
  {
   "cell_type": "code",
   "execution_count": 103,
   "id": "steady-marijuana",
   "metadata": {
    "scrolled": true
   },
   "outputs": [
    {
     "data": {
      "text/html": [
       "<table class=\"dataframe\">\n",
       "<caption>A data.table: 1 × 1</caption>\n",
       "<thead>\n",
       "\t<tr><th scope=col>input - limiti societari</th></tr>\n",
       "\t<tr><th scope=col>&lt;chr&gt;</th></tr>\n",
       "</thead>\n",
       "<tbody>\n",
       "\t<tr><td>NA</td></tr>\n",
       "</tbody>\n",
       "</table>\n"
      ],
      "text/latex": [
       "A data.table: 1 × 1\n",
       "\\begin{tabular}{l}\n",
       " input - limiti societari\\\\\n",
       " <chr>\\\\\n",
       "\\hline\n",
       "\t NA\\\\\n",
       "\\end{tabular}\n"
      ],
      "text/markdown": [
       "\n",
       "A data.table: 1 × 1\n",
       "\n",
       "| input - limiti societari &lt;chr&gt; |\n",
       "|---|\n",
       "| NA |\n",
       "\n"
      ],
      "text/plain": [
       "  input - limiti societari\n",
       "1 NA                      "
      ]
     },
     "metadata": {},
     "output_type": "display_data"
    }
   ],
   "source": [
    "dt[3,cols['limiti_societari'], with = FALSE]"
   ]
  },
  {
   "cell_type": "code",
   "execution_count": null,
   "id": "respective-external",
   "metadata": {},
   "outputs": [],
   "source": [
    "master <- dt_clean[,..col_master]\n",
    "master<- master[,which(unlist(lapply(master, function(x)!all(is.na(x))))),with=F]\n",
    "master<- master[,which(unlist(lapply(master, function(x)!all(is.na(x))))),with=F]"
   ]
  }
 ],
 "metadata": {
  "kernelspec": {
   "display_name": "R",
   "language": "R",
   "name": "ir"
  },
  "language_info": {
   "codemirror_mode": "r",
   "file_extension": ".r",
   "mimetype": "text/x-r-source",
   "name": "R",
   "pygments_lexer": "r",
   "version": "4.0.3"
  },
  "toc": {
   "base_numbering": 1,
   "nav_menu": {},
   "number_sections": true,
   "sideBar": true,
   "skip_h1_title": false,
   "title_cell": "Table of Contents",
   "title_sidebar": "Contents",
   "toc_cell": false,
   "toc_position": {},
   "toc_section_display": true,
   "toc_window_display": false
  }
 },
 "nbformat": 4,
 "nbformat_minor": 5
}
